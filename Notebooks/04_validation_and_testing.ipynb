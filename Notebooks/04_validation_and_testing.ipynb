{
 "cells": [
  {
   "cell_type": "code",
   "execution_count": 6,
   "metadata": {},
   "outputs": [],
   "source": [
    "import numpy as np                  # Version: 1.24.3\n",
    "import pandas as pd                 # Version: 1.5.3\n",
    "import optuna                       # Version: 4.3.0\n",
    "import optuna.visualization as vis\n",
    "import torch                        # Version: 2.5.1\n",
    "import torch.nn as nn\n",
    "from   torch.utils.data import DataLoader, Dataset\n",
    "import sklearn                      # Version: 1.3.0\n",
    "from   sklearn.metrics import accuracy_score, precision_score, recall_score, matthews_corrcoef, roc_auc_score\n",
    "from   sklearn.metrics import precision_recall_curve\n",
    "import matplotlib.pyplot as plt\n",
    "\n",
    "\n",
    "# Python version: 3.11.4\n",
    "import os\n",
    "import random"
   ]
  },
  {
   "cell_type": "code",
   "execution_count": null,
   "metadata": {},
   "outputs": [],
   "source": [
    "notebook_dir = os.getcwd()\n",
    "parent_dir   = os.path.dirname(notebook_dir)\n",
    "target_dir   = os.path.join(parent_dir, \"Data\")\n",
    "\n",
    "def log_and_print(msg, file_handle):\n",
    "    print(msg)\n",
    "    file_handle.write(msg + \"\\n\")"
   ]
  },
  {
   "cell_type": "markdown",
   "metadata": {},
   "source": [
    "### 1. **HYPERPARAMETER TUNING**"
   ]
  },
  {
   "cell_type": "code",
   "execution_count": null,
   "metadata": {},
   "outputs": [],
   "source": [
    "random.seed(36)\n",
    "np.random.seed(36)\n",
    "torch.manual_seed(36)\n",
    "torch.cuda.manual_seed_all(36)\n",
    "torch.backends.cudnn.deterministic = True\n",
    "torch.backends.cudnn.benchmark = False\n",
    "g = torch.Generator().manual_seed(36)\n",
    "\n",
    "s1_train = pd.read_csv(os.path.join(target_dir, \"S1_scaled_train.csv\"))\n",
    "s1_val = pd.read_csv(os.path.join(target_dir, \"S1_scaled_val.csv\"))\n",
    "\n",
    "log_dir = os.path.join(target_dir, \"00_2_validation\")\n",
    "\n",
    "NUMERIC_FEATURES = [\n",
    "    \"NDVI_residual\", \"NDVI_std\", \"NDVI_trend\", \"Solar_de-seasonalized\",\n",
    "    \"Temperature_residual\", \"Humidity_trend\", \"NDVI_var\", \"Humidity_residual\",\n",
    "    \"NDVI_mean\", \"Temperature_trend\", \"Temperature [°C]_max\",\n",
    "    \"Solar radiation [Jm2/day]_std\", \"Relative humidity [%]_mean\"\n",
    "]\n",
    "\n",
    "CAT_FEATURE = \"State\"\n",
    "TARGET_COL  = \"fire\"\n",
    "\n",
    "POSSIBLE_LAYER_SIZES = {\n",
    "    \"deep\": [256, 128, 64, 32, 16],\n",
    "    \"wide_shallow\": [512, 256, 128, 64],\n",
    "    \"small\": [128, 64, 32],\n",
    "    \"mid\": [256, 128, 64]\n",
    "}\n",
    "\n",
    "class WildfireDataset(Dataset):\n",
    "    def __init__(self, df, sequence_length, only_no_fire=True):\n",
    "        self.sequence_length = sequence_length\n",
    "        self.features = NUMERIC_FEATURES\n",
    "        self.cat_feature = CAT_FEATURE\n",
    "        grouped = [group for _, group in df.groupby('State', observed=False)]\n",
    "        self.sequences = []\n",
    "        self.targets = []\n",
    "        for g in grouped:\n",
    "            for i in range(len(g) - sequence_length):\n",
    "                num_seq = g[self.features].iloc[i:i+sequence_length].values.astype(np.float32)\n",
    "                cat_seq = g[self.cat_feature].iloc[i:i+sequence_length]\n",
    "                cat_seq_encoded = cat_seq.astype('category').cat.codes.values.astype(np.float32).reshape(-1,1)\n",
    "                full_seq = np.hstack([num_seq, cat_seq_encoded])\n",
    "                label = g[TARGET_COL].iloc[i+sequence_length-1]\n",
    "                window_labels = g[TARGET_COL].iloc[i:i+sequence_length].values\n",
    "                if only_no_fire and np.any(window_labels != 0):\n",
    "                    continue\n",
    "                self.sequences.append(full_seq)\n",
    "                self.targets.append(label)\n",
    "    def __len__(self):\n",
    "        return len(self.sequences)\n",
    "    def __getitem__(self, idx):\n",
    "        return torch.tensor(self.sequences[idx], dtype=torch.float32), torch.tensor(self.targets[idx], dtype=torch.float32)\n",
    "\n",
    "class LSTMAutoencoder(nn.Module):\n",
    "    def __init__(self, input_dim, embedding_dim, layer_sizes, num_states, bidirectional=False, dropout=0.3):\n",
    "        super().__init__()\n",
    "        self.embedding = nn.Embedding(num_states, embedding_dim)\n",
    "        self.embedding_dropout = nn.Dropout(dropout)\n",
    "        enc_input_dim = input_dim + embedding_dim\n",
    "        self.encoder_layers = nn.ModuleList()\n",
    "        self.encoder_dropouts = nn.ModuleList()\n",
    "        for h in layer_sizes:\n",
    "            self.encoder_layers.append(nn.LSTM(enc_input_dim, h, batch_first=True, bidirectional=bidirectional))\n",
    "            self.encoder_dropouts.append(nn.Dropout(dropout))\n",
    "            enc_input_dim = h * (2 if bidirectional else 1)\n",
    "        dec_input_dim = enc_input_dim\n",
    "        self.decoder_layers = nn.ModuleList()\n",
    "        self.decoder_dropouts = nn.ModuleList()\n",
    "        for h in reversed(layer_sizes[:-1]):\n",
    "            self.decoder_layers.append(nn.LSTM(dec_input_dim, h, batch_first=True))\n",
    "            self.decoder_dropouts.append(nn.Dropout(dropout))\n",
    "            dec_input_dim = h\n",
    "        self.output_layer = nn.Linear(dec_input_dim, input_dim + embedding_dim)\n",
    "        self.tanh = nn.Tanh()\n",
    "    def forward(self, x):\n",
    "        state_idx = x[..., -1].long()\n",
    "        emb = self.embedding(state_idx)\n",
    "        emb = self.embedding_dropout(emb)\n",
    "        seq = torch.cat([x[..., :-1], emb], dim=-1)\n",
    "        out = seq\n",
    "        for lstm, dropout in zip(self.encoder_layers, self.encoder_dropouts):\n",
    "            out, _ = lstm(out)\n",
    "            out = dropout(self.tanh(out))\n",
    "        for lstm, dropout in zip(self.decoder_layers, self.decoder_dropouts):\n",
    "            out, _ = lstm(out)\n",
    "            out = dropout(self.tanh(out))\n",
    "        decoded = self.output_layer(out)\n",
    "        decoded = self.tanh(decoded)\n",
    "        return decoded\n",
    "\n",
    "def train_one_epoch(model, dataloader, optimizer, criterion):\n",
    "    model.train()\n",
    "    total_loss = 0\n",
    "    embed_dim = model.embedding.embedding_dim\n",
    "    for x, _ in dataloader:\n",
    "        optimizer.zero_grad()\n",
    "        x_hat = model(x)\n",
    "        x_hat_trimmed = x_hat[:, :, :-embed_dim]\n",
    "        x_trimmed = x[:, :, :-1]\n",
    "        loss = criterion(x_hat_trimmed, x_trimmed)\n",
    "        loss.backward()\n",
    "        optimizer.step()\n",
    "        total_loss += loss.item()\n",
    "    return total_loss / len(dataloader)\n",
    "\n",
    "def evaluate_model(model, dataloader):\n",
    "    model.eval()\n",
    "    all_labels, all_scores = [], []\n",
    "    embed_dim = model.embedding.embedding_dim\n",
    "    with torch.no_grad():\n",
    "        for x, y in dataloader:\n",
    "            x_hat = model(x)\n",
    "            x_hat_trimmed = x_hat[:, :, :-embed_dim]\n",
    "            x_trimmed = x[:, :, :-1]\n",
    "            re = ((x_hat_trimmed - x_trimmed) ** 2).mean(dim=(1,2))\n",
    "            all_scores.extend(re.numpy())\n",
    "            all_labels.extend(y.numpy())\n",
    "    return np.array(all_scores), np.array(all_labels)\n",
    "\n",
    "def compute_metrics(y_true, y_scores, threshold=None):\n",
    "    if threshold is None:\n",
    "        threshold = np.percentile(y_scores[y_true == 0], 95)\n",
    "    y_pred = (y_scores > threshold).astype(int)\n",
    "    metrics = {\n",
    "        \"ACC\": accuracy_score(y_true, y_pred),\n",
    "        \"PRE\": precision_score(y_true, y_pred, zero_division=0),\n",
    "        \"REC\": recall_score(y_true, y_pred, zero_division=0),\n",
    "        \"MCC\": matthews_corrcoef(y_true, y_pred),\n",
    "        \"AUC\": roc_auc_score(y_true, y_scores),\n",
    "    }\n",
    "    return metrics, threshold\n",
    "\n",
    "def find_best_f1_threshold(y_true, y_scores):\n",
    "    precision, recall, thresholds = precision_recall_curve(y_true, y_scores)\n",
    "    f1_scores = 2 * (precision * recall) / (precision + recall + 1e-8)\n",
    "    best_idx = np.argmax(f1_scores)\n",
    "    return thresholds[best_idx], f1_scores[best_idx]"
   ]
  },
  {
   "cell_type": "markdown",
   "metadata": {},
   "source": [
    "#### **Model A 30-Day LSTM-AE**"
   ]
  },
  {
   "cell_type": "code",
   "execution_count": null,
   "metadata": {},
   "outputs": [
    {
     "name": "stderr",
     "output_type": "stream",
     "text": [
      "[I 2025-04-26 16:19:49,185] A new study created in memory with name: no-name-9d0fff45-e779-4a9a-af1f-25c658762a88\n",
      "[I 2025-04-26 16:24:34,259] Trial 0 finished with value: 0.16886016667262346 and parameters: {'architecture': 'mid', 'dropout': 0.45000000000000007, 'embedding_dim': 2, 'lr': 0.0038685195468653334}. Best is trial 0 with value: 0.16886016667262346.\n"
     ]
    },
    {
     "name": "stdout",
     "output_type": "stream",
     "text": [
      "Trial 0: MCC=0.1689, REC=0.6941, AUC=0.6492, Params={'architecture': 'mid', 'dropout': 0.45000000000000007, 'embedding_dim': 2, 'lr': 0.0038685195468653334}\n"
     ]
    },
    {
     "name": "stderr",
     "output_type": "stream",
     "text": [
      "[I 2025-04-26 16:29:18,438] Trial 1 finished with value: 0.2836189600280694 and parameters: {'architecture': 'mid', 'dropout': 0.30000000000000004, 'embedding_dim': 3, 'lr': 0.0005737249773857136}. Best is trial 1 with value: 0.2836189600280694.\n"
     ]
    },
    {
     "name": "stdout",
     "output_type": "stream",
     "text": [
      "Trial 1: MCC=0.2836, REC=0.3257, AUC=0.6944, Params={'architecture': 'mid', 'dropout': 0.30000000000000004, 'embedding_dim': 3, 'lr': 0.0005737249773857136}\n"
     ]
    },
    {
     "name": "stderr",
     "output_type": "stream",
     "text": [
      "[I 2025-04-26 16:36:58,259] Trial 2 finished with value: 0.1653700122405941 and parameters: {'architecture': 'deep', 'dropout': 0.5, 'embedding_dim': 2, 'lr': 0.001947152099641176}. Best is trial 1 with value: 0.2836189600280694.\n"
     ]
    },
    {
     "name": "stdout",
     "output_type": "stream",
     "text": [
      "Trial 2: MCC=0.1654, REC=0.6711, AUC=0.6150, Params={'architecture': 'deep', 'dropout': 0.5, 'embedding_dim': 2, 'lr': 0.001947152099641176}\n"
     ]
    },
    {
     "name": "stderr",
     "output_type": "stream",
     "text": [
      "[I 2025-04-26 16:46:20,713] Trial 3 finished with value: 0.27499240726564095 and parameters: {'architecture': 'mid', 'dropout': 0.45000000000000007, 'embedding_dim': 6, 'lr': 0.004670042512719265}. Best is trial 1 with value: 0.2836189600280694.\n"
     ]
    },
    {
     "name": "stdout",
     "output_type": "stream",
     "text": [
      "Trial 3: MCC=0.2750, REC=0.4605, AUC=0.7400, Params={'architecture': 'mid', 'dropout': 0.45000000000000007, 'embedding_dim': 6, 'lr': 0.004670042512719265}\n"
     ]
    },
    {
     "name": "stderr",
     "output_type": "stream",
     "text": [
      "[I 2025-04-26 16:58:36,555] Trial 4 finished with value: 0.26579297564682575 and parameters: {'architecture': 'deep', 'dropout': 0.5, 'embedding_dim': 4, 'lr': 0.0024466663261037266}. Best is trial 1 with value: 0.2836189600280694.\n"
     ]
    },
    {
     "name": "stdout",
     "output_type": "stream",
     "text": [
      "Trial 4: MCC=0.2658, REC=0.5526, AUC=0.7378, Params={'architecture': 'deep', 'dropout': 0.5, 'embedding_dim': 4, 'lr': 0.0024466663261037266}\n"
     ]
    },
    {
     "name": "stderr",
     "output_type": "stream",
     "text": [
      "[I 2025-04-26 17:05:33,058] Trial 5 finished with value: 0.39670941552865807 and parameters: {'architecture': 'deep', 'dropout': 0.5, 'embedding_dim': 4, 'lr': 0.00022452281584993384}. Best is trial 5 with value: 0.39670941552865807.\n"
     ]
    },
    {
     "name": "stdout",
     "output_type": "stream",
     "text": [
      "Trial 5: MCC=0.3967, REC=0.6020, AUC=0.8200, Params={'architecture': 'deep', 'dropout': 0.5, 'embedding_dim': 4, 'lr': 0.00022452281584993384}\n"
     ]
    },
    {
     "name": "stderr",
     "output_type": "stream",
     "text": [
      "[I 2025-04-26 17:19:39,290] Trial 6 finished with value: 0.2816624359369721 and parameters: {'architecture': 'wide_shallow', 'dropout': 0.30000000000000004, 'embedding_dim': 2, 'lr': 0.0017466964206993701}. Best is trial 5 with value: 0.39670941552865807.\n"
     ]
    },
    {
     "name": "stdout",
     "output_type": "stream",
     "text": [
      "Trial 6: MCC=0.2817, REC=0.6349, AUC=0.7778, Params={'architecture': 'wide_shallow', 'dropout': 0.30000000000000004, 'embedding_dim': 2, 'lr': 0.0017466964206993701}\n"
     ]
    },
    {
     "name": "stderr",
     "output_type": "stream",
     "text": [
      "[I 2025-04-26 17:22:02,426] Trial 7 finished with value: 0.23430204575247932 and parameters: {'architecture': 'small', 'dropout': 0.5, 'embedding_dim': 6, 'lr': 0.0004227124224667769}. Best is trial 5 with value: 0.39670941552865807.\n"
     ]
    },
    {
     "name": "stdout",
     "output_type": "stream",
     "text": [
      "Trial 7: MCC=0.2343, REC=0.5033, AUC=0.7342, Params={'architecture': 'small', 'dropout': 0.5, 'embedding_dim': 6, 'lr': 0.0004227124224667769}\n"
     ]
    },
    {
     "name": "stderr",
     "output_type": "stream",
     "text": [
      "[I 2025-04-26 17:24:30,866] Trial 8 finished with value: 0.22459329909319595 and parameters: {'architecture': 'small', 'dropout': 0.1, 'embedding_dim': 6, 'lr': 0.00013065515921717607}. Best is trial 5 with value: 0.39670941552865807.\n"
     ]
    },
    {
     "name": "stdout",
     "output_type": "stream",
     "text": [
      "Trial 8: MCC=0.2246, REC=0.4737, AUC=0.7401, Params={'architecture': 'small', 'dropout': 0.1, 'embedding_dim': 6, 'lr': 0.00013065515921717607}\n"
     ]
    },
    {
     "name": "stderr",
     "output_type": "stream",
     "text": [
      "[I 2025-04-26 17:27:03,568] Trial 9 finished with value: 0.170555393564403 and parameters: {'architecture': 'small', 'dropout': 0.15000000000000002, 'embedding_dim': 4, 'lr': 0.00040341443598627215}. Best is trial 5 with value: 0.39670941552865807.\n"
     ]
    },
    {
     "name": "stdout",
     "output_type": "stream",
     "text": [
      "Trial 9: MCC=0.1706, REC=0.5526, AUC=0.6878, Params={'architecture': 'small', 'dropout': 0.15000000000000002, 'embedding_dim': 4, 'lr': 0.00040341443598627215}\n"
     ]
    },
    {
     "name": "stderr",
     "output_type": "stream",
     "text": [
      "[I 2025-04-26 17:33:00,917] Trial 10 finished with value: 0.3683219464325012 and parameters: {'architecture': 'deep', 'dropout': 0.35, 'embedding_dim': 8, 'lr': 0.00010360862818688302}. Best is trial 5 with value: 0.39670941552865807.\n"
     ]
    },
    {
     "name": "stdout",
     "output_type": "stream",
     "text": [
      "Trial 10: MCC=0.3683, REC=0.5888, AUC=0.8124, Params={'architecture': 'deep', 'dropout': 0.35, 'embedding_dim': 8, 'lr': 0.00010360862818688302}\n"
     ]
    },
    {
     "name": "stderr",
     "output_type": "stream",
     "text": [
      "[I 2025-04-26 17:39:06,788] Trial 11 finished with value: 0.39847256102028633 and parameters: {'architecture': 'deep', 'dropout': 0.35, 'embedding_dim': 8, 'lr': 0.00010520622129998198}. Best is trial 11 with value: 0.39847256102028633.\n"
     ]
    },
    {
     "name": "stdout",
     "output_type": "stream",
     "text": [
      "Trial 11: MCC=0.3985, REC=0.5362, AUC=0.8210, Params={'architecture': 'deep', 'dropout': 0.35, 'embedding_dim': 8, 'lr': 0.00010520622129998198}\n"
     ]
    },
    {
     "name": "stderr",
     "output_type": "stream",
     "text": [
      "[I 2025-04-26 17:45:09,268] Trial 12 finished with value: 0.4057874206585123 and parameters: {'architecture': 'deep', 'dropout': 0.2, 'embedding_dim': 8, 'lr': 0.00022124276936362619}. Best is trial 12 with value: 0.4057874206585123.\n"
     ]
    },
    {
     "name": "stdout",
     "output_type": "stream",
     "text": [
      "Trial 12: MCC=0.4058, REC=0.5855, AUC=0.8367, Params={'architecture': 'deep', 'dropout': 0.2, 'embedding_dim': 8, 'lr': 0.00022124276936362619}\n"
     ]
    },
    {
     "name": "stderr",
     "output_type": "stream",
     "text": [
      "[I 2025-04-26 17:51:03,840] Trial 13 finished with value: 0.3334869011270894 and parameters: {'architecture': 'deep', 'dropout': 0.2, 'embedding_dim': 8, 'lr': 0.00021321800129785916}. Best is trial 12 with value: 0.4057874206585123.\n"
     ]
    },
    {
     "name": "stdout",
     "output_type": "stream",
     "text": [
      "Trial 13: MCC=0.3335, REC=0.5592, AUC=0.7952, Params={'architecture': 'deep', 'dropout': 0.2, 'embedding_dim': 8, 'lr': 0.00021321800129785916}\n"
     ]
    },
    {
     "name": "stderr",
     "output_type": "stream",
     "text": [
      "[I 2025-04-26 18:05:00,763] Trial 14 finished with value: 0.21916643130103683 and parameters: {'architecture': 'wide_shallow', 'dropout': 0.2, 'embedding_dim': 7, 'lr': 0.0008395641580304429}. Best is trial 12 with value: 0.4057874206585123.\n"
     ]
    },
    {
     "name": "stdout",
     "output_type": "stream",
     "text": [
      "Trial 14: MCC=0.2192, REC=0.3947, AUC=0.7400, Params={'architecture': 'wide_shallow', 'dropout': 0.2, 'embedding_dim': 7, 'lr': 0.0008395641580304429}\n"
     ]
    },
    {
     "name": "stderr",
     "output_type": "stream",
     "text": [
      "[I 2025-04-26 18:10:51,509] Trial 15 finished with value: 0.21799683306231413 and parameters: {'architecture': 'deep', 'dropout': 0.35, 'embedding_dim': 7, 'lr': 0.00020081775346379057}. Best is trial 12 with value: 0.4057874206585123.\n"
     ]
    },
    {
     "name": "stdout",
     "output_type": "stream",
     "text": [
      "Trial 15: MCC=0.2180, REC=0.3224, AUC=0.6954, Params={'architecture': 'deep', 'dropout': 0.35, 'embedding_dim': 7, 'lr': 0.00020081775346379057}\n"
     ]
    },
    {
     "name": "stderr",
     "output_type": "stream",
     "text": [
      "[I 2025-04-26 18:16:23,911] Trial 16 finished with value: 0.34680226946514703 and parameters: {'architecture': 'deep', 'dropout': 0.25, 'embedding_dim': 8, 'lr': 0.008341556925380507}. Best is trial 12 with value: 0.4057874206585123.\n"
     ]
    },
    {
     "name": "stdout",
     "output_type": "stream",
     "text": [
      "Trial 16: MCC=0.3468, REC=0.3487, AUC=0.8026, Params={'architecture': 'deep', 'dropout': 0.25, 'embedding_dim': 8, 'lr': 0.008341556925380507}\n"
     ]
    },
    {
     "name": "stderr",
     "output_type": "stream",
     "text": [
      "[I 2025-04-26 18:21:58,125] Trial 17 finished with value: 0.37176011407088044 and parameters: {'architecture': 'deep', 'dropout': 0.4, 'embedding_dim': 7, 'lr': 0.00029640351353533165}. Best is trial 12 with value: 0.4057874206585123.\n"
     ]
    },
    {
     "name": "stdout",
     "output_type": "stream",
     "text": [
      "Trial 17: MCC=0.3718, REC=0.5362, AUC=0.8104, Params={'architecture': 'deep', 'dropout': 0.4, 'embedding_dim': 7, 'lr': 0.00029640351353533165}\n"
     ]
    },
    {
     "name": "stderr",
     "output_type": "stream",
     "text": [
      "[I 2025-04-26 18:35:37,330] Trial 18 finished with value: 0.2927534765020153 and parameters: {'architecture': 'wide_shallow', 'dropout': 0.25, 'embedding_dim': 5, 'lr': 0.00013842733077532664}. Best is trial 12 with value: 0.4057874206585123.\n"
     ]
    },
    {
     "name": "stdout",
     "output_type": "stream",
     "text": [
      "Trial 18: MCC=0.2928, REC=0.7763, AUC=0.7685, Params={'architecture': 'wide_shallow', 'dropout': 0.25, 'embedding_dim': 5, 'lr': 0.00013842733077532664}\n"
     ]
    },
    {
     "name": "stderr",
     "output_type": "stream",
     "text": [
      "[I 2025-04-26 18:41:16,678] Trial 19 finished with value: 0.4461454940104176 and parameters: {'architecture': 'deep', 'dropout': 0.1, 'embedding_dim': 8, 'lr': 0.0008188148579607131}. Best is trial 19 with value: 0.4461454940104176.\n"
     ]
    },
    {
     "name": "stdout",
     "output_type": "stream",
     "text": [
      "Trial 19: MCC=0.4461, REC=0.6645, AUC=0.8573, Params={'architecture': 'deep', 'dropout': 0.1, 'embedding_dim': 8, 'lr': 0.0008188148579607131}\n"
     ]
    },
    {
     "name": "stderr",
     "output_type": "stream",
     "text": [
      "[I 2025-04-26 18:47:11,248] Trial 20 finished with value: 0.34691638849305473 and parameters: {'architecture': 'deep', 'dropout': 0.1, 'embedding_dim': 7, 'lr': 0.0010957709260295552}. Best is trial 19 with value: 0.4461454940104176.\n"
     ]
    },
    {
     "name": "stdout",
     "output_type": "stream",
     "text": [
      "Trial 20: MCC=0.3469, REC=0.6020, AUC=0.8056, Params={'architecture': 'deep', 'dropout': 0.1, 'embedding_dim': 7, 'lr': 0.0010957709260295552}\n"
     ]
    },
    {
     "name": "stderr",
     "output_type": "stream",
     "text": [
      "[I 2025-04-26 18:53:05,038] Trial 21 finished with value: 0.30850200903830155 and parameters: {'architecture': 'deep', 'dropout': 0.2, 'embedding_dim': 8, 'lr': 0.000739929412833777}. Best is trial 19 with value: 0.4461454940104176.\n"
     ]
    },
    {
     "name": "stdout",
     "output_type": "stream",
     "text": [
      "Trial 21: MCC=0.3085, REC=0.6546, AUC=0.7811, Params={'architecture': 'deep', 'dropout': 0.2, 'embedding_dim': 8, 'lr': 0.000739929412833777}\n"
     ]
    },
    {
     "name": "stderr",
     "output_type": "stream",
     "text": [
      "[I 2025-04-26 18:59:00,572] Trial 22 finished with value: 0.2805926501833714 and parameters: {'architecture': 'deep', 'dropout': 0.15000000000000002, 'embedding_dim': 8, 'lr': 0.00010080467138309049}. Best is trial 19 with value: 0.4461454940104176.\n"
     ]
    },
    {
     "name": "stdout",
     "output_type": "stream",
     "text": [
      "Trial 22: MCC=0.2806, REC=0.3651, AUC=0.7580, Params={'architecture': 'deep', 'dropout': 0.15000000000000002, 'embedding_dim': 8, 'lr': 0.00010080467138309049}\n"
     ]
    },
    {
     "name": "stderr",
     "output_type": "stream",
     "text": [
      "[I 2025-04-26 19:04:46,850] Trial 23 finished with value: 0.19102379163689653 and parameters: {'architecture': 'deep', 'dropout': 0.15000000000000002, 'embedding_dim': 7, 'lr': 0.0003332437982674245}. Best is trial 19 with value: 0.4461454940104176.\n"
     ]
    },
    {
     "name": "stdout",
     "output_type": "stream",
     "text": [
      "Trial 23: MCC=0.1910, REC=0.3553, AUC=0.6572, Params={'architecture': 'deep', 'dropout': 0.15000000000000002, 'embedding_dim': 7, 'lr': 0.0003332437982674245}\n"
     ]
    },
    {
     "name": "stderr",
     "output_type": "stream",
     "text": [
      "[I 2025-04-26 19:10:26,142] Trial 24 finished with value: 0.4159003421122947 and parameters: {'architecture': 'deep', 'dropout': 0.25, 'embedding_dim': 8, 'lr': 0.00016535043889868062}. Best is trial 19 with value: 0.4461454940104176.\n"
     ]
    },
    {
     "name": "stdout",
     "output_type": "stream",
     "text": [
      "Trial 24: MCC=0.4159, REC=0.5855, AUC=0.8349, Params={'architecture': 'deep', 'dropout': 0.25, 'embedding_dim': 8, 'lr': 0.00016535043889868062}\n"
     ]
    },
    {
     "name": "stderr",
     "output_type": "stream",
     "text": [
      "[I 2025-04-26 19:16:12,942] Trial 25 finished with value: 0.390402561118342 and parameters: {'architecture': 'deep', 'dropout': 0.25, 'embedding_dim': 6, 'lr': 0.0011620396551063037}. Best is trial 19 with value: 0.4461454940104176.\n"
     ]
    },
    {
     "name": "stdout",
     "output_type": "stream",
     "text": [
      "Trial 25: MCC=0.3904, REC=0.6118, AUC=0.8309, Params={'architecture': 'deep', 'dropout': 0.25, 'embedding_dim': 6, 'lr': 0.0011620396551063037}\n"
     ]
    },
    {
     "name": "stderr",
     "output_type": "stream",
     "text": [
      "[I 2025-04-26 19:18:39,983] Trial 26 finished with value: 0.1748288009595639 and parameters: {'architecture': 'small', 'dropout': 0.1, 'embedding_dim': 7, 'lr': 0.0006155863485382686}. Best is trial 19 with value: 0.4461454940104176.\n"
     ]
    },
    {
     "name": "stdout",
     "output_type": "stream",
     "text": [
      "Trial 26: MCC=0.1748, REC=0.5592, AUC=0.6848, Params={'architecture': 'small', 'dropout': 0.1, 'embedding_dim': 7, 'lr': 0.0006155863485382686}\n"
     ]
    },
    {
     "name": "stderr",
     "output_type": "stream",
     "text": [
      "[I 2025-04-26 19:33:06,200] Trial 27 finished with value: 0.2533945597783428 and parameters: {'architecture': 'wide_shallow', 'dropout': 0.15000000000000002, 'embedding_dim': 5, 'lr': 0.00017037236514304125}. Best is trial 19 with value: 0.4461454940104176.\n"
     ]
    },
    {
     "name": "stdout",
     "output_type": "stream",
     "text": [
      "Trial 27: MCC=0.2534, REC=0.6875, AUC=0.7585, Params={'architecture': 'wide_shallow', 'dropout': 0.15000000000000002, 'embedding_dim': 5, 'lr': 0.00017037236514304125}\n"
     ]
    },
    {
     "name": "stderr",
     "output_type": "stream",
     "text": [
      "[I 2025-04-26 19:38:04,724] Trial 28 finished with value: 0.18512897786125876 and parameters: {'architecture': 'mid', 'dropout': 0.2, 'embedding_dim': 8, 'lr': 0.0004559069306120545}. Best is trial 19 with value: 0.4461454940104176.\n"
     ]
    },
    {
     "name": "stdout",
     "output_type": "stream",
     "text": [
      "Trial 28: MCC=0.1851, REC=0.6579, AUC=0.6526, Params={'architecture': 'mid', 'dropout': 0.2, 'embedding_dim': 8, 'lr': 0.0004559069306120545}\n"
     ]
    },
    {
     "name": "stderr",
     "output_type": "stream",
     "text": [
      "[I 2025-04-26 19:43:02,893] Trial 29 finished with value: 0.1798959518759375 and parameters: {'architecture': 'mid', 'dropout': 0.25, 'embedding_dim': 7, 'lr': 0.00029055967014847206}. Best is trial 19 with value: 0.4461454940104176.\n"
     ]
    },
    {
     "name": "stdout",
     "output_type": "stream",
     "text": [
      "Trial 29: MCC=0.1799, REC=0.5428, AUC=0.6536, Params={'architecture': 'mid', 'dropout': 0.25, 'embedding_dim': 7, 'lr': 0.00029055967014847206}\n"
     ]
    },
    {
     "name": "stderr",
     "output_type": "stream",
     "text": [
      "[I 2025-04-26 19:48:48,804] Trial 30 finished with value: 0.23981638437247563 and parameters: {'architecture': 'deep', 'dropout': 0.1, 'embedding_dim': 8, 'lr': 0.004086447103729056}. Best is trial 19 with value: 0.4461454940104176.\n"
     ]
    },
    {
     "name": "stdout",
     "output_type": "stream",
     "text": [
      "Trial 30: MCC=0.2398, REC=0.4803, AUC=0.6867, Params={'architecture': 'deep', 'dropout': 0.1, 'embedding_dim': 8, 'lr': 0.004086447103729056}\n"
     ]
    },
    {
     "name": "stderr",
     "output_type": "stream",
     "text": [
      "[I 2025-04-26 19:54:36,768] Trial 31 finished with value: 0.3612189891816607 and parameters: {'architecture': 'deep', 'dropout': 0.35, 'embedding_dim': 8, 'lr': 0.000148007608841904}. Best is trial 19 with value: 0.4461454940104176.\n"
     ]
    },
    {
     "name": "stdout",
     "output_type": "stream",
     "text": [
      "Trial 31: MCC=0.3612, REC=0.5526, AUC=0.8021, Params={'architecture': 'deep', 'dropout': 0.35, 'embedding_dim': 8, 'lr': 0.000148007608841904}\n"
     ]
    },
    {
     "name": "stderr",
     "output_type": "stream",
     "text": [
      "[I 2025-04-26 20:00:23,407] Trial 32 finished with value: 0.32865242637449893 and parameters: {'architecture': 'deep', 'dropout': 0.30000000000000004, 'embedding_dim': 8, 'lr': 0.00025164778431634963}. Best is trial 19 with value: 0.4461454940104176.\n"
     ]
    },
    {
     "name": "stdout",
     "output_type": "stream",
     "text": [
      "Trial 32: MCC=0.3287, REC=0.6217, AUC=0.7822, Params={'architecture': 'deep', 'dropout': 0.30000000000000004, 'embedding_dim': 8, 'lr': 0.00025164778431634963}\n"
     ]
    },
    {
     "name": "stderr",
     "output_type": "stream",
     "text": [
      "[I 2025-04-26 20:06:08,982] Trial 33 finished with value: 0.39373411513209494 and parameters: {'architecture': 'deep', 'dropout': 0.4, 'embedding_dim': 7, 'lr': 0.00018413287018304912}. Best is trial 19 with value: 0.4461454940104176.\n"
     ]
    },
    {
     "name": "stdout",
     "output_type": "stream",
     "text": [
      "Trial 33: MCC=0.3937, REC=0.6217, AUC=0.8293, Params={'architecture': 'deep', 'dropout': 0.4, 'embedding_dim': 7, 'lr': 0.00018413287018304912}\n"
     ]
    },
    {
     "name": "stderr",
     "output_type": "stream",
     "text": [
      "[I 2025-04-26 20:11:54,117] Trial 34 finished with value: 0.38543841233781434 and parameters: {'architecture': 'deep', 'dropout': 0.4, 'embedding_dim': 8, 'lr': 0.00011938029719967267}. Best is trial 19 with value: 0.4461454940104176.\n"
     ]
    },
    {
     "name": "stdout",
     "output_type": "stream",
     "text": [
      "Trial 34: MCC=0.3854, REC=0.5757, AUC=0.8214, Params={'architecture': 'deep', 'dropout': 0.4, 'embedding_dim': 8, 'lr': 0.00011938029719967267}\n"
     ]
    },
    {
     "name": "stderr",
     "output_type": "stream",
     "text": [
      "[I 2025-04-26 20:16:46,623] Trial 35 finished with value: 0.21469977706426585 and parameters: {'architecture': 'mid', 'dropout': 0.35, 'embedding_dim': 6, 'lr': 0.0014925379755711136}. Best is trial 19 with value: 0.4461454940104176.\n"
     ]
    },
    {
     "name": "stdout",
     "output_type": "stream",
     "text": [
      "Trial 35: MCC=0.2147, REC=0.3224, AUC=0.7245, Params={'architecture': 'mid', 'dropout': 0.35, 'embedding_dim': 6, 'lr': 0.0014925379755711136}\n"
     ]
    },
    {
     "name": "stderr",
     "output_type": "stream",
     "text": [
      "[I 2025-04-26 20:22:29,337] Trial 36 finished with value: 0.39002220868299026 and parameters: {'architecture': 'deep', 'dropout': 0.30000000000000004, 'embedding_dim': 3, 'lr': 0.00016403318747712525}. Best is trial 19 with value: 0.4461454940104176.\n"
     ]
    },
    {
     "name": "stdout",
     "output_type": "stream",
     "text": [
      "Trial 36: MCC=0.3900, REC=0.5461, AUC=0.8240, Params={'architecture': 'deep', 'dropout': 0.30000000000000004, 'embedding_dim': 3, 'lr': 0.00016403318747712525}\n"
     ]
    },
    {
     "name": "stderr",
     "output_type": "stream",
     "text": [
      "[I 2025-04-26 20:28:09,026] Trial 37 finished with value: 0.38921736129676826 and parameters: {'architecture': 'deep', 'dropout': 0.25, 'embedding_dim': 7, 'lr': 0.002795023021160032}. Best is trial 19 with value: 0.4461454940104176.\n"
     ]
    },
    {
     "name": "stdout",
     "output_type": "stream",
     "text": [
      "Trial 37: MCC=0.3892, REC=0.7434, AUC=0.8277, Params={'architecture': 'deep', 'dropout': 0.25, 'embedding_dim': 7, 'lr': 0.002795023021160032}\n"
     ]
    },
    {
     "name": "stderr",
     "output_type": "stream",
     "text": [
      "[I 2025-04-26 20:33:54,339] Trial 38 finished with value: 0.3358915350332714 and parameters: {'architecture': 'deep', 'dropout': 0.45000000000000007, 'embedding_dim': 8, 'lr': 0.0005460009051390827}. Best is trial 19 with value: 0.4461454940104176.\n"
     ]
    },
    {
     "name": "stdout",
     "output_type": "stream",
     "text": [
      "Trial 38: MCC=0.3359, REC=0.6612, AUC=0.7966, Params={'architecture': 'deep', 'dropout': 0.45000000000000007, 'embedding_dim': 8, 'lr': 0.0005460009051390827}\n"
     ]
    },
    {
     "name": "stderr",
     "output_type": "stream",
     "text": [
      "[I 2025-04-26 20:38:49,943] Trial 39 finished with value: 0.2573395348502084 and parameters: {'architecture': 'mid', 'dropout': 0.30000000000000004, 'embedding_dim': 6, 'lr': 0.005684507986941691}. Best is trial 19 with value: 0.4461454940104176.\n"
     ]
    },
    {
     "name": "stdout",
     "output_type": "stream",
     "text": [
      "Trial 39: MCC=0.2573, REC=0.8980, AUC=0.7299, Params={'architecture': 'mid', 'dropout': 0.30000000000000004, 'embedding_dim': 6, 'lr': 0.005684507986941691}\n"
     ]
    },
    {
     "name": "stderr",
     "output_type": "stream",
     "text": [
      "[I 2025-04-26 20:41:20,067] Trial 40 finished with value: 0.1889968794199148 and parameters: {'architecture': 'small', 'dropout': 0.2, 'embedding_dim': 8, 'lr': 0.0002478133378015778}. Best is trial 19 with value: 0.4461454940104176.\n"
     ]
    },
    {
     "name": "stdout",
     "output_type": "stream",
     "text": [
      "Trial 40: MCC=0.1890, REC=0.4507, AUC=0.6756, Params={'architecture': 'small', 'dropout': 0.2, 'embedding_dim': 8, 'lr': 0.0002478133378015778}\n"
     ]
    },
    {
     "name": "stderr",
     "output_type": "stream",
     "text": [
      "[I 2025-04-26 20:47:16,370] Trial 41 finished with value: 0.4176466708630911 and parameters: {'architecture': 'deep', 'dropout': 0.5, 'embedding_dim': 5, 'lr': 0.00036290051890749557}. Best is trial 19 with value: 0.4461454940104176.\n"
     ]
    },
    {
     "name": "stdout",
     "output_type": "stream",
     "text": [
      "Trial 41: MCC=0.4176, REC=0.4836, AUC=0.8364, Params={'architecture': 'deep', 'dropout': 0.5, 'embedding_dim': 5, 'lr': 0.00036290051890749557}\n"
     ]
    },
    {
     "name": "stderr",
     "output_type": "stream",
     "text": [
      "[I 2025-04-26 20:53:23,122] Trial 42 finished with value: 0.4202428046629374 and parameters: {'architecture': 'deep', 'dropout': 0.5, 'embedding_dim': 5, 'lr': 0.00035220888448065914}. Best is trial 19 with value: 0.4461454940104176.\n"
     ]
    },
    {
     "name": "stdout",
     "output_type": "stream",
     "text": [
      "Trial 42: MCC=0.4202, REC=0.5164, AUC=0.8343, Params={'architecture': 'deep', 'dropout': 0.5, 'embedding_dim': 5, 'lr': 0.00035220888448065914}\n"
     ]
    },
    {
     "name": "stderr",
     "output_type": "stream",
     "text": [
      "[I 2025-04-26 20:59:32,941] Trial 43 finished with value: 0.3816665104039338 and parameters: {'architecture': 'deep', 'dropout': 0.45000000000000007, 'embedding_dim': 5, 'lr': 0.0003815152687892031}. Best is trial 19 with value: 0.4461454940104176.\n"
     ]
    },
    {
     "name": "stdout",
     "output_type": "stream",
     "text": [
      "Trial 43: MCC=0.3817, REC=0.6250, AUC=0.8091, Params={'architecture': 'deep', 'dropout': 0.45000000000000007, 'embedding_dim': 5, 'lr': 0.0003815152687892031}\n"
     ]
    },
    {
     "name": "stderr",
     "output_type": "stream",
     "text": [
      "[I 2025-04-26 21:05:38,414] Trial 44 finished with value: 0.3354896299787908 and parameters: {'architecture': 'deep', 'dropout': 0.5, 'embedding_dim': 4, 'lr': 0.000780891503310904}. Best is trial 19 with value: 0.4461454940104176.\n"
     ]
    },
    {
     "name": "stdout",
     "output_type": "stream",
     "text": [
      "Trial 44: MCC=0.3355, REC=0.5888, AUC=0.8040, Params={'architecture': 'deep', 'dropout': 0.5, 'embedding_dim': 4, 'lr': 0.000780891503310904}\n"
     ]
    },
    {
     "name": "stderr",
     "output_type": "stream",
     "text": [
      "[I 2025-04-26 21:20:45,068] Trial 45 finished with value: 0.2974619213428919 and parameters: {'architecture': 'wide_shallow', 'dropout': 0.5, 'embedding_dim': 5, 'lr': 0.0005211890652777367}. Best is trial 19 with value: 0.4461454940104176.\n"
     ]
    },
    {
     "name": "stdout",
     "output_type": "stream",
     "text": [
      "Trial 45: MCC=0.2975, REC=0.8783, AUC=0.7661, Params={'architecture': 'wide_shallow', 'dropout': 0.5, 'embedding_dim': 5, 'lr': 0.0005211890652777367}\n"
     ]
    },
    {
     "name": "stderr",
     "output_type": "stream",
     "text": [
      "[I 2025-04-26 21:26:50,881] Trial 46 finished with value: 0.33690277939439034 and parameters: {'architecture': 'deep', 'dropout': 0.45000000000000007, 'embedding_dim': 4, 'lr': 0.0006455871403026349}. Best is trial 19 with value: 0.4461454940104176.\n"
     ]
    },
    {
     "name": "stdout",
     "output_type": "stream",
     "text": [
      "Trial 46: MCC=0.3369, REC=0.5592, AUC=0.7928, Params={'architecture': 'deep', 'dropout': 0.45000000000000007, 'embedding_dim': 4, 'lr': 0.0006455871403026349}\n"
     ]
    },
    {
     "name": "stderr",
     "output_type": "stream",
     "text": [
      "[I 2025-04-26 21:32:52,902] Trial 47 finished with value: 0.372883713897519 and parameters: {'architecture': 'deep', 'dropout': 0.5, 'embedding_dim': 3, 'lr': 0.0003405365203550537}. Best is trial 19 with value: 0.4461454940104176.\n"
     ]
    },
    {
     "name": "stdout",
     "output_type": "stream",
     "text": [
      "Trial 47: MCC=0.3729, REC=0.5658, AUC=0.8102, Params={'architecture': 'deep', 'dropout': 0.5, 'embedding_dim': 3, 'lr': 0.0003405365203550537}\n"
     ]
    },
    {
     "name": "stderr",
     "output_type": "stream",
     "text": [
      "[I 2025-04-26 21:35:26,429] Trial 48 finished with value: 0.19976144010814986 and parameters: {'architecture': 'small', 'dropout': 0.4, 'embedding_dim': 4, 'lr': 0.0004749243083503763}. Best is trial 19 with value: 0.4461454940104176.\n"
     ]
    },
    {
     "name": "stdout",
     "output_type": "stream",
     "text": [
      "Trial 48: MCC=0.1998, REC=0.4704, AUC=0.6996, Params={'architecture': 'small', 'dropout': 0.4, 'embedding_dim': 4, 'lr': 0.0004749243083503763}\n"
     ]
    },
    {
     "name": "stderr",
     "output_type": "stream",
     "text": [
      "[I 2025-04-26 21:41:22,719] Trial 49 finished with value: 0.33602106545699706 and parameters: {'architecture': 'deep', 'dropout': 0.15000000000000002, 'embedding_dim': 6, 'lr': 0.0002622573690009186}. Best is trial 19 with value: 0.4461454940104176.\n"
     ]
    },
    {
     "name": "stdout",
     "output_type": "stream",
     "text": [
      "Trial 49: MCC=0.3360, REC=0.5888, AUC=0.8121, Params={'architecture': 'deep', 'dropout': 0.15000000000000002, 'embedding_dim': 6, 'lr': 0.0002622573690009186}\n",
      "Best trial parameters saved to: c:\\Users\\tamar\\Documents\\Thesis 2025\\Data\\00_2_validation\\LSTM-AE_best_trial_params.txt\n"
     ]
    },
    {
     "data": {
      "application/vnd.plotly.v1+json": {
       "config": {
        "plotlyServerURL": "https://plot.ly"
       },
       "data": [
        {
         "mode": "markers",
         "name": "Objective Value",
         "type": "scatter",
         "x": [
          0,
          1,
          2,
          3,
          4,
          5,
          6,
          7,
          8,
          9,
          10,
          11,
          12,
          13,
          14,
          15,
          16,
          17,
          18,
          19,
          20,
          21,
          22,
          23,
          24,
          25,
          26,
          27,
          28,
          29,
          30,
          31,
          32,
          33,
          34,
          35,
          36,
          37,
          38,
          39,
          40,
          41,
          42,
          43,
          44,
          45,
          46,
          47,
          48,
          49
         ],
         "y": [
          0.16886016667262346,
          0.2836189600280694,
          0.1653700122405941,
          0.27499240726564095,
          0.26579297564682575,
          0.39670941552865807,
          0.2816624359369721,
          0.23430204575247932,
          0.22459329909319595,
          0.170555393564403,
          0.3683219464325012,
          0.39847256102028633,
          0.4057874206585123,
          0.3334869011270894,
          0.21916643130103683,
          0.21799683306231413,
          0.34680226946514703,
          0.37176011407088044,
          0.2927534765020153,
          0.4461454940104176,
          0.34691638849305473,
          0.30850200903830155,
          0.2805926501833714,
          0.19102379163689653,
          0.4159003421122947,
          0.390402561118342,
          0.1748288009595639,
          0.2533945597783428,
          0.18512897786125876,
          0.1798959518759375,
          0.23981638437247563,
          0.3612189891816607,
          0.32865242637449893,
          0.39373411513209494,
          0.38543841233781434,
          0.21469977706426585,
          0.39002220868299026,
          0.38921736129676826,
          0.3358915350332714,
          0.2573395348502084,
          0.1889968794199148,
          0.4176466708630911,
          0.4202428046629374,
          0.3816665104039338,
          0.3354896299787908,
          0.2974619213428919,
          0.33690277939439034,
          0.372883713897519,
          0.19976144010814986,
          0.33602106545699706
         ]
        },
        {
         "mode": "lines",
         "name": "Best Value",
         "type": "scatter",
         "x": [
          0,
          1,
          2,
          3,
          4,
          5,
          6,
          7,
          8,
          9,
          10,
          11,
          12,
          13,
          14,
          15,
          16,
          17,
          18,
          19,
          20,
          21,
          22,
          23,
          24,
          25,
          26,
          27,
          28,
          29,
          30,
          31,
          32,
          33,
          34,
          35,
          36,
          37,
          38,
          39,
          40,
          41,
          42,
          43,
          44,
          45,
          46,
          47,
          48,
          49
         ],
         "y": [
          0.16886016667262346,
          0.2836189600280694,
          0.2836189600280694,
          0.2836189600280694,
          0.2836189600280694,
          0.39670941552865807,
          0.39670941552865807,
          0.39670941552865807,
          0.39670941552865807,
          0.39670941552865807,
          0.39670941552865807,
          0.39847256102028633,
          0.4057874206585123,
          0.4057874206585123,
          0.4057874206585123,
          0.4057874206585123,
          0.4057874206585123,
          0.4057874206585123,
          0.4057874206585123,
          0.4461454940104176,
          0.4461454940104176,
          0.4461454940104176,
          0.4461454940104176,
          0.4461454940104176,
          0.4461454940104176,
          0.4461454940104176,
          0.4461454940104176,
          0.4461454940104176,
          0.4461454940104176,
          0.4461454940104176,
          0.4461454940104176,
          0.4461454940104176,
          0.4461454940104176,
          0.4461454940104176,
          0.4461454940104176,
          0.4461454940104176,
          0.4461454940104176,
          0.4461454940104176,
          0.4461454940104176,
          0.4461454940104176,
          0.4461454940104176,
          0.4461454940104176,
          0.4461454940104176,
          0.4461454940104176,
          0.4461454940104176,
          0.4461454940104176,
          0.4461454940104176,
          0.4461454940104176,
          0.4461454940104176,
          0.4461454940104176
         ]
        },
        {
         "marker": {
          "color": "#cccccc"
         },
         "mode": "markers",
         "name": "Infeasible Trial",
         "showlegend": false,
         "type": "scatter",
         "x": [],
         "y": []
        }
       ],
       "layout": {
        "template": {
         "data": {
          "bar": [
           {
            "error_x": {
             "color": "#2a3f5f"
            },
            "error_y": {
             "color": "#2a3f5f"
            },
            "marker": {
             "line": {
              "color": "#E5ECF6",
              "width": 0.5
             },
             "pattern": {
              "fillmode": "overlay",
              "size": 10,
              "solidity": 0.2
             }
            },
            "type": "bar"
           }
          ],
          "barpolar": [
           {
            "marker": {
             "line": {
              "color": "#E5ECF6",
              "width": 0.5
             },
             "pattern": {
              "fillmode": "overlay",
              "size": 10,
              "solidity": 0.2
             }
            },
            "type": "barpolar"
           }
          ],
          "carpet": [
           {
            "aaxis": {
             "endlinecolor": "#2a3f5f",
             "gridcolor": "white",
             "linecolor": "white",
             "minorgridcolor": "white",
             "startlinecolor": "#2a3f5f"
            },
            "baxis": {
             "endlinecolor": "#2a3f5f",
             "gridcolor": "white",
             "linecolor": "white",
             "minorgridcolor": "white",
             "startlinecolor": "#2a3f5f"
            },
            "type": "carpet"
           }
          ],
          "choropleth": [
           {
            "colorbar": {
             "outlinewidth": 0,
             "ticks": ""
            },
            "type": "choropleth"
           }
          ],
          "contour": [
           {
            "colorbar": {
             "outlinewidth": 0,
             "ticks": ""
            },
            "colorscale": [
             [
              0,
              "#0d0887"
             ],
             [
              0.1111111111111111,
              "#46039f"
             ],
             [
              0.2222222222222222,
              "#7201a8"
             ],
             [
              0.3333333333333333,
              "#9c179e"
             ],
             [
              0.4444444444444444,
              "#bd3786"
             ],
             [
              0.5555555555555556,
              "#d8576b"
             ],
             [
              0.6666666666666666,
              "#ed7953"
             ],
             [
              0.7777777777777778,
              "#fb9f3a"
             ],
             [
              0.8888888888888888,
              "#fdca26"
             ],
             [
              1,
              "#f0f921"
             ]
            ],
            "type": "contour"
           }
          ],
          "contourcarpet": [
           {
            "colorbar": {
             "outlinewidth": 0,
             "ticks": ""
            },
            "type": "contourcarpet"
           }
          ],
          "heatmap": [
           {
            "colorbar": {
             "outlinewidth": 0,
             "ticks": ""
            },
            "colorscale": [
             [
              0,
              "#0d0887"
             ],
             [
              0.1111111111111111,
              "#46039f"
             ],
             [
              0.2222222222222222,
              "#7201a8"
             ],
             [
              0.3333333333333333,
              "#9c179e"
             ],
             [
              0.4444444444444444,
              "#bd3786"
             ],
             [
              0.5555555555555556,
              "#d8576b"
             ],
             [
              0.6666666666666666,
              "#ed7953"
             ],
             [
              0.7777777777777778,
              "#fb9f3a"
             ],
             [
              0.8888888888888888,
              "#fdca26"
             ],
             [
              1,
              "#f0f921"
             ]
            ],
            "type": "heatmap"
           }
          ],
          "heatmapgl": [
           {
            "colorbar": {
             "outlinewidth": 0,
             "ticks": ""
            },
            "colorscale": [
             [
              0,
              "#0d0887"
             ],
             [
              0.1111111111111111,
              "#46039f"
             ],
             [
              0.2222222222222222,
              "#7201a8"
             ],
             [
              0.3333333333333333,
              "#9c179e"
             ],
             [
              0.4444444444444444,
              "#bd3786"
             ],
             [
              0.5555555555555556,
              "#d8576b"
             ],
             [
              0.6666666666666666,
              "#ed7953"
             ],
             [
              0.7777777777777778,
              "#fb9f3a"
             ],
             [
              0.8888888888888888,
              "#fdca26"
             ],
             [
              1,
              "#f0f921"
             ]
            ],
            "type": "heatmapgl"
           }
          ],
          "histogram": [
           {
            "marker": {
             "pattern": {
              "fillmode": "overlay",
              "size": 10,
              "solidity": 0.2
             }
            },
            "type": "histogram"
           }
          ],
          "histogram2d": [
           {
            "colorbar": {
             "outlinewidth": 0,
             "ticks": ""
            },
            "colorscale": [
             [
              0,
              "#0d0887"
             ],
             [
              0.1111111111111111,
              "#46039f"
             ],
             [
              0.2222222222222222,
              "#7201a8"
             ],
             [
              0.3333333333333333,
              "#9c179e"
             ],
             [
              0.4444444444444444,
              "#bd3786"
             ],
             [
              0.5555555555555556,
              "#d8576b"
             ],
             [
              0.6666666666666666,
              "#ed7953"
             ],
             [
              0.7777777777777778,
              "#fb9f3a"
             ],
             [
              0.8888888888888888,
              "#fdca26"
             ],
             [
              1,
              "#f0f921"
             ]
            ],
            "type": "histogram2d"
           }
          ],
          "histogram2dcontour": [
           {
            "colorbar": {
             "outlinewidth": 0,
             "ticks": ""
            },
            "colorscale": [
             [
              0,
              "#0d0887"
             ],
             [
              0.1111111111111111,
              "#46039f"
             ],
             [
              0.2222222222222222,
              "#7201a8"
             ],
             [
              0.3333333333333333,
              "#9c179e"
             ],
             [
              0.4444444444444444,
              "#bd3786"
             ],
             [
              0.5555555555555556,
              "#d8576b"
             ],
             [
              0.6666666666666666,
              "#ed7953"
             ],
             [
              0.7777777777777778,
              "#fb9f3a"
             ],
             [
              0.8888888888888888,
              "#fdca26"
             ],
             [
              1,
              "#f0f921"
             ]
            ],
            "type": "histogram2dcontour"
           }
          ],
          "mesh3d": [
           {
            "colorbar": {
             "outlinewidth": 0,
             "ticks": ""
            },
            "type": "mesh3d"
           }
          ],
          "parcoords": [
           {
            "line": {
             "colorbar": {
              "outlinewidth": 0,
              "ticks": ""
             }
            },
            "type": "parcoords"
           }
          ],
          "pie": [
           {
            "automargin": true,
            "type": "pie"
           }
          ],
          "scatter": [
           {
            "fillpattern": {
             "fillmode": "overlay",
             "size": 10,
             "solidity": 0.2
            },
            "type": "scatter"
           }
          ],
          "scatter3d": [
           {
            "line": {
             "colorbar": {
              "outlinewidth": 0,
              "ticks": ""
             }
            },
            "marker": {
             "colorbar": {
              "outlinewidth": 0,
              "ticks": ""
             }
            },
            "type": "scatter3d"
           }
          ],
          "scattercarpet": [
           {
            "marker": {
             "colorbar": {
              "outlinewidth": 0,
              "ticks": ""
             }
            },
            "type": "scattercarpet"
           }
          ],
          "scattergeo": [
           {
            "marker": {
             "colorbar": {
              "outlinewidth": 0,
              "ticks": ""
             }
            },
            "type": "scattergeo"
           }
          ],
          "scattergl": [
           {
            "marker": {
             "colorbar": {
              "outlinewidth": 0,
              "ticks": ""
             }
            },
            "type": "scattergl"
           }
          ],
          "scattermapbox": [
           {
            "marker": {
             "colorbar": {
              "outlinewidth": 0,
              "ticks": ""
             }
            },
            "type": "scattermapbox"
           }
          ],
          "scatterpolar": [
           {
            "marker": {
             "colorbar": {
              "outlinewidth": 0,
              "ticks": ""
             }
            },
            "type": "scatterpolar"
           }
          ],
          "scatterpolargl": [
           {
            "marker": {
             "colorbar": {
              "outlinewidth": 0,
              "ticks": ""
             }
            },
            "type": "scatterpolargl"
           }
          ],
          "scatterternary": [
           {
            "marker": {
             "colorbar": {
              "outlinewidth": 0,
              "ticks": ""
             }
            },
            "type": "scatterternary"
           }
          ],
          "surface": [
           {
            "colorbar": {
             "outlinewidth": 0,
             "ticks": ""
            },
            "colorscale": [
             [
              0,
              "#0d0887"
             ],
             [
              0.1111111111111111,
              "#46039f"
             ],
             [
              0.2222222222222222,
              "#7201a8"
             ],
             [
              0.3333333333333333,
              "#9c179e"
             ],
             [
              0.4444444444444444,
              "#bd3786"
             ],
             [
              0.5555555555555556,
              "#d8576b"
             ],
             [
              0.6666666666666666,
              "#ed7953"
             ],
             [
              0.7777777777777778,
              "#fb9f3a"
             ],
             [
              0.8888888888888888,
              "#fdca26"
             ],
             [
              1,
              "#f0f921"
             ]
            ],
            "type": "surface"
           }
          ],
          "table": [
           {
            "cells": {
             "fill": {
              "color": "#EBF0F8"
             },
             "line": {
              "color": "white"
             }
            },
            "header": {
             "fill": {
              "color": "#C8D4E3"
             },
             "line": {
              "color": "white"
             }
            },
            "type": "table"
           }
          ]
         },
         "layout": {
          "annotationdefaults": {
           "arrowcolor": "#2a3f5f",
           "arrowhead": 0,
           "arrowwidth": 1
          },
          "autotypenumbers": "strict",
          "coloraxis": {
           "colorbar": {
            "outlinewidth": 0,
            "ticks": ""
           }
          },
          "colorscale": {
           "diverging": [
            [
             0,
             "#8e0152"
            ],
            [
             0.1,
             "#c51b7d"
            ],
            [
             0.2,
             "#de77ae"
            ],
            [
             0.3,
             "#f1b6da"
            ],
            [
             0.4,
             "#fde0ef"
            ],
            [
             0.5,
             "#f7f7f7"
            ],
            [
             0.6,
             "#e6f5d0"
            ],
            [
             0.7,
             "#b8e186"
            ],
            [
             0.8,
             "#7fbc41"
            ],
            [
             0.9,
             "#4d9221"
            ],
            [
             1,
             "#276419"
            ]
           ],
           "sequential": [
            [
             0,
             "#0d0887"
            ],
            [
             0.1111111111111111,
             "#46039f"
            ],
            [
             0.2222222222222222,
             "#7201a8"
            ],
            [
             0.3333333333333333,
             "#9c179e"
            ],
            [
             0.4444444444444444,
             "#bd3786"
            ],
            [
             0.5555555555555556,
             "#d8576b"
            ],
            [
             0.6666666666666666,
             "#ed7953"
            ],
            [
             0.7777777777777778,
             "#fb9f3a"
            ],
            [
             0.8888888888888888,
             "#fdca26"
            ],
            [
             1,
             "#f0f921"
            ]
           ],
           "sequentialminus": [
            [
             0,
             "#0d0887"
            ],
            [
             0.1111111111111111,
             "#46039f"
            ],
            [
             0.2222222222222222,
             "#7201a8"
            ],
            [
             0.3333333333333333,
             "#9c179e"
            ],
            [
             0.4444444444444444,
             "#bd3786"
            ],
            [
             0.5555555555555556,
             "#d8576b"
            ],
            [
             0.6666666666666666,
             "#ed7953"
            ],
            [
             0.7777777777777778,
             "#fb9f3a"
            ],
            [
             0.8888888888888888,
             "#fdca26"
            ],
            [
             1,
             "#f0f921"
            ]
           ]
          },
          "colorway": [
           "#636efa",
           "#EF553B",
           "#00cc96",
           "#ab63fa",
           "#FFA15A",
           "#19d3f3",
           "#FF6692",
           "#B6E880",
           "#FF97FF",
           "#FECB52"
          ],
          "font": {
           "color": "#2a3f5f"
          },
          "geo": {
           "bgcolor": "white",
           "lakecolor": "white",
           "landcolor": "#E5ECF6",
           "showlakes": true,
           "showland": true,
           "subunitcolor": "white"
          },
          "hoverlabel": {
           "align": "left"
          },
          "hovermode": "closest",
          "mapbox": {
           "style": "light"
          },
          "paper_bgcolor": "white",
          "plot_bgcolor": "#E5ECF6",
          "polar": {
           "angularaxis": {
            "gridcolor": "white",
            "linecolor": "white",
            "ticks": ""
           },
           "bgcolor": "#E5ECF6",
           "radialaxis": {
            "gridcolor": "white",
            "linecolor": "white",
            "ticks": ""
           }
          },
          "scene": {
           "xaxis": {
            "backgroundcolor": "#E5ECF6",
            "gridcolor": "white",
            "gridwidth": 2,
            "linecolor": "white",
            "showbackground": true,
            "ticks": "",
            "zerolinecolor": "white"
           },
           "yaxis": {
            "backgroundcolor": "#E5ECF6",
            "gridcolor": "white",
            "gridwidth": 2,
            "linecolor": "white",
            "showbackground": true,
            "ticks": "",
            "zerolinecolor": "white"
           },
           "zaxis": {
            "backgroundcolor": "#E5ECF6",
            "gridcolor": "white",
            "gridwidth": 2,
            "linecolor": "white",
            "showbackground": true,
            "ticks": "",
            "zerolinecolor": "white"
           }
          },
          "shapedefaults": {
           "line": {
            "color": "#2a3f5f"
           }
          },
          "ternary": {
           "aaxis": {
            "gridcolor": "white",
            "linecolor": "white",
            "ticks": ""
           },
           "baxis": {
            "gridcolor": "white",
            "linecolor": "white",
            "ticks": ""
           },
           "bgcolor": "#E5ECF6",
           "caxis": {
            "gridcolor": "white",
            "linecolor": "white",
            "ticks": ""
           }
          },
          "title": {
           "x": 0.05
          },
          "xaxis": {
           "automargin": true,
           "gridcolor": "white",
           "linecolor": "white",
           "ticks": "",
           "title": {
            "standoff": 15
           },
           "zerolinecolor": "white",
           "zerolinewidth": 2
          },
          "yaxis": {
           "automargin": true,
           "gridcolor": "white",
           "linecolor": "white",
           "ticks": "",
           "title": {
            "standoff": 15
           },
           "zerolinecolor": "white",
           "zerolinewidth": 2
          }
         }
        },
        "title": {
         "text": "Optimization History Plot"
        },
        "xaxis": {
         "title": {
          "text": "Trial"
         }
        },
        "yaxis": {
         "title": {
          "text": "Objective Value"
         }
        }
       }
      }
     },
     "metadata": {},
     "output_type": "display_data"
    },
    {
     "data": {
      "application/vnd.plotly.v1+json": {
       "config": {
        "plotlyServerURL": "https://plot.ly"
       },
       "data": [
        {
         "cliponaxis": false,
         "hovertemplate": [
          "dropout (FloatDistribution): 0.13017722059086623<extra></extra>",
          "lr (FloatDistribution): 0.13236486635121802<extra></extra>",
          "embedding_dim (IntDistribution): 0.1325442968830984<extra></extra>",
          "architecture (CategoricalDistribution): 0.6049136161748173<extra></extra>"
         ],
         "name": "Objective Value",
         "orientation": "h",
         "text": [
          "0.13",
          "0.13",
          "0.13",
          "0.60"
         ],
         "textposition": "outside",
         "type": "bar",
         "x": [
          0.13017722059086623,
          0.13236486635121802,
          0.1325442968830984,
          0.6049136161748173
         ],
         "y": [
          "dropout",
          "lr",
          "embedding_dim",
          "architecture"
         ]
        }
       ],
       "layout": {
        "template": {
         "data": {
          "bar": [
           {
            "error_x": {
             "color": "#2a3f5f"
            },
            "error_y": {
             "color": "#2a3f5f"
            },
            "marker": {
             "line": {
              "color": "#E5ECF6",
              "width": 0.5
             },
             "pattern": {
              "fillmode": "overlay",
              "size": 10,
              "solidity": 0.2
             }
            },
            "type": "bar"
           }
          ],
          "barpolar": [
           {
            "marker": {
             "line": {
              "color": "#E5ECF6",
              "width": 0.5
             },
             "pattern": {
              "fillmode": "overlay",
              "size": 10,
              "solidity": 0.2
             }
            },
            "type": "barpolar"
           }
          ],
          "carpet": [
           {
            "aaxis": {
             "endlinecolor": "#2a3f5f",
             "gridcolor": "white",
             "linecolor": "white",
             "minorgridcolor": "white",
             "startlinecolor": "#2a3f5f"
            },
            "baxis": {
             "endlinecolor": "#2a3f5f",
             "gridcolor": "white",
             "linecolor": "white",
             "minorgridcolor": "white",
             "startlinecolor": "#2a3f5f"
            },
            "type": "carpet"
           }
          ],
          "choropleth": [
           {
            "colorbar": {
             "outlinewidth": 0,
             "ticks": ""
            },
            "type": "choropleth"
           }
          ],
          "contour": [
           {
            "colorbar": {
             "outlinewidth": 0,
             "ticks": ""
            },
            "colorscale": [
             [
              0,
              "#0d0887"
             ],
             [
              0.1111111111111111,
              "#46039f"
             ],
             [
              0.2222222222222222,
              "#7201a8"
             ],
             [
              0.3333333333333333,
              "#9c179e"
             ],
             [
              0.4444444444444444,
              "#bd3786"
             ],
             [
              0.5555555555555556,
              "#d8576b"
             ],
             [
              0.6666666666666666,
              "#ed7953"
             ],
             [
              0.7777777777777778,
              "#fb9f3a"
             ],
             [
              0.8888888888888888,
              "#fdca26"
             ],
             [
              1,
              "#f0f921"
             ]
            ],
            "type": "contour"
           }
          ],
          "contourcarpet": [
           {
            "colorbar": {
             "outlinewidth": 0,
             "ticks": ""
            },
            "type": "contourcarpet"
           }
          ],
          "heatmap": [
           {
            "colorbar": {
             "outlinewidth": 0,
             "ticks": ""
            },
            "colorscale": [
             [
              0,
              "#0d0887"
             ],
             [
              0.1111111111111111,
              "#46039f"
             ],
             [
              0.2222222222222222,
              "#7201a8"
             ],
             [
              0.3333333333333333,
              "#9c179e"
             ],
             [
              0.4444444444444444,
              "#bd3786"
             ],
             [
              0.5555555555555556,
              "#d8576b"
             ],
             [
              0.6666666666666666,
              "#ed7953"
             ],
             [
              0.7777777777777778,
              "#fb9f3a"
             ],
             [
              0.8888888888888888,
              "#fdca26"
             ],
             [
              1,
              "#f0f921"
             ]
            ],
            "type": "heatmap"
           }
          ],
          "heatmapgl": [
           {
            "colorbar": {
             "outlinewidth": 0,
             "ticks": ""
            },
            "colorscale": [
             [
              0,
              "#0d0887"
             ],
             [
              0.1111111111111111,
              "#46039f"
             ],
             [
              0.2222222222222222,
              "#7201a8"
             ],
             [
              0.3333333333333333,
              "#9c179e"
             ],
             [
              0.4444444444444444,
              "#bd3786"
             ],
             [
              0.5555555555555556,
              "#d8576b"
             ],
             [
              0.6666666666666666,
              "#ed7953"
             ],
             [
              0.7777777777777778,
              "#fb9f3a"
             ],
             [
              0.8888888888888888,
              "#fdca26"
             ],
             [
              1,
              "#f0f921"
             ]
            ],
            "type": "heatmapgl"
           }
          ],
          "histogram": [
           {
            "marker": {
             "pattern": {
              "fillmode": "overlay",
              "size": 10,
              "solidity": 0.2
             }
            },
            "type": "histogram"
           }
          ],
          "histogram2d": [
           {
            "colorbar": {
             "outlinewidth": 0,
             "ticks": ""
            },
            "colorscale": [
             [
              0,
              "#0d0887"
             ],
             [
              0.1111111111111111,
              "#46039f"
             ],
             [
              0.2222222222222222,
              "#7201a8"
             ],
             [
              0.3333333333333333,
              "#9c179e"
             ],
             [
              0.4444444444444444,
              "#bd3786"
             ],
             [
              0.5555555555555556,
              "#d8576b"
             ],
             [
              0.6666666666666666,
              "#ed7953"
             ],
             [
              0.7777777777777778,
              "#fb9f3a"
             ],
             [
              0.8888888888888888,
              "#fdca26"
             ],
             [
              1,
              "#f0f921"
             ]
            ],
            "type": "histogram2d"
           }
          ],
          "histogram2dcontour": [
           {
            "colorbar": {
             "outlinewidth": 0,
             "ticks": ""
            },
            "colorscale": [
             [
              0,
              "#0d0887"
             ],
             [
              0.1111111111111111,
              "#46039f"
             ],
             [
              0.2222222222222222,
              "#7201a8"
             ],
             [
              0.3333333333333333,
              "#9c179e"
             ],
             [
              0.4444444444444444,
              "#bd3786"
             ],
             [
              0.5555555555555556,
              "#d8576b"
             ],
             [
              0.6666666666666666,
              "#ed7953"
             ],
             [
              0.7777777777777778,
              "#fb9f3a"
             ],
             [
              0.8888888888888888,
              "#fdca26"
             ],
             [
              1,
              "#f0f921"
             ]
            ],
            "type": "histogram2dcontour"
           }
          ],
          "mesh3d": [
           {
            "colorbar": {
             "outlinewidth": 0,
             "ticks": ""
            },
            "type": "mesh3d"
           }
          ],
          "parcoords": [
           {
            "line": {
             "colorbar": {
              "outlinewidth": 0,
              "ticks": ""
             }
            },
            "type": "parcoords"
           }
          ],
          "pie": [
           {
            "automargin": true,
            "type": "pie"
           }
          ],
          "scatter": [
           {
            "fillpattern": {
             "fillmode": "overlay",
             "size": 10,
             "solidity": 0.2
            },
            "type": "scatter"
           }
          ],
          "scatter3d": [
           {
            "line": {
             "colorbar": {
              "outlinewidth": 0,
              "ticks": ""
             }
            },
            "marker": {
             "colorbar": {
              "outlinewidth": 0,
              "ticks": ""
             }
            },
            "type": "scatter3d"
           }
          ],
          "scattercarpet": [
           {
            "marker": {
             "colorbar": {
              "outlinewidth": 0,
              "ticks": ""
             }
            },
            "type": "scattercarpet"
           }
          ],
          "scattergeo": [
           {
            "marker": {
             "colorbar": {
              "outlinewidth": 0,
              "ticks": ""
             }
            },
            "type": "scattergeo"
           }
          ],
          "scattergl": [
           {
            "marker": {
             "colorbar": {
              "outlinewidth": 0,
              "ticks": ""
             }
            },
            "type": "scattergl"
           }
          ],
          "scattermapbox": [
           {
            "marker": {
             "colorbar": {
              "outlinewidth": 0,
              "ticks": ""
             }
            },
            "type": "scattermapbox"
           }
          ],
          "scatterpolar": [
           {
            "marker": {
             "colorbar": {
              "outlinewidth": 0,
              "ticks": ""
             }
            },
            "type": "scatterpolar"
           }
          ],
          "scatterpolargl": [
           {
            "marker": {
             "colorbar": {
              "outlinewidth": 0,
              "ticks": ""
             }
            },
            "type": "scatterpolargl"
           }
          ],
          "scatterternary": [
           {
            "marker": {
             "colorbar": {
              "outlinewidth": 0,
              "ticks": ""
             }
            },
            "type": "scatterternary"
           }
          ],
          "surface": [
           {
            "colorbar": {
             "outlinewidth": 0,
             "ticks": ""
            },
            "colorscale": [
             [
              0,
              "#0d0887"
             ],
             [
              0.1111111111111111,
              "#46039f"
             ],
             [
              0.2222222222222222,
              "#7201a8"
             ],
             [
              0.3333333333333333,
              "#9c179e"
             ],
             [
              0.4444444444444444,
              "#bd3786"
             ],
             [
              0.5555555555555556,
              "#d8576b"
             ],
             [
              0.6666666666666666,
              "#ed7953"
             ],
             [
              0.7777777777777778,
              "#fb9f3a"
             ],
             [
              0.8888888888888888,
              "#fdca26"
             ],
             [
              1,
              "#f0f921"
             ]
            ],
            "type": "surface"
           }
          ],
          "table": [
           {
            "cells": {
             "fill": {
              "color": "#EBF0F8"
             },
             "line": {
              "color": "white"
             }
            },
            "header": {
             "fill": {
              "color": "#C8D4E3"
             },
             "line": {
              "color": "white"
             }
            },
            "type": "table"
           }
          ]
         },
         "layout": {
          "annotationdefaults": {
           "arrowcolor": "#2a3f5f",
           "arrowhead": 0,
           "arrowwidth": 1
          },
          "autotypenumbers": "strict",
          "coloraxis": {
           "colorbar": {
            "outlinewidth": 0,
            "ticks": ""
           }
          },
          "colorscale": {
           "diverging": [
            [
             0,
             "#8e0152"
            ],
            [
             0.1,
             "#c51b7d"
            ],
            [
             0.2,
             "#de77ae"
            ],
            [
             0.3,
             "#f1b6da"
            ],
            [
             0.4,
             "#fde0ef"
            ],
            [
             0.5,
             "#f7f7f7"
            ],
            [
             0.6,
             "#e6f5d0"
            ],
            [
             0.7,
             "#b8e186"
            ],
            [
             0.8,
             "#7fbc41"
            ],
            [
             0.9,
             "#4d9221"
            ],
            [
             1,
             "#276419"
            ]
           ],
           "sequential": [
            [
             0,
             "#0d0887"
            ],
            [
             0.1111111111111111,
             "#46039f"
            ],
            [
             0.2222222222222222,
             "#7201a8"
            ],
            [
             0.3333333333333333,
             "#9c179e"
            ],
            [
             0.4444444444444444,
             "#bd3786"
            ],
            [
             0.5555555555555556,
             "#d8576b"
            ],
            [
             0.6666666666666666,
             "#ed7953"
            ],
            [
             0.7777777777777778,
             "#fb9f3a"
            ],
            [
             0.8888888888888888,
             "#fdca26"
            ],
            [
             1,
             "#f0f921"
            ]
           ],
           "sequentialminus": [
            [
             0,
             "#0d0887"
            ],
            [
             0.1111111111111111,
             "#46039f"
            ],
            [
             0.2222222222222222,
             "#7201a8"
            ],
            [
             0.3333333333333333,
             "#9c179e"
            ],
            [
             0.4444444444444444,
             "#bd3786"
            ],
            [
             0.5555555555555556,
             "#d8576b"
            ],
            [
             0.6666666666666666,
             "#ed7953"
            ],
            [
             0.7777777777777778,
             "#fb9f3a"
            ],
            [
             0.8888888888888888,
             "#fdca26"
            ],
            [
             1,
             "#f0f921"
            ]
           ]
          },
          "colorway": [
           "#636efa",
           "#EF553B",
           "#00cc96",
           "#ab63fa",
           "#FFA15A",
           "#19d3f3",
           "#FF6692",
           "#B6E880",
           "#FF97FF",
           "#FECB52"
          ],
          "font": {
           "color": "#2a3f5f"
          },
          "geo": {
           "bgcolor": "white",
           "lakecolor": "white",
           "landcolor": "#E5ECF6",
           "showlakes": true,
           "showland": true,
           "subunitcolor": "white"
          },
          "hoverlabel": {
           "align": "left"
          },
          "hovermode": "closest",
          "mapbox": {
           "style": "light"
          },
          "paper_bgcolor": "white",
          "plot_bgcolor": "#E5ECF6",
          "polar": {
           "angularaxis": {
            "gridcolor": "white",
            "linecolor": "white",
            "ticks": ""
           },
           "bgcolor": "#E5ECF6",
           "radialaxis": {
            "gridcolor": "white",
            "linecolor": "white",
            "ticks": ""
           }
          },
          "scene": {
           "xaxis": {
            "backgroundcolor": "#E5ECF6",
            "gridcolor": "white",
            "gridwidth": 2,
            "linecolor": "white",
            "showbackground": true,
            "ticks": "",
            "zerolinecolor": "white"
           },
           "yaxis": {
            "backgroundcolor": "#E5ECF6",
            "gridcolor": "white",
            "gridwidth": 2,
            "linecolor": "white",
            "showbackground": true,
            "ticks": "",
            "zerolinecolor": "white"
           },
           "zaxis": {
            "backgroundcolor": "#E5ECF6",
            "gridcolor": "white",
            "gridwidth": 2,
            "linecolor": "white",
            "showbackground": true,
            "ticks": "",
            "zerolinecolor": "white"
           }
          },
          "shapedefaults": {
           "line": {
            "color": "#2a3f5f"
           }
          },
          "ternary": {
           "aaxis": {
            "gridcolor": "white",
            "linecolor": "white",
            "ticks": ""
           },
           "baxis": {
            "gridcolor": "white",
            "linecolor": "white",
            "ticks": ""
           },
           "bgcolor": "#E5ECF6",
           "caxis": {
            "gridcolor": "white",
            "linecolor": "white",
            "ticks": ""
           }
          },
          "title": {
           "x": 0.05
          },
          "xaxis": {
           "automargin": true,
           "gridcolor": "white",
           "linecolor": "white",
           "ticks": "",
           "title": {
            "standoff": 15
           },
           "zerolinecolor": "white",
           "zerolinewidth": 2
          },
          "yaxis": {
           "automargin": true,
           "gridcolor": "white",
           "linecolor": "white",
           "ticks": "",
           "title": {
            "standoff": 15
           },
           "zerolinecolor": "white",
           "zerolinewidth": 2
          }
         }
        },
        "title": {
         "text": "Hyperparameter Importances"
        },
        "xaxis": {
         "title": {
          "text": "Hyperparameter Importance"
         }
        },
        "yaxis": {
         "title": {
          "text": "Hyperparameter"
         }
        }
       }
      }
     },
     "metadata": {},
     "output_type": "display_data"
    },
    {
     "data": {
      "application/vnd.plotly.v1+json": {
       "config": {
        "plotlyServerURL": "https://plot.ly"
       },
       "data": [
        {
         "dimensions": [
          {
           "label": "Objective Value",
           "range": [
            0.1653700122405941,
            0.4461454940104176
           ],
           "values": [
            0.16886016667262346,
            0.2836189600280694,
            0.1653700122405941,
            0.27499240726564095,
            0.26579297564682575,
            0.39670941552865807,
            0.2816624359369721,
            0.23430204575247932,
            0.22459329909319595,
            0.170555393564403,
            0.3683219464325012,
            0.39847256102028633,
            0.4057874206585123,
            0.3334869011270894,
            0.21916643130103683,
            0.21799683306231413,
            0.34680226946514703,
            0.37176011407088044,
            0.2927534765020153,
            0.4461454940104176,
            0.34691638849305473,
            0.30850200903830155,
            0.2805926501833714,
            0.19102379163689653,
            0.4159003421122947,
            0.390402561118342,
            0.1748288009595639,
            0.2533945597783428,
            0.18512897786125876,
            0.1798959518759375,
            0.23981638437247563,
            0.3612189891816607,
            0.32865242637449893,
            0.39373411513209494,
            0.38543841233781434,
            0.21469977706426585,
            0.39002220868299026,
            0.38921736129676826,
            0.3358915350332714,
            0.2573395348502084,
            0.1889968794199148,
            0.4176466708630911,
            0.4202428046629374,
            0.3816665104039338,
            0.3354896299787908,
            0.2974619213428919,
            0.33690277939439034,
            0.372883713897519,
            0.19976144010814986,
            0.33602106545699706
           ]
          },
          {
           "label": "architecture",
           "range": [
            0,
            3
           ],
           "ticktext": [
            "mid",
            "deep",
            "wide_shallow",
            "small"
           ],
           "tickvals": [
            0,
            1,
            2,
            3
           ],
           "values": [
            0,
            0,
            1,
            0,
            1,
            1,
            2,
            3,
            3,
            3,
            1,
            1,
            1,
            1,
            2,
            1,
            1,
            1,
            2,
            1,
            1,
            1,
            1,
            1,
            1,
            1,
            3,
            2,
            0,
            0,
            1,
            1,
            1,
            1,
            1,
            0,
            1,
            1,
            1,
            0,
            3,
            1,
            1,
            1,
            1,
            2,
            1,
            1,
            3,
            1
           ]
          },
          {
           "label": "dropout",
           "range": [
            0.1,
            0.5
           ],
           "values": [
            0.45000000000000007,
            0.30000000000000004,
            0.5,
            0.45000000000000007,
            0.5,
            0.5,
            0.30000000000000004,
            0.5,
            0.1,
            0.15000000000000002,
            0.35,
            0.35,
            0.2,
            0.2,
            0.2,
            0.35,
            0.25,
            0.4,
            0.25,
            0.1,
            0.1,
            0.2,
            0.15000000000000002,
            0.15000000000000002,
            0.25,
            0.25,
            0.1,
            0.15000000000000002,
            0.2,
            0.25,
            0.1,
            0.35,
            0.30000000000000004,
            0.4,
            0.4,
            0.35,
            0.30000000000000004,
            0.25,
            0.45000000000000007,
            0.30000000000000004,
            0.2,
            0.5,
            0.5,
            0.45000000000000007,
            0.5,
            0.5,
            0.45000000000000007,
            0.5,
            0.4,
            0.15000000000000002
           ]
          },
          {
           "label": "embedding_dim",
           "range": [
            2,
            8
           ],
           "values": [
            2,
            3,
            2,
            6,
            4,
            4,
            2,
            6,
            6,
            4,
            8,
            8,
            8,
            8,
            7,
            7,
            8,
            7,
            5,
            8,
            7,
            8,
            8,
            7,
            8,
            6,
            7,
            5,
            8,
            7,
            8,
            8,
            8,
            7,
            8,
            6,
            3,
            7,
            8,
            6,
            8,
            5,
            5,
            5,
            4,
            5,
            4,
            3,
            4,
            6
           ]
          },
          {
           "label": "lr",
           "range": [
            -3.9965193418102247,
            -2.0787528820966004
           ],
           "ticktext": [
            "0.000101",
            "0.001",
            "0.00834"
           ],
           "tickvals": [
            -3.9965193418102247,
            -3,
            -2.0787528820966004
           ],
           "values": [
            -2.412455204396583,
            -3.2412962424922185,
            -2.7106001227199026,
            -2.3306791659102584,
            -2.6114252552550696,
            -3.648739519719693,
            -2.7577825697003497,
            -3.373954989148745,
            -3.8838734364891856,
            -3.394248564831725,
            -3.9846040764641293,
            -3.9779585777073363,
            -3.6551309139715675,
            -3.6711761320361798,
            -3.0759461102300123,
            -3.6971978956578244,
            -2.0787528820966004,
            -3.5281166525821748,
            -3.8587781553049867,
            -3.086814285364924,
            -2.960280226836553,
            -3.1308097087541142,
            -3.9965193418102247,
            -3.4772379241445543,
            -3.7815946479772387,
            -2.934779051205594,
            -3.2107110198026096,
            -3.7686008475926993,
            -3.341123805684212,
            -3.536764666182067,
            -2.3886541183546917,
            -3.8297159576245554,
            -3.5992068890833298,
            -3.734868677194671,
            -3.923067344258072,
            -2.826074610033659,
            -3.7850682758544973,
            -2.553614610703642,
            -3.262806637338151,
            -2.2453071189803406,
            -3.6058753227471207,
            -3.4402124108060548,
            -3.4531996931380227,
            -3.41848807627214,
            -3.107409302597231,
            -3.2830047045084867,
            -3.190045129077851,
            -3.4678363059592034,
            -3.3233756010807407,
            -3.5812723000019973
           ]
          }
         ],
         "labelangle": 30,
         "labelside": "bottom",
         "line": {
          "color": [
           0.16886016667262346,
           0.2836189600280694,
           0.1653700122405941,
           0.27499240726564095,
           0.26579297564682575,
           0.39670941552865807,
           0.2816624359369721,
           0.23430204575247932,
           0.22459329909319595,
           0.170555393564403,
           0.3683219464325012,
           0.39847256102028633,
           0.4057874206585123,
           0.3334869011270894,
           0.21916643130103683,
           0.21799683306231413,
           0.34680226946514703,
           0.37176011407088044,
           0.2927534765020153,
           0.4461454940104176,
           0.34691638849305473,
           0.30850200903830155,
           0.2805926501833714,
           0.19102379163689653,
           0.4159003421122947,
           0.390402561118342,
           0.1748288009595639,
           0.2533945597783428,
           0.18512897786125876,
           0.1798959518759375,
           0.23981638437247563,
           0.3612189891816607,
           0.32865242637449893,
           0.39373411513209494,
           0.38543841233781434,
           0.21469977706426585,
           0.39002220868299026,
           0.38921736129676826,
           0.3358915350332714,
           0.2573395348502084,
           0.1889968794199148,
           0.4176466708630911,
           0.4202428046629374,
           0.3816665104039338,
           0.3354896299787908,
           0.2974619213428919,
           0.33690277939439034,
           0.372883713897519,
           0.19976144010814986,
           0.33602106545699706
          ],
          "colorbar": {
           "title": {
            "text": "Objective Value"
           }
          },
          "colorscale": [
           [
            0,
            "rgb(247,251,255)"
           ],
           [
            0.125,
            "rgb(222,235,247)"
           ],
           [
            0.25,
            "rgb(198,219,239)"
           ],
           [
            0.375,
            "rgb(158,202,225)"
           ],
           [
            0.5,
            "rgb(107,174,214)"
           ],
           [
            0.625,
            "rgb(66,146,198)"
           ],
           [
            0.75,
            "rgb(33,113,181)"
           ],
           [
            0.875,
            "rgb(8,81,156)"
           ],
           [
            1,
            "rgb(8,48,107)"
           ]
          ],
          "reversescale": false,
          "showscale": true
         },
         "type": "parcoords"
        }
       ],
       "layout": {
        "template": {
         "data": {
          "bar": [
           {
            "error_x": {
             "color": "#2a3f5f"
            },
            "error_y": {
             "color": "#2a3f5f"
            },
            "marker": {
             "line": {
              "color": "#E5ECF6",
              "width": 0.5
             },
             "pattern": {
              "fillmode": "overlay",
              "size": 10,
              "solidity": 0.2
             }
            },
            "type": "bar"
           }
          ],
          "barpolar": [
           {
            "marker": {
             "line": {
              "color": "#E5ECF6",
              "width": 0.5
             },
             "pattern": {
              "fillmode": "overlay",
              "size": 10,
              "solidity": 0.2
             }
            },
            "type": "barpolar"
           }
          ],
          "carpet": [
           {
            "aaxis": {
             "endlinecolor": "#2a3f5f",
             "gridcolor": "white",
             "linecolor": "white",
             "minorgridcolor": "white",
             "startlinecolor": "#2a3f5f"
            },
            "baxis": {
             "endlinecolor": "#2a3f5f",
             "gridcolor": "white",
             "linecolor": "white",
             "minorgridcolor": "white",
             "startlinecolor": "#2a3f5f"
            },
            "type": "carpet"
           }
          ],
          "choropleth": [
           {
            "colorbar": {
             "outlinewidth": 0,
             "ticks": ""
            },
            "type": "choropleth"
           }
          ],
          "contour": [
           {
            "colorbar": {
             "outlinewidth": 0,
             "ticks": ""
            },
            "colorscale": [
             [
              0,
              "#0d0887"
             ],
             [
              0.1111111111111111,
              "#46039f"
             ],
             [
              0.2222222222222222,
              "#7201a8"
             ],
             [
              0.3333333333333333,
              "#9c179e"
             ],
             [
              0.4444444444444444,
              "#bd3786"
             ],
             [
              0.5555555555555556,
              "#d8576b"
             ],
             [
              0.6666666666666666,
              "#ed7953"
             ],
             [
              0.7777777777777778,
              "#fb9f3a"
             ],
             [
              0.8888888888888888,
              "#fdca26"
             ],
             [
              1,
              "#f0f921"
             ]
            ],
            "type": "contour"
           }
          ],
          "contourcarpet": [
           {
            "colorbar": {
             "outlinewidth": 0,
             "ticks": ""
            },
            "type": "contourcarpet"
           }
          ],
          "heatmap": [
           {
            "colorbar": {
             "outlinewidth": 0,
             "ticks": ""
            },
            "colorscale": [
             [
              0,
              "#0d0887"
             ],
             [
              0.1111111111111111,
              "#46039f"
             ],
             [
              0.2222222222222222,
              "#7201a8"
             ],
             [
              0.3333333333333333,
              "#9c179e"
             ],
             [
              0.4444444444444444,
              "#bd3786"
             ],
             [
              0.5555555555555556,
              "#d8576b"
             ],
             [
              0.6666666666666666,
              "#ed7953"
             ],
             [
              0.7777777777777778,
              "#fb9f3a"
             ],
             [
              0.8888888888888888,
              "#fdca26"
             ],
             [
              1,
              "#f0f921"
             ]
            ],
            "type": "heatmap"
           }
          ],
          "heatmapgl": [
           {
            "colorbar": {
             "outlinewidth": 0,
             "ticks": ""
            },
            "colorscale": [
             [
              0,
              "#0d0887"
             ],
             [
              0.1111111111111111,
              "#46039f"
             ],
             [
              0.2222222222222222,
              "#7201a8"
             ],
             [
              0.3333333333333333,
              "#9c179e"
             ],
             [
              0.4444444444444444,
              "#bd3786"
             ],
             [
              0.5555555555555556,
              "#d8576b"
             ],
             [
              0.6666666666666666,
              "#ed7953"
             ],
             [
              0.7777777777777778,
              "#fb9f3a"
             ],
             [
              0.8888888888888888,
              "#fdca26"
             ],
             [
              1,
              "#f0f921"
             ]
            ],
            "type": "heatmapgl"
           }
          ],
          "histogram": [
           {
            "marker": {
             "pattern": {
              "fillmode": "overlay",
              "size": 10,
              "solidity": 0.2
             }
            },
            "type": "histogram"
           }
          ],
          "histogram2d": [
           {
            "colorbar": {
             "outlinewidth": 0,
             "ticks": ""
            },
            "colorscale": [
             [
              0,
              "#0d0887"
             ],
             [
              0.1111111111111111,
              "#46039f"
             ],
             [
              0.2222222222222222,
              "#7201a8"
             ],
             [
              0.3333333333333333,
              "#9c179e"
             ],
             [
              0.4444444444444444,
              "#bd3786"
             ],
             [
              0.5555555555555556,
              "#d8576b"
             ],
             [
              0.6666666666666666,
              "#ed7953"
             ],
             [
              0.7777777777777778,
              "#fb9f3a"
             ],
             [
              0.8888888888888888,
              "#fdca26"
             ],
             [
              1,
              "#f0f921"
             ]
            ],
            "type": "histogram2d"
           }
          ],
          "histogram2dcontour": [
           {
            "colorbar": {
             "outlinewidth": 0,
             "ticks": ""
            },
            "colorscale": [
             [
              0,
              "#0d0887"
             ],
             [
              0.1111111111111111,
              "#46039f"
             ],
             [
              0.2222222222222222,
              "#7201a8"
             ],
             [
              0.3333333333333333,
              "#9c179e"
             ],
             [
              0.4444444444444444,
              "#bd3786"
             ],
             [
              0.5555555555555556,
              "#d8576b"
             ],
             [
              0.6666666666666666,
              "#ed7953"
             ],
             [
              0.7777777777777778,
              "#fb9f3a"
             ],
             [
              0.8888888888888888,
              "#fdca26"
             ],
             [
              1,
              "#f0f921"
             ]
            ],
            "type": "histogram2dcontour"
           }
          ],
          "mesh3d": [
           {
            "colorbar": {
             "outlinewidth": 0,
             "ticks": ""
            },
            "type": "mesh3d"
           }
          ],
          "parcoords": [
           {
            "line": {
             "colorbar": {
              "outlinewidth": 0,
              "ticks": ""
             }
            },
            "type": "parcoords"
           }
          ],
          "pie": [
           {
            "automargin": true,
            "type": "pie"
           }
          ],
          "scatter": [
           {
            "fillpattern": {
             "fillmode": "overlay",
             "size": 10,
             "solidity": 0.2
            },
            "type": "scatter"
           }
          ],
          "scatter3d": [
           {
            "line": {
             "colorbar": {
              "outlinewidth": 0,
              "ticks": ""
             }
            },
            "marker": {
             "colorbar": {
              "outlinewidth": 0,
              "ticks": ""
             }
            },
            "type": "scatter3d"
           }
          ],
          "scattercarpet": [
           {
            "marker": {
             "colorbar": {
              "outlinewidth": 0,
              "ticks": ""
             }
            },
            "type": "scattercarpet"
           }
          ],
          "scattergeo": [
           {
            "marker": {
             "colorbar": {
              "outlinewidth": 0,
              "ticks": ""
             }
            },
            "type": "scattergeo"
           }
          ],
          "scattergl": [
           {
            "marker": {
             "colorbar": {
              "outlinewidth": 0,
              "ticks": ""
             }
            },
            "type": "scattergl"
           }
          ],
          "scattermapbox": [
           {
            "marker": {
             "colorbar": {
              "outlinewidth": 0,
              "ticks": ""
             }
            },
            "type": "scattermapbox"
           }
          ],
          "scatterpolar": [
           {
            "marker": {
             "colorbar": {
              "outlinewidth": 0,
              "ticks": ""
             }
            },
            "type": "scatterpolar"
           }
          ],
          "scatterpolargl": [
           {
            "marker": {
             "colorbar": {
              "outlinewidth": 0,
              "ticks": ""
             }
            },
            "type": "scatterpolargl"
           }
          ],
          "scatterternary": [
           {
            "marker": {
             "colorbar": {
              "outlinewidth": 0,
              "ticks": ""
             }
            },
            "type": "scatterternary"
           }
          ],
          "surface": [
           {
            "colorbar": {
             "outlinewidth": 0,
             "ticks": ""
            },
            "colorscale": [
             [
              0,
              "#0d0887"
             ],
             [
              0.1111111111111111,
              "#46039f"
             ],
             [
              0.2222222222222222,
              "#7201a8"
             ],
             [
              0.3333333333333333,
              "#9c179e"
             ],
             [
              0.4444444444444444,
              "#bd3786"
             ],
             [
              0.5555555555555556,
              "#d8576b"
             ],
             [
              0.6666666666666666,
              "#ed7953"
             ],
             [
              0.7777777777777778,
              "#fb9f3a"
             ],
             [
              0.8888888888888888,
              "#fdca26"
             ],
             [
              1,
              "#f0f921"
             ]
            ],
            "type": "surface"
           }
          ],
          "table": [
           {
            "cells": {
             "fill": {
              "color": "#EBF0F8"
             },
             "line": {
              "color": "white"
             }
            },
            "header": {
             "fill": {
              "color": "#C8D4E3"
             },
             "line": {
              "color": "white"
             }
            },
            "type": "table"
           }
          ]
         },
         "layout": {
          "annotationdefaults": {
           "arrowcolor": "#2a3f5f",
           "arrowhead": 0,
           "arrowwidth": 1
          },
          "autotypenumbers": "strict",
          "coloraxis": {
           "colorbar": {
            "outlinewidth": 0,
            "ticks": ""
           }
          },
          "colorscale": {
           "diverging": [
            [
             0,
             "#8e0152"
            ],
            [
             0.1,
             "#c51b7d"
            ],
            [
             0.2,
             "#de77ae"
            ],
            [
             0.3,
             "#f1b6da"
            ],
            [
             0.4,
             "#fde0ef"
            ],
            [
             0.5,
             "#f7f7f7"
            ],
            [
             0.6,
             "#e6f5d0"
            ],
            [
             0.7,
             "#b8e186"
            ],
            [
             0.8,
             "#7fbc41"
            ],
            [
             0.9,
             "#4d9221"
            ],
            [
             1,
             "#276419"
            ]
           ],
           "sequential": [
            [
             0,
             "#0d0887"
            ],
            [
             0.1111111111111111,
             "#46039f"
            ],
            [
             0.2222222222222222,
             "#7201a8"
            ],
            [
             0.3333333333333333,
             "#9c179e"
            ],
            [
             0.4444444444444444,
             "#bd3786"
            ],
            [
             0.5555555555555556,
             "#d8576b"
            ],
            [
             0.6666666666666666,
             "#ed7953"
            ],
            [
             0.7777777777777778,
             "#fb9f3a"
            ],
            [
             0.8888888888888888,
             "#fdca26"
            ],
            [
             1,
             "#f0f921"
            ]
           ],
           "sequentialminus": [
            [
             0,
             "#0d0887"
            ],
            [
             0.1111111111111111,
             "#46039f"
            ],
            [
             0.2222222222222222,
             "#7201a8"
            ],
            [
             0.3333333333333333,
             "#9c179e"
            ],
            [
             0.4444444444444444,
             "#bd3786"
            ],
            [
             0.5555555555555556,
             "#d8576b"
            ],
            [
             0.6666666666666666,
             "#ed7953"
            ],
            [
             0.7777777777777778,
             "#fb9f3a"
            ],
            [
             0.8888888888888888,
             "#fdca26"
            ],
            [
             1,
             "#f0f921"
            ]
           ]
          },
          "colorway": [
           "#636efa",
           "#EF553B",
           "#00cc96",
           "#ab63fa",
           "#FFA15A",
           "#19d3f3",
           "#FF6692",
           "#B6E880",
           "#FF97FF",
           "#FECB52"
          ],
          "font": {
           "color": "#2a3f5f"
          },
          "geo": {
           "bgcolor": "white",
           "lakecolor": "white",
           "landcolor": "#E5ECF6",
           "showlakes": true,
           "showland": true,
           "subunitcolor": "white"
          },
          "hoverlabel": {
           "align": "left"
          },
          "hovermode": "closest",
          "mapbox": {
           "style": "light"
          },
          "paper_bgcolor": "white",
          "plot_bgcolor": "#E5ECF6",
          "polar": {
           "angularaxis": {
            "gridcolor": "white",
            "linecolor": "white",
            "ticks": ""
           },
           "bgcolor": "#E5ECF6",
           "radialaxis": {
            "gridcolor": "white",
            "linecolor": "white",
            "ticks": ""
           }
          },
          "scene": {
           "xaxis": {
            "backgroundcolor": "#E5ECF6",
            "gridcolor": "white",
            "gridwidth": 2,
            "linecolor": "white",
            "showbackground": true,
            "ticks": "",
            "zerolinecolor": "white"
           },
           "yaxis": {
            "backgroundcolor": "#E5ECF6",
            "gridcolor": "white",
            "gridwidth": 2,
            "linecolor": "white",
            "showbackground": true,
            "ticks": "",
            "zerolinecolor": "white"
           },
           "zaxis": {
            "backgroundcolor": "#E5ECF6",
            "gridcolor": "white",
            "gridwidth": 2,
            "linecolor": "white",
            "showbackground": true,
            "ticks": "",
            "zerolinecolor": "white"
           }
          },
          "shapedefaults": {
           "line": {
            "color": "#2a3f5f"
           }
          },
          "ternary": {
           "aaxis": {
            "gridcolor": "white",
            "linecolor": "white",
            "ticks": ""
           },
           "baxis": {
            "gridcolor": "white",
            "linecolor": "white",
            "ticks": ""
           },
           "bgcolor": "#E5ECF6",
           "caxis": {
            "gridcolor": "white",
            "linecolor": "white",
            "ticks": ""
           }
          },
          "title": {
           "x": 0.05
          },
          "xaxis": {
           "automargin": true,
           "gridcolor": "white",
           "linecolor": "white",
           "ticks": "",
           "title": {
            "standoff": 15
           },
           "zerolinecolor": "white",
           "zerolinewidth": 2
          },
          "yaxis": {
           "automargin": true,
           "gridcolor": "white",
           "linecolor": "white",
           "ticks": "",
           "title": {
            "standoff": 15
           },
           "zerolinecolor": "white",
           "zerolinewidth": 2
          }
         }
        },
        "title": {
         "text": "Parallel Coordinate Plot"
        }
       }
      }
     },
     "metadata": {},
     "output_type": "display_data"
    },
    {
     "data": {
      "application/vnd.plotly.v1+json": {
       "config": {
        "plotlyServerURL": "https://plot.ly"
       },
       "data": [
        {
         "type": "scatter",
         "xaxis": "x",
         "yaxis": "y"
        },
        {
         "colorbar": {
          "title": {
           "text": "Objective Value"
          }
         },
         "colorscale": [
          [
           0,
           "rgb(247,251,255)"
          ],
          [
           0.125,
           "rgb(222,235,247)"
          ],
          [
           0.25,
           "rgb(198,219,239)"
          ],
          [
           0.375,
           "rgb(158,202,225)"
          ],
          [
           0.5,
           "rgb(107,174,214)"
          ],
          [
           0.625,
           "rgb(66,146,198)"
          ],
          [
           0.75,
           "rgb(33,113,181)"
          ],
          [
           0.875,
           "rgb(8,81,156)"
          ],
          [
           1,
           "rgb(8,48,107)"
          ]
         ],
         "connectgaps": true,
         "contours": {
          "coloring": "heatmap"
         },
         "hoverinfo": "none",
         "line": {
          "smoothing": 1.3
         },
         "reversescale": false,
         "showscale": true,
         "type": "contour",
         "x": [
          "deep",
          "mid",
          "small",
          "wide_shallow"
         ],
         "xaxis": "x5",
         "y": [
          0.08,
          0.1,
          0.15000000000000002,
          0.2,
          0.25,
          0.30000000000000004,
          0.35,
          0.4,
          0.45000000000000007,
          0.5,
          0.52
         ],
         "yaxis": "y5",
         "z": [
          [
           null,
           null,
           null,
           null
          ],
          [
           0.4461454940104176,
           null,
           0.22459329909319595,
           null
          ],
          [
           0.33602106545699706,
           null,
           0.170555393564403,
           0.2533945597783428
          ],
          [
           0.4057874206585123,
           0.18512897786125876,
           0.1889968794199148,
           0.21916643130103683
          ],
          [
           0.4159003421122947,
           0.1798959518759375,
           null,
           0.2927534765020153
          ],
          [
           0.39002220868299026,
           0.2836189600280694,
           null,
           0.2816624359369721
          ],
          [
           0.39847256102028633,
           0.21469977706426585,
           null,
           null
          ],
          [
           0.39373411513209494,
           null,
           0.19976144010814986,
           null
          ],
          [
           0.3816665104039338,
           0.27499240726564095,
           null,
           null
          ],
          [
           0.4202428046629374,
           null,
           0.23430204575247932,
           0.2974619213428919
          ],
          [
           null,
           null,
           null,
           null
          ]
         ]
        },
        {
         "marker": {
          "color": "black",
          "line": {
           "color": "Gray",
           "width": 2
          }
         },
         "mode": "markers",
         "name": "Feasible Trial",
         "showlegend": false,
         "type": "scatter",
         "x": [
          "mid",
          "mid",
          "deep",
          "mid",
          "deep",
          "deep",
          "wide_shallow",
          "small",
          "small",
          "small",
          "deep",
          "deep",
          "deep",
          "deep",
          "wide_shallow",
          "deep",
          "deep",
          "deep",
          "wide_shallow",
          "deep",
          "deep",
          "deep",
          "deep",
          "deep",
          "deep",
          "deep",
          "small",
          "wide_shallow",
          "mid",
          "mid",
          "deep",
          "deep",
          "deep",
          "deep",
          "deep",
          "mid",
          "deep",
          "deep",
          "deep",
          "mid",
          "small",
          "deep",
          "deep",
          "deep",
          "deep",
          "wide_shallow",
          "deep",
          "deep",
          "small",
          "deep"
         ],
         "xaxis": "x5",
         "y": [
          0.45000000000000007,
          0.30000000000000004,
          0.5,
          0.45000000000000007,
          0.5,
          0.5,
          0.30000000000000004,
          0.5,
          0.1,
          0.15000000000000002,
          0.35,
          0.35,
          0.2,
          0.2,
          0.2,
          0.35,
          0.25,
          0.4,
          0.25,
          0.1,
          0.1,
          0.2,
          0.15000000000000002,
          0.15000000000000002,
          0.25,
          0.25,
          0.1,
          0.15000000000000002,
          0.2,
          0.25,
          0.1,
          0.35,
          0.30000000000000004,
          0.4,
          0.4,
          0.35,
          0.30000000000000004,
          0.25,
          0.45000000000000007,
          0.30000000000000004,
          0.2,
          0.5,
          0.5,
          0.45000000000000007,
          0.5,
          0.5,
          0.45000000000000007,
          0.5,
          0.4,
          0.15000000000000002
         ],
         "yaxis": "y5"
        },
        {
         "colorbar": {
          "title": {
           "text": "Objective Value"
          }
         },
         "colorscale": [
          [
           0,
           "rgb(247,251,255)"
          ],
          [
           0.125,
           "rgb(222,235,247)"
          ],
          [
           0.25,
           "rgb(198,219,239)"
          ],
          [
           0.375,
           "rgb(158,202,225)"
          ],
          [
           0.5,
           "rgb(107,174,214)"
          ],
          [
           0.625,
           "rgb(66,146,198)"
          ],
          [
           0.75,
           "rgb(33,113,181)"
          ],
          [
           0.875,
           "rgb(8,81,156)"
          ],
          [
           1,
           "rgb(8,48,107)"
          ]
         ],
         "connectgaps": true,
         "contours": {
          "coloring": "heatmap"
         },
         "hoverinfo": "none",
         "line": {
          "smoothing": 1.3
         },
         "reversescale": false,
         "showscale": false,
         "type": "contour",
         "x": [
          "deep",
          "mid",
          "small",
          "wide_shallow"
         ],
         "xaxis": "x9",
         "y": [
          1.7,
          2,
          3,
          4,
          5,
          6,
          7,
          8,
          8.3
         ],
         "yaxis": "y9",
         "z": [
          [
           null,
           null,
           null,
           null
          ],
          [
           0.1653700122405941,
           0.16886016667262346,
           null,
           0.2816624359369721
          ],
          [
           0.39002220868299026,
           0.2836189600280694,
           null,
           null
          ],
          [
           0.39670941552865807,
           null,
           0.19976144010814986,
           null
          ],
          [
           0.4202428046629374,
           null,
           null,
           0.2974619213428919
          ],
          [
           0.390402561118342,
           0.27499240726564095,
           0.23430204575247932,
           null
          ],
          [
           0.39373411513209494,
           0.1798959518759375,
           0.1748288009595639,
           0.21916643130103683
          ],
          [
           0.4461454940104176,
           0.18512897786125876,
           0.1889968794199148,
           null
          ],
          [
           null,
           null,
           null,
           null
          ]
         ]
        },
        {
         "marker": {
          "color": "black",
          "line": {
           "color": "Gray",
           "width": 2
          }
         },
         "mode": "markers",
         "name": "Feasible Trial",
         "showlegend": false,
         "type": "scatter",
         "x": [
          "mid",
          "mid",
          "deep",
          "mid",
          "deep",
          "deep",
          "wide_shallow",
          "small",
          "small",
          "small",
          "deep",
          "deep",
          "deep",
          "deep",
          "wide_shallow",
          "deep",
          "deep",
          "deep",
          "wide_shallow",
          "deep",
          "deep",
          "deep",
          "deep",
          "deep",
          "deep",
          "deep",
          "small",
          "wide_shallow",
          "mid",
          "mid",
          "deep",
          "deep",
          "deep",
          "deep",
          "deep",
          "mid",
          "deep",
          "deep",
          "deep",
          "mid",
          "small",
          "deep",
          "deep",
          "deep",
          "deep",
          "wide_shallow",
          "deep",
          "deep",
          "small",
          "deep"
         ],
         "xaxis": "x9",
         "y": [
          2,
          3,
          2,
          6,
          4,
          4,
          2,
          6,
          6,
          4,
          8,
          8,
          8,
          8,
          7,
          7,
          8,
          7,
          5,
          8,
          7,
          8,
          8,
          7,
          8,
          6,
          7,
          5,
          8,
          7,
          8,
          8,
          8,
          7,
          8,
          6,
          3,
          7,
          8,
          6,
          8,
          5,
          5,
          5,
          4,
          5,
          4,
          3,
          4,
          6
         ],
         "yaxis": "y9"
        },
        {
         "colorbar": {
          "title": {
           "text": "Objective Value"
          }
         },
         "colorscale": [
          [
           0,
           "rgb(247,251,255)"
          ],
          [
           0.125,
           "rgb(222,235,247)"
          ],
          [
           0.25,
           "rgb(198,219,239)"
          ],
          [
           0.375,
           "rgb(158,202,225)"
          ],
          [
           0.5,
           "rgb(107,174,214)"
          ],
          [
           0.625,
           "rgb(66,146,198)"
          ],
          [
           0.75,
           "rgb(33,113,181)"
          ],
          [
           0.875,
           "rgb(8,81,156)"
          ],
          [
           1,
           "rgb(8,48,107)"
          ]
         ],
         "connectgaps": true,
         "contours": {
          "coloring": "heatmap"
         },
         "hoverinfo": "none",
         "line": {
          "smoothing": 1.3
         },
         "reversescale": false,
         "showscale": false,
         "type": "contour",
         "x": [
          "deep",
          "mid",
          "small",
          "wide_shallow"
         ],
         "xaxis": "x13",
         "y": [
          0.00008083367710539624,
          0.00010080467138309049,
          0.00010360862818688302,
          0.00010520622129998198,
          0.00011938029719967267,
          0.00013065515921717607,
          0.00013842733077532664,
          0.000148007608841904,
          0.00016403318747712525,
          0.00016535043889868062,
          0.00017037236514304125,
          0.00018413287018304912,
          0.00020081775346379057,
          0.00021321800129785916,
          0.00022124276936362619,
          0.00022452281584993384,
          0.0002478133378015778,
          0.00025164778431634963,
          0.0002622573690009186,
          0.00029055967014847206,
          0.00029640351353533165,
          0.0003332437982674245,
          0.0003405365203550537,
          0.00035220888448065914,
          0.00036290051890749557,
          0.0003815152687892031,
          0.00040341443598627215,
          0.0004227124224667769,
          0.0004559069306120545,
          0.0004749243083503763,
          0.0005211890652777367,
          0.0005460009051390827,
          0.0005737249773857136,
          0.0006155863485382686,
          0.0006455871403026349,
          0.000739929412833777,
          0.000780891503310904,
          0.0008188148579607131,
          0.0008395641580304429,
          0.0010957709260295552,
          0.0011620396551063037,
          0.0014925379755711136,
          0.0017466964206993701,
          0.001947152099641176,
          0.0024466663261037266,
          0.002795023021160032,
          0.0038685195468653334,
          0.004086447103729056,
          0.004670042512719265,
          0.005684507986941691,
          0.008341556925380507,
          0.010402445302468998
         ],
         "yaxis": "y13",
         "z": [
          [
           null,
           null,
           null,
           null
          ],
          [
           0.2805926501833714,
           null,
           null,
           null
          ],
          [
           0.3683219464325012,
           null,
           null,
           null
          ],
          [
           0.39847256102028633,
           null,
           null,
           null
          ],
          [
           0.38543841233781434,
           null,
           null,
           null
          ],
          [
           null,
           null,
           0.22459329909319595,
           null
          ],
          [
           null,
           null,
           null,
           0.2927534765020153
          ],
          [
           0.3612189891816607,
           null,
           null,
           null
          ],
          [
           0.39002220868299026,
           null,
           null,
           null
          ],
          [
           0.4159003421122947,
           null,
           null,
           null
          ],
          [
           null,
           null,
           null,
           0.2533945597783428
          ],
          [
           0.39373411513209494,
           null,
           null,
           null
          ],
          [
           0.21799683306231413,
           null,
           null,
           null
          ],
          [
           0.3334869011270894,
           null,
           null,
           null
          ],
          [
           0.4057874206585123,
           null,
           null,
           null
          ],
          [
           0.39670941552865807,
           null,
           null,
           null
          ],
          [
           null,
           null,
           0.1889968794199148,
           null
          ],
          [
           0.32865242637449893,
           null,
           null,
           null
          ],
          [
           0.33602106545699706,
           null,
           null,
           null
          ],
          [
           null,
           0.1798959518759375,
           null,
           null
          ],
          [
           0.37176011407088044,
           null,
           null,
           null
          ],
          [
           0.19102379163689653,
           null,
           null,
           null
          ],
          [
           0.372883713897519,
           null,
           null,
           null
          ],
          [
           0.4202428046629374,
           null,
           null,
           null
          ],
          [
           0.4176466708630911,
           null,
           null,
           null
          ],
          [
           0.3816665104039338,
           null,
           null,
           null
          ],
          [
           null,
           null,
           0.170555393564403,
           null
          ],
          [
           null,
           null,
           0.23430204575247932,
           null
          ],
          [
           null,
           0.18512897786125876,
           null,
           null
          ],
          [
           null,
           null,
           0.19976144010814986,
           null
          ],
          [
           null,
           null,
           null,
           0.2974619213428919
          ],
          [
           0.3358915350332714,
           null,
           null,
           null
          ],
          [
           null,
           0.2836189600280694,
           null,
           null
          ],
          [
           null,
           null,
           0.1748288009595639,
           null
          ],
          [
           0.33690277939439034,
           null,
           null,
           null
          ],
          [
           0.30850200903830155,
           null,
           null,
           null
          ],
          [
           0.3354896299787908,
           null,
           null,
           null
          ],
          [
           0.4461454940104176,
           null,
           null,
           null
          ],
          [
           null,
           null,
           null,
           0.21916643130103683
          ],
          [
           0.34691638849305473,
           null,
           null,
           null
          ],
          [
           0.390402561118342,
           null,
           null,
           null
          ],
          [
           null,
           0.21469977706426585,
           null,
           null
          ],
          [
           null,
           null,
           null,
           0.2816624359369721
          ],
          [
           0.1653700122405941,
           null,
           null,
           null
          ],
          [
           0.26579297564682575,
           null,
           null,
           null
          ],
          [
           0.38921736129676826,
           null,
           null,
           null
          ],
          [
           null,
           0.16886016667262346,
           null,
           null
          ],
          [
           0.23981638437247563,
           null,
           null,
           null
          ],
          [
           null,
           0.27499240726564095,
           null,
           null
          ],
          [
           null,
           0.2573395348502084,
           null,
           null
          ],
          [
           0.34680226946514703,
           null,
           null,
           null
          ],
          [
           null,
           null,
           null,
           null
          ]
         ]
        },
        {
         "marker": {
          "color": "black",
          "line": {
           "color": "Gray",
           "width": 2
          }
         },
         "mode": "markers",
         "name": "Feasible Trial",
         "showlegend": false,
         "type": "scatter",
         "x": [
          "mid",
          "mid",
          "deep",
          "mid",
          "deep",
          "deep",
          "wide_shallow",
          "small",
          "small",
          "small",
          "deep",
          "deep",
          "deep",
          "deep",
          "wide_shallow",
          "deep",
          "deep",
          "deep",
          "wide_shallow",
          "deep",
          "deep",
          "deep",
          "deep",
          "deep",
          "deep",
          "deep",
          "small",
          "wide_shallow",
          "mid",
          "mid",
          "deep",
          "deep",
          "deep",
          "deep",
          "deep",
          "mid",
          "deep",
          "deep",
          "deep",
          "mid",
          "small",
          "deep",
          "deep",
          "deep",
          "deep",
          "wide_shallow",
          "deep",
          "deep",
          "small",
          "deep"
         ],
         "xaxis": "x13",
         "y": [
          0.0038685195468653334,
          0.0005737249773857136,
          0.001947152099641176,
          0.004670042512719265,
          0.0024466663261037266,
          0.00022452281584993384,
          0.0017466964206993701,
          0.0004227124224667769,
          0.00013065515921717607,
          0.00040341443598627215,
          0.00010360862818688302,
          0.00010520622129998198,
          0.00022124276936362619,
          0.00021321800129785916,
          0.0008395641580304429,
          0.00020081775346379057,
          0.008341556925380507,
          0.00029640351353533165,
          0.00013842733077532664,
          0.0008188148579607131,
          0.0010957709260295552,
          0.000739929412833777,
          0.00010080467138309049,
          0.0003332437982674245,
          0.00016535043889868062,
          0.0011620396551063037,
          0.0006155863485382686,
          0.00017037236514304125,
          0.0004559069306120545,
          0.00029055967014847206,
          0.004086447103729056,
          0.000148007608841904,
          0.00025164778431634963,
          0.00018413287018304912,
          0.00011938029719967267,
          0.0014925379755711136,
          0.00016403318747712525,
          0.002795023021160032,
          0.0005460009051390827,
          0.005684507986941691,
          0.0002478133378015778,
          0.00036290051890749557,
          0.00035220888448065914,
          0.0003815152687892031,
          0.000780891503310904,
          0.0005211890652777367,
          0.0006455871403026349,
          0.0003405365203550537,
          0.0004749243083503763,
          0.0002622573690009186
         ],
         "yaxis": "y13"
        },
        {
         "colorbar": {
          "title": {
           "text": "Objective Value"
          }
         },
         "colorscale": [
          [
           0,
           "rgb(247,251,255)"
          ],
          [
           0.125,
           "rgb(222,235,247)"
          ],
          [
           0.25,
           "rgb(198,219,239)"
          ],
          [
           0.375,
           "rgb(158,202,225)"
          ],
          [
           0.5,
           "rgb(107,174,214)"
          ],
          [
           0.625,
           "rgb(66,146,198)"
          ],
          [
           0.75,
           "rgb(33,113,181)"
          ],
          [
           0.875,
           "rgb(8,81,156)"
          ],
          [
           1,
           "rgb(8,48,107)"
          ]
         ],
         "connectgaps": true,
         "contours": {
          "coloring": "heatmap"
         },
         "hoverinfo": "none",
         "line": {
          "smoothing": 1.3
         },
         "reversescale": false,
         "showscale": false,
         "type": "contour",
         "x": [
          0.08,
          0.1,
          0.15000000000000002,
          0.2,
          0.25,
          0.30000000000000004,
          0.35,
          0.4,
          0.45000000000000007,
          0.5,
          0.52
         ],
         "xaxis": "x2",
         "y": [
          "deep",
          "mid",
          "small",
          "wide_shallow"
         ],
         "yaxis": "y2",
         "z": [
          [
           null,
           0.4461454940104176,
           0.33602106545699706,
           0.4057874206585123,
           0.4159003421122947,
           0.39002220868299026,
           0.39847256102028633,
           0.39373411513209494,
           0.3816665104039338,
           0.4202428046629374,
           null
          ],
          [
           null,
           null,
           null,
           0.18512897786125876,
           0.1798959518759375,
           0.2836189600280694,
           0.21469977706426585,
           null,
           0.27499240726564095,
           null,
           null
          ],
          [
           null,
           0.22459329909319595,
           0.170555393564403,
           0.1889968794199148,
           null,
           null,
           null,
           0.19976144010814986,
           null,
           0.23430204575247932,
           null
          ],
          [
           null,
           null,
           0.2533945597783428,
           0.21916643130103683,
           0.2927534765020153,
           0.2816624359369721,
           null,
           null,
           null,
           0.2974619213428919,
           null
          ]
         ]
        },
        {
         "marker": {
          "color": "black",
          "line": {
           "color": "Gray",
           "width": 2
          }
         },
         "mode": "markers",
         "name": "Feasible Trial",
         "showlegend": false,
         "type": "scatter",
         "x": [
          0.45000000000000007,
          0.30000000000000004,
          0.5,
          0.45000000000000007,
          0.5,
          0.5,
          0.30000000000000004,
          0.5,
          0.1,
          0.15000000000000002,
          0.35,
          0.35,
          0.2,
          0.2,
          0.2,
          0.35,
          0.25,
          0.4,
          0.25,
          0.1,
          0.1,
          0.2,
          0.15000000000000002,
          0.15000000000000002,
          0.25,
          0.25,
          0.1,
          0.15000000000000002,
          0.2,
          0.25,
          0.1,
          0.35,
          0.30000000000000004,
          0.4,
          0.4,
          0.35,
          0.30000000000000004,
          0.25,
          0.45000000000000007,
          0.30000000000000004,
          0.2,
          0.5,
          0.5,
          0.45000000000000007,
          0.5,
          0.5,
          0.45000000000000007,
          0.5,
          0.4,
          0.15000000000000002
         ],
         "xaxis": "x2",
         "y": [
          "mid",
          "mid",
          "deep",
          "mid",
          "deep",
          "deep",
          "wide_shallow",
          "small",
          "small",
          "small",
          "deep",
          "deep",
          "deep",
          "deep",
          "wide_shallow",
          "deep",
          "deep",
          "deep",
          "wide_shallow",
          "deep",
          "deep",
          "deep",
          "deep",
          "deep",
          "deep",
          "deep",
          "small",
          "wide_shallow",
          "mid",
          "mid",
          "deep",
          "deep",
          "deep",
          "deep",
          "deep",
          "mid",
          "deep",
          "deep",
          "deep",
          "mid",
          "small",
          "deep",
          "deep",
          "deep",
          "deep",
          "wide_shallow",
          "deep",
          "deep",
          "small",
          "deep"
         ],
         "yaxis": "y2"
        },
        {
         "type": "scatter",
         "xaxis": "x6",
         "yaxis": "y6"
        },
        {
         "colorbar": {
          "title": {
           "text": "Objective Value"
          }
         },
         "colorscale": [
          [
           0,
           "rgb(247,251,255)"
          ],
          [
           0.125,
           "rgb(222,235,247)"
          ],
          [
           0.25,
           "rgb(198,219,239)"
          ],
          [
           0.375,
           "rgb(158,202,225)"
          ],
          [
           0.5,
           "rgb(107,174,214)"
          ],
          [
           0.625,
           "rgb(66,146,198)"
          ],
          [
           0.75,
           "rgb(33,113,181)"
          ],
          [
           0.875,
           "rgb(8,81,156)"
          ],
          [
           1,
           "rgb(8,48,107)"
          ]
         ],
         "connectgaps": true,
         "contours": {
          "coloring": "heatmap"
         },
         "hoverinfo": "none",
         "line": {
          "smoothing": 1.3
         },
         "reversescale": false,
         "showscale": false,
         "type": "contour",
         "x": [
          0.08,
          0.1,
          0.15000000000000002,
          0.2,
          0.25,
          0.30000000000000004,
          0.35,
          0.4,
          0.45000000000000007,
          0.5,
          0.52
         ],
         "xaxis": "x10",
         "y": [
          1.7,
          2,
          3,
          4,
          5,
          6,
          7,
          8,
          8.3
         ],
         "yaxis": "y10",
         "z": [
          [
           null,
           null,
           null,
           null,
           null,
           null,
           null,
           null,
           null,
           null,
           null
          ],
          [
           null,
           null,
           null,
           null,
           null,
           0.2816624359369721,
           null,
           null,
           0.16886016667262346,
           0.1653700122405941,
           null
          ],
          [
           null,
           null,
           null,
           null,
           null,
           0.39002220868299026,
           null,
           null,
           null,
           0.372883713897519,
           null
          ],
          [
           null,
           null,
           0.170555393564403,
           null,
           null,
           null,
           null,
           0.19976144010814986,
           0.33690277939439034,
           0.39670941552865807,
           null
          ],
          [
           null,
           null,
           0.2533945597783428,
           null,
           0.2927534765020153,
           null,
           null,
           null,
           0.3816665104039338,
           0.4202428046629374,
           null
          ],
          [
           null,
           0.22459329909319595,
           0.33602106545699706,
           null,
           0.390402561118342,
           0.2573395348502084,
           0.21469977706426585,
           null,
           0.27499240726564095,
           0.23430204575247932,
           null
          ],
          [
           null,
           0.34691638849305473,
           0.19102379163689653,
           0.21916643130103683,
           0.38921736129676826,
           null,
           0.21799683306231413,
           0.39373411513209494,
           null,
           null,
           null
          ],
          [
           null,
           0.4461454940104176,
           0.2805926501833714,
           0.4057874206585123,
           0.4159003421122947,
           0.32865242637449893,
           0.39847256102028633,
           0.38543841233781434,
           0.3358915350332714,
           null,
           null
          ],
          [
           null,
           null,
           null,
           null,
           null,
           null,
           null,
           null,
           null,
           null,
           null
          ]
         ]
        },
        {
         "marker": {
          "color": "black",
          "line": {
           "color": "Gray",
           "width": 2
          }
         },
         "mode": "markers",
         "name": "Feasible Trial",
         "showlegend": false,
         "type": "scatter",
         "x": [
          0.45000000000000007,
          0.30000000000000004,
          0.5,
          0.45000000000000007,
          0.5,
          0.5,
          0.30000000000000004,
          0.5,
          0.1,
          0.15000000000000002,
          0.35,
          0.35,
          0.2,
          0.2,
          0.2,
          0.35,
          0.25,
          0.4,
          0.25,
          0.1,
          0.1,
          0.2,
          0.15000000000000002,
          0.15000000000000002,
          0.25,
          0.25,
          0.1,
          0.15000000000000002,
          0.2,
          0.25,
          0.1,
          0.35,
          0.30000000000000004,
          0.4,
          0.4,
          0.35,
          0.30000000000000004,
          0.25,
          0.45000000000000007,
          0.30000000000000004,
          0.2,
          0.5,
          0.5,
          0.45000000000000007,
          0.5,
          0.5,
          0.45000000000000007,
          0.5,
          0.4,
          0.15000000000000002
         ],
         "xaxis": "x10",
         "y": [
          2,
          3,
          2,
          6,
          4,
          4,
          2,
          6,
          6,
          4,
          8,
          8,
          8,
          8,
          7,
          7,
          8,
          7,
          5,
          8,
          7,
          8,
          8,
          7,
          8,
          6,
          7,
          5,
          8,
          7,
          8,
          8,
          8,
          7,
          8,
          6,
          3,
          7,
          8,
          6,
          8,
          5,
          5,
          5,
          4,
          5,
          4,
          3,
          4,
          6
         ],
         "yaxis": "y10"
        },
        {
         "colorbar": {
          "title": {
           "text": "Objective Value"
          }
         },
         "colorscale": [
          [
           0,
           "rgb(247,251,255)"
          ],
          [
           0.125,
           "rgb(222,235,247)"
          ],
          [
           0.25,
           "rgb(198,219,239)"
          ],
          [
           0.375,
           "rgb(158,202,225)"
          ],
          [
           0.5,
           "rgb(107,174,214)"
          ],
          [
           0.625,
           "rgb(66,146,198)"
          ],
          [
           0.75,
           "rgb(33,113,181)"
          ],
          [
           0.875,
           "rgb(8,81,156)"
          ],
          [
           1,
           "rgb(8,48,107)"
          ]
         ],
         "connectgaps": true,
         "contours": {
          "coloring": "heatmap"
         },
         "hoverinfo": "none",
         "line": {
          "smoothing": 1.3
         },
         "reversescale": false,
         "showscale": false,
         "type": "contour",
         "x": [
          0.08,
          0.1,
          0.15000000000000002,
          0.2,
          0.25,
          0.30000000000000004,
          0.35,
          0.4,
          0.45000000000000007,
          0.5,
          0.52
         ],
         "xaxis": "x14",
         "y": [
          0.00008083367710539624,
          0.00010080467138309049,
          0.00010360862818688302,
          0.00010520622129998198,
          0.00011938029719967267,
          0.00013065515921717607,
          0.00013842733077532664,
          0.000148007608841904,
          0.00016403318747712525,
          0.00016535043889868062,
          0.00017037236514304125,
          0.00018413287018304912,
          0.00020081775346379057,
          0.00021321800129785916,
          0.00022124276936362619,
          0.00022452281584993384,
          0.0002478133378015778,
          0.00025164778431634963,
          0.0002622573690009186,
          0.00029055967014847206,
          0.00029640351353533165,
          0.0003332437982674245,
          0.0003405365203550537,
          0.00035220888448065914,
          0.00036290051890749557,
          0.0003815152687892031,
          0.00040341443598627215,
          0.0004227124224667769,
          0.0004559069306120545,
          0.0004749243083503763,
          0.0005211890652777367,
          0.0005460009051390827,
          0.0005737249773857136,
          0.0006155863485382686,
          0.0006455871403026349,
          0.000739929412833777,
          0.000780891503310904,
          0.0008188148579607131,
          0.0008395641580304429,
          0.0010957709260295552,
          0.0011620396551063037,
          0.0014925379755711136,
          0.0017466964206993701,
          0.001947152099641176,
          0.0024466663261037266,
          0.002795023021160032,
          0.0038685195468653334,
          0.004086447103729056,
          0.004670042512719265,
          0.005684507986941691,
          0.008341556925380507,
          0.010402445302468998
         ],
         "yaxis": "y14",
         "z": [
          [
           null,
           null,
           null,
           null,
           null,
           null,
           null,
           null,
           null,
           null,
           null
          ],
          [
           null,
           null,
           0.2805926501833714,
           null,
           null,
           null,
           null,
           null,
           null,
           null,
           null
          ],
          [
           null,
           null,
           null,
           null,
           null,
           null,
           0.3683219464325012,
           null,
           null,
           null,
           null
          ],
          [
           null,
           null,
           null,
           null,
           null,
           null,
           0.39847256102028633,
           null,
           null,
           null,
           null
          ],
          [
           null,
           null,
           null,
           null,
           null,
           null,
           null,
           0.38543841233781434,
           null,
           null,
           null
          ],
          [
           null,
           0.22459329909319595,
           null,
           null,
           null,
           null,
           null,
           null,
           null,
           null,
           null
          ],
          [
           null,
           null,
           null,
           null,
           0.2927534765020153,
           null,
           null,
           null,
           null,
           null,
           null
          ],
          [
           null,
           null,
           null,
           null,
           null,
           null,
           0.3612189891816607,
           null,
           null,
           null,
           null
          ],
          [
           null,
           null,
           null,
           null,
           null,
           0.39002220868299026,
           null,
           null,
           null,
           null,
           null
          ],
          [
           null,
           null,
           null,
           null,
           0.4159003421122947,
           null,
           null,
           null,
           null,
           null,
           null
          ],
          [
           null,
           null,
           0.2533945597783428,
           null,
           null,
           null,
           null,
           null,
           null,
           null,
           null
          ],
          [
           null,
           null,
           null,
           null,
           null,
           null,
           null,
           0.39373411513209494,
           null,
           null,
           null
          ],
          [
           null,
           null,
           null,
           null,
           null,
           null,
           0.21799683306231413,
           null,
           null,
           null,
           null
          ],
          [
           null,
           null,
           null,
           0.3334869011270894,
           null,
           null,
           null,
           null,
           null,
           null,
           null
          ],
          [
           null,
           null,
           null,
           0.4057874206585123,
           null,
           null,
           null,
           null,
           null,
           null,
           null
          ],
          [
           null,
           null,
           null,
           null,
           null,
           null,
           null,
           null,
           null,
           0.39670941552865807,
           null
          ],
          [
           null,
           null,
           null,
           0.1889968794199148,
           null,
           null,
           null,
           null,
           null,
           null,
           null
          ],
          [
           null,
           null,
           null,
           null,
           null,
           0.32865242637449893,
           null,
           null,
           null,
           null,
           null
          ],
          [
           null,
           null,
           0.33602106545699706,
           null,
           null,
           null,
           null,
           null,
           null,
           null,
           null
          ],
          [
           null,
           null,
           null,
           null,
           0.1798959518759375,
           null,
           null,
           null,
           null,
           null,
           null
          ],
          [
           null,
           null,
           null,
           null,
           null,
           null,
           null,
           0.37176011407088044,
           null,
           null,
           null
          ],
          [
           null,
           null,
           0.19102379163689653,
           null,
           null,
           null,
           null,
           null,
           null,
           null,
           null
          ],
          [
           null,
           null,
           null,
           null,
           null,
           null,
           null,
           null,
           null,
           0.372883713897519,
           null
          ],
          [
           null,
           null,
           null,
           null,
           null,
           null,
           null,
           null,
           null,
           0.4202428046629374,
           null
          ],
          [
           null,
           null,
           null,
           null,
           null,
           null,
           null,
           null,
           null,
           0.4176466708630911,
           null
          ],
          [
           null,
           null,
           null,
           null,
           null,
           null,
           null,
           null,
           0.3816665104039338,
           null,
           null
          ],
          [
           null,
           null,
           0.170555393564403,
           null,
           null,
           null,
           null,
           null,
           null,
           null,
           null
          ],
          [
           null,
           null,
           null,
           null,
           null,
           null,
           null,
           null,
           null,
           0.23430204575247932,
           null
          ],
          [
           null,
           null,
           null,
           0.18512897786125876,
           null,
           null,
           null,
           null,
           null,
           null,
           null
          ],
          [
           null,
           null,
           null,
           null,
           null,
           null,
           null,
           0.19976144010814986,
           null,
           null,
           null
          ],
          [
           null,
           null,
           null,
           null,
           null,
           null,
           null,
           null,
           null,
           0.2974619213428919,
           null
          ],
          [
           null,
           null,
           null,
           null,
           null,
           null,
           null,
           null,
           0.3358915350332714,
           null,
           null
          ],
          [
           null,
           null,
           null,
           null,
           null,
           0.2836189600280694,
           null,
           null,
           null,
           null,
           null
          ],
          [
           null,
           0.1748288009595639,
           null,
           null,
           null,
           null,
           null,
           null,
           null,
           null,
           null
          ],
          [
           null,
           null,
           null,
           null,
           null,
           null,
           null,
           null,
           0.33690277939439034,
           null,
           null
          ],
          [
           null,
           null,
           null,
           0.30850200903830155,
           null,
           null,
           null,
           null,
           null,
           null,
           null
          ],
          [
           null,
           null,
           null,
           null,
           null,
           null,
           null,
           null,
           null,
           0.3354896299787908,
           null
          ],
          [
           null,
           0.4461454940104176,
           null,
           null,
           null,
           null,
           null,
           null,
           null,
           null,
           null
          ],
          [
           null,
           null,
           null,
           0.21916643130103683,
           null,
           null,
           null,
           null,
           null,
           null,
           null
          ],
          [
           null,
           0.34691638849305473,
           null,
           null,
           null,
           null,
           null,
           null,
           null,
           null,
           null
          ],
          [
           null,
           null,
           null,
           null,
           0.390402561118342,
           null,
           null,
           null,
           null,
           null,
           null
          ],
          [
           null,
           null,
           null,
           null,
           null,
           null,
           0.21469977706426585,
           null,
           null,
           null,
           null
          ],
          [
           null,
           null,
           null,
           null,
           null,
           0.2816624359369721,
           null,
           null,
           null,
           null,
           null
          ],
          [
           null,
           null,
           null,
           null,
           null,
           null,
           null,
           null,
           null,
           0.1653700122405941,
           null
          ],
          [
           null,
           null,
           null,
           null,
           null,
           null,
           null,
           null,
           null,
           0.26579297564682575,
           null
          ],
          [
           null,
           null,
           null,
           null,
           0.38921736129676826,
           null,
           null,
           null,
           null,
           null,
           null
          ],
          [
           null,
           null,
           null,
           null,
           null,
           null,
           null,
           null,
           0.16886016667262346,
           null,
           null
          ],
          [
           null,
           0.23981638437247563,
           null,
           null,
           null,
           null,
           null,
           null,
           null,
           null,
           null
          ],
          [
           null,
           null,
           null,
           null,
           null,
           null,
           null,
           null,
           0.27499240726564095,
           null,
           null
          ],
          [
           null,
           null,
           null,
           null,
           null,
           0.2573395348502084,
           null,
           null,
           null,
           null,
           null
          ],
          [
           null,
           null,
           null,
           null,
           0.34680226946514703,
           null,
           null,
           null,
           null,
           null,
           null
          ],
          [
           null,
           null,
           null,
           null,
           null,
           null,
           null,
           null,
           null,
           null,
           null
          ]
         ]
        },
        {
         "marker": {
          "color": "black",
          "line": {
           "color": "Gray",
           "width": 2
          }
         },
         "mode": "markers",
         "name": "Feasible Trial",
         "showlegend": false,
         "type": "scatter",
         "x": [
          0.45000000000000007,
          0.30000000000000004,
          0.5,
          0.45000000000000007,
          0.5,
          0.5,
          0.30000000000000004,
          0.5,
          0.1,
          0.15000000000000002,
          0.35,
          0.35,
          0.2,
          0.2,
          0.2,
          0.35,
          0.25,
          0.4,
          0.25,
          0.1,
          0.1,
          0.2,
          0.15000000000000002,
          0.15000000000000002,
          0.25,
          0.25,
          0.1,
          0.15000000000000002,
          0.2,
          0.25,
          0.1,
          0.35,
          0.30000000000000004,
          0.4,
          0.4,
          0.35,
          0.30000000000000004,
          0.25,
          0.45000000000000007,
          0.30000000000000004,
          0.2,
          0.5,
          0.5,
          0.45000000000000007,
          0.5,
          0.5,
          0.45000000000000007,
          0.5,
          0.4,
          0.15000000000000002
         ],
         "xaxis": "x14",
         "y": [
          0.0038685195468653334,
          0.0005737249773857136,
          0.001947152099641176,
          0.004670042512719265,
          0.0024466663261037266,
          0.00022452281584993384,
          0.0017466964206993701,
          0.0004227124224667769,
          0.00013065515921717607,
          0.00040341443598627215,
          0.00010360862818688302,
          0.00010520622129998198,
          0.00022124276936362619,
          0.00021321800129785916,
          0.0008395641580304429,
          0.00020081775346379057,
          0.008341556925380507,
          0.00029640351353533165,
          0.00013842733077532664,
          0.0008188148579607131,
          0.0010957709260295552,
          0.000739929412833777,
          0.00010080467138309049,
          0.0003332437982674245,
          0.00016535043889868062,
          0.0011620396551063037,
          0.0006155863485382686,
          0.00017037236514304125,
          0.0004559069306120545,
          0.00029055967014847206,
          0.004086447103729056,
          0.000148007608841904,
          0.00025164778431634963,
          0.00018413287018304912,
          0.00011938029719967267,
          0.0014925379755711136,
          0.00016403318747712525,
          0.002795023021160032,
          0.0005460009051390827,
          0.005684507986941691,
          0.0002478133378015778,
          0.00036290051890749557,
          0.00035220888448065914,
          0.0003815152687892031,
          0.000780891503310904,
          0.0005211890652777367,
          0.0006455871403026349,
          0.0003405365203550537,
          0.0004749243083503763,
          0.0002622573690009186
         ],
         "yaxis": "y14"
        },
        {
         "colorbar": {
          "title": {
           "text": "Objective Value"
          }
         },
         "colorscale": [
          [
           0,
           "rgb(247,251,255)"
          ],
          [
           0.125,
           "rgb(222,235,247)"
          ],
          [
           0.25,
           "rgb(198,219,239)"
          ],
          [
           0.375,
           "rgb(158,202,225)"
          ],
          [
           0.5,
           "rgb(107,174,214)"
          ],
          [
           0.625,
           "rgb(66,146,198)"
          ],
          [
           0.75,
           "rgb(33,113,181)"
          ],
          [
           0.875,
           "rgb(8,81,156)"
          ],
          [
           1,
           "rgb(8,48,107)"
          ]
         ],
         "connectgaps": true,
         "contours": {
          "coloring": "heatmap"
         },
         "hoverinfo": "none",
         "line": {
          "smoothing": 1.3
         },
         "reversescale": false,
         "showscale": false,
         "type": "contour",
         "x": [
          1.7,
          2,
          3,
          4,
          5,
          6,
          7,
          8,
          8.3
         ],
         "xaxis": "x3",
         "y": [
          "deep",
          "mid",
          "small",
          "wide_shallow"
         ],
         "yaxis": "y3",
         "z": [
          [
           null,
           0.1653700122405941,
           0.39002220868299026,
           0.39670941552865807,
           0.4202428046629374,
           0.390402561118342,
           0.39373411513209494,
           0.4461454940104176,
           null
          ],
          [
           null,
           0.16886016667262346,
           0.2836189600280694,
           null,
           null,
           0.27499240726564095,
           0.1798959518759375,
           0.18512897786125876,
           null
          ],
          [
           null,
           null,
           null,
           0.19976144010814986,
           null,
           0.23430204575247932,
           0.1748288009595639,
           0.1889968794199148,
           null
          ],
          [
           null,
           0.2816624359369721,
           null,
           null,
           0.2974619213428919,
           null,
           0.21916643130103683,
           null,
           null
          ]
         ]
        },
        {
         "marker": {
          "color": "black",
          "line": {
           "color": "Gray",
           "width": 2
          }
         },
         "mode": "markers",
         "name": "Feasible Trial",
         "showlegend": false,
         "type": "scatter",
         "x": [
          2,
          3,
          2,
          6,
          4,
          4,
          2,
          6,
          6,
          4,
          8,
          8,
          8,
          8,
          7,
          7,
          8,
          7,
          5,
          8,
          7,
          8,
          8,
          7,
          8,
          6,
          7,
          5,
          8,
          7,
          8,
          8,
          8,
          7,
          8,
          6,
          3,
          7,
          8,
          6,
          8,
          5,
          5,
          5,
          4,
          5,
          4,
          3,
          4,
          6
         ],
         "xaxis": "x3",
         "y": [
          "mid",
          "mid",
          "deep",
          "mid",
          "deep",
          "deep",
          "wide_shallow",
          "small",
          "small",
          "small",
          "deep",
          "deep",
          "deep",
          "deep",
          "wide_shallow",
          "deep",
          "deep",
          "deep",
          "wide_shallow",
          "deep",
          "deep",
          "deep",
          "deep",
          "deep",
          "deep",
          "deep",
          "small",
          "wide_shallow",
          "mid",
          "mid",
          "deep",
          "deep",
          "deep",
          "deep",
          "deep",
          "mid",
          "deep",
          "deep",
          "deep",
          "mid",
          "small",
          "deep",
          "deep",
          "deep",
          "deep",
          "wide_shallow",
          "deep",
          "deep",
          "small",
          "deep"
         ],
         "yaxis": "y3"
        },
        {
         "colorbar": {
          "title": {
           "text": "Objective Value"
          }
         },
         "colorscale": [
          [
           0,
           "rgb(247,251,255)"
          ],
          [
           0.125,
           "rgb(222,235,247)"
          ],
          [
           0.25,
           "rgb(198,219,239)"
          ],
          [
           0.375,
           "rgb(158,202,225)"
          ],
          [
           0.5,
           "rgb(107,174,214)"
          ],
          [
           0.625,
           "rgb(66,146,198)"
          ],
          [
           0.75,
           "rgb(33,113,181)"
          ],
          [
           0.875,
           "rgb(8,81,156)"
          ],
          [
           1,
           "rgb(8,48,107)"
          ]
         ],
         "connectgaps": true,
         "contours": {
          "coloring": "heatmap"
         },
         "hoverinfo": "none",
         "line": {
          "smoothing": 1.3
         },
         "reversescale": false,
         "showscale": false,
         "type": "contour",
         "x": [
          1.7,
          2,
          3,
          4,
          5,
          6,
          7,
          8,
          8.3
         ],
         "xaxis": "x7",
         "y": [
          0.08,
          0.1,
          0.15000000000000002,
          0.2,
          0.25,
          0.30000000000000004,
          0.35,
          0.4,
          0.45000000000000007,
          0.5,
          0.52
         ],
         "yaxis": "y7",
         "z": [
          [
           null,
           null,
           null,
           null,
           null,
           null,
           null,
           null,
           null
          ],
          [
           null,
           null,
           null,
           null,
           null,
           0.22459329909319595,
           0.34691638849305473,
           0.4461454940104176,
           null
          ],
          [
           null,
           null,
           null,
           0.170555393564403,
           0.2533945597783428,
           0.33602106545699706,
           0.19102379163689653,
           0.2805926501833714,
           null
          ],
          [
           null,
           null,
           null,
           null,
           null,
           null,
           0.21916643130103683,
           0.4057874206585123,
           null
          ],
          [
           null,
           null,
           null,
           null,
           0.2927534765020153,
           0.390402561118342,
           0.38921736129676826,
           0.4159003421122947,
           null
          ],
          [
           null,
           0.2816624359369721,
           0.39002220868299026,
           null,
           null,
           0.2573395348502084,
           null,
           0.32865242637449893,
           null
          ],
          [
           null,
           null,
           null,
           null,
           null,
           0.21469977706426585,
           0.21799683306231413,
           0.39847256102028633,
           null
          ],
          [
           null,
           null,
           null,
           0.19976144010814986,
           null,
           null,
           0.39373411513209494,
           0.38543841233781434,
           null
          ],
          [
           null,
           0.16886016667262346,
           null,
           0.33690277939439034,
           0.3816665104039338,
           0.27499240726564095,
           null,
           0.3358915350332714,
           null
          ],
          [
           null,
           0.1653700122405941,
           0.372883713897519,
           0.39670941552865807,
           0.4202428046629374,
           0.23430204575247932,
           null,
           null,
           null
          ],
          [
           null,
           null,
           null,
           null,
           null,
           null,
           null,
           null,
           null
          ]
         ]
        },
        {
         "marker": {
          "color": "black",
          "line": {
           "color": "Gray",
           "width": 2
          }
         },
         "mode": "markers",
         "name": "Feasible Trial",
         "showlegend": false,
         "type": "scatter",
         "x": [
          2,
          3,
          2,
          6,
          4,
          4,
          2,
          6,
          6,
          4,
          8,
          8,
          8,
          8,
          7,
          7,
          8,
          7,
          5,
          8,
          7,
          8,
          8,
          7,
          8,
          6,
          7,
          5,
          8,
          7,
          8,
          8,
          8,
          7,
          8,
          6,
          3,
          7,
          8,
          6,
          8,
          5,
          5,
          5,
          4,
          5,
          4,
          3,
          4,
          6
         ],
         "xaxis": "x7",
         "y": [
          0.45000000000000007,
          0.30000000000000004,
          0.5,
          0.45000000000000007,
          0.5,
          0.5,
          0.30000000000000004,
          0.5,
          0.1,
          0.15000000000000002,
          0.35,
          0.35,
          0.2,
          0.2,
          0.2,
          0.35,
          0.25,
          0.4,
          0.25,
          0.1,
          0.1,
          0.2,
          0.15000000000000002,
          0.15000000000000002,
          0.25,
          0.25,
          0.1,
          0.15000000000000002,
          0.2,
          0.25,
          0.1,
          0.35,
          0.30000000000000004,
          0.4,
          0.4,
          0.35,
          0.30000000000000004,
          0.25,
          0.45000000000000007,
          0.30000000000000004,
          0.2,
          0.5,
          0.5,
          0.45000000000000007,
          0.5,
          0.5,
          0.45000000000000007,
          0.5,
          0.4,
          0.15000000000000002
         ],
         "yaxis": "y7"
        },
        {
         "type": "scatter",
         "xaxis": "x11",
         "yaxis": "y11"
        },
        {
         "colorbar": {
          "title": {
           "text": "Objective Value"
          }
         },
         "colorscale": [
          [
           0,
           "rgb(247,251,255)"
          ],
          [
           0.125,
           "rgb(222,235,247)"
          ],
          [
           0.25,
           "rgb(198,219,239)"
          ],
          [
           0.375,
           "rgb(158,202,225)"
          ],
          [
           0.5,
           "rgb(107,174,214)"
          ],
          [
           0.625,
           "rgb(66,146,198)"
          ],
          [
           0.75,
           "rgb(33,113,181)"
          ],
          [
           0.875,
           "rgb(8,81,156)"
          ],
          [
           1,
           "rgb(8,48,107)"
          ]
         ],
         "connectgaps": true,
         "contours": {
          "coloring": "heatmap"
         },
         "hoverinfo": "none",
         "line": {
          "smoothing": 1.3
         },
         "reversescale": false,
         "showscale": false,
         "type": "contour",
         "x": [
          1.7,
          2,
          3,
          4,
          5,
          6,
          7,
          8,
          8.3
         ],
         "xaxis": "x15",
         "y": [
          0.00008083367710539624,
          0.00010080467138309049,
          0.00010360862818688302,
          0.00010520622129998198,
          0.00011938029719967267,
          0.00013065515921717607,
          0.00013842733077532664,
          0.000148007608841904,
          0.00016403318747712525,
          0.00016535043889868062,
          0.00017037236514304125,
          0.00018413287018304912,
          0.00020081775346379057,
          0.00021321800129785916,
          0.00022124276936362619,
          0.00022452281584993384,
          0.0002478133378015778,
          0.00025164778431634963,
          0.0002622573690009186,
          0.00029055967014847206,
          0.00029640351353533165,
          0.0003332437982674245,
          0.0003405365203550537,
          0.00035220888448065914,
          0.00036290051890749557,
          0.0003815152687892031,
          0.00040341443598627215,
          0.0004227124224667769,
          0.0004559069306120545,
          0.0004749243083503763,
          0.0005211890652777367,
          0.0005460009051390827,
          0.0005737249773857136,
          0.0006155863485382686,
          0.0006455871403026349,
          0.000739929412833777,
          0.000780891503310904,
          0.0008188148579607131,
          0.0008395641580304429,
          0.0010957709260295552,
          0.0011620396551063037,
          0.0014925379755711136,
          0.0017466964206993701,
          0.001947152099641176,
          0.0024466663261037266,
          0.002795023021160032,
          0.0038685195468653334,
          0.004086447103729056,
          0.004670042512719265,
          0.005684507986941691,
          0.008341556925380507,
          0.010402445302468998
         ],
         "yaxis": "y15",
         "z": [
          [
           null,
           null,
           null,
           null,
           null,
           null,
           null,
           null,
           null
          ],
          [
           null,
           null,
           null,
           null,
           null,
           null,
           null,
           0.2805926501833714,
           null
          ],
          [
           null,
           null,
           null,
           null,
           null,
           null,
           null,
           0.3683219464325012,
           null
          ],
          [
           null,
           null,
           null,
           null,
           null,
           null,
           null,
           0.39847256102028633,
           null
          ],
          [
           null,
           null,
           null,
           null,
           null,
           null,
           null,
           0.38543841233781434,
           null
          ],
          [
           null,
           null,
           null,
           null,
           null,
           0.22459329909319595,
           null,
           null,
           null
          ],
          [
           null,
           null,
           null,
           null,
           0.2927534765020153,
           null,
           null,
           null,
           null
          ],
          [
           null,
           null,
           null,
           null,
           null,
           null,
           null,
           0.3612189891816607,
           null
          ],
          [
           null,
           null,
           0.39002220868299026,
           null,
           null,
           null,
           null,
           null,
           null
          ],
          [
           null,
           null,
           null,
           null,
           null,
           null,
           null,
           0.4159003421122947,
           null
          ],
          [
           null,
           null,
           null,
           null,
           0.2533945597783428,
           null,
           null,
           null,
           null
          ],
          [
           null,
           null,
           null,
           null,
           null,
           null,
           0.39373411513209494,
           null,
           null
          ],
          [
           null,
           null,
           null,
           null,
           null,
           null,
           0.21799683306231413,
           null,
           null
          ],
          [
           null,
           null,
           null,
           null,
           null,
           null,
           null,
           0.3334869011270894,
           null
          ],
          [
           null,
           null,
           null,
           null,
           null,
           null,
           null,
           0.4057874206585123,
           null
          ],
          [
           null,
           null,
           null,
           0.39670941552865807,
           null,
           null,
           null,
           null,
           null
          ],
          [
           null,
           null,
           null,
           null,
           null,
           null,
           null,
           0.1889968794199148,
           null
          ],
          [
           null,
           null,
           null,
           null,
           null,
           null,
           null,
           0.32865242637449893,
           null
          ],
          [
           null,
           null,
           null,
           null,
           null,
           0.33602106545699706,
           null,
           null,
           null
          ],
          [
           null,
           null,
           null,
           null,
           null,
           null,
           0.1798959518759375,
           null,
           null
          ],
          [
           null,
           null,
           null,
           null,
           null,
           null,
           0.37176011407088044,
           null,
           null
          ],
          [
           null,
           null,
           null,
           null,
           null,
           null,
           0.19102379163689653,
           null,
           null
          ],
          [
           null,
           null,
           0.372883713897519,
           null,
           null,
           null,
           null,
           null,
           null
          ],
          [
           null,
           null,
           null,
           null,
           0.4202428046629374,
           null,
           null,
           null,
           null
          ],
          [
           null,
           null,
           null,
           null,
           0.4176466708630911,
           null,
           null,
           null,
           null
          ],
          [
           null,
           null,
           null,
           null,
           0.3816665104039338,
           null,
           null,
           null,
           null
          ],
          [
           null,
           null,
           null,
           0.170555393564403,
           null,
           null,
           null,
           null,
           null
          ],
          [
           null,
           null,
           null,
           null,
           null,
           0.23430204575247932,
           null,
           null,
           null
          ],
          [
           null,
           null,
           null,
           null,
           null,
           null,
           null,
           0.18512897786125876,
           null
          ],
          [
           null,
           null,
           null,
           0.19976144010814986,
           null,
           null,
           null,
           null,
           null
          ],
          [
           null,
           null,
           null,
           null,
           0.2974619213428919,
           null,
           null,
           null,
           null
          ],
          [
           null,
           null,
           null,
           null,
           null,
           null,
           null,
           0.3358915350332714,
           null
          ],
          [
           null,
           null,
           0.2836189600280694,
           null,
           null,
           null,
           null,
           null,
           null
          ],
          [
           null,
           null,
           null,
           null,
           null,
           null,
           0.1748288009595639,
           null,
           null
          ],
          [
           null,
           null,
           null,
           0.33690277939439034,
           null,
           null,
           null,
           null,
           null
          ],
          [
           null,
           null,
           null,
           null,
           null,
           null,
           null,
           0.30850200903830155,
           null
          ],
          [
           null,
           null,
           null,
           0.3354896299787908,
           null,
           null,
           null,
           null,
           null
          ],
          [
           null,
           null,
           null,
           null,
           null,
           null,
           null,
           0.4461454940104176,
           null
          ],
          [
           null,
           null,
           null,
           null,
           null,
           null,
           0.21916643130103683,
           null,
           null
          ],
          [
           null,
           null,
           null,
           null,
           null,
           null,
           0.34691638849305473,
           null,
           null
          ],
          [
           null,
           null,
           null,
           null,
           null,
           0.390402561118342,
           null,
           null,
           null
          ],
          [
           null,
           null,
           null,
           null,
           null,
           0.21469977706426585,
           null,
           null,
           null
          ],
          [
           null,
           0.2816624359369721,
           null,
           null,
           null,
           null,
           null,
           null,
           null
          ],
          [
           null,
           0.1653700122405941,
           null,
           null,
           null,
           null,
           null,
           null,
           null
          ],
          [
           null,
           null,
           null,
           0.26579297564682575,
           null,
           null,
           null,
           null,
           null
          ],
          [
           null,
           null,
           null,
           null,
           null,
           null,
           0.38921736129676826,
           null,
           null
          ],
          [
           null,
           0.16886016667262346,
           null,
           null,
           null,
           null,
           null,
           null,
           null
          ],
          [
           null,
           null,
           null,
           null,
           null,
           null,
           null,
           0.23981638437247563,
           null
          ],
          [
           null,
           null,
           null,
           null,
           null,
           0.27499240726564095,
           null,
           null,
           null
          ],
          [
           null,
           null,
           null,
           null,
           null,
           0.2573395348502084,
           null,
           null,
           null
          ],
          [
           null,
           null,
           null,
           null,
           null,
           null,
           null,
           0.34680226946514703,
           null
          ],
          [
           null,
           null,
           null,
           null,
           null,
           null,
           null,
           null,
           null
          ]
         ]
        },
        {
         "marker": {
          "color": "black",
          "line": {
           "color": "Gray",
           "width": 2
          }
         },
         "mode": "markers",
         "name": "Feasible Trial",
         "showlegend": false,
         "type": "scatter",
         "x": [
          2,
          3,
          2,
          6,
          4,
          4,
          2,
          6,
          6,
          4,
          8,
          8,
          8,
          8,
          7,
          7,
          8,
          7,
          5,
          8,
          7,
          8,
          8,
          7,
          8,
          6,
          7,
          5,
          8,
          7,
          8,
          8,
          8,
          7,
          8,
          6,
          3,
          7,
          8,
          6,
          8,
          5,
          5,
          5,
          4,
          5,
          4,
          3,
          4,
          6
         ],
         "xaxis": "x15",
         "y": [
          0.0038685195468653334,
          0.0005737249773857136,
          0.001947152099641176,
          0.004670042512719265,
          0.0024466663261037266,
          0.00022452281584993384,
          0.0017466964206993701,
          0.0004227124224667769,
          0.00013065515921717607,
          0.00040341443598627215,
          0.00010360862818688302,
          0.00010520622129998198,
          0.00022124276936362619,
          0.00021321800129785916,
          0.0008395641580304429,
          0.00020081775346379057,
          0.008341556925380507,
          0.00029640351353533165,
          0.00013842733077532664,
          0.0008188148579607131,
          0.0010957709260295552,
          0.000739929412833777,
          0.00010080467138309049,
          0.0003332437982674245,
          0.00016535043889868062,
          0.0011620396551063037,
          0.0006155863485382686,
          0.00017037236514304125,
          0.0004559069306120545,
          0.00029055967014847206,
          0.004086447103729056,
          0.000148007608841904,
          0.00025164778431634963,
          0.00018413287018304912,
          0.00011938029719967267,
          0.0014925379755711136,
          0.00016403318747712525,
          0.002795023021160032,
          0.0005460009051390827,
          0.005684507986941691,
          0.0002478133378015778,
          0.00036290051890749557,
          0.00035220888448065914,
          0.0003815152687892031,
          0.000780891503310904,
          0.0005211890652777367,
          0.0006455871403026349,
          0.0003405365203550537,
          0.0004749243083503763,
          0.0002622573690009186
         ],
         "yaxis": "y15"
        },
        {
         "colorbar": {
          "title": {
           "text": "Objective Value"
          }
         },
         "colorscale": [
          [
           0,
           "rgb(247,251,255)"
          ],
          [
           0.125,
           "rgb(222,235,247)"
          ],
          [
           0.25,
           "rgb(198,219,239)"
          ],
          [
           0.375,
           "rgb(158,202,225)"
          ],
          [
           0.5,
           "rgb(107,174,214)"
          ],
          [
           0.625,
           "rgb(66,146,198)"
          ],
          [
           0.75,
           "rgb(33,113,181)"
          ],
          [
           0.875,
           "rgb(8,81,156)"
          ],
          [
           1,
           "rgb(8,48,107)"
          ]
         ],
         "connectgaps": true,
         "contours": {
          "coloring": "heatmap"
         },
         "hoverinfo": "none",
         "line": {
          "smoothing": 1.3
         },
         "reversescale": false,
         "showscale": false,
         "type": "contour",
         "x": [
          0.00008083367710539624,
          0.00010080467138309049,
          0.00010360862818688302,
          0.00010520622129998198,
          0.00011938029719967267,
          0.00013065515921717607,
          0.00013842733077532664,
          0.000148007608841904,
          0.00016403318747712525,
          0.00016535043889868062,
          0.00017037236514304125,
          0.00018413287018304912,
          0.00020081775346379057,
          0.00021321800129785916,
          0.00022124276936362619,
          0.00022452281584993384,
          0.0002478133378015778,
          0.00025164778431634963,
          0.0002622573690009186,
          0.00029055967014847206,
          0.00029640351353533165,
          0.0003332437982674245,
          0.0003405365203550537,
          0.00035220888448065914,
          0.00036290051890749557,
          0.0003815152687892031,
          0.00040341443598627215,
          0.0004227124224667769,
          0.0004559069306120545,
          0.0004749243083503763,
          0.0005211890652777367,
          0.0005460009051390827,
          0.0005737249773857136,
          0.0006155863485382686,
          0.0006455871403026349,
          0.000739929412833777,
          0.000780891503310904,
          0.0008188148579607131,
          0.0008395641580304429,
          0.0010957709260295552,
          0.0011620396551063037,
          0.0014925379755711136,
          0.0017466964206993701,
          0.001947152099641176,
          0.0024466663261037266,
          0.002795023021160032,
          0.0038685195468653334,
          0.004086447103729056,
          0.004670042512719265,
          0.005684507986941691,
          0.008341556925380507,
          0.010402445302468998
         ],
         "xaxis": "x4",
         "y": [
          "deep",
          "mid",
          "small",
          "wide_shallow"
         ],
         "yaxis": "y4",
         "z": [
          [
           null,
           0.2805926501833714,
           0.3683219464325012,
           0.39847256102028633,
           0.38543841233781434,
           null,
           null,
           0.3612189891816607,
           0.39002220868299026,
           0.4159003421122947,
           null,
           0.39373411513209494,
           0.21799683306231413,
           0.3334869011270894,
           0.4057874206585123,
           0.39670941552865807,
           null,
           0.32865242637449893,
           0.33602106545699706,
           null,
           0.37176011407088044,
           0.19102379163689653,
           0.372883713897519,
           0.4202428046629374,
           0.4176466708630911,
           0.3816665104039338,
           null,
           null,
           null,
           null,
           null,
           0.3358915350332714,
           null,
           null,
           0.33690277939439034,
           0.30850200903830155,
           0.3354896299787908,
           0.4461454940104176,
           null,
           0.34691638849305473,
           0.390402561118342,
           null,
           null,
           0.1653700122405941,
           0.26579297564682575,
           0.38921736129676826,
           null,
           0.23981638437247563,
           null,
           null,
           0.34680226946514703,
           null
          ],
          [
           null,
           null,
           null,
           null,
           null,
           null,
           null,
           null,
           null,
           null,
           null,
           null,
           null,
           null,
           null,
           null,
           null,
           null,
           null,
           0.1798959518759375,
           null,
           null,
           null,
           null,
           null,
           null,
           null,
           null,
           0.18512897786125876,
           null,
           null,
           null,
           0.2836189600280694,
           null,
           null,
           null,
           null,
           null,
           null,
           null,
           null,
           0.21469977706426585,
           null,
           null,
           null,
           null,
           0.16886016667262346,
           null,
           0.27499240726564095,
           0.2573395348502084,
           null,
           null
          ],
          [
           null,
           null,
           null,
           null,
           null,
           0.22459329909319595,
           null,
           null,
           null,
           null,
           null,
           null,
           null,
           null,
           null,
           null,
           0.1889968794199148,
           null,
           null,
           null,
           null,
           null,
           null,
           null,
           null,
           null,
           0.170555393564403,
           0.23430204575247932,
           null,
           0.19976144010814986,
           null,
           null,
           null,
           0.1748288009595639,
           null,
           null,
           null,
           null,
           null,
           null,
           null,
           null,
           null,
           null,
           null,
           null,
           null,
           null,
           null,
           null,
           null,
           null
          ],
          [
           null,
           null,
           null,
           null,
           null,
           null,
           0.2927534765020153,
           null,
           null,
           null,
           0.2533945597783428,
           null,
           null,
           null,
           null,
           null,
           null,
           null,
           null,
           null,
           null,
           null,
           null,
           null,
           null,
           null,
           null,
           null,
           null,
           null,
           0.2974619213428919,
           null,
           null,
           null,
           null,
           null,
           null,
           null,
           0.21916643130103683,
           null,
           null,
           null,
           0.2816624359369721,
           null,
           null,
           null,
           null,
           null,
           null,
           null,
           null,
           null
          ]
         ]
        },
        {
         "marker": {
          "color": "black",
          "line": {
           "color": "Gray",
           "width": 2
          }
         },
         "mode": "markers",
         "name": "Feasible Trial",
         "showlegend": false,
         "type": "scatter",
         "x": [
          0.0038685195468653334,
          0.0005737249773857136,
          0.001947152099641176,
          0.004670042512719265,
          0.0024466663261037266,
          0.00022452281584993384,
          0.0017466964206993701,
          0.0004227124224667769,
          0.00013065515921717607,
          0.00040341443598627215,
          0.00010360862818688302,
          0.00010520622129998198,
          0.00022124276936362619,
          0.00021321800129785916,
          0.0008395641580304429,
          0.00020081775346379057,
          0.008341556925380507,
          0.00029640351353533165,
          0.00013842733077532664,
          0.0008188148579607131,
          0.0010957709260295552,
          0.000739929412833777,
          0.00010080467138309049,
          0.0003332437982674245,
          0.00016535043889868062,
          0.0011620396551063037,
          0.0006155863485382686,
          0.00017037236514304125,
          0.0004559069306120545,
          0.00029055967014847206,
          0.004086447103729056,
          0.000148007608841904,
          0.00025164778431634963,
          0.00018413287018304912,
          0.00011938029719967267,
          0.0014925379755711136,
          0.00016403318747712525,
          0.002795023021160032,
          0.0005460009051390827,
          0.005684507986941691,
          0.0002478133378015778,
          0.00036290051890749557,
          0.00035220888448065914,
          0.0003815152687892031,
          0.000780891503310904,
          0.0005211890652777367,
          0.0006455871403026349,
          0.0003405365203550537,
          0.0004749243083503763,
          0.0002622573690009186
         ],
         "xaxis": "x4",
         "y": [
          "mid",
          "mid",
          "deep",
          "mid",
          "deep",
          "deep",
          "wide_shallow",
          "small",
          "small",
          "small",
          "deep",
          "deep",
          "deep",
          "deep",
          "wide_shallow",
          "deep",
          "deep",
          "deep",
          "wide_shallow",
          "deep",
          "deep",
          "deep",
          "deep",
          "deep",
          "deep",
          "deep",
          "small",
          "wide_shallow",
          "mid",
          "mid",
          "deep",
          "deep",
          "deep",
          "deep",
          "deep",
          "mid",
          "deep",
          "deep",
          "deep",
          "mid",
          "small",
          "deep",
          "deep",
          "deep",
          "deep",
          "wide_shallow",
          "deep",
          "deep",
          "small",
          "deep"
         ],
         "yaxis": "y4"
        },
        {
         "colorbar": {
          "title": {
           "text": "Objective Value"
          }
         },
         "colorscale": [
          [
           0,
           "rgb(247,251,255)"
          ],
          [
           0.125,
           "rgb(222,235,247)"
          ],
          [
           0.25,
           "rgb(198,219,239)"
          ],
          [
           0.375,
           "rgb(158,202,225)"
          ],
          [
           0.5,
           "rgb(107,174,214)"
          ],
          [
           0.625,
           "rgb(66,146,198)"
          ],
          [
           0.75,
           "rgb(33,113,181)"
          ],
          [
           0.875,
           "rgb(8,81,156)"
          ],
          [
           1,
           "rgb(8,48,107)"
          ]
         ],
         "connectgaps": true,
         "contours": {
          "coloring": "heatmap"
         },
         "hoverinfo": "none",
         "line": {
          "smoothing": 1.3
         },
         "reversescale": false,
         "showscale": false,
         "type": "contour",
         "x": [
          0.00008083367710539624,
          0.00010080467138309049,
          0.00010360862818688302,
          0.00010520622129998198,
          0.00011938029719967267,
          0.00013065515921717607,
          0.00013842733077532664,
          0.000148007608841904,
          0.00016403318747712525,
          0.00016535043889868062,
          0.00017037236514304125,
          0.00018413287018304912,
          0.00020081775346379057,
          0.00021321800129785916,
          0.00022124276936362619,
          0.00022452281584993384,
          0.0002478133378015778,
          0.00025164778431634963,
          0.0002622573690009186,
          0.00029055967014847206,
          0.00029640351353533165,
          0.0003332437982674245,
          0.0003405365203550537,
          0.00035220888448065914,
          0.00036290051890749557,
          0.0003815152687892031,
          0.00040341443598627215,
          0.0004227124224667769,
          0.0004559069306120545,
          0.0004749243083503763,
          0.0005211890652777367,
          0.0005460009051390827,
          0.0005737249773857136,
          0.0006155863485382686,
          0.0006455871403026349,
          0.000739929412833777,
          0.000780891503310904,
          0.0008188148579607131,
          0.0008395641580304429,
          0.0010957709260295552,
          0.0011620396551063037,
          0.0014925379755711136,
          0.0017466964206993701,
          0.001947152099641176,
          0.0024466663261037266,
          0.002795023021160032,
          0.0038685195468653334,
          0.004086447103729056,
          0.004670042512719265,
          0.005684507986941691,
          0.008341556925380507,
          0.010402445302468998
         ],
         "xaxis": "x8",
         "y": [
          0.08,
          0.1,
          0.15000000000000002,
          0.2,
          0.25,
          0.30000000000000004,
          0.35,
          0.4,
          0.45000000000000007,
          0.5,
          0.52
         ],
         "yaxis": "y8",
         "z": [
          [
           null,
           null,
           null,
           null,
           null,
           null,
           null,
           null,
           null,
           null,
           null,
           null,
           null,
           null,
           null,
           null,
           null,
           null,
           null,
           null,
           null,
           null,
           null,
           null,
           null,
           null,
           null,
           null,
           null,
           null,
           null,
           null,
           null,
           null,
           null,
           null,
           null,
           null,
           null,
           null,
           null,
           null,
           null,
           null,
           null,
           null,
           null,
           null,
           null,
           null,
           null,
           null
          ],
          [
           null,
           null,
           null,
           null,
           null,
           0.22459329909319595,
           null,
           null,
           null,
           null,
           null,
           null,
           null,
           null,
           null,
           null,
           null,
           null,
           null,
           null,
           null,
           null,
           null,
           null,
           null,
           null,
           null,
           null,
           null,
           null,
           null,
           null,
           null,
           0.1748288009595639,
           null,
           null,
           null,
           0.4461454940104176,
           null,
           0.34691638849305473,
           null,
           null,
           null,
           null,
           null,
           null,
           null,
           0.23981638437247563,
           null,
           null,
           null,
           null
          ],
          [
           null,
           0.2805926501833714,
           null,
           null,
           null,
           null,
           null,
           null,
           null,
           null,
           0.2533945597783428,
           null,
           null,
           null,
           null,
           null,
           null,
           null,
           0.33602106545699706,
           null,
           null,
           0.19102379163689653,
           null,
           null,
           null,
           null,
           0.170555393564403,
           null,
           null,
           null,
           null,
           null,
           null,
           null,
           null,
           null,
           null,
           null,
           null,
           null,
           null,
           null,
           null,
           null,
           null,
           null,
           null,
           null,
           null,
           null,
           null,
           null
          ],
          [
           null,
           null,
           null,
           null,
           null,
           null,
           null,
           null,
           null,
           null,
           null,
           null,
           null,
           0.3334869011270894,
           0.4057874206585123,
           null,
           0.1889968794199148,
           null,
           null,
           null,
           null,
           null,
           null,
           null,
           null,
           null,
           null,
           null,
           0.18512897786125876,
           null,
           null,
           null,
           null,
           null,
           null,
           0.30850200903830155,
           null,
           null,
           0.21916643130103683,
           null,
           null,
           null,
           null,
           null,
           null,
           null,
           null,
           null,
           null,
           null,
           null,
           null
          ],
          [
           null,
           null,
           null,
           null,
           null,
           null,
           0.2927534765020153,
           null,
           null,
           0.4159003421122947,
           null,
           null,
           null,
           null,
           null,
           null,
           null,
           null,
           null,
           0.1798959518759375,
           null,
           null,
           null,
           null,
           null,
           null,
           null,
           null,
           null,
           null,
           null,
           null,
           null,
           null,
           null,
           null,
           null,
           null,
           null,
           null,
           0.390402561118342,
           null,
           null,
           null,
           null,
           0.38921736129676826,
           null,
           null,
           null,
           null,
           0.34680226946514703,
           null
          ],
          [
           null,
           null,
           null,
           null,
           null,
           null,
           null,
           null,
           0.39002220868299026,
           null,
           null,
           null,
           null,
           null,
           null,
           null,
           null,
           0.32865242637449893,
           null,
           null,
           null,
           null,
           null,
           null,
           null,
           null,
           null,
           null,
           null,
           null,
           null,
           null,
           0.2836189600280694,
           null,
           null,
           null,
           null,
           null,
           null,
           null,
           null,
           null,
           0.2816624359369721,
           null,
           null,
           null,
           null,
           null,
           null,
           0.2573395348502084,
           null,
           null
          ],
          [
           null,
           null,
           0.3683219464325012,
           0.39847256102028633,
           null,
           null,
           null,
           0.3612189891816607,
           null,
           null,
           null,
           null,
           0.21799683306231413,
           null,
           null,
           null,
           null,
           null,
           null,
           null,
           null,
           null,
           null,
           null,
           null,
           null,
           null,
           null,
           null,
           null,
           null,
           null,
           null,
           null,
           null,
           null,
           null,
           null,
           null,
           null,
           null,
           0.21469977706426585,
           null,
           null,
           null,
           null,
           null,
           null,
           null,
           null,
           null,
           null
          ],
          [
           null,
           null,
           null,
           null,
           0.38543841233781434,
           null,
           null,
           null,
           null,
           null,
           null,
           0.39373411513209494,
           null,
           null,
           null,
           null,
           null,
           null,
           null,
           null,
           0.37176011407088044,
           null,
           null,
           null,
           null,
           null,
           null,
           null,
           null,
           0.19976144010814986,
           null,
           null,
           null,
           null,
           null,
           null,
           null,
           null,
           null,
           null,
           null,
           null,
           null,
           null,
           null,
           null,
           null,
           null,
           null,
           null,
           null,
           null
          ],
          [
           null,
           null,
           null,
           null,
           null,
           null,
           null,
           null,
           null,
           null,
           null,
           null,
           null,
           null,
           null,
           null,
           null,
           null,
           null,
           null,
           null,
           null,
           null,
           null,
           null,
           0.3816665104039338,
           null,
           null,
           null,
           null,
           null,
           0.3358915350332714,
           null,
           null,
           0.33690277939439034,
           null,
           null,
           null,
           null,
           null,
           null,
           null,
           null,
           null,
           null,
           null,
           0.16886016667262346,
           null,
           0.27499240726564095,
           null,
           null,
           null
          ],
          [
           null,
           null,
           null,
           null,
           null,
           null,
           null,
           null,
           null,
           null,
           null,
           null,
           null,
           null,
           null,
           0.39670941552865807,
           null,
           null,
           null,
           null,
           null,
           null,
           0.372883713897519,
           0.4202428046629374,
           0.4176466708630911,
           null,
           null,
           0.23430204575247932,
           null,
           null,
           0.2974619213428919,
           null,
           null,
           null,
           null,
           null,
           0.3354896299787908,
           null,
           null,
           null,
           null,
           null,
           null,
           0.1653700122405941,
           0.26579297564682575,
           null,
           null,
           null,
           null,
           null,
           null,
           null
          ],
          [
           null,
           null,
           null,
           null,
           null,
           null,
           null,
           null,
           null,
           null,
           null,
           null,
           null,
           null,
           null,
           null,
           null,
           null,
           null,
           null,
           null,
           null,
           null,
           null,
           null,
           null,
           null,
           null,
           null,
           null,
           null,
           null,
           null,
           null,
           null,
           null,
           null,
           null,
           null,
           null,
           null,
           null,
           null,
           null,
           null,
           null,
           null,
           null,
           null,
           null,
           null,
           null
          ]
         ]
        },
        {
         "marker": {
          "color": "black",
          "line": {
           "color": "Gray",
           "width": 2
          }
         },
         "mode": "markers",
         "name": "Feasible Trial",
         "showlegend": false,
         "type": "scatter",
         "x": [
          0.0038685195468653334,
          0.0005737249773857136,
          0.001947152099641176,
          0.004670042512719265,
          0.0024466663261037266,
          0.00022452281584993384,
          0.0017466964206993701,
          0.0004227124224667769,
          0.00013065515921717607,
          0.00040341443598627215,
          0.00010360862818688302,
          0.00010520622129998198,
          0.00022124276936362619,
          0.00021321800129785916,
          0.0008395641580304429,
          0.00020081775346379057,
          0.008341556925380507,
          0.00029640351353533165,
          0.00013842733077532664,
          0.0008188148579607131,
          0.0010957709260295552,
          0.000739929412833777,
          0.00010080467138309049,
          0.0003332437982674245,
          0.00016535043889868062,
          0.0011620396551063037,
          0.0006155863485382686,
          0.00017037236514304125,
          0.0004559069306120545,
          0.00029055967014847206,
          0.004086447103729056,
          0.000148007608841904,
          0.00025164778431634963,
          0.00018413287018304912,
          0.00011938029719967267,
          0.0014925379755711136,
          0.00016403318747712525,
          0.002795023021160032,
          0.0005460009051390827,
          0.005684507986941691,
          0.0002478133378015778,
          0.00036290051890749557,
          0.00035220888448065914,
          0.0003815152687892031,
          0.000780891503310904,
          0.0005211890652777367,
          0.0006455871403026349,
          0.0003405365203550537,
          0.0004749243083503763,
          0.0002622573690009186
         ],
         "xaxis": "x8",
         "y": [
          0.45000000000000007,
          0.30000000000000004,
          0.5,
          0.45000000000000007,
          0.5,
          0.5,
          0.30000000000000004,
          0.5,
          0.1,
          0.15000000000000002,
          0.35,
          0.35,
          0.2,
          0.2,
          0.2,
          0.35,
          0.25,
          0.4,
          0.25,
          0.1,
          0.1,
          0.2,
          0.15000000000000002,
          0.15000000000000002,
          0.25,
          0.25,
          0.1,
          0.15000000000000002,
          0.2,
          0.25,
          0.1,
          0.35,
          0.30000000000000004,
          0.4,
          0.4,
          0.35,
          0.30000000000000004,
          0.25,
          0.45000000000000007,
          0.30000000000000004,
          0.2,
          0.5,
          0.5,
          0.45000000000000007,
          0.5,
          0.5,
          0.45000000000000007,
          0.5,
          0.4,
          0.15000000000000002
         ],
         "yaxis": "y8"
        },
        {
         "colorbar": {
          "title": {
           "text": "Objective Value"
          }
         },
         "colorscale": [
          [
           0,
           "rgb(247,251,255)"
          ],
          [
           0.125,
           "rgb(222,235,247)"
          ],
          [
           0.25,
           "rgb(198,219,239)"
          ],
          [
           0.375,
           "rgb(158,202,225)"
          ],
          [
           0.5,
           "rgb(107,174,214)"
          ],
          [
           0.625,
           "rgb(66,146,198)"
          ],
          [
           0.75,
           "rgb(33,113,181)"
          ],
          [
           0.875,
           "rgb(8,81,156)"
          ],
          [
           1,
           "rgb(8,48,107)"
          ]
         ],
         "connectgaps": true,
         "contours": {
          "coloring": "heatmap"
         },
         "hoverinfo": "none",
         "line": {
          "smoothing": 1.3
         },
         "reversescale": false,
         "showscale": false,
         "type": "contour",
         "x": [
          0.00008083367710539624,
          0.00010080467138309049,
          0.00010360862818688302,
          0.00010520622129998198,
          0.00011938029719967267,
          0.00013065515921717607,
          0.00013842733077532664,
          0.000148007608841904,
          0.00016403318747712525,
          0.00016535043889868062,
          0.00017037236514304125,
          0.00018413287018304912,
          0.00020081775346379057,
          0.00021321800129785916,
          0.00022124276936362619,
          0.00022452281584993384,
          0.0002478133378015778,
          0.00025164778431634963,
          0.0002622573690009186,
          0.00029055967014847206,
          0.00029640351353533165,
          0.0003332437982674245,
          0.0003405365203550537,
          0.00035220888448065914,
          0.00036290051890749557,
          0.0003815152687892031,
          0.00040341443598627215,
          0.0004227124224667769,
          0.0004559069306120545,
          0.0004749243083503763,
          0.0005211890652777367,
          0.0005460009051390827,
          0.0005737249773857136,
          0.0006155863485382686,
          0.0006455871403026349,
          0.000739929412833777,
          0.000780891503310904,
          0.0008188148579607131,
          0.0008395641580304429,
          0.0010957709260295552,
          0.0011620396551063037,
          0.0014925379755711136,
          0.0017466964206993701,
          0.001947152099641176,
          0.0024466663261037266,
          0.002795023021160032,
          0.0038685195468653334,
          0.004086447103729056,
          0.004670042512719265,
          0.005684507986941691,
          0.008341556925380507,
          0.010402445302468998
         ],
         "xaxis": "x12",
         "y": [
          1.7,
          2,
          3,
          4,
          5,
          6,
          7,
          8,
          8.3
         ],
         "yaxis": "y12",
         "z": [
          [
           null,
           null,
           null,
           null,
           null,
           null,
           null,
           null,
           null,
           null,
           null,
           null,
           null,
           null,
           null,
           null,
           null,
           null,
           null,
           null,
           null,
           null,
           null,
           null,
           null,
           null,
           null,
           null,
           null,
           null,
           null,
           null,
           null,
           null,
           null,
           null,
           null,
           null,
           null,
           null,
           null,
           null,
           null,
           null,
           null,
           null,
           null,
           null,
           null,
           null,
           null,
           null
          ],
          [
           null,
           null,
           null,
           null,
           null,
           null,
           null,
           null,
           null,
           null,
           null,
           null,
           null,
           null,
           null,
           null,
           null,
           null,
           null,
           null,
           null,
           null,
           null,
           null,
           null,
           null,
           null,
           null,
           null,
           null,
           null,
           null,
           null,
           null,
           null,
           null,
           null,
           null,
           null,
           null,
           null,
           null,
           0.2816624359369721,
           0.1653700122405941,
           null,
           null,
           0.16886016667262346,
           null,
           null,
           null,
           null,
           null
          ],
          [
           null,
           null,
           null,
           null,
           null,
           null,
           null,
           null,
           0.39002220868299026,
           null,
           null,
           null,
           null,
           null,
           null,
           null,
           null,
           null,
           null,
           null,
           null,
           null,
           0.372883713897519,
           null,
           null,
           null,
           null,
           null,
           null,
           null,
           null,
           null,
           0.2836189600280694,
           null,
           null,
           null,
           null,
           null,
           null,
           null,
           null,
           null,
           null,
           null,
           null,
           null,
           null,
           null,
           null,
           null,
           null,
           null
          ],
          [
           null,
           null,
           null,
           null,
           null,
           null,
           null,
           null,
           null,
           null,
           null,
           null,
           null,
           null,
           null,
           0.39670941552865807,
           null,
           null,
           null,
           null,
           null,
           null,
           null,
           null,
           null,
           null,
           0.170555393564403,
           null,
           null,
           0.19976144010814986,
           null,
           null,
           null,
           null,
           0.33690277939439034,
           null,
           0.3354896299787908,
           null,
           null,
           null,
           null,
           null,
           null,
           null,
           0.26579297564682575,
           null,
           null,
           null,
           null,
           null,
           null,
           null
          ],
          [
           null,
           null,
           null,
           null,
           null,
           null,
           0.2927534765020153,
           null,
           null,
           null,
           0.2533945597783428,
           null,
           null,
           null,
           null,
           null,
           null,
           null,
           null,
           null,
           null,
           null,
           null,
           0.4202428046629374,
           0.4176466708630911,
           0.3816665104039338,
           null,
           null,
           null,
           null,
           0.2974619213428919,
           null,
           null,
           null,
           null,
           null,
           null,
           null,
           null,
           null,
           null,
           null,
           null,
           null,
           null,
           null,
           null,
           null,
           null,
           null,
           null,
           null
          ],
          [
           null,
           null,
           null,
           null,
           null,
           0.22459329909319595,
           null,
           null,
           null,
           null,
           null,
           null,
           null,
           null,
           null,
           null,
           null,
           null,
           0.33602106545699706,
           null,
           null,
           null,
           null,
           null,
           null,
           null,
           null,
           0.23430204575247932,
           null,
           null,
           null,
           null,
           null,
           null,
           null,
           null,
           null,
           null,
           null,
           null,
           0.390402561118342,
           0.21469977706426585,
           null,
           null,
           null,
           null,
           null,
           null,
           0.27499240726564095,
           0.2573395348502084,
           null,
           null
          ],
          [
           null,
           null,
           null,
           null,
           null,
           null,
           null,
           null,
           null,
           null,
           null,
           0.39373411513209494,
           0.21799683306231413,
           null,
           null,
           null,
           null,
           null,
           null,
           0.1798959518759375,
           0.37176011407088044,
           0.19102379163689653,
           null,
           null,
           null,
           null,
           null,
           null,
           null,
           null,
           null,
           null,
           null,
           0.1748288009595639,
           null,
           null,
           null,
           null,
           0.21916643130103683,
           0.34691638849305473,
           null,
           null,
           null,
           null,
           null,
           0.38921736129676826,
           null,
           null,
           null,
           null,
           null,
           null
          ],
          [
           null,
           0.2805926501833714,
           0.3683219464325012,
           0.39847256102028633,
           0.38543841233781434,
           null,
           null,
           0.3612189891816607,
           null,
           0.4159003421122947,
           null,
           null,
           null,
           0.3334869011270894,
           0.4057874206585123,
           null,
           0.1889968794199148,
           0.32865242637449893,
           null,
           null,
           null,
           null,
           null,
           null,
           null,
           null,
           null,
           null,
           0.18512897786125876,
           null,
           null,
           0.3358915350332714,
           null,
           null,
           null,
           0.30850200903830155,
           null,
           0.4461454940104176,
           null,
           null,
           null,
           null,
           null,
           null,
           null,
           null,
           null,
           0.23981638437247563,
           null,
           null,
           0.34680226946514703,
           null
          ],
          [
           null,
           null,
           null,
           null,
           null,
           null,
           null,
           null,
           null,
           null,
           null,
           null,
           null,
           null,
           null,
           null,
           null,
           null,
           null,
           null,
           null,
           null,
           null,
           null,
           null,
           null,
           null,
           null,
           null,
           null,
           null,
           null,
           null,
           null,
           null,
           null,
           null,
           null,
           null,
           null,
           null,
           null,
           null,
           null,
           null,
           null,
           null,
           null,
           null,
           null,
           null,
           null
          ]
         ]
        },
        {
         "marker": {
          "color": "black",
          "line": {
           "color": "Gray",
           "width": 2
          }
         },
         "mode": "markers",
         "name": "Feasible Trial",
         "showlegend": false,
         "type": "scatter",
         "x": [
          0.0038685195468653334,
          0.0005737249773857136,
          0.001947152099641176,
          0.004670042512719265,
          0.0024466663261037266,
          0.00022452281584993384,
          0.0017466964206993701,
          0.0004227124224667769,
          0.00013065515921717607,
          0.00040341443598627215,
          0.00010360862818688302,
          0.00010520622129998198,
          0.00022124276936362619,
          0.00021321800129785916,
          0.0008395641580304429,
          0.00020081775346379057,
          0.008341556925380507,
          0.00029640351353533165,
          0.00013842733077532664,
          0.0008188148579607131,
          0.0010957709260295552,
          0.000739929412833777,
          0.00010080467138309049,
          0.0003332437982674245,
          0.00016535043889868062,
          0.0011620396551063037,
          0.0006155863485382686,
          0.00017037236514304125,
          0.0004559069306120545,
          0.00029055967014847206,
          0.004086447103729056,
          0.000148007608841904,
          0.00025164778431634963,
          0.00018413287018304912,
          0.00011938029719967267,
          0.0014925379755711136,
          0.00016403318747712525,
          0.002795023021160032,
          0.0005460009051390827,
          0.005684507986941691,
          0.0002478133378015778,
          0.00036290051890749557,
          0.00035220888448065914,
          0.0003815152687892031,
          0.000780891503310904,
          0.0005211890652777367,
          0.0006455871403026349,
          0.0003405365203550537,
          0.0004749243083503763,
          0.0002622573690009186
         ],
         "xaxis": "x12",
         "y": [
          2,
          3,
          2,
          6,
          4,
          4,
          2,
          6,
          6,
          4,
          8,
          8,
          8,
          8,
          7,
          7,
          8,
          7,
          5,
          8,
          7,
          8,
          8,
          7,
          8,
          6,
          7,
          5,
          8,
          7,
          8,
          8,
          8,
          7,
          8,
          6,
          3,
          7,
          8,
          6,
          8,
          5,
          5,
          5,
          4,
          5,
          4,
          3,
          4,
          6
         ],
         "yaxis": "y12"
        },
        {
         "type": "scatter",
         "xaxis": "x16",
         "yaxis": "y16"
        }
       ],
       "layout": {
        "template": {
         "data": {
          "bar": [
           {
            "error_x": {
             "color": "#2a3f5f"
            },
            "error_y": {
             "color": "#2a3f5f"
            },
            "marker": {
             "line": {
              "color": "#E5ECF6",
              "width": 0.5
             },
             "pattern": {
              "fillmode": "overlay",
              "size": 10,
              "solidity": 0.2
             }
            },
            "type": "bar"
           }
          ],
          "barpolar": [
           {
            "marker": {
             "line": {
              "color": "#E5ECF6",
              "width": 0.5
             },
             "pattern": {
              "fillmode": "overlay",
              "size": 10,
              "solidity": 0.2
             }
            },
            "type": "barpolar"
           }
          ],
          "carpet": [
           {
            "aaxis": {
             "endlinecolor": "#2a3f5f",
             "gridcolor": "white",
             "linecolor": "white",
             "minorgridcolor": "white",
             "startlinecolor": "#2a3f5f"
            },
            "baxis": {
             "endlinecolor": "#2a3f5f",
             "gridcolor": "white",
             "linecolor": "white",
             "minorgridcolor": "white",
             "startlinecolor": "#2a3f5f"
            },
            "type": "carpet"
           }
          ],
          "choropleth": [
           {
            "colorbar": {
             "outlinewidth": 0,
             "ticks": ""
            },
            "type": "choropleth"
           }
          ],
          "contour": [
           {
            "colorbar": {
             "outlinewidth": 0,
             "ticks": ""
            },
            "colorscale": [
             [
              0,
              "#0d0887"
             ],
             [
              0.1111111111111111,
              "#46039f"
             ],
             [
              0.2222222222222222,
              "#7201a8"
             ],
             [
              0.3333333333333333,
              "#9c179e"
             ],
             [
              0.4444444444444444,
              "#bd3786"
             ],
             [
              0.5555555555555556,
              "#d8576b"
             ],
             [
              0.6666666666666666,
              "#ed7953"
             ],
             [
              0.7777777777777778,
              "#fb9f3a"
             ],
             [
              0.8888888888888888,
              "#fdca26"
             ],
             [
              1,
              "#f0f921"
             ]
            ],
            "type": "contour"
           }
          ],
          "contourcarpet": [
           {
            "colorbar": {
             "outlinewidth": 0,
             "ticks": ""
            },
            "type": "contourcarpet"
           }
          ],
          "heatmap": [
           {
            "colorbar": {
             "outlinewidth": 0,
             "ticks": ""
            },
            "colorscale": [
             [
              0,
              "#0d0887"
             ],
             [
              0.1111111111111111,
              "#46039f"
             ],
             [
              0.2222222222222222,
              "#7201a8"
             ],
             [
              0.3333333333333333,
              "#9c179e"
             ],
             [
              0.4444444444444444,
              "#bd3786"
             ],
             [
              0.5555555555555556,
              "#d8576b"
             ],
             [
              0.6666666666666666,
              "#ed7953"
             ],
             [
              0.7777777777777778,
              "#fb9f3a"
             ],
             [
              0.8888888888888888,
              "#fdca26"
             ],
             [
              1,
              "#f0f921"
             ]
            ],
            "type": "heatmap"
           }
          ],
          "heatmapgl": [
           {
            "colorbar": {
             "outlinewidth": 0,
             "ticks": ""
            },
            "colorscale": [
             [
              0,
              "#0d0887"
             ],
             [
              0.1111111111111111,
              "#46039f"
             ],
             [
              0.2222222222222222,
              "#7201a8"
             ],
             [
              0.3333333333333333,
              "#9c179e"
             ],
             [
              0.4444444444444444,
              "#bd3786"
             ],
             [
              0.5555555555555556,
              "#d8576b"
             ],
             [
              0.6666666666666666,
              "#ed7953"
             ],
             [
              0.7777777777777778,
              "#fb9f3a"
             ],
             [
              0.8888888888888888,
              "#fdca26"
             ],
             [
              1,
              "#f0f921"
             ]
            ],
            "type": "heatmapgl"
           }
          ],
          "histogram": [
           {
            "marker": {
             "pattern": {
              "fillmode": "overlay",
              "size": 10,
              "solidity": 0.2
             }
            },
            "type": "histogram"
           }
          ],
          "histogram2d": [
           {
            "colorbar": {
             "outlinewidth": 0,
             "ticks": ""
            },
            "colorscale": [
             [
              0,
              "#0d0887"
             ],
             [
              0.1111111111111111,
              "#46039f"
             ],
             [
              0.2222222222222222,
              "#7201a8"
             ],
             [
              0.3333333333333333,
              "#9c179e"
             ],
             [
              0.4444444444444444,
              "#bd3786"
             ],
             [
              0.5555555555555556,
              "#d8576b"
             ],
             [
              0.6666666666666666,
              "#ed7953"
             ],
             [
              0.7777777777777778,
              "#fb9f3a"
             ],
             [
              0.8888888888888888,
              "#fdca26"
             ],
             [
              1,
              "#f0f921"
             ]
            ],
            "type": "histogram2d"
           }
          ],
          "histogram2dcontour": [
           {
            "colorbar": {
             "outlinewidth": 0,
             "ticks": ""
            },
            "colorscale": [
             [
              0,
              "#0d0887"
             ],
             [
              0.1111111111111111,
              "#46039f"
             ],
             [
              0.2222222222222222,
              "#7201a8"
             ],
             [
              0.3333333333333333,
              "#9c179e"
             ],
             [
              0.4444444444444444,
              "#bd3786"
             ],
             [
              0.5555555555555556,
              "#d8576b"
             ],
             [
              0.6666666666666666,
              "#ed7953"
             ],
             [
              0.7777777777777778,
              "#fb9f3a"
             ],
             [
              0.8888888888888888,
              "#fdca26"
             ],
             [
              1,
              "#f0f921"
             ]
            ],
            "type": "histogram2dcontour"
           }
          ],
          "mesh3d": [
           {
            "colorbar": {
             "outlinewidth": 0,
             "ticks": ""
            },
            "type": "mesh3d"
           }
          ],
          "parcoords": [
           {
            "line": {
             "colorbar": {
              "outlinewidth": 0,
              "ticks": ""
             }
            },
            "type": "parcoords"
           }
          ],
          "pie": [
           {
            "automargin": true,
            "type": "pie"
           }
          ],
          "scatter": [
           {
            "fillpattern": {
             "fillmode": "overlay",
             "size": 10,
             "solidity": 0.2
            },
            "type": "scatter"
           }
          ],
          "scatter3d": [
           {
            "line": {
             "colorbar": {
              "outlinewidth": 0,
              "ticks": ""
             }
            },
            "marker": {
             "colorbar": {
              "outlinewidth": 0,
              "ticks": ""
             }
            },
            "type": "scatter3d"
           }
          ],
          "scattercarpet": [
           {
            "marker": {
             "colorbar": {
              "outlinewidth": 0,
              "ticks": ""
             }
            },
            "type": "scattercarpet"
           }
          ],
          "scattergeo": [
           {
            "marker": {
             "colorbar": {
              "outlinewidth": 0,
              "ticks": ""
             }
            },
            "type": "scattergeo"
           }
          ],
          "scattergl": [
           {
            "marker": {
             "colorbar": {
              "outlinewidth": 0,
              "ticks": ""
             }
            },
            "type": "scattergl"
           }
          ],
          "scattermapbox": [
           {
            "marker": {
             "colorbar": {
              "outlinewidth": 0,
              "ticks": ""
             }
            },
            "type": "scattermapbox"
           }
          ],
          "scatterpolar": [
           {
            "marker": {
             "colorbar": {
              "outlinewidth": 0,
              "ticks": ""
             }
            },
            "type": "scatterpolar"
           }
          ],
          "scatterpolargl": [
           {
            "marker": {
             "colorbar": {
              "outlinewidth": 0,
              "ticks": ""
             }
            },
            "type": "scatterpolargl"
           }
          ],
          "scatterternary": [
           {
            "marker": {
             "colorbar": {
              "outlinewidth": 0,
              "ticks": ""
             }
            },
            "type": "scatterternary"
           }
          ],
          "surface": [
           {
            "colorbar": {
             "outlinewidth": 0,
             "ticks": ""
            },
            "colorscale": [
             [
              0,
              "#0d0887"
             ],
             [
              0.1111111111111111,
              "#46039f"
             ],
             [
              0.2222222222222222,
              "#7201a8"
             ],
             [
              0.3333333333333333,
              "#9c179e"
             ],
             [
              0.4444444444444444,
              "#bd3786"
             ],
             [
              0.5555555555555556,
              "#d8576b"
             ],
             [
              0.6666666666666666,
              "#ed7953"
             ],
             [
              0.7777777777777778,
              "#fb9f3a"
             ],
             [
              0.8888888888888888,
              "#fdca26"
             ],
             [
              1,
              "#f0f921"
             ]
            ],
            "type": "surface"
           }
          ],
          "table": [
           {
            "cells": {
             "fill": {
              "color": "#EBF0F8"
             },
             "line": {
              "color": "white"
             }
            },
            "header": {
             "fill": {
              "color": "#C8D4E3"
             },
             "line": {
              "color": "white"
             }
            },
            "type": "table"
           }
          ]
         },
         "layout": {
          "annotationdefaults": {
           "arrowcolor": "#2a3f5f",
           "arrowhead": 0,
           "arrowwidth": 1
          },
          "autotypenumbers": "strict",
          "coloraxis": {
           "colorbar": {
            "outlinewidth": 0,
            "ticks": ""
           }
          },
          "colorscale": {
           "diverging": [
            [
             0,
             "#8e0152"
            ],
            [
             0.1,
             "#c51b7d"
            ],
            [
             0.2,
             "#de77ae"
            ],
            [
             0.3,
             "#f1b6da"
            ],
            [
             0.4,
             "#fde0ef"
            ],
            [
             0.5,
             "#f7f7f7"
            ],
            [
             0.6,
             "#e6f5d0"
            ],
            [
             0.7,
             "#b8e186"
            ],
            [
             0.8,
             "#7fbc41"
            ],
            [
             0.9,
             "#4d9221"
            ],
            [
             1,
             "#276419"
            ]
           ],
           "sequential": [
            [
             0,
             "#0d0887"
            ],
            [
             0.1111111111111111,
             "#46039f"
            ],
            [
             0.2222222222222222,
             "#7201a8"
            ],
            [
             0.3333333333333333,
             "#9c179e"
            ],
            [
             0.4444444444444444,
             "#bd3786"
            ],
            [
             0.5555555555555556,
             "#d8576b"
            ],
            [
             0.6666666666666666,
             "#ed7953"
            ],
            [
             0.7777777777777778,
             "#fb9f3a"
            ],
            [
             0.8888888888888888,
             "#fdca26"
            ],
            [
             1,
             "#f0f921"
            ]
           ],
           "sequentialminus": [
            [
             0,
             "#0d0887"
            ],
            [
             0.1111111111111111,
             "#46039f"
            ],
            [
             0.2222222222222222,
             "#7201a8"
            ],
            [
             0.3333333333333333,
             "#9c179e"
            ],
            [
             0.4444444444444444,
             "#bd3786"
            ],
            [
             0.5555555555555556,
             "#d8576b"
            ],
            [
             0.6666666666666666,
             "#ed7953"
            ],
            [
             0.7777777777777778,
             "#fb9f3a"
            ],
            [
             0.8888888888888888,
             "#fdca26"
            ],
            [
             1,
             "#f0f921"
            ]
           ]
          },
          "colorway": [
           "#636efa",
           "#EF553B",
           "#00cc96",
           "#ab63fa",
           "#FFA15A",
           "#19d3f3",
           "#FF6692",
           "#B6E880",
           "#FF97FF",
           "#FECB52"
          ],
          "font": {
           "color": "#2a3f5f"
          },
          "geo": {
           "bgcolor": "white",
           "lakecolor": "white",
           "landcolor": "#E5ECF6",
           "showlakes": true,
           "showland": true,
           "subunitcolor": "white"
          },
          "hoverlabel": {
           "align": "left"
          },
          "hovermode": "closest",
          "mapbox": {
           "style": "light"
          },
          "paper_bgcolor": "white",
          "plot_bgcolor": "#E5ECF6",
          "polar": {
           "angularaxis": {
            "gridcolor": "white",
            "linecolor": "white",
            "ticks": ""
           },
           "bgcolor": "#E5ECF6",
           "radialaxis": {
            "gridcolor": "white",
            "linecolor": "white",
            "ticks": ""
           }
          },
          "scene": {
           "xaxis": {
            "backgroundcolor": "#E5ECF6",
            "gridcolor": "white",
            "gridwidth": 2,
            "linecolor": "white",
            "showbackground": true,
            "ticks": "",
            "zerolinecolor": "white"
           },
           "yaxis": {
            "backgroundcolor": "#E5ECF6",
            "gridcolor": "white",
            "gridwidth": 2,
            "linecolor": "white",
            "showbackground": true,
            "ticks": "",
            "zerolinecolor": "white"
           },
           "zaxis": {
            "backgroundcolor": "#E5ECF6",
            "gridcolor": "white",
            "gridwidth": 2,
            "linecolor": "white",
            "showbackground": true,
            "ticks": "",
            "zerolinecolor": "white"
           }
          },
          "shapedefaults": {
           "line": {
            "color": "#2a3f5f"
           }
          },
          "ternary": {
           "aaxis": {
            "gridcolor": "white",
            "linecolor": "white",
            "ticks": ""
           },
           "baxis": {
            "gridcolor": "white",
            "linecolor": "white",
            "ticks": ""
           },
           "bgcolor": "#E5ECF6",
           "caxis": {
            "gridcolor": "white",
            "linecolor": "white",
            "ticks": ""
           }
          },
          "title": {
           "x": 0.05
          },
          "xaxis": {
           "automargin": true,
           "gridcolor": "white",
           "linecolor": "white",
           "ticks": "",
           "title": {
            "standoff": 15
           },
           "zerolinecolor": "white",
           "zerolinewidth": 2
          },
          "yaxis": {
           "automargin": true,
           "gridcolor": "white",
           "linecolor": "white",
           "ticks": "",
           "title": {
            "standoff": 15
           },
           "zerolinecolor": "white",
           "zerolinewidth": 2
          }
         }
        },
        "title": {
         "text": "Contour Plot"
        },
        "xaxis": {
         "anchor": "y",
         "domain": [
          0,
          0.2125
         ],
         "matches": "x13",
         "range": [
          -0.15000000000000002,
          3.15
         ],
         "showticklabels": false,
         "type": "category"
        },
        "xaxis10": {
         "anchor": "y10",
         "domain": [
          0.2625,
          0.475
         ],
         "matches": "x14",
         "range": [
          0.08,
          0.52
         ],
         "showticklabels": false
        },
        "xaxis11": {
         "anchor": "y11",
         "domain": [
          0.525,
          0.7375
         ],
         "matches": "x15",
         "range": [
          1.7,
          8.3
         ],
         "showticklabels": false
        },
        "xaxis12": {
         "anchor": "y12",
         "domain": [
          0.7875,
          1
         ],
         "matches": "x16",
         "range": [
          -4.092407664795906,
          -1.982864559110919
         ],
         "showticklabels": false,
         "type": "log"
        },
        "xaxis13": {
         "anchor": "y13",
         "domain": [
          0,
          0.2125
         ],
         "range": [
          -0.15000000000000002,
          3.15
         ],
         "title": {
          "text": "architecture"
         },
         "type": "category"
        },
        "xaxis14": {
         "anchor": "y14",
         "domain": [
          0.2625,
          0.475
         ],
         "range": [
          0.08,
          0.52
         ],
         "title": {
          "text": "dropout"
         }
        },
        "xaxis15": {
         "anchor": "y15",
         "domain": [
          0.525,
          0.7375
         ],
         "range": [
          1.7,
          8.3
         ],
         "title": {
          "text": "embedding_dim"
         }
        },
        "xaxis16": {
         "anchor": "y16",
         "domain": [
          0.7875,
          1
         ],
         "range": [
          -4.092407664795906,
          -1.982864559110919
         ],
         "title": {
          "text": "lr"
         },
         "type": "log"
        },
        "xaxis2": {
         "anchor": "y2",
         "domain": [
          0.2625,
          0.475
         ],
         "matches": "x14",
         "range": [
          0.08,
          0.52
         ],
         "showticklabels": false
        },
        "xaxis3": {
         "anchor": "y3",
         "domain": [
          0.525,
          0.7375
         ],
         "matches": "x15",
         "range": [
          1.7,
          8.3
         ],
         "showticklabels": false
        },
        "xaxis4": {
         "anchor": "y4",
         "domain": [
          0.7875,
          1
         ],
         "matches": "x16",
         "range": [
          -4.092407664795906,
          -1.982864559110919
         ],
         "showticklabels": false,
         "type": "log"
        },
        "xaxis5": {
         "anchor": "y5",
         "domain": [
          0,
          0.2125
         ],
         "matches": "x13",
         "range": [
          -0.15000000000000002,
          3.15
         ],
         "showticklabels": false,
         "type": "category"
        },
        "xaxis6": {
         "anchor": "y6",
         "domain": [
          0.2625,
          0.475
         ],
         "matches": "x14",
         "range": [
          0.08,
          0.52
         ],
         "showticklabels": false
        },
        "xaxis7": {
         "anchor": "y7",
         "domain": [
          0.525,
          0.7375
         ],
         "matches": "x15",
         "range": [
          1.7,
          8.3
         ],
         "showticklabels": false
        },
        "xaxis8": {
         "anchor": "y8",
         "domain": [
          0.7875,
          1
         ],
         "matches": "x16",
         "range": [
          -4.092407664795906,
          -1.982864559110919
         ],
         "showticklabels": false,
         "type": "log"
        },
        "xaxis9": {
         "anchor": "y9",
         "domain": [
          0,
          0.2125
         ],
         "matches": "x13",
         "range": [
          -0.15000000000000002,
          3.15
         ],
         "showticklabels": false,
         "type": "category"
        },
        "yaxis": {
         "anchor": "x",
         "domain": [
          0.80625,
          1
         ],
         "range": [
          -0.15000000000000002,
          3.15
         ],
         "title": {
          "text": "architecture"
         },
         "type": "category"
        },
        "yaxis10": {
         "anchor": "x10",
         "domain": [
          0.26875,
          0.4625
         ],
         "matches": "y9",
         "range": [
          1.7,
          8.3
         ],
         "showticklabels": false
        },
        "yaxis11": {
         "anchor": "x11",
         "domain": [
          0.26875,
          0.4625
         ],
         "matches": "y9",
         "range": [
          1.7,
          8.3
         ],
         "showticklabels": false
        },
        "yaxis12": {
         "anchor": "x12",
         "domain": [
          0.26875,
          0.4625
         ],
         "matches": "y9",
         "range": [
          1.7,
          8.3
         ],
         "showticklabels": false
        },
        "yaxis13": {
         "anchor": "x13",
         "domain": [
          0,
          0.19375
         ],
         "range": [
          -4.092407664795906,
          -1.982864559110919
         ],
         "title": {
          "text": "lr"
         },
         "type": "log"
        },
        "yaxis14": {
         "anchor": "x14",
         "domain": [
          0,
          0.19375
         ],
         "matches": "y13",
         "range": [
          -4.092407664795906,
          -1.982864559110919
         ],
         "showticklabels": false,
         "type": "log"
        },
        "yaxis15": {
         "anchor": "x15",
         "domain": [
          0,
          0.19375
         ],
         "matches": "y13",
         "range": [
          -4.092407664795906,
          -1.982864559110919
         ],
         "showticklabels": false,
         "type": "log"
        },
        "yaxis16": {
         "anchor": "x16",
         "domain": [
          0,
          0.19375
         ],
         "matches": "y13",
         "range": [
          -4.092407664795906,
          -1.982864559110919
         ],
         "showticklabels": false,
         "type": "log"
        },
        "yaxis2": {
         "anchor": "x2",
         "domain": [
          0.80625,
          1
         ],
         "matches": "y",
         "range": [
          -0.15000000000000002,
          3.15
         ],
         "showticklabels": false,
         "type": "category"
        },
        "yaxis3": {
         "anchor": "x3",
         "domain": [
          0.80625,
          1
         ],
         "matches": "y",
         "range": [
          -0.15000000000000002,
          3.15
         ],
         "showticklabels": false,
         "type": "category"
        },
        "yaxis4": {
         "anchor": "x4",
         "domain": [
          0.80625,
          1
         ],
         "matches": "y",
         "range": [
          -0.15000000000000002,
          3.15
         ],
         "showticklabels": false,
         "type": "category"
        },
        "yaxis5": {
         "anchor": "x5",
         "domain": [
          0.5375,
          0.73125
         ],
         "range": [
          0.08,
          0.52
         ],
         "title": {
          "text": "dropout"
         }
        },
        "yaxis6": {
         "anchor": "x6",
         "domain": [
          0.5375,
          0.73125
         ],
         "matches": "y5",
         "range": [
          0.08,
          0.52
         ],
         "showticklabels": false
        },
        "yaxis7": {
         "anchor": "x7",
         "domain": [
          0.5375,
          0.73125
         ],
         "matches": "y5",
         "range": [
          0.08,
          0.52
         ],
         "showticklabels": false
        },
        "yaxis8": {
         "anchor": "x8",
         "domain": [
          0.5375,
          0.73125
         ],
         "matches": "y5",
         "range": [
          0.08,
          0.52
         ],
         "showticklabels": false
        },
        "yaxis9": {
         "anchor": "x9",
         "domain": [
          0.26875,
          0.4625
         ],
         "range": [
          1.7,
          8.3
         ],
         "title": {
          "text": "embedding_dim"
         }
        }
       }
      }
     },
     "metadata": {},
     "output_type": "display_data"
    }
   ],
   "source": [
    "# Optuna objective function\n",
    "def objective(trial):\n",
    "    is_bilstm = False\n",
    "    sequence_length = 30\n",
    "\n",
    "    architecture_choice = trial.suggest_categorical(\"architecture\", list(POSSIBLE_LAYER_SIZES.keys()))\n",
    "    layer_sizes = POSSIBLE_LAYER_SIZES[architecture_choice]\n",
    "    \n",
    "    dropout = trial.suggest_float(\"dropout\", 0.1, 0.5, step=0.05)\n",
    "    embedding_dim = trial.suggest_int(\"embedding_dim\", 2, 8)\n",
    "    learning_rate = trial.suggest_float(\"lr\", 1e-4, 1e-2, log=True)\n",
    "\n",
    "    train_ds = WildfireDataset(s1_train, sequence_length, only_no_fire=True)\n",
    "    val_ds = WildfireDataset(s1_val, sequence_length, only_no_fire=False)\n",
    "    train_loader = DataLoader(train_ds, batch_size=64, shuffle=True, generator=g)\n",
    "    val_loader = DataLoader(val_ds, batch_size=64, shuffle=False)\n",
    "\n",
    "    model = LSTMAutoencoder(input_dim=len(NUMERIC_FEATURES),\n",
    "                             embedding_dim=embedding_dim,\n",
    "                             layer_sizes=layer_sizes,\n",
    "                             num_states=s1_train[CAT_FEATURE].nunique(),\n",
    "                             bidirectional=is_bilstm,\n",
    "                             dropout=dropout)\n",
    "    optimizer = torch.optim.Adam(model.parameters(), lr=learning_rate)\n",
    "    criterion = nn.MSELoss()\n",
    "\n",
    "    for epoch in range(1, 21):\n",
    "        loss = train_one_epoch(model, train_loader, optimizer, criterion)\n",
    "\n",
    "    val_scores, val_labels = evaluate_model(model, val_loader)\n",
    "    threshold, _ = find_best_f1_threshold(val_labels, val_scores)\n",
    "    metrics, _ = compute_metrics(val_labels, val_scores, threshold)\n",
    "\n",
    "    trial_msg = (f\"Trial {trial.number}: \"\n",
    "                 f\"MCC={metrics['MCC']:.4f}, REC={metrics['REC']:.4f}, AUC={metrics['AUC']:.4f}, \"\n",
    "                 f\"Params={trial.params}\")\n",
    "    \n",
    "    log_path = os.path.join(log_dir, \"LSTM-AE_optuna_search_log.txt\")\n",
    "    with open(log_path, \"a\") as f:\n",
    "        log_and_print(trial_msg, f)\n",
    "    \n",
    "    return metrics[\"MCC\"]\n",
    "\n",
    "# Optuna study\n",
    "study = optuna.create_study(direction=\"maximize\")\n",
    "study.optimize(objective, n_trials=50)\n",
    "\n",
    "# Save best trial\n",
    "best_params_path = os.path.join(log_dir, \"LSTM-AE_best_trial_params.txt\")\n",
    "with open(best_params_path, \"w\") as f:\n",
    "    f.write(str(study.best_trial.params))\n",
    "\n",
    "print(\"Best trial parameters saved to:\", best_params_path)\n",
    "\n",
    "fig1 = vis.plot_optimization_history(study)\n",
    "fig1.show()\n",
    "fig2 = vis.plot_param_importances(study)\n",
    "fig2.show()\n",
    "fig3 = vis.plot_parallel_coordinate(study)\n",
    "fig3.show()\n",
    "fig4 = vis.plot_contour(study)\n",
    "fig4.show()\n",
    "\n",
    "fig1.write_html(os.path.join(log_dir, \"LSTM-AE_optuna_optimization_history.html\"))\n",
    "fig2.write_html(os.path.join(log_dir, \"LSTM-AE_optuna_param_importances.html\"))\n",
    "fig3.write_html(os.path.join(log_dir, \"LSTM-AE_optuna_parallel_coordinate.html\"))\n",
    "fig4.write_html(os.path.join(log_dir, \"LSTM-AE_optuna_contour.html\"))"
   ]
  },
  {
   "cell_type": "markdown",
   "metadata": {},
   "source": [
    "#### **Model A 14-Day Bi-LSTM-AE**"
   ]
  },
  {
   "cell_type": "code",
   "execution_count": null,
   "metadata": {},
   "outputs": [
    {
     "name": "stderr",
     "output_type": "stream",
     "text": [
      "[I 2025-04-26 22:07:06,501] A new study created in memory with name: no-name-5f388879-2149-4cb6-a44b-9a1d0811018d\n",
      "[I 2025-04-26 22:22:12,634] Trial 0 finished with value: 0.10103309665326823 and parameters: {'architecture': 'wide_shallow', 'dropout': 0.25, 'embedding_dim': 4, 'lr': 0.000303702813697569}. Best is trial 0 with value: 0.10103309665326823.\n"
     ]
    },
    {
     "name": "stdout",
     "output_type": "stream",
     "text": [
      "Trial 0: MCC=0.1010, REC=0.6019, AUC=0.5750, Params={'architecture': 'wide_shallow', 'dropout': 0.25, 'embedding_dim': 4, 'lr': 0.000303702813697569}\n"
     ]
    },
    {
     "name": "stderr",
     "output_type": "stream",
     "text": [
      "[I 2025-04-26 22:27:29,162] Trial 1 finished with value: 0.15989988976305156 and parameters: {'architecture': 'mid', 'dropout': 0.15000000000000002, 'embedding_dim': 6, 'lr': 0.0002938689826497611}. Best is trial 1 with value: 0.15989988976305156.\n"
     ]
    },
    {
     "name": "stdout",
     "output_type": "stream",
     "text": [
      "Trial 1: MCC=0.1599, REC=0.5287, AUC=0.5924, Params={'architecture': 'mid', 'dropout': 0.15000000000000002, 'embedding_dim': 6, 'lr': 0.0002938689826497611}\n"
     ]
    },
    {
     "name": "stderr",
     "output_type": "stream",
     "text": [
      "[I 2025-04-26 22:30:23,762] Trial 2 finished with value: 0.1762982557456941 and parameters: {'architecture': 'small', 'dropout': 0.25, 'embedding_dim': 6, 'lr': 0.00765161529441038}. Best is trial 2 with value: 0.1762982557456941.\n"
     ]
    },
    {
     "name": "stdout",
     "output_type": "stream",
     "text": [
      "Trial 2: MCC=0.1763, REC=0.5318, AUC=0.6414, Params={'architecture': 'small', 'dropout': 0.25, 'embedding_dim': 6, 'lr': 0.00765161529441038}\n"
     ]
    },
    {
     "name": "stderr",
     "output_type": "stream",
     "text": [
      "[I 2025-04-26 22:37:09,417] Trial 3 finished with value: 0.22989319072300088 and parameters: {'architecture': 'deep', 'dropout': 0.30000000000000004, 'embedding_dim': 4, 'lr': 0.002978070393374954}. Best is trial 3 with value: 0.22989319072300088.\n"
     ]
    },
    {
     "name": "stdout",
     "output_type": "stream",
     "text": [
      "Trial 3: MCC=0.2299, REC=0.4427, AUC=0.6224, Params={'architecture': 'deep', 'dropout': 0.30000000000000004, 'embedding_dim': 4, 'lr': 0.002978070393374954}\n"
     ]
    },
    {
     "name": "stderr",
     "output_type": "stream",
     "text": [
      "[I 2025-04-26 22:44:07,956] Trial 4 finished with value: 0.15335737493230792 and parameters: {'architecture': 'deep', 'dropout': 0.25, 'embedding_dim': 7, 'lr': 0.0006546655572339079}. Best is trial 3 with value: 0.22989319072300088.\n"
     ]
    },
    {
     "name": "stdout",
     "output_type": "stream",
     "text": [
      "Trial 4: MCC=0.1534, REC=0.5764, AUC=0.6602, Params={'architecture': 'deep', 'dropout': 0.25, 'embedding_dim': 7, 'lr': 0.0006546655572339079}\n"
     ]
    },
    {
     "name": "stderr",
     "output_type": "stream",
     "text": [
      "[I 2025-04-26 22:51:03,581] Trial 5 finished with value: 0.3688197120233017 and parameters: {'architecture': 'deep', 'dropout': 0.30000000000000004, 'embedding_dim': 2, 'lr': 0.006959894748259145}. Best is trial 5 with value: 0.3688197120233017.\n"
     ]
    },
    {
     "name": "stdout",
     "output_type": "stream",
     "text": [
      "Trial 5: MCC=0.3688, REC=0.2994, AUC=0.7924, Params={'architecture': 'deep', 'dropout': 0.30000000000000004, 'embedding_dim': 2, 'lr': 0.006959894748259145}\n"
     ]
    },
    {
     "name": "stderr",
     "output_type": "stream",
     "text": [
      "[I 2025-04-26 22:56:52,970] Trial 6 finished with value: 0.17268618376002245 and parameters: {'architecture': 'mid', 'dropout': 0.5, 'embedding_dim': 5, 'lr': 0.0005430155601726046}. Best is trial 5 with value: 0.3688197120233017.\n"
     ]
    },
    {
     "name": "stdout",
     "output_type": "stream",
     "text": [
      "Trial 6: MCC=0.1727, REC=0.4363, AUC=0.6282, Params={'architecture': 'mid', 'dropout': 0.5, 'embedding_dim': 5, 'lr': 0.0005430155601726046}\n"
     ]
    },
    {
     "name": "stderr",
     "output_type": "stream",
     "text": [
      "[I 2025-04-26 22:59:55,611] Trial 7 finished with value: 0.1603917944635501 and parameters: {'architecture': 'small', 'dropout': 0.5, 'embedding_dim': 3, 'lr': 0.001929905271167702}. Best is trial 5 with value: 0.3688197120233017.\n"
     ]
    },
    {
     "name": "stdout",
     "output_type": "stream",
     "text": [
      "Trial 7: MCC=0.1604, REC=0.6720, AUC=0.6553, Params={'architecture': 'small', 'dropout': 0.5, 'embedding_dim': 3, 'lr': 0.001929905271167702}\n"
     ]
    },
    {
     "name": "stderr",
     "output_type": "stream",
     "text": [
      "[I 2025-04-26 23:07:08,682] Trial 8 finished with value: 0.3720473959055548 and parameters: {'architecture': 'deep', 'dropout': 0.45000000000000007, 'embedding_dim': 8, 'lr': 0.003083214387971419}. Best is trial 8 with value: 0.3720473959055548.\n"
     ]
    },
    {
     "name": "stdout",
     "output_type": "stream",
     "text": [
      "Trial 8: MCC=0.3720, REC=0.2994, AUC=0.7921, Params={'architecture': 'deep', 'dropout': 0.45000000000000007, 'embedding_dim': 8, 'lr': 0.003083214387971419}\n"
     ]
    },
    {
     "name": "stderr",
     "output_type": "stream",
     "text": [
      "[I 2025-04-26 23:13:07,482] Trial 9 finished with value: 0.005460949150205369 and parameters: {'architecture': 'mid', 'dropout': 0.1, 'embedding_dim': 3, 'lr': 0.00011269416937412507}. Best is trial 8 with value: 0.3720473959055548.\n"
     ]
    },
    {
     "name": "stdout",
     "output_type": "stream",
     "text": [
      "Trial 9: MCC=0.0055, REC=0.9968, AUC=0.4988, Params={'architecture': 'mid', 'dropout': 0.1, 'embedding_dim': 3, 'lr': 0.00011269416937412507}\n"
     ]
    },
    {
     "name": "stderr",
     "output_type": "stream",
     "text": [
      "[I 2025-04-26 23:30:54,990] Trial 10 finished with value: 0.19188193151003075 and parameters: {'architecture': 'wide_shallow', 'dropout': 0.4, 'embedding_dim': 8, 'lr': 0.002614233818711447}. Best is trial 8 with value: 0.3720473959055548.\n"
     ]
    },
    {
     "name": "stdout",
     "output_type": "stream",
     "text": [
      "Trial 10: MCC=0.1919, REC=0.4904, AUC=0.6525, Params={'architecture': 'wide_shallow', 'dropout': 0.4, 'embedding_dim': 8, 'lr': 0.002614233818711447}\n"
     ]
    },
    {
     "name": "stderr",
     "output_type": "stream",
     "text": [
      "[I 2025-04-26 23:37:50,111] Trial 11 finished with value: 0.3736816022455939 and parameters: {'architecture': 'deep', 'dropout': 0.4, 'embedding_dim': 2, 'lr': 0.006161330774897911}. Best is trial 11 with value: 0.3736816022455939.\n"
     ]
    },
    {
     "name": "stdout",
     "output_type": "stream",
     "text": [
      "Trial 11: MCC=0.3737, REC=0.2994, AUC=0.7993, Params={'architecture': 'deep', 'dropout': 0.4, 'embedding_dim': 2, 'lr': 0.006161330774897911}\n"
     ]
    },
    {
     "name": "stderr",
     "output_type": "stream",
     "text": [
      "[I 2025-04-26 23:45:03,621] Trial 12 finished with value: 0.19340742930463165 and parameters: {'architecture': 'deep', 'dropout': 0.4, 'embedding_dim': 8, 'lr': 0.004545619981820755}. Best is trial 11 with value: 0.3736816022455939.\n"
     ]
    },
    {
     "name": "stdout",
     "output_type": "stream",
     "text": [
      "Trial 12: MCC=0.1934, REC=0.4076, AUC=0.6490, Params={'architecture': 'deep', 'dropout': 0.4, 'embedding_dim': 8, 'lr': 0.004545619981820755}\n"
     ]
    },
    {
     "name": "stderr",
     "output_type": "stream",
     "text": [
      "[I 2025-04-26 23:52:17,838] Trial 13 finished with value: 0.3704268350134989 and parameters: {'architecture': 'deep', 'dropout': 0.4, 'embedding_dim': 2, 'lr': 0.0016423542223152217}. Best is trial 11 with value: 0.3736816022455939.\n"
     ]
    },
    {
     "name": "stdout",
     "output_type": "stream",
     "text": [
      "Trial 13: MCC=0.3704, REC=0.2994, AUC=0.7955, Params={'architecture': 'deep', 'dropout': 0.4, 'embedding_dim': 2, 'lr': 0.0016423542223152217}\n"
     ]
    },
    {
     "name": "stderr",
     "output_type": "stream",
     "text": [
      "[I 2025-04-26 23:59:17,070] Trial 14 finished with value: 0.3736816022455939 and parameters: {'architecture': 'deep', 'dropout': 0.45000000000000007, 'embedding_dim': 6, 'lr': 0.00927307908763908}. Best is trial 11 with value: 0.3736816022455939.\n"
     ]
    },
    {
     "name": "stdout",
     "output_type": "stream",
     "text": [
      "Trial 14: MCC=0.3737, REC=0.2994, AUC=0.7953, Params={'architecture': 'deep', 'dropout': 0.45000000000000007, 'embedding_dim': 6, 'lr': 0.00927307908763908}\n"
     ]
    },
    {
     "name": "stderr",
     "output_type": "stream",
     "text": [
      "[I 2025-04-27 00:06:19,733] Trial 15 finished with value: 0.3688197120233017 and parameters: {'architecture': 'deep', 'dropout': 0.35, 'embedding_dim': 6, 'lr': 0.009941574095947092}. Best is trial 11 with value: 0.3736816022455939.\n"
     ]
    },
    {
     "name": "stdout",
     "output_type": "stream",
     "text": [
      "Trial 15: MCC=0.3688, REC=0.2994, AUC=0.7859, Params={'architecture': 'deep', 'dropout': 0.35, 'embedding_dim': 6, 'lr': 0.009941574095947092}\n"
     ]
    },
    {
     "name": "stderr",
     "output_type": "stream",
     "text": [
      "[I 2025-04-27 00:13:22,431] Trial 16 finished with value: 0.3720473959055548 and parameters: {'architecture': 'deep', 'dropout': 0.45000000000000007, 'embedding_dim': 5, 'lr': 0.005219397775922193}. Best is trial 11 with value: 0.3736816022455939.\n"
     ]
    },
    {
     "name": "stdout",
     "output_type": "stream",
     "text": [
      "Trial 16: MCC=0.3720, REC=0.2994, AUC=0.7978, Params={'architecture': 'deep', 'dropout': 0.45000000000000007, 'embedding_dim': 5, 'lr': 0.005219397775922193}\n"
     ]
    },
    {
     "name": "stderr",
     "output_type": "stream",
     "text": [
      "[I 2025-04-27 00:16:21,975] Trial 17 finished with value: 0.19722337112698343 and parameters: {'architecture': 'small', 'dropout': 0.35, 'embedding_dim': 4, 'lr': 0.0012044803984716341}. Best is trial 11 with value: 0.3736816022455939.\n"
     ]
    },
    {
     "name": "stdout",
     "output_type": "stream",
     "text": [
      "Trial 17: MCC=0.1972, REC=0.5605, AUC=0.6250, Params={'architecture': 'small', 'dropout': 0.35, 'embedding_dim': 4, 'lr': 0.0012044803984716341}\n"
     ]
    },
    {
     "name": "stderr",
     "output_type": "stream",
     "text": [
      "[I 2025-04-27 00:34:12,602] Trial 18 finished with value: 0.14836526403683745 and parameters: {'architecture': 'wide_shallow', 'dropout': 0.45000000000000007, 'embedding_dim': 7, 'lr': 0.0043775015005089206}. Best is trial 11 with value: 0.3736816022455939.\n"
     ]
    },
    {
     "name": "stdout",
     "output_type": "stream",
     "text": [
      "Trial 18: MCC=0.1484, REC=0.4490, AUC=0.5423, Params={'architecture': 'wide_shallow', 'dropout': 0.45000000000000007, 'embedding_dim': 7, 'lr': 0.0043775015005089206}\n"
     ]
    },
    {
     "name": "stderr",
     "output_type": "stream",
     "text": [
      "[I 2025-04-27 00:41:40,251] Trial 19 finished with value: 0.3688197120233017 and parameters: {'architecture': 'deep', 'dropout': 0.35, 'embedding_dim': 5, 'lr': 0.009503900248990182}. Best is trial 11 with value: 0.3736816022455939.\n"
     ]
    },
    {
     "name": "stdout",
     "output_type": "stream",
     "text": [
      "Trial 19: MCC=0.3688, REC=0.2994, AUC=0.7963, Params={'architecture': 'deep', 'dropout': 0.35, 'embedding_dim': 5, 'lr': 0.009503900248990182}\n"
     ]
    },
    {
     "name": "stderr",
     "output_type": "stream",
     "text": [
      "[I 2025-04-27 00:49:12,165] Trial 20 finished with value: 0.2640917453857312 and parameters: {'architecture': 'deep', 'dropout': 0.5, 'embedding_dim': 3, 'lr': 0.005294255819381953}. Best is trial 11 with value: 0.3736816022455939.\n"
     ]
    },
    {
     "name": "stdout",
     "output_type": "stream",
     "text": [
      "Trial 20: MCC=0.2641, REC=0.6847, AUC=0.7435, Params={'architecture': 'deep', 'dropout': 0.5, 'embedding_dim': 3, 'lr': 0.005294255819381953}\n"
     ]
    },
    {
     "name": "stderr",
     "output_type": "stream",
     "text": [
      "[I 2025-04-27 00:56:50,141] Trial 21 finished with value: 0.3720473959055548 and parameters: {'architecture': 'deep', 'dropout': 0.45000000000000007, 'embedding_dim': 7, 'lr': 0.0030237974420967424}. Best is trial 11 with value: 0.3736816022455939.\n"
     ]
    },
    {
     "name": "stdout",
     "output_type": "stream",
     "text": [
      "Trial 21: MCC=0.3720, REC=0.2994, AUC=0.7894, Params={'architecture': 'deep', 'dropout': 0.45000000000000007, 'embedding_dim': 7, 'lr': 0.0030237974420967424}\n"
     ]
    },
    {
     "name": "stderr",
     "output_type": "stream",
     "text": [
      "[I 2025-04-27 01:04:06,788] Trial 22 finished with value: 0.36722582381423685 and parameters: {'architecture': 'deep', 'dropout': 0.45000000000000007, 'embedding_dim': 8, 'lr': 0.0034474962500868323}. Best is trial 11 with value: 0.3736816022455939.\n"
     ]
    },
    {
     "name": "stdout",
     "output_type": "stream",
     "text": [
      "Trial 22: MCC=0.3672, REC=0.2994, AUC=0.8043, Params={'architecture': 'deep', 'dropout': 0.45000000000000007, 'embedding_dim': 8, 'lr': 0.0034474962500868323}\n"
     ]
    },
    {
     "name": "stderr",
     "output_type": "stream",
     "text": [
      "[I 2025-04-27 01:11:30,732] Trial 23 finished with value: 0.372049542864495 and parameters: {'architecture': 'deep', 'dropout': 0.4, 'embedding_dim': 6, 'lr': 0.006582125482506625}. Best is trial 11 with value: 0.3736816022455939.\n"
     ]
    },
    {
     "name": "stdout",
     "output_type": "stream",
     "text": [
      "Trial 23: MCC=0.3720, REC=0.3025, AUC=0.7599, Params={'architecture': 'deep', 'dropout': 0.4, 'embedding_dim': 6, 'lr': 0.006582125482506625}\n"
     ]
    },
    {
     "name": "stderr",
     "output_type": "stream",
     "text": [
      "[I 2025-04-27 01:19:02,725] Trial 24 finished with value: 0.3720473959055548 and parameters: {'architecture': 'deep', 'dropout': 0.4, 'embedding_dim': 6, 'lr': 0.00651517612039021}. Best is trial 11 with value: 0.3736816022455939.\n"
     ]
    },
    {
     "name": "stdout",
     "output_type": "stream",
     "text": [
      "Trial 24: MCC=0.3720, REC=0.2994, AUC=0.7931, Params={'architecture': 'deep', 'dropout': 0.4, 'embedding_dim': 6, 'lr': 0.00651517612039021}\n"
     ]
    },
    {
     "name": "stderr",
     "output_type": "stream",
     "text": [
      "[I 2025-04-27 01:26:11,277] Trial 25 finished with value: 0.3704268350134989 and parameters: {'architecture': 'deep', 'dropout': 0.35, 'embedding_dim': 5, 'lr': 0.0019258999928671058}. Best is trial 11 with value: 0.3736816022455939.\n"
     ]
    },
    {
     "name": "stdout",
     "output_type": "stream",
     "text": [
      "Trial 25: MCC=0.3704, REC=0.2994, AUC=0.7967, Params={'architecture': 'deep', 'dropout': 0.35, 'embedding_dim': 5, 'lr': 0.0019258999928671058}\n"
     ]
    },
    {
     "name": "stderr",
     "output_type": "stream",
     "text": [
      "[I 2025-04-27 01:32:07,217] Trial 26 finished with value: 0.11807610207678262 and parameters: {'architecture': 'mid', 'dropout': 0.4, 'embedding_dim': 7, 'lr': 0.007145653015621613}. Best is trial 11 with value: 0.3736816022455939.\n"
     ]
    },
    {
     "name": "stdout",
     "output_type": "stream",
     "text": [
      "Trial 26: MCC=0.1181, REC=0.5605, AUC=0.6302, Params={'architecture': 'mid', 'dropout': 0.4, 'embedding_dim': 7, 'lr': 0.007145653015621613}\n"
     ]
    },
    {
     "name": "stderr",
     "output_type": "stream",
     "text": [
      "[I 2025-04-27 01:35:17,622] Trial 27 finished with value: 0.19940193913555607 and parameters: {'architecture': 'small', 'dropout': 0.5, 'embedding_dim': 6, 'lr': 0.009625964763289889}. Best is trial 11 with value: 0.3736816022455939.\n"
     ]
    },
    {
     "name": "stdout",
     "output_type": "stream",
     "text": [
      "Trial 27: MCC=0.1994, REC=0.6975, AUC=0.6368, Params={'architecture': 'small', 'dropout': 0.5, 'embedding_dim': 6, 'lr': 0.009625964763289889}\n"
     ]
    },
    {
     "name": "stderr",
     "output_type": "stream",
     "text": [
      "[I 2025-04-27 01:52:39,049] Trial 28 finished with value: 0.342085813930558 and parameters: {'architecture': 'wide_shallow', 'dropout': 0.30000000000000004, 'embedding_dim': 4, 'lr': 0.004170366802106316}. Best is trial 11 with value: 0.3736816022455939.\n"
     ]
    },
    {
     "name": "stdout",
     "output_type": "stream",
     "text": [
      "Trial 28: MCC=0.3421, REC=0.4204, AUC=0.7937, Params={'architecture': 'wide_shallow', 'dropout': 0.30000000000000004, 'embedding_dim': 4, 'lr': 0.004170366802106316}\n"
     ]
    },
    {
     "name": "stderr",
     "output_type": "stream",
     "text": [
      "[I 2025-04-27 02:09:57,906] Trial 29 finished with value: 0.1614859923840892 and parameters: {'architecture': 'wide_shallow', 'dropout': 0.2, 'embedding_dim': 5, 'lr': 0.0009539903867534123}. Best is trial 11 with value: 0.3736816022455939.\n"
     ]
    },
    {
     "name": "stdout",
     "output_type": "stream",
     "text": [
      "Trial 29: MCC=0.1615, REC=0.7357, AUC=0.6305, Params={'architecture': 'wide_shallow', 'dropout': 0.2, 'embedding_dim': 5, 'lr': 0.0009539903867534123}\n"
     ]
    },
    {
     "name": "stderr",
     "output_type": "stream",
     "text": [
      "[I 2025-04-27 02:17:08,032] Trial 30 finished with value: 0.22061444099588937 and parameters: {'architecture': 'deep', 'dropout': 0.35, 'embedding_dim': 2, 'lr': 0.00020614725381120283}. Best is trial 11 with value: 0.3736816022455939.\n"
     ]
    },
    {
     "name": "stdout",
     "output_type": "stream",
     "text": [
      "Trial 30: MCC=0.2206, REC=0.4809, AUC=0.7511, Params={'architecture': 'deep', 'dropout': 0.35, 'embedding_dim': 2, 'lr': 0.00020614725381120283}\n"
     ]
    },
    {
     "name": "stderr",
     "output_type": "stream",
     "text": [
      "[I 2025-04-27 02:24:35,319] Trial 31 finished with value: 0.3736816022455939 and parameters: {'architecture': 'deep', 'dropout': 0.45000000000000007, 'embedding_dim': 7, 'lr': 0.006094795594316765}. Best is trial 11 with value: 0.3736816022455939.\n"
     ]
    },
    {
     "name": "stdout",
     "output_type": "stream",
     "text": [
      "Trial 31: MCC=0.3737, REC=0.2994, AUC=0.7932, Params={'architecture': 'deep', 'dropout': 0.45000000000000007, 'embedding_dim': 7, 'lr': 0.006094795594316765}\n"
     ]
    },
    {
     "name": "stderr",
     "output_type": "stream",
     "text": [
      "[I 2025-04-27 02:31:43,070] Trial 32 finished with value: 0.23670216486079068 and parameters: {'architecture': 'deep', 'dropout': 0.45000000000000007, 'embedding_dim': 6, 'lr': 0.005510680540152121}. Best is trial 11 with value: 0.3736816022455939.\n"
     ]
    },
    {
     "name": "stdout",
     "output_type": "stream",
     "text": [
      "Trial 32: MCC=0.2367, REC=0.4809, AUC=0.6166, Params={'architecture': 'deep', 'dropout': 0.45000000000000007, 'embedding_dim': 6, 'lr': 0.005510680540152121}\n"
     ]
    },
    {
     "name": "stderr",
     "output_type": "stream",
     "text": [
      "[I 2025-04-27 02:39:09,237] Trial 33 finished with value: 0.36722582381423685 and parameters: {'architecture': 'deep', 'dropout': 0.4, 'embedding_dim': 7, 'lr': 0.006654182014963421}. Best is trial 11 with value: 0.3736816022455939.\n"
     ]
    },
    {
     "name": "stdout",
     "output_type": "stream",
     "text": [
      "Trial 33: MCC=0.3672, REC=0.2994, AUC=0.7828, Params={'architecture': 'deep', 'dropout': 0.4, 'embedding_dim': 7, 'lr': 0.006654182014963421}\n"
     ]
    },
    {
     "name": "stderr",
     "output_type": "stream",
     "text": [
      "[I 2025-04-27 02:46:35,427] Trial 34 finished with value: 0.3688197120233017 and parameters: {'architecture': 'deep', 'dropout': 0.5, 'embedding_dim': 6, 'lr': 0.007657841365879801}. Best is trial 11 with value: 0.3736816022455939.\n"
     ]
    },
    {
     "name": "stdout",
     "output_type": "stream",
     "text": [
      "Trial 34: MCC=0.3688, REC=0.2994, AUC=0.7882, Params={'architecture': 'deep', 'dropout': 0.5, 'embedding_dim': 6, 'lr': 0.007657841365879801}\n"
     ]
    },
    {
     "name": "stderr",
     "output_type": "stream",
     "text": [
      "[I 2025-04-27 02:52:44,166] Trial 35 finished with value: 0.16194562165197943 and parameters: {'architecture': 'mid', 'dropout': 0.45000000000000007, 'embedding_dim': 7, 'lr': 0.002358423719979297}. Best is trial 11 with value: 0.3736816022455939.\n"
     ]
    },
    {
     "name": "stdout",
     "output_type": "stream",
     "text": [
      "Trial 35: MCC=0.1619, REC=0.6433, AUC=0.6256, Params={'architecture': 'mid', 'dropout': 0.45000000000000007, 'embedding_dim': 7, 'lr': 0.002358423719979297}\n"
     ]
    },
    {
     "name": "stderr",
     "output_type": "stream",
     "text": [
      "[I 2025-04-27 03:00:07,903] Trial 36 finished with value: 0.3688197120233017 and parameters: {'architecture': 'deep', 'dropout': 0.4, 'embedding_dim': 6, 'lr': 0.00373595757099164}. Best is trial 11 with value: 0.3736816022455939.\n"
     ]
    },
    {
     "name": "stdout",
     "output_type": "stream",
     "text": [
      "Trial 36: MCC=0.3688, REC=0.2994, AUC=0.7943, Params={'architecture': 'deep', 'dropout': 0.4, 'embedding_dim': 6, 'lr': 0.00373595757099164}\n"
     ]
    },
    {
     "name": "stderr",
     "output_type": "stream",
     "text": [
      "[I 2025-04-27 03:03:16,640] Trial 37 finished with value: 0.12710887787010336 and parameters: {'architecture': 'small', 'dropout': 0.2, 'embedding_dim': 7, 'lr': 0.008147321151987574}. Best is trial 11 with value: 0.3736816022455939.\n"
     ]
    },
    {
     "name": "stdout",
     "output_type": "stream",
     "text": [
      "Trial 37: MCC=0.1271, REC=0.6051, AUC=0.6086, Params={'architecture': 'small', 'dropout': 0.2, 'embedding_dim': 7, 'lr': 0.008147321151987574}\n"
     ]
    },
    {
     "name": "stderr",
     "output_type": "stream",
     "text": [
      "[I 2025-04-27 03:10:50,959] Trial 38 finished with value: 0.1102060591372857 and parameters: {'architecture': 'deep', 'dropout': 0.25, 'embedding_dim': 6, 'lr': 0.005474746139102224}. Best is trial 11 with value: 0.3736816022455939.\n"
     ]
    },
    {
     "name": "stdout",
     "output_type": "stream",
     "text": [
      "Trial 38: MCC=0.1102, REC=0.7898, AUC=0.5333, Params={'architecture': 'deep', 'dropout': 0.25, 'embedding_dim': 6, 'lr': 0.005474746139102224}\n"
     ]
    },
    {
     "name": "stderr",
     "output_type": "stream",
     "text": [
      "[I 2025-04-27 03:18:34,885] Trial 39 finished with value: 0.13475212641437762 and parameters: {'architecture': 'deep', 'dropout': 0.30000000000000004, 'embedding_dim': 5, 'lr': 0.00042950085771375796}. Best is trial 11 with value: 0.3736816022455939.\n"
     ]
    },
    {
     "name": "stdout",
     "output_type": "stream",
     "text": [
      "Trial 39: MCC=0.1348, REC=0.7038, AUC=0.6060, Params={'architecture': 'deep', 'dropout': 0.30000000000000004, 'embedding_dim': 5, 'lr': 0.00042950085771375796}\n"
     ]
    },
    {
     "name": "stderr",
     "output_type": "stream",
     "text": [
      "[I 2025-04-27 03:24:54,232] Trial 40 finished with value: 0.18401260882182974 and parameters: {'architecture': 'mid', 'dropout': 0.5, 'embedding_dim': 4, 'lr': 0.0013429834892845281}. Best is trial 11 with value: 0.3736816022455939.\n"
     ]
    },
    {
     "name": "stdout",
     "output_type": "stream",
     "text": [
      "Trial 40: MCC=0.1840, REC=0.5159, AUC=0.6253, Params={'architecture': 'mid', 'dropout': 0.5, 'embedding_dim': 4, 'lr': 0.0013429834892845281}\n"
     ]
    },
    {
     "name": "stderr",
     "output_type": "stream",
     "text": [
      "[I 2025-04-27 03:32:29,399] Trial 41 finished with value: 0.3704268350134989 and parameters: {'architecture': 'deep', 'dropout': 0.45000000000000007, 'embedding_dim': 8, 'lr': 0.003399361359679728}. Best is trial 11 with value: 0.3736816022455939.\n"
     ]
    },
    {
     "name": "stdout",
     "output_type": "stream",
     "text": [
      "Trial 41: MCC=0.3704, REC=0.2994, AUC=0.7983, Params={'architecture': 'deep', 'dropout': 0.45000000000000007, 'embedding_dim': 8, 'lr': 0.003399361359679728}\n"
     ]
    },
    {
     "name": "stderr",
     "output_type": "stream",
     "text": [
      "[I 2025-04-27 03:40:05,672] Trial 42 finished with value: 0.3720473959055548 and parameters: {'architecture': 'deep', 'dropout': 0.45000000000000007, 'embedding_dim': 8, 'lr': 0.006357773656592746}. Best is trial 11 with value: 0.3736816022455939.\n"
     ]
    },
    {
     "name": "stdout",
     "output_type": "stream",
     "text": [
      "Trial 42: MCC=0.3720, REC=0.2994, AUC=0.7872, Params={'architecture': 'deep', 'dropout': 0.45000000000000007, 'embedding_dim': 8, 'lr': 0.006357773656592746}\n"
     ]
    },
    {
     "name": "stderr",
     "output_type": "stream",
     "text": [
      "[I 2025-04-27 03:47:42,006] Trial 43 finished with value: 0.3720473959055548 and parameters: {'architecture': 'deep', 'dropout': 0.4, 'embedding_dim': 7, 'lr': 0.008114857755326515}. Best is trial 11 with value: 0.3736816022455939.\n"
     ]
    },
    {
     "name": "stdout",
     "output_type": "stream",
     "text": [
      "Trial 43: MCC=0.3720, REC=0.2994, AUC=0.7979, Params={'architecture': 'deep', 'dropout': 0.4, 'embedding_dim': 7, 'lr': 0.008114857755326515}\n"
     ]
    },
    {
     "name": "stderr",
     "output_type": "stream",
     "text": [
      "[I 2025-04-27 03:55:15,865] Trial 44 finished with value: 0.3291253293165295 and parameters: {'architecture': 'deep', 'dropout': 0.5, 'embedding_dim': 8, 'lr': 0.002652352754933044}. Best is trial 11 with value: 0.3736816022455939.\n"
     ]
    },
    {
     "name": "stdout",
     "output_type": "stream",
     "text": [
      "Trial 44: MCC=0.3291, REC=0.3248, AUC=0.7605, Params={'architecture': 'deep', 'dropout': 0.5, 'embedding_dim': 8, 'lr': 0.002652352754933044}\n"
     ]
    },
    {
     "name": "stderr",
     "output_type": "stream",
     "text": [
      "[I 2025-04-27 04:02:52,169] Trial 45 finished with value: 0.3704268350134989 and parameters: {'architecture': 'deep', 'dropout': 0.45000000000000007, 'embedding_dim': 7, 'lr': 0.0045284243592165685}. Best is trial 11 with value: 0.3736816022455939.\n"
     ]
    },
    {
     "name": "stdout",
     "output_type": "stream",
     "text": [
      "Trial 45: MCC=0.3704, REC=0.2994, AUC=0.7976, Params={'architecture': 'deep', 'dropout': 0.45000000000000007, 'embedding_dim': 7, 'lr': 0.0045284243592165685}\n"
     ]
    },
    {
     "name": "stderr",
     "output_type": "stream",
     "text": [
      "[I 2025-04-27 04:10:17,094] Trial 46 finished with value: 0.29202228832069493 and parameters: {'architecture': 'deep', 'dropout': 0.35, 'embedding_dim': 3, 'lr': 0.005503318399765856}. Best is trial 11 with value: 0.3736816022455939.\n"
     ]
    },
    {
     "name": "stdout",
     "output_type": "stream",
     "text": [
      "Trial 46: MCC=0.2920, REC=0.4076, AUC=0.7741, Params={'architecture': 'deep', 'dropout': 0.35, 'embedding_dim': 3, 'lr': 0.005503318399765856}\n"
     ]
    },
    {
     "name": "stderr",
     "output_type": "stream",
     "text": [
      "[I 2025-04-27 04:13:33,468] Trial 47 finished with value: 0.14896547663851362 and parameters: {'architecture': 'small', 'dropout': 0.1, 'embedding_dim': 6, 'lr': 0.0022303307025457455}. Best is trial 11 with value: 0.3736816022455939.\n"
     ]
    },
    {
     "name": "stdout",
     "output_type": "stream",
     "text": [
      "Trial 47: MCC=0.1490, REC=0.5223, AUC=0.5748, Params={'architecture': 'small', 'dropout': 0.1, 'embedding_dim': 6, 'lr': 0.0022303307025457455}\n"
     ]
    },
    {
     "name": "stderr",
     "output_type": "stream",
     "text": [
      "[I 2025-04-27 04:32:04,137] Trial 48 finished with value: 0.33929308935155034 and parameters: {'architecture': 'wide_shallow', 'dropout': 0.4, 'embedding_dim': 8, 'lr': 0.0084202194089088}. Best is trial 11 with value: 0.3736816022455939.\n"
     ]
    },
    {
     "name": "stdout",
     "output_type": "stream",
     "text": [
      "Trial 48: MCC=0.3393, REC=0.3439, AUC=0.7951, Params={'architecture': 'wide_shallow', 'dropout': 0.4, 'embedding_dim': 8, 'lr': 0.0084202194089088}\n"
     ]
    },
    {
     "name": "stderr",
     "output_type": "stream",
     "text": [
      "[I 2025-04-27 04:39:42,987] Trial 49 finished with value: 0.2792549350737711 and parameters: {'architecture': 'deep', 'dropout': 0.45000000000000007, 'embedding_dim': 7, 'lr': 0.0007642847052328851}. Best is trial 11 with value: 0.3736816022455939.\n"
     ]
    },
    {
     "name": "stdout",
     "output_type": "stream",
     "text": [
      "Trial 49: MCC=0.2793, REC=0.7548, AUC=0.7523, Params={'architecture': 'deep', 'dropout': 0.45000000000000007, 'embedding_dim': 7, 'lr': 0.0007642847052328851}\n",
      "Best trial parameters saved to: c:\\Users\\tamar\\Documents\\Thesis 2025\\Data\\00_2_validation\\Bi-LSTM-AE_best_trial_params.txt\n"
     ]
    },
    {
     "data": {
      "application/vnd.plotly.v1+json": {
       "config": {
        "plotlyServerURL": "https://plot.ly"
       },
       "data": [
        {
         "mode": "markers",
         "name": "Objective Value",
         "type": "scatter",
         "x": [
          0,
          1,
          2,
          3,
          4,
          5,
          6,
          7,
          8,
          9,
          10,
          11,
          12,
          13,
          14,
          15,
          16,
          17,
          18,
          19,
          20,
          21,
          22,
          23,
          24,
          25,
          26,
          27,
          28,
          29,
          30,
          31,
          32,
          33,
          34,
          35,
          36,
          37,
          38,
          39,
          40,
          41,
          42,
          43,
          44,
          45,
          46,
          47,
          48,
          49
         ],
         "y": [
          0.10103309665326823,
          0.15989988976305156,
          0.1762982557456941,
          0.22989319072300088,
          0.15335737493230792,
          0.3688197120233017,
          0.17268618376002245,
          0.1603917944635501,
          0.3720473959055548,
          0.005460949150205369,
          0.19188193151003075,
          0.3736816022455939,
          0.19340742930463165,
          0.3704268350134989,
          0.3736816022455939,
          0.3688197120233017,
          0.3720473959055548,
          0.19722337112698343,
          0.14836526403683745,
          0.3688197120233017,
          0.2640917453857312,
          0.3720473959055548,
          0.36722582381423685,
          0.372049542864495,
          0.3720473959055548,
          0.3704268350134989,
          0.11807610207678262,
          0.19940193913555607,
          0.342085813930558,
          0.1614859923840892,
          0.22061444099588937,
          0.3736816022455939,
          0.23670216486079068,
          0.36722582381423685,
          0.3688197120233017,
          0.16194562165197943,
          0.3688197120233017,
          0.12710887787010336,
          0.1102060591372857,
          0.13475212641437762,
          0.18401260882182974,
          0.3704268350134989,
          0.3720473959055548,
          0.3720473959055548,
          0.3291253293165295,
          0.3704268350134989,
          0.29202228832069493,
          0.14896547663851362,
          0.33929308935155034,
          0.2792549350737711
         ]
        },
        {
         "mode": "lines",
         "name": "Best Value",
         "type": "scatter",
         "x": [
          0,
          1,
          2,
          3,
          4,
          5,
          6,
          7,
          8,
          9,
          10,
          11,
          12,
          13,
          14,
          15,
          16,
          17,
          18,
          19,
          20,
          21,
          22,
          23,
          24,
          25,
          26,
          27,
          28,
          29,
          30,
          31,
          32,
          33,
          34,
          35,
          36,
          37,
          38,
          39,
          40,
          41,
          42,
          43,
          44,
          45,
          46,
          47,
          48,
          49
         ],
         "y": [
          0.10103309665326823,
          0.15989988976305156,
          0.1762982557456941,
          0.22989319072300088,
          0.22989319072300088,
          0.3688197120233017,
          0.3688197120233017,
          0.3688197120233017,
          0.3720473959055548,
          0.3720473959055548,
          0.3720473959055548,
          0.3736816022455939,
          0.3736816022455939,
          0.3736816022455939,
          0.3736816022455939,
          0.3736816022455939,
          0.3736816022455939,
          0.3736816022455939,
          0.3736816022455939,
          0.3736816022455939,
          0.3736816022455939,
          0.3736816022455939,
          0.3736816022455939,
          0.3736816022455939,
          0.3736816022455939,
          0.3736816022455939,
          0.3736816022455939,
          0.3736816022455939,
          0.3736816022455939,
          0.3736816022455939,
          0.3736816022455939,
          0.3736816022455939,
          0.3736816022455939,
          0.3736816022455939,
          0.3736816022455939,
          0.3736816022455939,
          0.3736816022455939,
          0.3736816022455939,
          0.3736816022455939,
          0.3736816022455939,
          0.3736816022455939,
          0.3736816022455939,
          0.3736816022455939,
          0.3736816022455939,
          0.3736816022455939,
          0.3736816022455939,
          0.3736816022455939,
          0.3736816022455939,
          0.3736816022455939,
          0.3736816022455939
         ]
        },
        {
         "marker": {
          "color": "#cccccc"
         },
         "mode": "markers",
         "name": "Infeasible Trial",
         "showlegend": false,
         "type": "scatter",
         "x": [],
         "y": []
        }
       ],
       "layout": {
        "template": {
         "data": {
          "bar": [
           {
            "error_x": {
             "color": "#2a3f5f"
            },
            "error_y": {
             "color": "#2a3f5f"
            },
            "marker": {
             "line": {
              "color": "#E5ECF6",
              "width": 0.5
             },
             "pattern": {
              "fillmode": "overlay",
              "size": 10,
              "solidity": 0.2
             }
            },
            "type": "bar"
           }
          ],
          "barpolar": [
           {
            "marker": {
             "line": {
              "color": "#E5ECF6",
              "width": 0.5
             },
             "pattern": {
              "fillmode": "overlay",
              "size": 10,
              "solidity": 0.2
             }
            },
            "type": "barpolar"
           }
          ],
          "carpet": [
           {
            "aaxis": {
             "endlinecolor": "#2a3f5f",
             "gridcolor": "white",
             "linecolor": "white",
             "minorgridcolor": "white",
             "startlinecolor": "#2a3f5f"
            },
            "baxis": {
             "endlinecolor": "#2a3f5f",
             "gridcolor": "white",
             "linecolor": "white",
             "minorgridcolor": "white",
             "startlinecolor": "#2a3f5f"
            },
            "type": "carpet"
           }
          ],
          "choropleth": [
           {
            "colorbar": {
             "outlinewidth": 0,
             "ticks": ""
            },
            "type": "choropleth"
           }
          ],
          "contour": [
           {
            "colorbar": {
             "outlinewidth": 0,
             "ticks": ""
            },
            "colorscale": [
             [
              0,
              "#0d0887"
             ],
             [
              0.1111111111111111,
              "#46039f"
             ],
             [
              0.2222222222222222,
              "#7201a8"
             ],
             [
              0.3333333333333333,
              "#9c179e"
             ],
             [
              0.4444444444444444,
              "#bd3786"
             ],
             [
              0.5555555555555556,
              "#d8576b"
             ],
             [
              0.6666666666666666,
              "#ed7953"
             ],
             [
              0.7777777777777778,
              "#fb9f3a"
             ],
             [
              0.8888888888888888,
              "#fdca26"
             ],
             [
              1,
              "#f0f921"
             ]
            ],
            "type": "contour"
           }
          ],
          "contourcarpet": [
           {
            "colorbar": {
             "outlinewidth": 0,
             "ticks": ""
            },
            "type": "contourcarpet"
           }
          ],
          "heatmap": [
           {
            "colorbar": {
             "outlinewidth": 0,
             "ticks": ""
            },
            "colorscale": [
             [
              0,
              "#0d0887"
             ],
             [
              0.1111111111111111,
              "#46039f"
             ],
             [
              0.2222222222222222,
              "#7201a8"
             ],
             [
              0.3333333333333333,
              "#9c179e"
             ],
             [
              0.4444444444444444,
              "#bd3786"
             ],
             [
              0.5555555555555556,
              "#d8576b"
             ],
             [
              0.6666666666666666,
              "#ed7953"
             ],
             [
              0.7777777777777778,
              "#fb9f3a"
             ],
             [
              0.8888888888888888,
              "#fdca26"
             ],
             [
              1,
              "#f0f921"
             ]
            ],
            "type": "heatmap"
           }
          ],
          "heatmapgl": [
           {
            "colorbar": {
             "outlinewidth": 0,
             "ticks": ""
            },
            "colorscale": [
             [
              0,
              "#0d0887"
             ],
             [
              0.1111111111111111,
              "#46039f"
             ],
             [
              0.2222222222222222,
              "#7201a8"
             ],
             [
              0.3333333333333333,
              "#9c179e"
             ],
             [
              0.4444444444444444,
              "#bd3786"
             ],
             [
              0.5555555555555556,
              "#d8576b"
             ],
             [
              0.6666666666666666,
              "#ed7953"
             ],
             [
              0.7777777777777778,
              "#fb9f3a"
             ],
             [
              0.8888888888888888,
              "#fdca26"
             ],
             [
              1,
              "#f0f921"
             ]
            ],
            "type": "heatmapgl"
           }
          ],
          "histogram": [
           {
            "marker": {
             "pattern": {
              "fillmode": "overlay",
              "size": 10,
              "solidity": 0.2
             }
            },
            "type": "histogram"
           }
          ],
          "histogram2d": [
           {
            "colorbar": {
             "outlinewidth": 0,
             "ticks": ""
            },
            "colorscale": [
             [
              0,
              "#0d0887"
             ],
             [
              0.1111111111111111,
              "#46039f"
             ],
             [
              0.2222222222222222,
              "#7201a8"
             ],
             [
              0.3333333333333333,
              "#9c179e"
             ],
             [
              0.4444444444444444,
              "#bd3786"
             ],
             [
              0.5555555555555556,
              "#d8576b"
             ],
             [
              0.6666666666666666,
              "#ed7953"
             ],
             [
              0.7777777777777778,
              "#fb9f3a"
             ],
             [
              0.8888888888888888,
              "#fdca26"
             ],
             [
              1,
              "#f0f921"
             ]
            ],
            "type": "histogram2d"
           }
          ],
          "histogram2dcontour": [
           {
            "colorbar": {
             "outlinewidth": 0,
             "ticks": ""
            },
            "colorscale": [
             [
              0,
              "#0d0887"
             ],
             [
              0.1111111111111111,
              "#46039f"
             ],
             [
              0.2222222222222222,
              "#7201a8"
             ],
             [
              0.3333333333333333,
              "#9c179e"
             ],
             [
              0.4444444444444444,
              "#bd3786"
             ],
             [
              0.5555555555555556,
              "#d8576b"
             ],
             [
              0.6666666666666666,
              "#ed7953"
             ],
             [
              0.7777777777777778,
              "#fb9f3a"
             ],
             [
              0.8888888888888888,
              "#fdca26"
             ],
             [
              1,
              "#f0f921"
             ]
            ],
            "type": "histogram2dcontour"
           }
          ],
          "mesh3d": [
           {
            "colorbar": {
             "outlinewidth": 0,
             "ticks": ""
            },
            "type": "mesh3d"
           }
          ],
          "parcoords": [
           {
            "line": {
             "colorbar": {
              "outlinewidth": 0,
              "ticks": ""
             }
            },
            "type": "parcoords"
           }
          ],
          "pie": [
           {
            "automargin": true,
            "type": "pie"
           }
          ],
          "scatter": [
           {
            "fillpattern": {
             "fillmode": "overlay",
             "size": 10,
             "solidity": 0.2
            },
            "type": "scatter"
           }
          ],
          "scatter3d": [
           {
            "line": {
             "colorbar": {
              "outlinewidth": 0,
              "ticks": ""
             }
            },
            "marker": {
             "colorbar": {
              "outlinewidth": 0,
              "ticks": ""
             }
            },
            "type": "scatter3d"
           }
          ],
          "scattercarpet": [
           {
            "marker": {
             "colorbar": {
              "outlinewidth": 0,
              "ticks": ""
             }
            },
            "type": "scattercarpet"
           }
          ],
          "scattergeo": [
           {
            "marker": {
             "colorbar": {
              "outlinewidth": 0,
              "ticks": ""
             }
            },
            "type": "scattergeo"
           }
          ],
          "scattergl": [
           {
            "marker": {
             "colorbar": {
              "outlinewidth": 0,
              "ticks": ""
             }
            },
            "type": "scattergl"
           }
          ],
          "scattermapbox": [
           {
            "marker": {
             "colorbar": {
              "outlinewidth": 0,
              "ticks": ""
             }
            },
            "type": "scattermapbox"
           }
          ],
          "scatterpolar": [
           {
            "marker": {
             "colorbar": {
              "outlinewidth": 0,
              "ticks": ""
             }
            },
            "type": "scatterpolar"
           }
          ],
          "scatterpolargl": [
           {
            "marker": {
             "colorbar": {
              "outlinewidth": 0,
              "ticks": ""
             }
            },
            "type": "scatterpolargl"
           }
          ],
          "scatterternary": [
           {
            "marker": {
             "colorbar": {
              "outlinewidth": 0,
              "ticks": ""
             }
            },
            "type": "scatterternary"
           }
          ],
          "surface": [
           {
            "colorbar": {
             "outlinewidth": 0,
             "ticks": ""
            },
            "colorscale": [
             [
              0,
              "#0d0887"
             ],
             [
              0.1111111111111111,
              "#46039f"
             ],
             [
              0.2222222222222222,
              "#7201a8"
             ],
             [
              0.3333333333333333,
              "#9c179e"
             ],
             [
              0.4444444444444444,
              "#bd3786"
             ],
             [
              0.5555555555555556,
              "#d8576b"
             ],
             [
              0.6666666666666666,
              "#ed7953"
             ],
             [
              0.7777777777777778,
              "#fb9f3a"
             ],
             [
              0.8888888888888888,
              "#fdca26"
             ],
             [
              1,
              "#f0f921"
             ]
            ],
            "type": "surface"
           }
          ],
          "table": [
           {
            "cells": {
             "fill": {
              "color": "#EBF0F8"
             },
             "line": {
              "color": "white"
             }
            },
            "header": {
             "fill": {
              "color": "#C8D4E3"
             },
             "line": {
              "color": "white"
             }
            },
            "type": "table"
           }
          ]
         },
         "layout": {
          "annotationdefaults": {
           "arrowcolor": "#2a3f5f",
           "arrowhead": 0,
           "arrowwidth": 1
          },
          "autotypenumbers": "strict",
          "coloraxis": {
           "colorbar": {
            "outlinewidth": 0,
            "ticks": ""
           }
          },
          "colorscale": {
           "diverging": [
            [
             0,
             "#8e0152"
            ],
            [
             0.1,
             "#c51b7d"
            ],
            [
             0.2,
             "#de77ae"
            ],
            [
             0.3,
             "#f1b6da"
            ],
            [
             0.4,
             "#fde0ef"
            ],
            [
             0.5,
             "#f7f7f7"
            ],
            [
             0.6,
             "#e6f5d0"
            ],
            [
             0.7,
             "#b8e186"
            ],
            [
             0.8,
             "#7fbc41"
            ],
            [
             0.9,
             "#4d9221"
            ],
            [
             1,
             "#276419"
            ]
           ],
           "sequential": [
            [
             0,
             "#0d0887"
            ],
            [
             0.1111111111111111,
             "#46039f"
            ],
            [
             0.2222222222222222,
             "#7201a8"
            ],
            [
             0.3333333333333333,
             "#9c179e"
            ],
            [
             0.4444444444444444,
             "#bd3786"
            ],
            [
             0.5555555555555556,
             "#d8576b"
            ],
            [
             0.6666666666666666,
             "#ed7953"
            ],
            [
             0.7777777777777778,
             "#fb9f3a"
            ],
            [
             0.8888888888888888,
             "#fdca26"
            ],
            [
             1,
             "#f0f921"
            ]
           ],
           "sequentialminus": [
            [
             0,
             "#0d0887"
            ],
            [
             0.1111111111111111,
             "#46039f"
            ],
            [
             0.2222222222222222,
             "#7201a8"
            ],
            [
             0.3333333333333333,
             "#9c179e"
            ],
            [
             0.4444444444444444,
             "#bd3786"
            ],
            [
             0.5555555555555556,
             "#d8576b"
            ],
            [
             0.6666666666666666,
             "#ed7953"
            ],
            [
             0.7777777777777778,
             "#fb9f3a"
            ],
            [
             0.8888888888888888,
             "#fdca26"
            ],
            [
             1,
             "#f0f921"
            ]
           ]
          },
          "colorway": [
           "#636efa",
           "#EF553B",
           "#00cc96",
           "#ab63fa",
           "#FFA15A",
           "#19d3f3",
           "#FF6692",
           "#B6E880",
           "#FF97FF",
           "#FECB52"
          ],
          "font": {
           "color": "#2a3f5f"
          },
          "geo": {
           "bgcolor": "white",
           "lakecolor": "white",
           "landcolor": "#E5ECF6",
           "showlakes": true,
           "showland": true,
           "subunitcolor": "white"
          },
          "hoverlabel": {
           "align": "left"
          },
          "hovermode": "closest",
          "mapbox": {
           "style": "light"
          },
          "paper_bgcolor": "white",
          "plot_bgcolor": "#E5ECF6",
          "polar": {
           "angularaxis": {
            "gridcolor": "white",
            "linecolor": "white",
            "ticks": ""
           },
           "bgcolor": "#E5ECF6",
           "radialaxis": {
            "gridcolor": "white",
            "linecolor": "white",
            "ticks": ""
           }
          },
          "scene": {
           "xaxis": {
            "backgroundcolor": "#E5ECF6",
            "gridcolor": "white",
            "gridwidth": 2,
            "linecolor": "white",
            "showbackground": true,
            "ticks": "",
            "zerolinecolor": "white"
           },
           "yaxis": {
            "backgroundcolor": "#E5ECF6",
            "gridcolor": "white",
            "gridwidth": 2,
            "linecolor": "white",
            "showbackground": true,
            "ticks": "",
            "zerolinecolor": "white"
           },
           "zaxis": {
            "backgroundcolor": "#E5ECF6",
            "gridcolor": "white",
            "gridwidth": 2,
            "linecolor": "white",
            "showbackground": true,
            "ticks": "",
            "zerolinecolor": "white"
           }
          },
          "shapedefaults": {
           "line": {
            "color": "#2a3f5f"
           }
          },
          "ternary": {
           "aaxis": {
            "gridcolor": "white",
            "linecolor": "white",
            "ticks": ""
           },
           "baxis": {
            "gridcolor": "white",
            "linecolor": "white",
            "ticks": ""
           },
           "bgcolor": "#E5ECF6",
           "caxis": {
            "gridcolor": "white",
            "linecolor": "white",
            "ticks": ""
           }
          },
          "title": {
           "x": 0.05
          },
          "xaxis": {
           "automargin": true,
           "gridcolor": "white",
           "linecolor": "white",
           "ticks": "",
           "title": {
            "standoff": 15
           },
           "zerolinecolor": "white",
           "zerolinewidth": 2
          },
          "yaxis": {
           "automargin": true,
           "gridcolor": "white",
           "linecolor": "white",
           "ticks": "",
           "title": {
            "standoff": 15
           },
           "zerolinecolor": "white",
           "zerolinewidth": 2
          }
         }
        },
        "title": {
         "text": "Optimization History Plot"
        },
        "xaxis": {
         "title": {
          "text": "Trial"
         }
        },
        "yaxis": {
         "title": {
          "text": "Objective Value"
         }
        }
       }
      }
     },
     "metadata": {},
     "output_type": "display_data"
    },
    {
     "data": {
      "application/vnd.plotly.v1+json": {
       "config": {
        "plotlyServerURL": "https://plot.ly"
       },
       "data": [
        {
         "cliponaxis": false,
         "hovertemplate": [
          "embedding_dim (IntDistribution): 0.04504649681014189<extra></extra>",
          "lr (FloatDistribution): 0.12996044483834718<extra></extra>",
          "dropout (FloatDistribution): 0.39141561325691704<extra></extra>",
          "architecture (CategoricalDistribution): 0.4335774450945939<extra></extra>"
         ],
         "name": "Objective Value",
         "orientation": "h",
         "text": [
          "0.05",
          "0.13",
          "0.39",
          "0.43"
         ],
         "textposition": "outside",
         "type": "bar",
         "x": [
          0.04504649681014189,
          0.12996044483834718,
          0.39141561325691704,
          0.4335774450945939
         ],
         "y": [
          "embedding_dim",
          "lr",
          "dropout",
          "architecture"
         ]
        }
       ],
       "layout": {
        "template": {
         "data": {
          "bar": [
           {
            "error_x": {
             "color": "#2a3f5f"
            },
            "error_y": {
             "color": "#2a3f5f"
            },
            "marker": {
             "line": {
              "color": "#E5ECF6",
              "width": 0.5
             },
             "pattern": {
              "fillmode": "overlay",
              "size": 10,
              "solidity": 0.2
             }
            },
            "type": "bar"
           }
          ],
          "barpolar": [
           {
            "marker": {
             "line": {
              "color": "#E5ECF6",
              "width": 0.5
             },
             "pattern": {
              "fillmode": "overlay",
              "size": 10,
              "solidity": 0.2
             }
            },
            "type": "barpolar"
           }
          ],
          "carpet": [
           {
            "aaxis": {
             "endlinecolor": "#2a3f5f",
             "gridcolor": "white",
             "linecolor": "white",
             "minorgridcolor": "white",
             "startlinecolor": "#2a3f5f"
            },
            "baxis": {
             "endlinecolor": "#2a3f5f",
             "gridcolor": "white",
             "linecolor": "white",
             "minorgridcolor": "white",
             "startlinecolor": "#2a3f5f"
            },
            "type": "carpet"
           }
          ],
          "choropleth": [
           {
            "colorbar": {
             "outlinewidth": 0,
             "ticks": ""
            },
            "type": "choropleth"
           }
          ],
          "contour": [
           {
            "colorbar": {
             "outlinewidth": 0,
             "ticks": ""
            },
            "colorscale": [
             [
              0,
              "#0d0887"
             ],
             [
              0.1111111111111111,
              "#46039f"
             ],
             [
              0.2222222222222222,
              "#7201a8"
             ],
             [
              0.3333333333333333,
              "#9c179e"
             ],
             [
              0.4444444444444444,
              "#bd3786"
             ],
             [
              0.5555555555555556,
              "#d8576b"
             ],
             [
              0.6666666666666666,
              "#ed7953"
             ],
             [
              0.7777777777777778,
              "#fb9f3a"
             ],
             [
              0.8888888888888888,
              "#fdca26"
             ],
             [
              1,
              "#f0f921"
             ]
            ],
            "type": "contour"
           }
          ],
          "contourcarpet": [
           {
            "colorbar": {
             "outlinewidth": 0,
             "ticks": ""
            },
            "type": "contourcarpet"
           }
          ],
          "heatmap": [
           {
            "colorbar": {
             "outlinewidth": 0,
             "ticks": ""
            },
            "colorscale": [
             [
              0,
              "#0d0887"
             ],
             [
              0.1111111111111111,
              "#46039f"
             ],
             [
              0.2222222222222222,
              "#7201a8"
             ],
             [
              0.3333333333333333,
              "#9c179e"
             ],
             [
              0.4444444444444444,
              "#bd3786"
             ],
             [
              0.5555555555555556,
              "#d8576b"
             ],
             [
              0.6666666666666666,
              "#ed7953"
             ],
             [
              0.7777777777777778,
              "#fb9f3a"
             ],
             [
              0.8888888888888888,
              "#fdca26"
             ],
             [
              1,
              "#f0f921"
             ]
            ],
            "type": "heatmap"
           }
          ],
          "heatmapgl": [
           {
            "colorbar": {
             "outlinewidth": 0,
             "ticks": ""
            },
            "colorscale": [
             [
              0,
              "#0d0887"
             ],
             [
              0.1111111111111111,
              "#46039f"
             ],
             [
              0.2222222222222222,
              "#7201a8"
             ],
             [
              0.3333333333333333,
              "#9c179e"
             ],
             [
              0.4444444444444444,
              "#bd3786"
             ],
             [
              0.5555555555555556,
              "#d8576b"
             ],
             [
              0.6666666666666666,
              "#ed7953"
             ],
             [
              0.7777777777777778,
              "#fb9f3a"
             ],
             [
              0.8888888888888888,
              "#fdca26"
             ],
             [
              1,
              "#f0f921"
             ]
            ],
            "type": "heatmapgl"
           }
          ],
          "histogram": [
           {
            "marker": {
             "pattern": {
              "fillmode": "overlay",
              "size": 10,
              "solidity": 0.2
             }
            },
            "type": "histogram"
           }
          ],
          "histogram2d": [
           {
            "colorbar": {
             "outlinewidth": 0,
             "ticks": ""
            },
            "colorscale": [
             [
              0,
              "#0d0887"
             ],
             [
              0.1111111111111111,
              "#46039f"
             ],
             [
              0.2222222222222222,
              "#7201a8"
             ],
             [
              0.3333333333333333,
              "#9c179e"
             ],
             [
              0.4444444444444444,
              "#bd3786"
             ],
             [
              0.5555555555555556,
              "#d8576b"
             ],
             [
              0.6666666666666666,
              "#ed7953"
             ],
             [
              0.7777777777777778,
              "#fb9f3a"
             ],
             [
              0.8888888888888888,
              "#fdca26"
             ],
             [
              1,
              "#f0f921"
             ]
            ],
            "type": "histogram2d"
           }
          ],
          "histogram2dcontour": [
           {
            "colorbar": {
             "outlinewidth": 0,
             "ticks": ""
            },
            "colorscale": [
             [
              0,
              "#0d0887"
             ],
             [
              0.1111111111111111,
              "#46039f"
             ],
             [
              0.2222222222222222,
              "#7201a8"
             ],
             [
              0.3333333333333333,
              "#9c179e"
             ],
             [
              0.4444444444444444,
              "#bd3786"
             ],
             [
              0.5555555555555556,
              "#d8576b"
             ],
             [
              0.6666666666666666,
              "#ed7953"
             ],
             [
              0.7777777777777778,
              "#fb9f3a"
             ],
             [
              0.8888888888888888,
              "#fdca26"
             ],
             [
              1,
              "#f0f921"
             ]
            ],
            "type": "histogram2dcontour"
           }
          ],
          "mesh3d": [
           {
            "colorbar": {
             "outlinewidth": 0,
             "ticks": ""
            },
            "type": "mesh3d"
           }
          ],
          "parcoords": [
           {
            "line": {
             "colorbar": {
              "outlinewidth": 0,
              "ticks": ""
             }
            },
            "type": "parcoords"
           }
          ],
          "pie": [
           {
            "automargin": true,
            "type": "pie"
           }
          ],
          "scatter": [
           {
            "fillpattern": {
             "fillmode": "overlay",
             "size": 10,
             "solidity": 0.2
            },
            "type": "scatter"
           }
          ],
          "scatter3d": [
           {
            "line": {
             "colorbar": {
              "outlinewidth": 0,
              "ticks": ""
             }
            },
            "marker": {
             "colorbar": {
              "outlinewidth": 0,
              "ticks": ""
             }
            },
            "type": "scatter3d"
           }
          ],
          "scattercarpet": [
           {
            "marker": {
             "colorbar": {
              "outlinewidth": 0,
              "ticks": ""
             }
            },
            "type": "scattercarpet"
           }
          ],
          "scattergeo": [
           {
            "marker": {
             "colorbar": {
              "outlinewidth": 0,
              "ticks": ""
             }
            },
            "type": "scattergeo"
           }
          ],
          "scattergl": [
           {
            "marker": {
             "colorbar": {
              "outlinewidth": 0,
              "ticks": ""
             }
            },
            "type": "scattergl"
           }
          ],
          "scattermapbox": [
           {
            "marker": {
             "colorbar": {
              "outlinewidth": 0,
              "ticks": ""
             }
            },
            "type": "scattermapbox"
           }
          ],
          "scatterpolar": [
           {
            "marker": {
             "colorbar": {
              "outlinewidth": 0,
              "ticks": ""
             }
            },
            "type": "scatterpolar"
           }
          ],
          "scatterpolargl": [
           {
            "marker": {
             "colorbar": {
              "outlinewidth": 0,
              "ticks": ""
             }
            },
            "type": "scatterpolargl"
           }
          ],
          "scatterternary": [
           {
            "marker": {
             "colorbar": {
              "outlinewidth": 0,
              "ticks": ""
             }
            },
            "type": "scatterternary"
           }
          ],
          "surface": [
           {
            "colorbar": {
             "outlinewidth": 0,
             "ticks": ""
            },
            "colorscale": [
             [
              0,
              "#0d0887"
             ],
             [
              0.1111111111111111,
              "#46039f"
             ],
             [
              0.2222222222222222,
              "#7201a8"
             ],
             [
              0.3333333333333333,
              "#9c179e"
             ],
             [
              0.4444444444444444,
              "#bd3786"
             ],
             [
              0.5555555555555556,
              "#d8576b"
             ],
             [
              0.6666666666666666,
              "#ed7953"
             ],
             [
              0.7777777777777778,
              "#fb9f3a"
             ],
             [
              0.8888888888888888,
              "#fdca26"
             ],
             [
              1,
              "#f0f921"
             ]
            ],
            "type": "surface"
           }
          ],
          "table": [
           {
            "cells": {
             "fill": {
              "color": "#EBF0F8"
             },
             "line": {
              "color": "white"
             }
            },
            "header": {
             "fill": {
              "color": "#C8D4E3"
             },
             "line": {
              "color": "white"
             }
            },
            "type": "table"
           }
          ]
         },
         "layout": {
          "annotationdefaults": {
           "arrowcolor": "#2a3f5f",
           "arrowhead": 0,
           "arrowwidth": 1
          },
          "autotypenumbers": "strict",
          "coloraxis": {
           "colorbar": {
            "outlinewidth": 0,
            "ticks": ""
           }
          },
          "colorscale": {
           "diverging": [
            [
             0,
             "#8e0152"
            ],
            [
             0.1,
             "#c51b7d"
            ],
            [
             0.2,
             "#de77ae"
            ],
            [
             0.3,
             "#f1b6da"
            ],
            [
             0.4,
             "#fde0ef"
            ],
            [
             0.5,
             "#f7f7f7"
            ],
            [
             0.6,
             "#e6f5d0"
            ],
            [
             0.7,
             "#b8e186"
            ],
            [
             0.8,
             "#7fbc41"
            ],
            [
             0.9,
             "#4d9221"
            ],
            [
             1,
             "#276419"
            ]
           ],
           "sequential": [
            [
             0,
             "#0d0887"
            ],
            [
             0.1111111111111111,
             "#46039f"
            ],
            [
             0.2222222222222222,
             "#7201a8"
            ],
            [
             0.3333333333333333,
             "#9c179e"
            ],
            [
             0.4444444444444444,
             "#bd3786"
            ],
            [
             0.5555555555555556,
             "#d8576b"
            ],
            [
             0.6666666666666666,
             "#ed7953"
            ],
            [
             0.7777777777777778,
             "#fb9f3a"
            ],
            [
             0.8888888888888888,
             "#fdca26"
            ],
            [
             1,
             "#f0f921"
            ]
           ],
           "sequentialminus": [
            [
             0,
             "#0d0887"
            ],
            [
             0.1111111111111111,
             "#46039f"
            ],
            [
             0.2222222222222222,
             "#7201a8"
            ],
            [
             0.3333333333333333,
             "#9c179e"
            ],
            [
             0.4444444444444444,
             "#bd3786"
            ],
            [
             0.5555555555555556,
             "#d8576b"
            ],
            [
             0.6666666666666666,
             "#ed7953"
            ],
            [
             0.7777777777777778,
             "#fb9f3a"
            ],
            [
             0.8888888888888888,
             "#fdca26"
            ],
            [
             1,
             "#f0f921"
            ]
           ]
          },
          "colorway": [
           "#636efa",
           "#EF553B",
           "#00cc96",
           "#ab63fa",
           "#FFA15A",
           "#19d3f3",
           "#FF6692",
           "#B6E880",
           "#FF97FF",
           "#FECB52"
          ],
          "font": {
           "color": "#2a3f5f"
          },
          "geo": {
           "bgcolor": "white",
           "lakecolor": "white",
           "landcolor": "#E5ECF6",
           "showlakes": true,
           "showland": true,
           "subunitcolor": "white"
          },
          "hoverlabel": {
           "align": "left"
          },
          "hovermode": "closest",
          "mapbox": {
           "style": "light"
          },
          "paper_bgcolor": "white",
          "plot_bgcolor": "#E5ECF6",
          "polar": {
           "angularaxis": {
            "gridcolor": "white",
            "linecolor": "white",
            "ticks": ""
           },
           "bgcolor": "#E5ECF6",
           "radialaxis": {
            "gridcolor": "white",
            "linecolor": "white",
            "ticks": ""
           }
          },
          "scene": {
           "xaxis": {
            "backgroundcolor": "#E5ECF6",
            "gridcolor": "white",
            "gridwidth": 2,
            "linecolor": "white",
            "showbackground": true,
            "ticks": "",
            "zerolinecolor": "white"
           },
           "yaxis": {
            "backgroundcolor": "#E5ECF6",
            "gridcolor": "white",
            "gridwidth": 2,
            "linecolor": "white",
            "showbackground": true,
            "ticks": "",
            "zerolinecolor": "white"
           },
           "zaxis": {
            "backgroundcolor": "#E5ECF6",
            "gridcolor": "white",
            "gridwidth": 2,
            "linecolor": "white",
            "showbackground": true,
            "ticks": "",
            "zerolinecolor": "white"
           }
          },
          "shapedefaults": {
           "line": {
            "color": "#2a3f5f"
           }
          },
          "ternary": {
           "aaxis": {
            "gridcolor": "white",
            "linecolor": "white",
            "ticks": ""
           },
           "baxis": {
            "gridcolor": "white",
            "linecolor": "white",
            "ticks": ""
           },
           "bgcolor": "#E5ECF6",
           "caxis": {
            "gridcolor": "white",
            "linecolor": "white",
            "ticks": ""
           }
          },
          "title": {
           "x": 0.05
          },
          "xaxis": {
           "automargin": true,
           "gridcolor": "white",
           "linecolor": "white",
           "ticks": "",
           "title": {
            "standoff": 15
           },
           "zerolinecolor": "white",
           "zerolinewidth": 2
          },
          "yaxis": {
           "automargin": true,
           "gridcolor": "white",
           "linecolor": "white",
           "ticks": "",
           "title": {
            "standoff": 15
           },
           "zerolinecolor": "white",
           "zerolinewidth": 2
          }
         }
        },
        "title": {
         "text": "Hyperparameter Importances"
        },
        "xaxis": {
         "title": {
          "text": "Hyperparameter Importance"
         }
        },
        "yaxis": {
         "title": {
          "text": "Hyperparameter"
         }
        }
       }
      }
     },
     "metadata": {},
     "output_type": "display_data"
    },
    {
     "data": {
      "application/vnd.plotly.v1+json": {
       "config": {
        "plotlyServerURL": "https://plot.ly"
       },
       "data": [
        {
         "dimensions": [
          {
           "label": "Objective Value",
           "range": [
            0.005460949150205369,
            0.3736816022455939
           ],
           "values": [
            0.10103309665326823,
            0.15989988976305156,
            0.1762982557456941,
            0.22989319072300088,
            0.15335737493230792,
            0.3688197120233017,
            0.17268618376002245,
            0.1603917944635501,
            0.3720473959055548,
            0.005460949150205369,
            0.19188193151003075,
            0.3736816022455939,
            0.19340742930463165,
            0.3704268350134989,
            0.3736816022455939,
            0.3688197120233017,
            0.3720473959055548,
            0.19722337112698343,
            0.14836526403683745,
            0.3688197120233017,
            0.2640917453857312,
            0.3720473959055548,
            0.36722582381423685,
            0.372049542864495,
            0.3720473959055548,
            0.3704268350134989,
            0.11807610207678262,
            0.19940193913555607,
            0.342085813930558,
            0.1614859923840892,
            0.22061444099588937,
            0.3736816022455939,
            0.23670216486079068,
            0.36722582381423685,
            0.3688197120233017,
            0.16194562165197943,
            0.3688197120233017,
            0.12710887787010336,
            0.1102060591372857,
            0.13475212641437762,
            0.18401260882182974,
            0.3704268350134989,
            0.3720473959055548,
            0.3720473959055548,
            0.3291253293165295,
            0.3704268350134989,
            0.29202228832069493,
            0.14896547663851362,
            0.33929308935155034,
            0.2792549350737711
           ]
          },
          {
           "label": "architecture",
           "range": [
            0,
            3
           ],
           "ticktext": [
            "wide_shallow",
            "mid",
            "small",
            "deep"
           ],
           "tickvals": [
            0,
            1,
            2,
            3
           ],
           "values": [
            0,
            1,
            2,
            3,
            3,
            3,
            1,
            2,
            3,
            1,
            0,
            3,
            3,
            3,
            3,
            3,
            3,
            2,
            0,
            3,
            3,
            3,
            3,
            3,
            3,
            3,
            1,
            2,
            0,
            0,
            3,
            3,
            3,
            3,
            3,
            1,
            3,
            2,
            3,
            3,
            1,
            3,
            3,
            3,
            3,
            3,
            3,
            2,
            0,
            3
           ]
          },
          {
           "label": "dropout",
           "range": [
            0.1,
            0.5
           ],
           "values": [
            0.25,
            0.15000000000000002,
            0.25,
            0.30000000000000004,
            0.25,
            0.30000000000000004,
            0.5,
            0.5,
            0.45000000000000007,
            0.1,
            0.4,
            0.4,
            0.4,
            0.4,
            0.45000000000000007,
            0.35,
            0.45000000000000007,
            0.35,
            0.45000000000000007,
            0.35,
            0.5,
            0.45000000000000007,
            0.45000000000000007,
            0.4,
            0.4,
            0.35,
            0.4,
            0.5,
            0.30000000000000004,
            0.2,
            0.35,
            0.45000000000000007,
            0.45000000000000007,
            0.4,
            0.5,
            0.45000000000000007,
            0.4,
            0.2,
            0.25,
            0.30000000000000004,
            0.5,
            0.45000000000000007,
            0.45000000000000007,
            0.4,
            0.5,
            0.45000000000000007,
            0.35,
            0.1,
            0.4,
            0.45000000000000007
           ]
          },
          {
           "label": "embedding_dim",
           "range": [
            2,
            8
           ],
           "values": [
            4,
            6,
            6,
            4,
            7,
            2,
            5,
            3,
            8,
            3,
            8,
            2,
            8,
            2,
            6,
            6,
            5,
            4,
            7,
            5,
            3,
            7,
            8,
            6,
            6,
            5,
            7,
            6,
            4,
            5,
            2,
            7,
            6,
            7,
            6,
            7,
            6,
            7,
            6,
            5,
            4,
            8,
            8,
            7,
            8,
            7,
            3,
            6,
            8,
            7
           ]
          },
          {
           "label": "lr",
           "range": [
            -3.948098553112267,
            -2.0025448462807067
           ],
           "ticktext": [
            "0.000113",
            "0.001",
            "0.00994"
           ],
           "tickvals": [
            -3.948098553112267,
            -3,
            -2.0025448462807067
           ],
           "values": [
            -3.517551184480591,
            -3.5318462505212267,
            -2.1162468734218907,
            -2.5260650409381107,
            -3.183980507247754,
            -2.15739732800379,
            -3.2651877254750987,
            -2.7144640076859075,
            -2.510996276027357,
            -3.948098553112267,
            -2.5826555714475807,
            -2.210325475209711,
            -2.3424068745276383,
            -2.784533168650229,
            -2.0327760362184595,
            -2.0025448462807067,
            -2.282379603833355,
            -2.9192002632495933,
            -2.358773696378124,
            -2.0220981306057766,
            -2.276195077341113,
            -2.5194473046807655,
            -2.4624961975429702,
            -2.1816338425155535,
            -2.186073839801008,
            -2.715366268443893,
            -2.1459580764430566,
            -2.016555732429777,
            -2.379825745236088,
            -3.020456001607206,
            -3.6858224462741425,
            -2.2150408550577225,
            -2.258794764744895,
            -2.176905323843946,
            -2.115893634415155,
            -2.6273781658578828,
            -2.427598064665937,
            -2.0889851642850235,
            -2.261636014011709,
            -3.3670359645452415,
            -2.871929326539549,
            -2.4686026664927736,
            -2.1966949374848745,
            -2.090719088483246,
            -2.5763687165670777,
            -2.3440528821222166,
            -2.259375359938047,
            -2.651630737112182,
            -2.07467659177388,
            -3.116744831373319
           ]
          }
         ],
         "labelangle": 30,
         "labelside": "bottom",
         "line": {
          "color": [
           0.10103309665326823,
           0.15989988976305156,
           0.1762982557456941,
           0.22989319072300088,
           0.15335737493230792,
           0.3688197120233017,
           0.17268618376002245,
           0.1603917944635501,
           0.3720473959055548,
           0.005460949150205369,
           0.19188193151003075,
           0.3736816022455939,
           0.19340742930463165,
           0.3704268350134989,
           0.3736816022455939,
           0.3688197120233017,
           0.3720473959055548,
           0.19722337112698343,
           0.14836526403683745,
           0.3688197120233017,
           0.2640917453857312,
           0.3720473959055548,
           0.36722582381423685,
           0.372049542864495,
           0.3720473959055548,
           0.3704268350134989,
           0.11807610207678262,
           0.19940193913555607,
           0.342085813930558,
           0.1614859923840892,
           0.22061444099588937,
           0.3736816022455939,
           0.23670216486079068,
           0.36722582381423685,
           0.3688197120233017,
           0.16194562165197943,
           0.3688197120233017,
           0.12710887787010336,
           0.1102060591372857,
           0.13475212641437762,
           0.18401260882182974,
           0.3704268350134989,
           0.3720473959055548,
           0.3720473959055548,
           0.3291253293165295,
           0.3704268350134989,
           0.29202228832069493,
           0.14896547663851362,
           0.33929308935155034,
           0.2792549350737711
          ],
          "colorbar": {
           "title": {
            "text": "Objective Value"
           }
          },
          "colorscale": [
           [
            0,
            "rgb(247,251,255)"
           ],
           [
            0.125,
            "rgb(222,235,247)"
           ],
           [
            0.25,
            "rgb(198,219,239)"
           ],
           [
            0.375,
            "rgb(158,202,225)"
           ],
           [
            0.5,
            "rgb(107,174,214)"
           ],
           [
            0.625,
            "rgb(66,146,198)"
           ],
           [
            0.75,
            "rgb(33,113,181)"
           ],
           [
            0.875,
            "rgb(8,81,156)"
           ],
           [
            1,
            "rgb(8,48,107)"
           ]
          ],
          "reversescale": false,
          "showscale": true
         },
         "type": "parcoords"
        }
       ],
       "layout": {
        "template": {
         "data": {
          "bar": [
           {
            "error_x": {
             "color": "#2a3f5f"
            },
            "error_y": {
             "color": "#2a3f5f"
            },
            "marker": {
             "line": {
              "color": "#E5ECF6",
              "width": 0.5
             },
             "pattern": {
              "fillmode": "overlay",
              "size": 10,
              "solidity": 0.2
             }
            },
            "type": "bar"
           }
          ],
          "barpolar": [
           {
            "marker": {
             "line": {
              "color": "#E5ECF6",
              "width": 0.5
             },
             "pattern": {
              "fillmode": "overlay",
              "size": 10,
              "solidity": 0.2
             }
            },
            "type": "barpolar"
           }
          ],
          "carpet": [
           {
            "aaxis": {
             "endlinecolor": "#2a3f5f",
             "gridcolor": "white",
             "linecolor": "white",
             "minorgridcolor": "white",
             "startlinecolor": "#2a3f5f"
            },
            "baxis": {
             "endlinecolor": "#2a3f5f",
             "gridcolor": "white",
             "linecolor": "white",
             "minorgridcolor": "white",
             "startlinecolor": "#2a3f5f"
            },
            "type": "carpet"
           }
          ],
          "choropleth": [
           {
            "colorbar": {
             "outlinewidth": 0,
             "ticks": ""
            },
            "type": "choropleth"
           }
          ],
          "contour": [
           {
            "colorbar": {
             "outlinewidth": 0,
             "ticks": ""
            },
            "colorscale": [
             [
              0,
              "#0d0887"
             ],
             [
              0.1111111111111111,
              "#46039f"
             ],
             [
              0.2222222222222222,
              "#7201a8"
             ],
             [
              0.3333333333333333,
              "#9c179e"
             ],
             [
              0.4444444444444444,
              "#bd3786"
             ],
             [
              0.5555555555555556,
              "#d8576b"
             ],
             [
              0.6666666666666666,
              "#ed7953"
             ],
             [
              0.7777777777777778,
              "#fb9f3a"
             ],
             [
              0.8888888888888888,
              "#fdca26"
             ],
             [
              1,
              "#f0f921"
             ]
            ],
            "type": "contour"
           }
          ],
          "contourcarpet": [
           {
            "colorbar": {
             "outlinewidth": 0,
             "ticks": ""
            },
            "type": "contourcarpet"
           }
          ],
          "heatmap": [
           {
            "colorbar": {
             "outlinewidth": 0,
             "ticks": ""
            },
            "colorscale": [
             [
              0,
              "#0d0887"
             ],
             [
              0.1111111111111111,
              "#46039f"
             ],
             [
              0.2222222222222222,
              "#7201a8"
             ],
             [
              0.3333333333333333,
              "#9c179e"
             ],
             [
              0.4444444444444444,
              "#bd3786"
             ],
             [
              0.5555555555555556,
              "#d8576b"
             ],
             [
              0.6666666666666666,
              "#ed7953"
             ],
             [
              0.7777777777777778,
              "#fb9f3a"
             ],
             [
              0.8888888888888888,
              "#fdca26"
             ],
             [
              1,
              "#f0f921"
             ]
            ],
            "type": "heatmap"
           }
          ],
          "heatmapgl": [
           {
            "colorbar": {
             "outlinewidth": 0,
             "ticks": ""
            },
            "colorscale": [
             [
              0,
              "#0d0887"
             ],
             [
              0.1111111111111111,
              "#46039f"
             ],
             [
              0.2222222222222222,
              "#7201a8"
             ],
             [
              0.3333333333333333,
              "#9c179e"
             ],
             [
              0.4444444444444444,
              "#bd3786"
             ],
             [
              0.5555555555555556,
              "#d8576b"
             ],
             [
              0.6666666666666666,
              "#ed7953"
             ],
             [
              0.7777777777777778,
              "#fb9f3a"
             ],
             [
              0.8888888888888888,
              "#fdca26"
             ],
             [
              1,
              "#f0f921"
             ]
            ],
            "type": "heatmapgl"
           }
          ],
          "histogram": [
           {
            "marker": {
             "pattern": {
              "fillmode": "overlay",
              "size": 10,
              "solidity": 0.2
             }
            },
            "type": "histogram"
           }
          ],
          "histogram2d": [
           {
            "colorbar": {
             "outlinewidth": 0,
             "ticks": ""
            },
            "colorscale": [
             [
              0,
              "#0d0887"
             ],
             [
              0.1111111111111111,
              "#46039f"
             ],
             [
              0.2222222222222222,
              "#7201a8"
             ],
             [
              0.3333333333333333,
              "#9c179e"
             ],
             [
              0.4444444444444444,
              "#bd3786"
             ],
             [
              0.5555555555555556,
              "#d8576b"
             ],
             [
              0.6666666666666666,
              "#ed7953"
             ],
             [
              0.7777777777777778,
              "#fb9f3a"
             ],
             [
              0.8888888888888888,
              "#fdca26"
             ],
             [
              1,
              "#f0f921"
             ]
            ],
            "type": "histogram2d"
           }
          ],
          "histogram2dcontour": [
           {
            "colorbar": {
             "outlinewidth": 0,
             "ticks": ""
            },
            "colorscale": [
             [
              0,
              "#0d0887"
             ],
             [
              0.1111111111111111,
              "#46039f"
             ],
             [
              0.2222222222222222,
              "#7201a8"
             ],
             [
              0.3333333333333333,
              "#9c179e"
             ],
             [
              0.4444444444444444,
              "#bd3786"
             ],
             [
              0.5555555555555556,
              "#d8576b"
             ],
             [
              0.6666666666666666,
              "#ed7953"
             ],
             [
              0.7777777777777778,
              "#fb9f3a"
             ],
             [
              0.8888888888888888,
              "#fdca26"
             ],
             [
              1,
              "#f0f921"
             ]
            ],
            "type": "histogram2dcontour"
           }
          ],
          "mesh3d": [
           {
            "colorbar": {
             "outlinewidth": 0,
             "ticks": ""
            },
            "type": "mesh3d"
           }
          ],
          "parcoords": [
           {
            "line": {
             "colorbar": {
              "outlinewidth": 0,
              "ticks": ""
             }
            },
            "type": "parcoords"
           }
          ],
          "pie": [
           {
            "automargin": true,
            "type": "pie"
           }
          ],
          "scatter": [
           {
            "fillpattern": {
             "fillmode": "overlay",
             "size": 10,
             "solidity": 0.2
            },
            "type": "scatter"
           }
          ],
          "scatter3d": [
           {
            "line": {
             "colorbar": {
              "outlinewidth": 0,
              "ticks": ""
             }
            },
            "marker": {
             "colorbar": {
              "outlinewidth": 0,
              "ticks": ""
             }
            },
            "type": "scatter3d"
           }
          ],
          "scattercarpet": [
           {
            "marker": {
             "colorbar": {
              "outlinewidth": 0,
              "ticks": ""
             }
            },
            "type": "scattercarpet"
           }
          ],
          "scattergeo": [
           {
            "marker": {
             "colorbar": {
              "outlinewidth": 0,
              "ticks": ""
             }
            },
            "type": "scattergeo"
           }
          ],
          "scattergl": [
           {
            "marker": {
             "colorbar": {
              "outlinewidth": 0,
              "ticks": ""
             }
            },
            "type": "scattergl"
           }
          ],
          "scattermapbox": [
           {
            "marker": {
             "colorbar": {
              "outlinewidth": 0,
              "ticks": ""
             }
            },
            "type": "scattermapbox"
           }
          ],
          "scatterpolar": [
           {
            "marker": {
             "colorbar": {
              "outlinewidth": 0,
              "ticks": ""
             }
            },
            "type": "scatterpolar"
           }
          ],
          "scatterpolargl": [
           {
            "marker": {
             "colorbar": {
              "outlinewidth": 0,
              "ticks": ""
             }
            },
            "type": "scatterpolargl"
           }
          ],
          "scatterternary": [
           {
            "marker": {
             "colorbar": {
              "outlinewidth": 0,
              "ticks": ""
             }
            },
            "type": "scatterternary"
           }
          ],
          "surface": [
           {
            "colorbar": {
             "outlinewidth": 0,
             "ticks": ""
            },
            "colorscale": [
             [
              0,
              "#0d0887"
             ],
             [
              0.1111111111111111,
              "#46039f"
             ],
             [
              0.2222222222222222,
              "#7201a8"
             ],
             [
              0.3333333333333333,
              "#9c179e"
             ],
             [
              0.4444444444444444,
              "#bd3786"
             ],
             [
              0.5555555555555556,
              "#d8576b"
             ],
             [
              0.6666666666666666,
              "#ed7953"
             ],
             [
              0.7777777777777778,
              "#fb9f3a"
             ],
             [
              0.8888888888888888,
              "#fdca26"
             ],
             [
              1,
              "#f0f921"
             ]
            ],
            "type": "surface"
           }
          ],
          "table": [
           {
            "cells": {
             "fill": {
              "color": "#EBF0F8"
             },
             "line": {
              "color": "white"
             }
            },
            "header": {
             "fill": {
              "color": "#C8D4E3"
             },
             "line": {
              "color": "white"
             }
            },
            "type": "table"
           }
          ]
         },
         "layout": {
          "annotationdefaults": {
           "arrowcolor": "#2a3f5f",
           "arrowhead": 0,
           "arrowwidth": 1
          },
          "autotypenumbers": "strict",
          "coloraxis": {
           "colorbar": {
            "outlinewidth": 0,
            "ticks": ""
           }
          },
          "colorscale": {
           "diverging": [
            [
             0,
             "#8e0152"
            ],
            [
             0.1,
             "#c51b7d"
            ],
            [
             0.2,
             "#de77ae"
            ],
            [
             0.3,
             "#f1b6da"
            ],
            [
             0.4,
             "#fde0ef"
            ],
            [
             0.5,
             "#f7f7f7"
            ],
            [
             0.6,
             "#e6f5d0"
            ],
            [
             0.7,
             "#b8e186"
            ],
            [
             0.8,
             "#7fbc41"
            ],
            [
             0.9,
             "#4d9221"
            ],
            [
             1,
             "#276419"
            ]
           ],
           "sequential": [
            [
             0,
             "#0d0887"
            ],
            [
             0.1111111111111111,
             "#46039f"
            ],
            [
             0.2222222222222222,
             "#7201a8"
            ],
            [
             0.3333333333333333,
             "#9c179e"
            ],
            [
             0.4444444444444444,
             "#bd3786"
            ],
            [
             0.5555555555555556,
             "#d8576b"
            ],
            [
             0.6666666666666666,
             "#ed7953"
            ],
            [
             0.7777777777777778,
             "#fb9f3a"
            ],
            [
             0.8888888888888888,
             "#fdca26"
            ],
            [
             1,
             "#f0f921"
            ]
           ],
           "sequentialminus": [
            [
             0,
             "#0d0887"
            ],
            [
             0.1111111111111111,
             "#46039f"
            ],
            [
             0.2222222222222222,
             "#7201a8"
            ],
            [
             0.3333333333333333,
             "#9c179e"
            ],
            [
             0.4444444444444444,
             "#bd3786"
            ],
            [
             0.5555555555555556,
             "#d8576b"
            ],
            [
             0.6666666666666666,
             "#ed7953"
            ],
            [
             0.7777777777777778,
             "#fb9f3a"
            ],
            [
             0.8888888888888888,
             "#fdca26"
            ],
            [
             1,
             "#f0f921"
            ]
           ]
          },
          "colorway": [
           "#636efa",
           "#EF553B",
           "#00cc96",
           "#ab63fa",
           "#FFA15A",
           "#19d3f3",
           "#FF6692",
           "#B6E880",
           "#FF97FF",
           "#FECB52"
          ],
          "font": {
           "color": "#2a3f5f"
          },
          "geo": {
           "bgcolor": "white",
           "lakecolor": "white",
           "landcolor": "#E5ECF6",
           "showlakes": true,
           "showland": true,
           "subunitcolor": "white"
          },
          "hoverlabel": {
           "align": "left"
          },
          "hovermode": "closest",
          "mapbox": {
           "style": "light"
          },
          "paper_bgcolor": "white",
          "plot_bgcolor": "#E5ECF6",
          "polar": {
           "angularaxis": {
            "gridcolor": "white",
            "linecolor": "white",
            "ticks": ""
           },
           "bgcolor": "#E5ECF6",
           "radialaxis": {
            "gridcolor": "white",
            "linecolor": "white",
            "ticks": ""
           }
          },
          "scene": {
           "xaxis": {
            "backgroundcolor": "#E5ECF6",
            "gridcolor": "white",
            "gridwidth": 2,
            "linecolor": "white",
            "showbackground": true,
            "ticks": "",
            "zerolinecolor": "white"
           },
           "yaxis": {
            "backgroundcolor": "#E5ECF6",
            "gridcolor": "white",
            "gridwidth": 2,
            "linecolor": "white",
            "showbackground": true,
            "ticks": "",
            "zerolinecolor": "white"
           },
           "zaxis": {
            "backgroundcolor": "#E5ECF6",
            "gridcolor": "white",
            "gridwidth": 2,
            "linecolor": "white",
            "showbackground": true,
            "ticks": "",
            "zerolinecolor": "white"
           }
          },
          "shapedefaults": {
           "line": {
            "color": "#2a3f5f"
           }
          },
          "ternary": {
           "aaxis": {
            "gridcolor": "white",
            "linecolor": "white",
            "ticks": ""
           },
           "baxis": {
            "gridcolor": "white",
            "linecolor": "white",
            "ticks": ""
           },
           "bgcolor": "#E5ECF6",
           "caxis": {
            "gridcolor": "white",
            "linecolor": "white",
            "ticks": ""
           }
          },
          "title": {
           "x": 0.05
          },
          "xaxis": {
           "automargin": true,
           "gridcolor": "white",
           "linecolor": "white",
           "ticks": "",
           "title": {
            "standoff": 15
           },
           "zerolinecolor": "white",
           "zerolinewidth": 2
          },
          "yaxis": {
           "automargin": true,
           "gridcolor": "white",
           "linecolor": "white",
           "ticks": "",
           "title": {
            "standoff": 15
           },
           "zerolinecolor": "white",
           "zerolinewidth": 2
          }
         }
        },
        "title": {
         "text": "Parallel Coordinate Plot"
        }
       }
      }
     },
     "metadata": {},
     "output_type": "display_data"
    },
    {
     "data": {
      "application/vnd.plotly.v1+json": {
       "config": {
        "plotlyServerURL": "https://plot.ly"
       },
       "data": [
        {
         "type": "scatter",
         "xaxis": "x",
         "yaxis": "y"
        },
        {
         "colorbar": {
          "title": {
           "text": "Objective Value"
          }
         },
         "colorscale": [
          [
           0,
           "rgb(247,251,255)"
          ],
          [
           0.125,
           "rgb(222,235,247)"
          ],
          [
           0.25,
           "rgb(198,219,239)"
          ],
          [
           0.375,
           "rgb(158,202,225)"
          ],
          [
           0.5,
           "rgb(107,174,214)"
          ],
          [
           0.625,
           "rgb(66,146,198)"
          ],
          [
           0.75,
           "rgb(33,113,181)"
          ],
          [
           0.875,
           "rgb(8,81,156)"
          ],
          [
           1,
           "rgb(8,48,107)"
          ]
         ],
         "connectgaps": true,
         "contours": {
          "coloring": "heatmap"
         },
         "hoverinfo": "none",
         "line": {
          "smoothing": 1.3
         },
         "reversescale": false,
         "showscale": true,
         "type": "contour",
         "x": [
          "deep",
          "mid",
          "small",
          "wide_shallow"
         ],
         "xaxis": "x5",
         "y": [
          0.08,
          0.1,
          0.15000000000000002,
          0.2,
          0.25,
          0.30000000000000004,
          0.35,
          0.4,
          0.45000000000000007,
          0.5,
          0.52
         ],
         "yaxis": "y5",
         "z": [
          [
           null,
           null,
           null,
           null
          ],
          [
           null,
           0.005460949150205369,
           0.14896547663851362,
           null
          ],
          [
           null,
           0.15989988976305156,
           null,
           null
          ],
          [
           null,
           null,
           0.12710887787010336,
           0.1614859923840892
          ],
          [
           0.15335737493230792,
           null,
           0.1762982557456941,
           0.10103309665326823
          ],
          [
           0.3688197120233017,
           null,
           null,
           0.342085813930558
          ],
          [
           0.3704268350134989,
           null,
           0.19722337112698343,
           null
          ],
          [
           0.3736816022455939,
           0.11807610207678262,
           null,
           0.33929308935155034
          ],
          [
           0.3736816022455939,
           0.16194562165197943,
           null,
           0.14836526403683745
          ],
          [
           0.3688197120233017,
           0.18401260882182974,
           0.19940193913555607,
           null
          ],
          [
           null,
           null,
           null,
           null
          ]
         ]
        },
        {
         "marker": {
          "color": "black",
          "line": {
           "color": "Gray",
           "width": 2
          }
         },
         "mode": "markers",
         "name": "Feasible Trial",
         "showlegend": false,
         "type": "scatter",
         "x": [
          "wide_shallow",
          "mid",
          "small",
          "deep",
          "deep",
          "deep",
          "mid",
          "small",
          "deep",
          "mid",
          "wide_shallow",
          "deep",
          "deep",
          "deep",
          "deep",
          "deep",
          "deep",
          "small",
          "wide_shallow",
          "deep",
          "deep",
          "deep",
          "deep",
          "deep",
          "deep",
          "deep",
          "mid",
          "small",
          "wide_shallow",
          "wide_shallow",
          "deep",
          "deep",
          "deep",
          "deep",
          "deep",
          "mid",
          "deep",
          "small",
          "deep",
          "deep",
          "mid",
          "deep",
          "deep",
          "deep",
          "deep",
          "deep",
          "deep",
          "small",
          "wide_shallow",
          "deep"
         ],
         "xaxis": "x5",
         "y": [
          0.25,
          0.15000000000000002,
          0.25,
          0.30000000000000004,
          0.25,
          0.30000000000000004,
          0.5,
          0.5,
          0.45000000000000007,
          0.1,
          0.4,
          0.4,
          0.4,
          0.4,
          0.45000000000000007,
          0.35,
          0.45000000000000007,
          0.35,
          0.45000000000000007,
          0.35,
          0.5,
          0.45000000000000007,
          0.45000000000000007,
          0.4,
          0.4,
          0.35,
          0.4,
          0.5,
          0.30000000000000004,
          0.2,
          0.35,
          0.45000000000000007,
          0.45000000000000007,
          0.4,
          0.5,
          0.45000000000000007,
          0.4,
          0.2,
          0.25,
          0.30000000000000004,
          0.5,
          0.45000000000000007,
          0.45000000000000007,
          0.4,
          0.5,
          0.45000000000000007,
          0.35,
          0.1,
          0.4,
          0.45000000000000007
         ],
         "yaxis": "y5"
        },
        {
         "colorbar": {
          "title": {
           "text": "Objective Value"
          }
         },
         "colorscale": [
          [
           0,
           "rgb(247,251,255)"
          ],
          [
           0.125,
           "rgb(222,235,247)"
          ],
          [
           0.25,
           "rgb(198,219,239)"
          ],
          [
           0.375,
           "rgb(158,202,225)"
          ],
          [
           0.5,
           "rgb(107,174,214)"
          ],
          [
           0.625,
           "rgb(66,146,198)"
          ],
          [
           0.75,
           "rgb(33,113,181)"
          ],
          [
           0.875,
           "rgb(8,81,156)"
          ],
          [
           1,
           "rgb(8,48,107)"
          ]
         ],
         "connectgaps": true,
         "contours": {
          "coloring": "heatmap"
         },
         "hoverinfo": "none",
         "line": {
          "smoothing": 1.3
         },
         "reversescale": false,
         "showscale": false,
         "type": "contour",
         "x": [
          "deep",
          "mid",
          "small",
          "wide_shallow"
         ],
         "xaxis": "x9",
         "y": [
          1.7,
          2,
          3,
          4,
          5,
          6,
          7,
          8,
          8.3
         ],
         "yaxis": "y9",
         "z": [
          [
           null,
           null,
           null,
           null
          ],
          [
           0.3736816022455939,
           null,
           null,
           null
          ],
          [
           0.29202228832069493,
           0.005460949150205369,
           0.1603917944635501,
           null
          ],
          [
           0.22989319072300088,
           0.18401260882182974,
           0.19722337112698343,
           0.342085813930558
          ],
          [
           0.3720473959055548,
           0.17268618376002245,
           null,
           0.1614859923840892
          ],
          [
           0.3736816022455939,
           0.15989988976305156,
           0.19940193913555607,
           null
          ],
          [
           0.3736816022455939,
           0.16194562165197943,
           0.12710887787010336,
           0.14836526403683745
          ],
          [
           0.3720473959055548,
           null,
           null,
           0.33929308935155034
          ],
          [
           null,
           null,
           null,
           null
          ]
         ]
        },
        {
         "marker": {
          "color": "black",
          "line": {
           "color": "Gray",
           "width": 2
          }
         },
         "mode": "markers",
         "name": "Feasible Trial",
         "showlegend": false,
         "type": "scatter",
         "x": [
          "wide_shallow",
          "mid",
          "small",
          "deep",
          "deep",
          "deep",
          "mid",
          "small",
          "deep",
          "mid",
          "wide_shallow",
          "deep",
          "deep",
          "deep",
          "deep",
          "deep",
          "deep",
          "small",
          "wide_shallow",
          "deep",
          "deep",
          "deep",
          "deep",
          "deep",
          "deep",
          "deep",
          "mid",
          "small",
          "wide_shallow",
          "wide_shallow",
          "deep",
          "deep",
          "deep",
          "deep",
          "deep",
          "mid",
          "deep",
          "small",
          "deep",
          "deep",
          "mid",
          "deep",
          "deep",
          "deep",
          "deep",
          "deep",
          "deep",
          "small",
          "wide_shallow",
          "deep"
         ],
         "xaxis": "x9",
         "y": [
          4,
          6,
          6,
          4,
          7,
          2,
          5,
          3,
          8,
          3,
          8,
          2,
          8,
          2,
          6,
          6,
          5,
          4,
          7,
          5,
          3,
          7,
          8,
          6,
          6,
          5,
          7,
          6,
          4,
          5,
          2,
          7,
          6,
          7,
          6,
          7,
          6,
          7,
          6,
          5,
          4,
          8,
          8,
          7,
          8,
          7,
          3,
          6,
          8,
          7
         ],
         "yaxis": "y9"
        },
        {
         "colorbar": {
          "title": {
           "text": "Objective Value"
          }
         },
         "colorscale": [
          [
           0,
           "rgb(247,251,255)"
          ],
          [
           0.125,
           "rgb(222,235,247)"
          ],
          [
           0.25,
           "rgb(198,219,239)"
          ],
          [
           0.375,
           "rgb(158,202,225)"
          ],
          [
           0.5,
           "rgb(107,174,214)"
          ],
          [
           0.625,
           "rgb(66,146,198)"
          ],
          [
           0.75,
           "rgb(33,113,181)"
          ],
          [
           0.875,
           "rgb(8,81,156)"
          ],
          [
           1,
           "rgb(8,48,107)"
          ]
         ],
         "connectgaps": true,
         "contours": {
          "coloring": "heatmap"
         },
         "hoverinfo": "none",
         "line": {
          "smoothing": 1.3
         },
         "reversescale": false,
         "showscale": false,
         "type": "contour",
         "x": [
          "deep",
          "mid",
          "small",
          "wide_shallow"
         ],
         "xaxis": "x13",
         "y": [
          0.00009007904257690357,
          0.00011269416937412507,
          0.00020614725381120283,
          0.0002938689826497611,
          0.000303702813697569,
          0.00042950085771375796,
          0.0005430155601726046,
          0.0006546655572339079,
          0.0007642847052328851,
          0.0009539903867534123,
          0.0012044803984716341,
          0.0013429834892845281,
          0.0016423542223152217,
          0.0019258999928671058,
          0.001929905271167702,
          0.0022303307025457455,
          0.002358423719979297,
          0.002614233818711447,
          0.002652352754933044,
          0.002978070393374954,
          0.0030237974420967424,
          0.003083214387971419,
          0.003399361359679728,
          0.0034474962500868323,
          0.00373595757099164,
          0.004170366802106316,
          0.0043775015005089206,
          0.0045284243592165685,
          0.004545619981820755,
          0.005219397775922193,
          0.005294255819381953,
          0.005474746139102224,
          0.005503318399765856,
          0.005510680540152121,
          0.006094795594316765,
          0.006161330774897911,
          0.006357773656592746,
          0.00651517612039021,
          0.006582125482506625,
          0.006654182014963421,
          0.006959894748259145,
          0.007145653015621613,
          0.00765161529441038,
          0.007657841365879801,
          0.008114857755326515,
          0.008147321151987574,
          0.0084202194089088,
          0.00927307908763908,
          0.009503900248990182,
          0.009625964763289889,
          0.009941574095947092,
          0.012437492706004154
         ],
         "yaxis": "y13",
         "z": [
          [
           null,
           null,
           null,
           null
          ],
          [
           null,
           0.005460949150205369,
           null,
           null
          ],
          [
           0.22061444099588937,
           null,
           null,
           null
          ],
          [
           null,
           0.15989988976305156,
           null,
           null
          ],
          [
           null,
           null,
           null,
           0.10103309665326823
          ],
          [
           0.13475212641437762,
           null,
           null,
           null
          ],
          [
           null,
           0.17268618376002245,
           null,
           null
          ],
          [
           0.15335737493230792,
           null,
           null,
           null
          ],
          [
           0.2792549350737711,
           null,
           null,
           null
          ],
          [
           null,
           null,
           null,
           0.1614859923840892
          ],
          [
           null,
           null,
           0.19722337112698343,
           null
          ],
          [
           null,
           0.18401260882182974,
           null,
           null
          ],
          [
           0.3704268350134989,
           null,
           null,
           null
          ],
          [
           0.3704268350134989,
           null,
           null,
           null
          ],
          [
           null,
           null,
           0.1603917944635501,
           null
          ],
          [
           null,
           null,
           0.14896547663851362,
           null
          ],
          [
           null,
           0.16194562165197943,
           null,
           null
          ],
          [
           null,
           null,
           null,
           0.19188193151003075
          ],
          [
           0.3291253293165295,
           null,
           null,
           null
          ],
          [
           0.22989319072300088,
           null,
           null,
           null
          ],
          [
           0.3720473959055548,
           null,
           null,
           null
          ],
          [
           0.3720473959055548,
           null,
           null,
           null
          ],
          [
           0.3704268350134989,
           null,
           null,
           null
          ],
          [
           0.36722582381423685,
           null,
           null,
           null
          ],
          [
           0.3688197120233017,
           null,
           null,
           null
          ],
          [
           null,
           null,
           null,
           0.342085813930558
          ],
          [
           null,
           null,
           null,
           0.14836526403683745
          ],
          [
           0.3704268350134989,
           null,
           null,
           null
          ],
          [
           0.19340742930463165,
           null,
           null,
           null
          ],
          [
           0.3720473959055548,
           null,
           null,
           null
          ],
          [
           0.2640917453857312,
           null,
           null,
           null
          ],
          [
           0.1102060591372857,
           null,
           null,
           null
          ],
          [
           0.29202228832069493,
           null,
           null,
           null
          ],
          [
           0.23670216486079068,
           null,
           null,
           null
          ],
          [
           0.3736816022455939,
           null,
           null,
           null
          ],
          [
           0.3736816022455939,
           null,
           null,
           null
          ],
          [
           0.3720473959055548,
           null,
           null,
           null
          ],
          [
           0.3720473959055548,
           null,
           null,
           null
          ],
          [
           0.372049542864495,
           null,
           null,
           null
          ],
          [
           0.36722582381423685,
           null,
           null,
           null
          ],
          [
           0.3688197120233017,
           null,
           null,
           null
          ],
          [
           null,
           0.11807610207678262,
           null,
           null
          ],
          [
           null,
           null,
           0.1762982557456941,
           null
          ],
          [
           0.3688197120233017,
           null,
           null,
           null
          ],
          [
           0.3720473959055548,
           null,
           null,
           null
          ],
          [
           null,
           null,
           0.12710887787010336,
           null
          ],
          [
           null,
           null,
           null,
           0.33929308935155034
          ],
          [
           0.3736816022455939,
           null,
           null,
           null
          ],
          [
           0.3688197120233017,
           null,
           null,
           null
          ],
          [
           null,
           null,
           0.19940193913555607,
           null
          ],
          [
           0.3688197120233017,
           null,
           null,
           null
          ],
          [
           null,
           null,
           null,
           null
          ]
         ]
        },
        {
         "marker": {
          "color": "black",
          "line": {
           "color": "Gray",
           "width": 2
          }
         },
         "mode": "markers",
         "name": "Feasible Trial",
         "showlegend": false,
         "type": "scatter",
         "x": [
          "wide_shallow",
          "mid",
          "small",
          "deep",
          "deep",
          "deep",
          "mid",
          "small",
          "deep",
          "mid",
          "wide_shallow",
          "deep",
          "deep",
          "deep",
          "deep",
          "deep",
          "deep",
          "small",
          "wide_shallow",
          "deep",
          "deep",
          "deep",
          "deep",
          "deep",
          "deep",
          "deep",
          "mid",
          "small",
          "wide_shallow",
          "wide_shallow",
          "deep",
          "deep",
          "deep",
          "deep",
          "deep",
          "mid",
          "deep",
          "small",
          "deep",
          "deep",
          "mid",
          "deep",
          "deep",
          "deep",
          "deep",
          "deep",
          "deep",
          "small",
          "wide_shallow",
          "deep"
         ],
         "xaxis": "x13",
         "y": [
          0.000303702813697569,
          0.0002938689826497611,
          0.00765161529441038,
          0.002978070393374954,
          0.0006546655572339079,
          0.006959894748259145,
          0.0005430155601726046,
          0.001929905271167702,
          0.003083214387971419,
          0.00011269416937412507,
          0.002614233818711447,
          0.006161330774897911,
          0.004545619981820755,
          0.0016423542223152217,
          0.00927307908763908,
          0.009941574095947092,
          0.005219397775922193,
          0.0012044803984716341,
          0.0043775015005089206,
          0.009503900248990182,
          0.005294255819381953,
          0.0030237974420967424,
          0.0034474962500868323,
          0.006582125482506625,
          0.00651517612039021,
          0.0019258999928671058,
          0.007145653015621613,
          0.009625964763289889,
          0.004170366802106316,
          0.0009539903867534123,
          0.00020614725381120283,
          0.006094795594316765,
          0.005510680540152121,
          0.006654182014963421,
          0.007657841365879801,
          0.002358423719979297,
          0.00373595757099164,
          0.008147321151987574,
          0.005474746139102224,
          0.00042950085771375796,
          0.0013429834892845281,
          0.003399361359679728,
          0.006357773656592746,
          0.008114857755326515,
          0.002652352754933044,
          0.0045284243592165685,
          0.005503318399765856,
          0.0022303307025457455,
          0.0084202194089088,
          0.0007642847052328851
         ],
         "yaxis": "y13"
        },
        {
         "colorbar": {
          "title": {
           "text": "Objective Value"
          }
         },
         "colorscale": [
          [
           0,
           "rgb(247,251,255)"
          ],
          [
           0.125,
           "rgb(222,235,247)"
          ],
          [
           0.25,
           "rgb(198,219,239)"
          ],
          [
           0.375,
           "rgb(158,202,225)"
          ],
          [
           0.5,
           "rgb(107,174,214)"
          ],
          [
           0.625,
           "rgb(66,146,198)"
          ],
          [
           0.75,
           "rgb(33,113,181)"
          ],
          [
           0.875,
           "rgb(8,81,156)"
          ],
          [
           1,
           "rgb(8,48,107)"
          ]
         ],
         "connectgaps": true,
         "contours": {
          "coloring": "heatmap"
         },
         "hoverinfo": "none",
         "line": {
          "smoothing": 1.3
         },
         "reversescale": false,
         "showscale": false,
         "type": "contour",
         "x": [
          0.08,
          0.1,
          0.15000000000000002,
          0.2,
          0.25,
          0.30000000000000004,
          0.35,
          0.4,
          0.45000000000000007,
          0.5,
          0.52
         ],
         "xaxis": "x2",
         "y": [
          "deep",
          "mid",
          "small",
          "wide_shallow"
         ],
         "yaxis": "y2",
         "z": [
          [
           null,
           null,
           null,
           null,
           0.15335737493230792,
           0.3688197120233017,
           0.3704268350134989,
           0.3736816022455939,
           0.3736816022455939,
           0.3688197120233017,
           null
          ],
          [
           null,
           0.005460949150205369,
           0.15989988976305156,
           null,
           null,
           null,
           null,
           0.11807610207678262,
           0.16194562165197943,
           0.18401260882182974,
           null
          ],
          [
           null,
           0.14896547663851362,
           null,
           0.12710887787010336,
           0.1762982557456941,
           null,
           0.19722337112698343,
           null,
           null,
           0.19940193913555607,
           null
          ],
          [
           null,
           null,
           null,
           0.1614859923840892,
           0.10103309665326823,
           0.342085813930558,
           null,
           0.33929308935155034,
           0.14836526403683745,
           null,
           null
          ]
         ]
        },
        {
         "marker": {
          "color": "black",
          "line": {
           "color": "Gray",
           "width": 2
          }
         },
         "mode": "markers",
         "name": "Feasible Trial",
         "showlegend": false,
         "type": "scatter",
         "x": [
          0.25,
          0.15000000000000002,
          0.25,
          0.30000000000000004,
          0.25,
          0.30000000000000004,
          0.5,
          0.5,
          0.45000000000000007,
          0.1,
          0.4,
          0.4,
          0.4,
          0.4,
          0.45000000000000007,
          0.35,
          0.45000000000000007,
          0.35,
          0.45000000000000007,
          0.35,
          0.5,
          0.45000000000000007,
          0.45000000000000007,
          0.4,
          0.4,
          0.35,
          0.4,
          0.5,
          0.30000000000000004,
          0.2,
          0.35,
          0.45000000000000007,
          0.45000000000000007,
          0.4,
          0.5,
          0.45000000000000007,
          0.4,
          0.2,
          0.25,
          0.30000000000000004,
          0.5,
          0.45000000000000007,
          0.45000000000000007,
          0.4,
          0.5,
          0.45000000000000007,
          0.35,
          0.1,
          0.4,
          0.45000000000000007
         ],
         "xaxis": "x2",
         "y": [
          "wide_shallow",
          "mid",
          "small",
          "deep",
          "deep",
          "deep",
          "mid",
          "small",
          "deep",
          "mid",
          "wide_shallow",
          "deep",
          "deep",
          "deep",
          "deep",
          "deep",
          "deep",
          "small",
          "wide_shallow",
          "deep",
          "deep",
          "deep",
          "deep",
          "deep",
          "deep",
          "deep",
          "mid",
          "small",
          "wide_shallow",
          "wide_shallow",
          "deep",
          "deep",
          "deep",
          "deep",
          "deep",
          "mid",
          "deep",
          "small",
          "deep",
          "deep",
          "mid",
          "deep",
          "deep",
          "deep",
          "deep",
          "deep",
          "deep",
          "small",
          "wide_shallow",
          "deep"
         ],
         "yaxis": "y2"
        },
        {
         "type": "scatter",
         "xaxis": "x6",
         "yaxis": "y6"
        },
        {
         "colorbar": {
          "title": {
           "text": "Objective Value"
          }
         },
         "colorscale": [
          [
           0,
           "rgb(247,251,255)"
          ],
          [
           0.125,
           "rgb(222,235,247)"
          ],
          [
           0.25,
           "rgb(198,219,239)"
          ],
          [
           0.375,
           "rgb(158,202,225)"
          ],
          [
           0.5,
           "rgb(107,174,214)"
          ],
          [
           0.625,
           "rgb(66,146,198)"
          ],
          [
           0.75,
           "rgb(33,113,181)"
          ],
          [
           0.875,
           "rgb(8,81,156)"
          ],
          [
           1,
           "rgb(8,48,107)"
          ]
         ],
         "connectgaps": true,
         "contours": {
          "coloring": "heatmap"
         },
         "hoverinfo": "none",
         "line": {
          "smoothing": 1.3
         },
         "reversescale": false,
         "showscale": false,
         "type": "contour",
         "x": [
          0.08,
          0.1,
          0.15000000000000002,
          0.2,
          0.25,
          0.30000000000000004,
          0.35,
          0.4,
          0.45000000000000007,
          0.5,
          0.52
         ],
         "xaxis": "x10",
         "y": [
          1.7,
          2,
          3,
          4,
          5,
          6,
          7,
          8,
          8.3
         ],
         "yaxis": "y10",
         "z": [
          [
           null,
           null,
           null,
           null,
           null,
           null,
           null,
           null,
           null,
           null,
           null
          ],
          [
           null,
           null,
           null,
           null,
           null,
           0.3688197120233017,
           0.22061444099588937,
           0.3736816022455939,
           null,
           null,
           null
          ],
          [
           null,
           0.005460949150205369,
           null,
           null,
           null,
           null,
           0.29202228832069493,
           null,
           null,
           0.2640917453857312,
           null
          ],
          [
           null,
           null,
           null,
           null,
           0.10103309665326823,
           0.342085813930558,
           0.19722337112698343,
           null,
           null,
           0.18401260882182974,
           null
          ],
          [
           null,
           null,
           null,
           0.1614859923840892,
           null,
           0.13475212641437762,
           0.3704268350134989,
           null,
           0.3720473959055548,
           0.17268618376002245,
           null
          ],
          [
           null,
           0.14896547663851362,
           0.15989988976305156,
           null,
           0.1762982557456941,
           null,
           0.3688197120233017,
           0.372049542864495,
           0.3736816022455939,
           0.3688197120233017,
           null
          ],
          [
           null,
           null,
           null,
           0.12710887787010336,
           0.15335737493230792,
           null,
           null,
           0.3720473959055548,
           0.3736816022455939,
           null,
           null
          ],
          [
           null,
           null,
           null,
           null,
           null,
           null,
           null,
           0.33929308935155034,
           0.3720473959055548,
           0.3291253293165295,
           null
          ],
          [
           null,
           null,
           null,
           null,
           null,
           null,
           null,
           null,
           null,
           null,
           null
          ]
         ]
        },
        {
         "marker": {
          "color": "black",
          "line": {
           "color": "Gray",
           "width": 2
          }
         },
         "mode": "markers",
         "name": "Feasible Trial",
         "showlegend": false,
         "type": "scatter",
         "x": [
          0.25,
          0.15000000000000002,
          0.25,
          0.30000000000000004,
          0.25,
          0.30000000000000004,
          0.5,
          0.5,
          0.45000000000000007,
          0.1,
          0.4,
          0.4,
          0.4,
          0.4,
          0.45000000000000007,
          0.35,
          0.45000000000000007,
          0.35,
          0.45000000000000007,
          0.35,
          0.5,
          0.45000000000000007,
          0.45000000000000007,
          0.4,
          0.4,
          0.35,
          0.4,
          0.5,
          0.30000000000000004,
          0.2,
          0.35,
          0.45000000000000007,
          0.45000000000000007,
          0.4,
          0.5,
          0.45000000000000007,
          0.4,
          0.2,
          0.25,
          0.30000000000000004,
          0.5,
          0.45000000000000007,
          0.45000000000000007,
          0.4,
          0.5,
          0.45000000000000007,
          0.35,
          0.1,
          0.4,
          0.45000000000000007
         ],
         "xaxis": "x10",
         "y": [
          4,
          6,
          6,
          4,
          7,
          2,
          5,
          3,
          8,
          3,
          8,
          2,
          8,
          2,
          6,
          6,
          5,
          4,
          7,
          5,
          3,
          7,
          8,
          6,
          6,
          5,
          7,
          6,
          4,
          5,
          2,
          7,
          6,
          7,
          6,
          7,
          6,
          7,
          6,
          5,
          4,
          8,
          8,
          7,
          8,
          7,
          3,
          6,
          8,
          7
         ],
         "yaxis": "y10"
        },
        {
         "colorbar": {
          "title": {
           "text": "Objective Value"
          }
         },
         "colorscale": [
          [
           0,
           "rgb(247,251,255)"
          ],
          [
           0.125,
           "rgb(222,235,247)"
          ],
          [
           0.25,
           "rgb(198,219,239)"
          ],
          [
           0.375,
           "rgb(158,202,225)"
          ],
          [
           0.5,
           "rgb(107,174,214)"
          ],
          [
           0.625,
           "rgb(66,146,198)"
          ],
          [
           0.75,
           "rgb(33,113,181)"
          ],
          [
           0.875,
           "rgb(8,81,156)"
          ],
          [
           1,
           "rgb(8,48,107)"
          ]
         ],
         "connectgaps": true,
         "contours": {
          "coloring": "heatmap"
         },
         "hoverinfo": "none",
         "line": {
          "smoothing": 1.3
         },
         "reversescale": false,
         "showscale": false,
         "type": "contour",
         "x": [
          0.08,
          0.1,
          0.15000000000000002,
          0.2,
          0.25,
          0.30000000000000004,
          0.35,
          0.4,
          0.45000000000000007,
          0.5,
          0.52
         ],
         "xaxis": "x14",
         "y": [
          0.00009007904257690357,
          0.00011269416937412507,
          0.00020614725381120283,
          0.0002938689826497611,
          0.000303702813697569,
          0.00042950085771375796,
          0.0005430155601726046,
          0.0006546655572339079,
          0.0007642847052328851,
          0.0009539903867534123,
          0.0012044803984716341,
          0.0013429834892845281,
          0.0016423542223152217,
          0.0019258999928671058,
          0.001929905271167702,
          0.0022303307025457455,
          0.002358423719979297,
          0.002614233818711447,
          0.002652352754933044,
          0.002978070393374954,
          0.0030237974420967424,
          0.003083214387971419,
          0.003399361359679728,
          0.0034474962500868323,
          0.00373595757099164,
          0.004170366802106316,
          0.0043775015005089206,
          0.0045284243592165685,
          0.004545619981820755,
          0.005219397775922193,
          0.005294255819381953,
          0.005474746139102224,
          0.005503318399765856,
          0.005510680540152121,
          0.006094795594316765,
          0.006161330774897911,
          0.006357773656592746,
          0.00651517612039021,
          0.006582125482506625,
          0.006654182014963421,
          0.006959894748259145,
          0.007145653015621613,
          0.00765161529441038,
          0.007657841365879801,
          0.008114857755326515,
          0.008147321151987574,
          0.0084202194089088,
          0.00927307908763908,
          0.009503900248990182,
          0.009625964763289889,
          0.009941574095947092,
          0.012437492706004154
         ],
         "yaxis": "y14",
         "z": [
          [
           null,
           null,
           null,
           null,
           null,
           null,
           null,
           null,
           null,
           null,
           null
          ],
          [
           null,
           0.005460949150205369,
           null,
           null,
           null,
           null,
           null,
           null,
           null,
           null,
           null
          ],
          [
           null,
           null,
           null,
           null,
           null,
           null,
           0.22061444099588937,
           null,
           null,
           null,
           null
          ],
          [
           null,
           null,
           0.15989988976305156,
           null,
           null,
           null,
           null,
           null,
           null,
           null,
           null
          ],
          [
           null,
           null,
           null,
           null,
           0.10103309665326823,
           null,
           null,
           null,
           null,
           null,
           null
          ],
          [
           null,
           null,
           null,
           null,
           null,
           0.13475212641437762,
           null,
           null,
           null,
           null,
           null
          ],
          [
           null,
           null,
           null,
           null,
           null,
           null,
           null,
           null,
           null,
           0.17268618376002245,
           null
          ],
          [
           null,
           null,
           null,
           null,
           0.15335737493230792,
           null,
           null,
           null,
           null,
           null,
           null
          ],
          [
           null,
           null,
           null,
           null,
           null,
           null,
           null,
           null,
           0.2792549350737711,
           null,
           null
          ],
          [
           null,
           null,
           null,
           0.1614859923840892,
           null,
           null,
           null,
           null,
           null,
           null,
           null
          ],
          [
           null,
           null,
           null,
           null,
           null,
           null,
           0.19722337112698343,
           null,
           null,
           null,
           null
          ],
          [
           null,
           null,
           null,
           null,
           null,
           null,
           null,
           null,
           null,
           0.18401260882182974,
           null
          ],
          [
           null,
           null,
           null,
           null,
           null,
           null,
           null,
           0.3704268350134989,
           null,
           null,
           null
          ],
          [
           null,
           null,
           null,
           null,
           null,
           null,
           0.3704268350134989,
           null,
           null,
           null,
           null
          ],
          [
           null,
           null,
           null,
           null,
           null,
           null,
           null,
           null,
           null,
           0.1603917944635501,
           null
          ],
          [
           null,
           0.14896547663851362,
           null,
           null,
           null,
           null,
           null,
           null,
           null,
           null,
           null
          ],
          [
           null,
           null,
           null,
           null,
           null,
           null,
           null,
           null,
           0.16194562165197943,
           null,
           null
          ],
          [
           null,
           null,
           null,
           null,
           null,
           null,
           null,
           0.19188193151003075,
           null,
           null,
           null
          ],
          [
           null,
           null,
           null,
           null,
           null,
           null,
           null,
           null,
           null,
           0.3291253293165295,
           null
          ],
          [
           null,
           null,
           null,
           null,
           null,
           0.22989319072300088,
           null,
           null,
           null,
           null,
           null
          ],
          [
           null,
           null,
           null,
           null,
           null,
           null,
           null,
           null,
           0.3720473959055548,
           null,
           null
          ],
          [
           null,
           null,
           null,
           null,
           null,
           null,
           null,
           null,
           0.3720473959055548,
           null,
           null
          ],
          [
           null,
           null,
           null,
           null,
           null,
           null,
           null,
           null,
           0.3704268350134989,
           null,
           null
          ],
          [
           null,
           null,
           null,
           null,
           null,
           null,
           null,
           null,
           0.36722582381423685,
           null,
           null
          ],
          [
           null,
           null,
           null,
           null,
           null,
           null,
           null,
           0.3688197120233017,
           null,
           null,
           null
          ],
          [
           null,
           null,
           null,
           null,
           null,
           0.342085813930558,
           null,
           null,
           null,
           null,
           null
          ],
          [
           null,
           null,
           null,
           null,
           null,
           null,
           null,
           null,
           0.14836526403683745,
           null,
           null
          ],
          [
           null,
           null,
           null,
           null,
           null,
           null,
           null,
           null,
           0.3704268350134989,
           null,
           null
          ],
          [
           null,
           null,
           null,
           null,
           null,
           null,
           null,
           0.19340742930463165,
           null,
           null,
           null
          ],
          [
           null,
           null,
           null,
           null,
           null,
           null,
           null,
           null,
           0.3720473959055548,
           null,
           null
          ],
          [
           null,
           null,
           null,
           null,
           null,
           null,
           null,
           null,
           null,
           0.2640917453857312,
           null
          ],
          [
           null,
           null,
           null,
           null,
           0.1102060591372857,
           null,
           null,
           null,
           null,
           null,
           null
          ],
          [
           null,
           null,
           null,
           null,
           null,
           null,
           0.29202228832069493,
           null,
           null,
           null,
           null
          ],
          [
           null,
           null,
           null,
           null,
           null,
           null,
           null,
           null,
           0.23670216486079068,
           null,
           null
          ],
          [
           null,
           null,
           null,
           null,
           null,
           null,
           null,
           null,
           0.3736816022455939,
           null,
           null
          ],
          [
           null,
           null,
           null,
           null,
           null,
           null,
           null,
           0.3736816022455939,
           null,
           null,
           null
          ],
          [
           null,
           null,
           null,
           null,
           null,
           null,
           null,
           null,
           0.3720473959055548,
           null,
           null
          ],
          [
           null,
           null,
           null,
           null,
           null,
           null,
           null,
           0.3720473959055548,
           null,
           null,
           null
          ],
          [
           null,
           null,
           null,
           null,
           null,
           null,
           null,
           0.372049542864495,
           null,
           null,
           null
          ],
          [
           null,
           null,
           null,
           null,
           null,
           null,
           null,
           0.36722582381423685,
           null,
           null,
           null
          ],
          [
           null,
           null,
           null,
           null,
           null,
           0.3688197120233017,
           null,
           null,
           null,
           null,
           null
          ],
          [
           null,
           null,
           null,
           null,
           null,
           null,
           null,
           0.11807610207678262,
           null,
           null,
           null
          ],
          [
           null,
           null,
           null,
           null,
           0.1762982557456941,
           null,
           null,
           null,
           null,
           null,
           null
          ],
          [
           null,
           null,
           null,
           null,
           null,
           null,
           null,
           null,
           null,
           0.3688197120233017,
           null
          ],
          [
           null,
           null,
           null,
           null,
           null,
           null,
           null,
           0.3720473959055548,
           null,
           null,
           null
          ],
          [
           null,
           null,
           null,
           0.12710887787010336,
           null,
           null,
           null,
           null,
           null,
           null,
           null
          ],
          [
           null,
           null,
           null,
           null,
           null,
           null,
           null,
           0.33929308935155034,
           null,
           null,
           null
          ],
          [
           null,
           null,
           null,
           null,
           null,
           null,
           null,
           null,
           0.3736816022455939,
           null,
           null
          ],
          [
           null,
           null,
           null,
           null,
           null,
           null,
           0.3688197120233017,
           null,
           null,
           null,
           null
          ],
          [
           null,
           null,
           null,
           null,
           null,
           null,
           null,
           null,
           null,
           0.19940193913555607,
           null
          ],
          [
           null,
           null,
           null,
           null,
           null,
           null,
           0.3688197120233017,
           null,
           null,
           null,
           null
          ],
          [
           null,
           null,
           null,
           null,
           null,
           null,
           null,
           null,
           null,
           null,
           null
          ]
         ]
        },
        {
         "marker": {
          "color": "black",
          "line": {
           "color": "Gray",
           "width": 2
          }
         },
         "mode": "markers",
         "name": "Feasible Trial",
         "showlegend": false,
         "type": "scatter",
         "x": [
          0.25,
          0.15000000000000002,
          0.25,
          0.30000000000000004,
          0.25,
          0.30000000000000004,
          0.5,
          0.5,
          0.45000000000000007,
          0.1,
          0.4,
          0.4,
          0.4,
          0.4,
          0.45000000000000007,
          0.35,
          0.45000000000000007,
          0.35,
          0.45000000000000007,
          0.35,
          0.5,
          0.45000000000000007,
          0.45000000000000007,
          0.4,
          0.4,
          0.35,
          0.4,
          0.5,
          0.30000000000000004,
          0.2,
          0.35,
          0.45000000000000007,
          0.45000000000000007,
          0.4,
          0.5,
          0.45000000000000007,
          0.4,
          0.2,
          0.25,
          0.30000000000000004,
          0.5,
          0.45000000000000007,
          0.45000000000000007,
          0.4,
          0.5,
          0.45000000000000007,
          0.35,
          0.1,
          0.4,
          0.45000000000000007
         ],
         "xaxis": "x14",
         "y": [
          0.000303702813697569,
          0.0002938689826497611,
          0.00765161529441038,
          0.002978070393374954,
          0.0006546655572339079,
          0.006959894748259145,
          0.0005430155601726046,
          0.001929905271167702,
          0.003083214387971419,
          0.00011269416937412507,
          0.002614233818711447,
          0.006161330774897911,
          0.004545619981820755,
          0.0016423542223152217,
          0.00927307908763908,
          0.009941574095947092,
          0.005219397775922193,
          0.0012044803984716341,
          0.0043775015005089206,
          0.009503900248990182,
          0.005294255819381953,
          0.0030237974420967424,
          0.0034474962500868323,
          0.006582125482506625,
          0.00651517612039021,
          0.0019258999928671058,
          0.007145653015621613,
          0.009625964763289889,
          0.004170366802106316,
          0.0009539903867534123,
          0.00020614725381120283,
          0.006094795594316765,
          0.005510680540152121,
          0.006654182014963421,
          0.007657841365879801,
          0.002358423719979297,
          0.00373595757099164,
          0.008147321151987574,
          0.005474746139102224,
          0.00042950085771375796,
          0.0013429834892845281,
          0.003399361359679728,
          0.006357773656592746,
          0.008114857755326515,
          0.002652352754933044,
          0.0045284243592165685,
          0.005503318399765856,
          0.0022303307025457455,
          0.0084202194089088,
          0.0007642847052328851
         ],
         "yaxis": "y14"
        },
        {
         "colorbar": {
          "title": {
           "text": "Objective Value"
          }
         },
         "colorscale": [
          [
           0,
           "rgb(247,251,255)"
          ],
          [
           0.125,
           "rgb(222,235,247)"
          ],
          [
           0.25,
           "rgb(198,219,239)"
          ],
          [
           0.375,
           "rgb(158,202,225)"
          ],
          [
           0.5,
           "rgb(107,174,214)"
          ],
          [
           0.625,
           "rgb(66,146,198)"
          ],
          [
           0.75,
           "rgb(33,113,181)"
          ],
          [
           0.875,
           "rgb(8,81,156)"
          ],
          [
           1,
           "rgb(8,48,107)"
          ]
         ],
         "connectgaps": true,
         "contours": {
          "coloring": "heatmap"
         },
         "hoverinfo": "none",
         "line": {
          "smoothing": 1.3
         },
         "reversescale": false,
         "showscale": false,
         "type": "contour",
         "x": [
          1.7,
          2,
          3,
          4,
          5,
          6,
          7,
          8,
          8.3
         ],
         "xaxis": "x3",
         "y": [
          "deep",
          "mid",
          "small",
          "wide_shallow"
         ],
         "yaxis": "y3",
         "z": [
          [
           null,
           0.3736816022455939,
           0.29202228832069493,
           0.22989319072300088,
           0.3720473959055548,
           0.3736816022455939,
           0.3736816022455939,
           0.3720473959055548,
           null
          ],
          [
           null,
           null,
           0.005460949150205369,
           0.18401260882182974,
           0.17268618376002245,
           0.15989988976305156,
           0.16194562165197943,
           null,
           null
          ],
          [
           null,
           null,
           0.1603917944635501,
           0.19722337112698343,
           null,
           0.19940193913555607,
           0.12710887787010336,
           null,
           null
          ],
          [
           null,
           null,
           null,
           0.342085813930558,
           0.1614859923840892,
           null,
           0.14836526403683745,
           0.33929308935155034,
           null
          ]
         ]
        },
        {
         "marker": {
          "color": "black",
          "line": {
           "color": "Gray",
           "width": 2
          }
         },
         "mode": "markers",
         "name": "Feasible Trial",
         "showlegend": false,
         "type": "scatter",
         "x": [
          4,
          6,
          6,
          4,
          7,
          2,
          5,
          3,
          8,
          3,
          8,
          2,
          8,
          2,
          6,
          6,
          5,
          4,
          7,
          5,
          3,
          7,
          8,
          6,
          6,
          5,
          7,
          6,
          4,
          5,
          2,
          7,
          6,
          7,
          6,
          7,
          6,
          7,
          6,
          5,
          4,
          8,
          8,
          7,
          8,
          7,
          3,
          6,
          8,
          7
         ],
         "xaxis": "x3",
         "y": [
          "wide_shallow",
          "mid",
          "small",
          "deep",
          "deep",
          "deep",
          "mid",
          "small",
          "deep",
          "mid",
          "wide_shallow",
          "deep",
          "deep",
          "deep",
          "deep",
          "deep",
          "deep",
          "small",
          "wide_shallow",
          "deep",
          "deep",
          "deep",
          "deep",
          "deep",
          "deep",
          "deep",
          "mid",
          "small",
          "wide_shallow",
          "wide_shallow",
          "deep",
          "deep",
          "deep",
          "deep",
          "deep",
          "mid",
          "deep",
          "small",
          "deep",
          "deep",
          "mid",
          "deep",
          "deep",
          "deep",
          "deep",
          "deep",
          "deep",
          "small",
          "wide_shallow",
          "deep"
         ],
         "yaxis": "y3"
        },
        {
         "colorbar": {
          "title": {
           "text": "Objective Value"
          }
         },
         "colorscale": [
          [
           0,
           "rgb(247,251,255)"
          ],
          [
           0.125,
           "rgb(222,235,247)"
          ],
          [
           0.25,
           "rgb(198,219,239)"
          ],
          [
           0.375,
           "rgb(158,202,225)"
          ],
          [
           0.5,
           "rgb(107,174,214)"
          ],
          [
           0.625,
           "rgb(66,146,198)"
          ],
          [
           0.75,
           "rgb(33,113,181)"
          ],
          [
           0.875,
           "rgb(8,81,156)"
          ],
          [
           1,
           "rgb(8,48,107)"
          ]
         ],
         "connectgaps": true,
         "contours": {
          "coloring": "heatmap"
         },
         "hoverinfo": "none",
         "line": {
          "smoothing": 1.3
         },
         "reversescale": false,
         "showscale": false,
         "type": "contour",
         "x": [
          1.7,
          2,
          3,
          4,
          5,
          6,
          7,
          8,
          8.3
         ],
         "xaxis": "x7",
         "y": [
          0.08,
          0.1,
          0.15000000000000002,
          0.2,
          0.25,
          0.30000000000000004,
          0.35,
          0.4,
          0.45000000000000007,
          0.5,
          0.52
         ],
         "yaxis": "y7",
         "z": [
          [
           null,
           null,
           null,
           null,
           null,
           null,
           null,
           null,
           null
          ],
          [
           null,
           null,
           0.005460949150205369,
           null,
           null,
           0.14896547663851362,
           null,
           null,
           null
          ],
          [
           null,
           null,
           null,
           null,
           null,
           0.15989988976305156,
           null,
           null,
           null
          ],
          [
           null,
           null,
           null,
           null,
           0.1614859923840892,
           null,
           0.12710887787010336,
           null,
           null
          ],
          [
           null,
           null,
           null,
           0.10103309665326823,
           null,
           0.1762982557456941,
           0.15335737493230792,
           null,
           null
          ],
          [
           null,
           0.3688197120233017,
           null,
           0.342085813930558,
           0.13475212641437762,
           null,
           null,
           null,
           null
          ],
          [
           null,
           0.22061444099588937,
           0.29202228832069493,
           0.19722337112698343,
           0.3704268350134989,
           0.3688197120233017,
           null,
           null,
           null
          ],
          [
           null,
           0.3736816022455939,
           null,
           null,
           null,
           0.372049542864495,
           0.3720473959055548,
           0.33929308935155034,
           null
          ],
          [
           null,
           null,
           null,
           null,
           0.3720473959055548,
           0.3736816022455939,
           0.3736816022455939,
           0.3720473959055548,
           null
          ],
          [
           null,
           null,
           0.2640917453857312,
           0.18401260882182974,
           0.17268618376002245,
           0.3688197120233017,
           null,
           0.3291253293165295,
           null
          ],
          [
           null,
           null,
           null,
           null,
           null,
           null,
           null,
           null,
           null
          ]
         ]
        },
        {
         "marker": {
          "color": "black",
          "line": {
           "color": "Gray",
           "width": 2
          }
         },
         "mode": "markers",
         "name": "Feasible Trial",
         "showlegend": false,
         "type": "scatter",
         "x": [
          4,
          6,
          6,
          4,
          7,
          2,
          5,
          3,
          8,
          3,
          8,
          2,
          8,
          2,
          6,
          6,
          5,
          4,
          7,
          5,
          3,
          7,
          8,
          6,
          6,
          5,
          7,
          6,
          4,
          5,
          2,
          7,
          6,
          7,
          6,
          7,
          6,
          7,
          6,
          5,
          4,
          8,
          8,
          7,
          8,
          7,
          3,
          6,
          8,
          7
         ],
         "xaxis": "x7",
         "y": [
          0.25,
          0.15000000000000002,
          0.25,
          0.30000000000000004,
          0.25,
          0.30000000000000004,
          0.5,
          0.5,
          0.45000000000000007,
          0.1,
          0.4,
          0.4,
          0.4,
          0.4,
          0.45000000000000007,
          0.35,
          0.45000000000000007,
          0.35,
          0.45000000000000007,
          0.35,
          0.5,
          0.45000000000000007,
          0.45000000000000007,
          0.4,
          0.4,
          0.35,
          0.4,
          0.5,
          0.30000000000000004,
          0.2,
          0.35,
          0.45000000000000007,
          0.45000000000000007,
          0.4,
          0.5,
          0.45000000000000007,
          0.4,
          0.2,
          0.25,
          0.30000000000000004,
          0.5,
          0.45000000000000007,
          0.45000000000000007,
          0.4,
          0.5,
          0.45000000000000007,
          0.35,
          0.1,
          0.4,
          0.45000000000000007
         ],
         "yaxis": "y7"
        },
        {
         "type": "scatter",
         "xaxis": "x11",
         "yaxis": "y11"
        },
        {
         "colorbar": {
          "title": {
           "text": "Objective Value"
          }
         },
         "colorscale": [
          [
           0,
           "rgb(247,251,255)"
          ],
          [
           0.125,
           "rgb(222,235,247)"
          ],
          [
           0.25,
           "rgb(198,219,239)"
          ],
          [
           0.375,
           "rgb(158,202,225)"
          ],
          [
           0.5,
           "rgb(107,174,214)"
          ],
          [
           0.625,
           "rgb(66,146,198)"
          ],
          [
           0.75,
           "rgb(33,113,181)"
          ],
          [
           0.875,
           "rgb(8,81,156)"
          ],
          [
           1,
           "rgb(8,48,107)"
          ]
         ],
         "connectgaps": true,
         "contours": {
          "coloring": "heatmap"
         },
         "hoverinfo": "none",
         "line": {
          "smoothing": 1.3
         },
         "reversescale": false,
         "showscale": false,
         "type": "contour",
         "x": [
          1.7,
          2,
          3,
          4,
          5,
          6,
          7,
          8,
          8.3
         ],
         "xaxis": "x15",
         "y": [
          0.00009007904257690357,
          0.00011269416937412507,
          0.00020614725381120283,
          0.0002938689826497611,
          0.000303702813697569,
          0.00042950085771375796,
          0.0005430155601726046,
          0.0006546655572339079,
          0.0007642847052328851,
          0.0009539903867534123,
          0.0012044803984716341,
          0.0013429834892845281,
          0.0016423542223152217,
          0.0019258999928671058,
          0.001929905271167702,
          0.0022303307025457455,
          0.002358423719979297,
          0.002614233818711447,
          0.002652352754933044,
          0.002978070393374954,
          0.0030237974420967424,
          0.003083214387971419,
          0.003399361359679728,
          0.0034474962500868323,
          0.00373595757099164,
          0.004170366802106316,
          0.0043775015005089206,
          0.0045284243592165685,
          0.004545619981820755,
          0.005219397775922193,
          0.005294255819381953,
          0.005474746139102224,
          0.005503318399765856,
          0.005510680540152121,
          0.006094795594316765,
          0.006161330774897911,
          0.006357773656592746,
          0.00651517612039021,
          0.006582125482506625,
          0.006654182014963421,
          0.006959894748259145,
          0.007145653015621613,
          0.00765161529441038,
          0.007657841365879801,
          0.008114857755326515,
          0.008147321151987574,
          0.0084202194089088,
          0.00927307908763908,
          0.009503900248990182,
          0.009625964763289889,
          0.009941574095947092,
          0.012437492706004154
         ],
         "yaxis": "y15",
         "z": [
          [
           null,
           null,
           null,
           null,
           null,
           null,
           null,
           null,
           null
          ],
          [
           null,
           null,
           0.005460949150205369,
           null,
           null,
           null,
           null,
           null,
           null
          ],
          [
           null,
           0.22061444099588937,
           null,
           null,
           null,
           null,
           null,
           null,
           null
          ],
          [
           null,
           null,
           null,
           null,
           null,
           0.15989988976305156,
           null,
           null,
           null
          ],
          [
           null,
           null,
           null,
           0.10103309665326823,
           null,
           null,
           null,
           null,
           null
          ],
          [
           null,
           null,
           null,
           null,
           0.13475212641437762,
           null,
           null,
           null,
           null
          ],
          [
           null,
           null,
           null,
           null,
           0.17268618376002245,
           null,
           null,
           null,
           null
          ],
          [
           null,
           null,
           null,
           null,
           null,
           null,
           0.15335737493230792,
           null,
           null
          ],
          [
           null,
           null,
           null,
           null,
           null,
           null,
           0.2792549350737711,
           null,
           null
          ],
          [
           null,
           null,
           null,
           null,
           0.1614859923840892,
           null,
           null,
           null,
           null
          ],
          [
           null,
           null,
           null,
           0.19722337112698343,
           null,
           null,
           null,
           null,
           null
          ],
          [
           null,
           null,
           null,
           0.18401260882182974,
           null,
           null,
           null,
           null,
           null
          ],
          [
           null,
           0.3704268350134989,
           null,
           null,
           null,
           null,
           null,
           null,
           null
          ],
          [
           null,
           null,
           null,
           null,
           0.3704268350134989,
           null,
           null,
           null,
           null
          ],
          [
           null,
           null,
           0.1603917944635501,
           null,
           null,
           null,
           null,
           null,
           null
          ],
          [
           null,
           null,
           null,
           null,
           null,
           0.14896547663851362,
           null,
           null,
           null
          ],
          [
           null,
           null,
           null,
           null,
           null,
           null,
           0.16194562165197943,
           null,
           null
          ],
          [
           null,
           null,
           null,
           null,
           null,
           null,
           null,
           0.19188193151003075,
           null
          ],
          [
           null,
           null,
           null,
           null,
           null,
           null,
           null,
           0.3291253293165295,
           null
          ],
          [
           null,
           null,
           null,
           0.22989319072300088,
           null,
           null,
           null,
           null,
           null
          ],
          [
           null,
           null,
           null,
           null,
           null,
           null,
           0.3720473959055548,
           null,
           null
          ],
          [
           null,
           null,
           null,
           null,
           null,
           null,
           null,
           0.3720473959055548,
           null
          ],
          [
           null,
           null,
           null,
           null,
           null,
           null,
           null,
           0.3704268350134989,
           null
          ],
          [
           null,
           null,
           null,
           null,
           null,
           null,
           null,
           0.36722582381423685,
           null
          ],
          [
           null,
           null,
           null,
           null,
           null,
           0.3688197120233017,
           null,
           null,
           null
          ],
          [
           null,
           null,
           null,
           0.342085813930558,
           null,
           null,
           null,
           null,
           null
          ],
          [
           null,
           null,
           null,
           null,
           null,
           null,
           0.14836526403683745,
           null,
           null
          ],
          [
           null,
           null,
           null,
           null,
           null,
           null,
           0.3704268350134989,
           null,
           null
          ],
          [
           null,
           null,
           null,
           null,
           null,
           null,
           null,
           0.19340742930463165,
           null
          ],
          [
           null,
           null,
           null,
           null,
           0.3720473959055548,
           null,
           null,
           null,
           null
          ],
          [
           null,
           null,
           0.2640917453857312,
           null,
           null,
           null,
           null,
           null,
           null
          ],
          [
           null,
           null,
           null,
           null,
           null,
           0.1102060591372857,
           null,
           null,
           null
          ],
          [
           null,
           null,
           0.29202228832069493,
           null,
           null,
           null,
           null,
           null,
           null
          ],
          [
           null,
           null,
           null,
           null,
           null,
           0.23670216486079068,
           null,
           null,
           null
          ],
          [
           null,
           null,
           null,
           null,
           null,
           null,
           0.3736816022455939,
           null,
           null
          ],
          [
           null,
           0.3736816022455939,
           null,
           null,
           null,
           null,
           null,
           null,
           null
          ],
          [
           null,
           null,
           null,
           null,
           null,
           null,
           null,
           0.3720473959055548,
           null
          ],
          [
           null,
           null,
           null,
           null,
           null,
           0.3720473959055548,
           null,
           null,
           null
          ],
          [
           null,
           null,
           null,
           null,
           null,
           0.372049542864495,
           null,
           null,
           null
          ],
          [
           null,
           null,
           null,
           null,
           null,
           null,
           0.36722582381423685,
           null,
           null
          ],
          [
           null,
           0.3688197120233017,
           null,
           null,
           null,
           null,
           null,
           null,
           null
          ],
          [
           null,
           null,
           null,
           null,
           null,
           null,
           0.11807610207678262,
           null,
           null
          ],
          [
           null,
           null,
           null,
           null,
           null,
           0.1762982557456941,
           null,
           null,
           null
          ],
          [
           null,
           null,
           null,
           null,
           null,
           0.3688197120233017,
           null,
           null,
           null
          ],
          [
           null,
           null,
           null,
           null,
           null,
           null,
           0.3720473959055548,
           null,
           null
          ],
          [
           null,
           null,
           null,
           null,
           null,
           null,
           0.12710887787010336,
           null,
           null
          ],
          [
           null,
           null,
           null,
           null,
           null,
           null,
           null,
           0.33929308935155034,
           null
          ],
          [
           null,
           null,
           null,
           null,
           null,
           0.3736816022455939,
           null,
           null,
           null
          ],
          [
           null,
           null,
           null,
           null,
           0.3688197120233017,
           null,
           null,
           null,
           null
          ],
          [
           null,
           null,
           null,
           null,
           null,
           0.19940193913555607,
           null,
           null,
           null
          ],
          [
           null,
           null,
           null,
           null,
           null,
           0.3688197120233017,
           null,
           null,
           null
          ],
          [
           null,
           null,
           null,
           null,
           null,
           null,
           null,
           null,
           null
          ]
         ]
        },
        {
         "marker": {
          "color": "black",
          "line": {
           "color": "Gray",
           "width": 2
          }
         },
         "mode": "markers",
         "name": "Feasible Trial",
         "showlegend": false,
         "type": "scatter",
         "x": [
          4,
          6,
          6,
          4,
          7,
          2,
          5,
          3,
          8,
          3,
          8,
          2,
          8,
          2,
          6,
          6,
          5,
          4,
          7,
          5,
          3,
          7,
          8,
          6,
          6,
          5,
          7,
          6,
          4,
          5,
          2,
          7,
          6,
          7,
          6,
          7,
          6,
          7,
          6,
          5,
          4,
          8,
          8,
          7,
          8,
          7,
          3,
          6,
          8,
          7
         ],
         "xaxis": "x15",
         "y": [
          0.000303702813697569,
          0.0002938689826497611,
          0.00765161529441038,
          0.002978070393374954,
          0.0006546655572339079,
          0.006959894748259145,
          0.0005430155601726046,
          0.001929905271167702,
          0.003083214387971419,
          0.00011269416937412507,
          0.002614233818711447,
          0.006161330774897911,
          0.004545619981820755,
          0.0016423542223152217,
          0.00927307908763908,
          0.009941574095947092,
          0.005219397775922193,
          0.0012044803984716341,
          0.0043775015005089206,
          0.009503900248990182,
          0.005294255819381953,
          0.0030237974420967424,
          0.0034474962500868323,
          0.006582125482506625,
          0.00651517612039021,
          0.0019258999928671058,
          0.007145653015621613,
          0.009625964763289889,
          0.004170366802106316,
          0.0009539903867534123,
          0.00020614725381120283,
          0.006094795594316765,
          0.005510680540152121,
          0.006654182014963421,
          0.007657841365879801,
          0.002358423719979297,
          0.00373595757099164,
          0.008147321151987574,
          0.005474746139102224,
          0.00042950085771375796,
          0.0013429834892845281,
          0.003399361359679728,
          0.006357773656592746,
          0.008114857755326515,
          0.002652352754933044,
          0.0045284243592165685,
          0.005503318399765856,
          0.0022303307025457455,
          0.0084202194089088,
          0.0007642847052328851
         ],
         "yaxis": "y15"
        },
        {
         "colorbar": {
          "title": {
           "text": "Objective Value"
          }
         },
         "colorscale": [
          [
           0,
           "rgb(247,251,255)"
          ],
          [
           0.125,
           "rgb(222,235,247)"
          ],
          [
           0.25,
           "rgb(198,219,239)"
          ],
          [
           0.375,
           "rgb(158,202,225)"
          ],
          [
           0.5,
           "rgb(107,174,214)"
          ],
          [
           0.625,
           "rgb(66,146,198)"
          ],
          [
           0.75,
           "rgb(33,113,181)"
          ],
          [
           0.875,
           "rgb(8,81,156)"
          ],
          [
           1,
           "rgb(8,48,107)"
          ]
         ],
         "connectgaps": true,
         "contours": {
          "coloring": "heatmap"
         },
         "hoverinfo": "none",
         "line": {
          "smoothing": 1.3
         },
         "reversescale": false,
         "showscale": false,
         "type": "contour",
         "x": [
          0.00009007904257690357,
          0.00011269416937412507,
          0.00020614725381120283,
          0.0002938689826497611,
          0.000303702813697569,
          0.00042950085771375796,
          0.0005430155601726046,
          0.0006546655572339079,
          0.0007642847052328851,
          0.0009539903867534123,
          0.0012044803984716341,
          0.0013429834892845281,
          0.0016423542223152217,
          0.0019258999928671058,
          0.001929905271167702,
          0.0022303307025457455,
          0.002358423719979297,
          0.002614233818711447,
          0.002652352754933044,
          0.002978070393374954,
          0.0030237974420967424,
          0.003083214387971419,
          0.003399361359679728,
          0.0034474962500868323,
          0.00373595757099164,
          0.004170366802106316,
          0.0043775015005089206,
          0.0045284243592165685,
          0.004545619981820755,
          0.005219397775922193,
          0.005294255819381953,
          0.005474746139102224,
          0.005503318399765856,
          0.005510680540152121,
          0.006094795594316765,
          0.006161330774897911,
          0.006357773656592746,
          0.00651517612039021,
          0.006582125482506625,
          0.006654182014963421,
          0.006959894748259145,
          0.007145653015621613,
          0.00765161529441038,
          0.007657841365879801,
          0.008114857755326515,
          0.008147321151987574,
          0.0084202194089088,
          0.00927307908763908,
          0.009503900248990182,
          0.009625964763289889,
          0.009941574095947092,
          0.012437492706004154
         ],
         "xaxis": "x4",
         "y": [
          "deep",
          "mid",
          "small",
          "wide_shallow"
         ],
         "yaxis": "y4",
         "z": [
          [
           null,
           null,
           0.22061444099588937,
           null,
           null,
           0.13475212641437762,
           null,
           0.15335737493230792,
           0.2792549350737711,
           null,
           null,
           null,
           0.3704268350134989,
           0.3704268350134989,
           null,
           null,
           null,
           null,
           0.3291253293165295,
           0.22989319072300088,
           0.3720473959055548,
           0.3720473959055548,
           0.3704268350134989,
           0.36722582381423685,
           0.3688197120233017,
           null,
           null,
           0.3704268350134989,
           0.19340742930463165,
           0.3720473959055548,
           0.2640917453857312,
           0.1102060591372857,
           0.29202228832069493,
           0.23670216486079068,
           0.3736816022455939,
           0.3736816022455939,
           0.3720473959055548,
           0.3720473959055548,
           0.372049542864495,
           0.36722582381423685,
           0.3688197120233017,
           null,
           null,
           0.3688197120233017,
           0.3720473959055548,
           null,
           null,
           0.3736816022455939,
           0.3688197120233017,
           null,
           0.3688197120233017,
           null
          ],
          [
           null,
           0.005460949150205369,
           null,
           0.15989988976305156,
           null,
           null,
           0.17268618376002245,
           null,
           null,
           null,
           null,
           0.18401260882182974,
           null,
           null,
           null,
           null,
           0.16194562165197943,
           null,
           null,
           null,
           null,
           null,
           null,
           null,
           null,
           null,
           null,
           null,
           null,
           null,
           null,
           null,
           null,
           null,
           null,
           null,
           null,
           null,
           null,
           null,
           null,
           0.11807610207678262,
           null,
           null,
           null,
           null,
           null,
           null,
           null,
           null,
           null,
           null
          ],
          [
           null,
           null,
           null,
           null,
           null,
           null,
           null,
           null,
           null,
           null,
           0.19722337112698343,
           null,
           null,
           null,
           0.1603917944635501,
           0.14896547663851362,
           null,
           null,
           null,
           null,
           null,
           null,
           null,
           null,
           null,
           null,
           null,
           null,
           null,
           null,
           null,
           null,
           null,
           null,
           null,
           null,
           null,
           null,
           null,
           null,
           null,
           null,
           0.1762982557456941,
           null,
           null,
           0.12710887787010336,
           null,
           null,
           null,
           0.19940193913555607,
           null,
           null
          ],
          [
           null,
           null,
           null,
           null,
           0.10103309665326823,
           null,
           null,
           null,
           null,
           0.1614859923840892,
           null,
           null,
           null,
           null,
           null,
           null,
           null,
           0.19188193151003075,
           null,
           null,
           null,
           null,
           null,
           null,
           null,
           0.342085813930558,
           0.14836526403683745,
           null,
           null,
           null,
           null,
           null,
           null,
           null,
           null,
           null,
           null,
           null,
           null,
           null,
           null,
           null,
           null,
           null,
           null,
           null,
           0.33929308935155034,
           null,
           null,
           null,
           null,
           null
          ]
         ]
        },
        {
         "marker": {
          "color": "black",
          "line": {
           "color": "Gray",
           "width": 2
          }
         },
         "mode": "markers",
         "name": "Feasible Trial",
         "showlegend": false,
         "type": "scatter",
         "x": [
          0.000303702813697569,
          0.0002938689826497611,
          0.00765161529441038,
          0.002978070393374954,
          0.0006546655572339079,
          0.006959894748259145,
          0.0005430155601726046,
          0.001929905271167702,
          0.003083214387971419,
          0.00011269416937412507,
          0.002614233818711447,
          0.006161330774897911,
          0.004545619981820755,
          0.0016423542223152217,
          0.00927307908763908,
          0.009941574095947092,
          0.005219397775922193,
          0.0012044803984716341,
          0.0043775015005089206,
          0.009503900248990182,
          0.005294255819381953,
          0.0030237974420967424,
          0.0034474962500868323,
          0.006582125482506625,
          0.00651517612039021,
          0.0019258999928671058,
          0.007145653015621613,
          0.009625964763289889,
          0.004170366802106316,
          0.0009539903867534123,
          0.00020614725381120283,
          0.006094795594316765,
          0.005510680540152121,
          0.006654182014963421,
          0.007657841365879801,
          0.002358423719979297,
          0.00373595757099164,
          0.008147321151987574,
          0.005474746139102224,
          0.00042950085771375796,
          0.0013429834892845281,
          0.003399361359679728,
          0.006357773656592746,
          0.008114857755326515,
          0.002652352754933044,
          0.0045284243592165685,
          0.005503318399765856,
          0.0022303307025457455,
          0.0084202194089088,
          0.0007642847052328851
         ],
         "xaxis": "x4",
         "y": [
          "wide_shallow",
          "mid",
          "small",
          "deep",
          "deep",
          "deep",
          "mid",
          "small",
          "deep",
          "mid",
          "wide_shallow",
          "deep",
          "deep",
          "deep",
          "deep",
          "deep",
          "deep",
          "small",
          "wide_shallow",
          "deep",
          "deep",
          "deep",
          "deep",
          "deep",
          "deep",
          "deep",
          "mid",
          "small",
          "wide_shallow",
          "wide_shallow",
          "deep",
          "deep",
          "deep",
          "deep",
          "deep",
          "mid",
          "deep",
          "small",
          "deep",
          "deep",
          "mid",
          "deep",
          "deep",
          "deep",
          "deep",
          "deep",
          "deep",
          "small",
          "wide_shallow",
          "deep"
         ],
         "yaxis": "y4"
        },
        {
         "colorbar": {
          "title": {
           "text": "Objective Value"
          }
         },
         "colorscale": [
          [
           0,
           "rgb(247,251,255)"
          ],
          [
           0.125,
           "rgb(222,235,247)"
          ],
          [
           0.25,
           "rgb(198,219,239)"
          ],
          [
           0.375,
           "rgb(158,202,225)"
          ],
          [
           0.5,
           "rgb(107,174,214)"
          ],
          [
           0.625,
           "rgb(66,146,198)"
          ],
          [
           0.75,
           "rgb(33,113,181)"
          ],
          [
           0.875,
           "rgb(8,81,156)"
          ],
          [
           1,
           "rgb(8,48,107)"
          ]
         ],
         "connectgaps": true,
         "contours": {
          "coloring": "heatmap"
         },
         "hoverinfo": "none",
         "line": {
          "smoothing": 1.3
         },
         "reversescale": false,
         "showscale": false,
         "type": "contour",
         "x": [
          0.00009007904257690357,
          0.00011269416937412507,
          0.00020614725381120283,
          0.0002938689826497611,
          0.000303702813697569,
          0.00042950085771375796,
          0.0005430155601726046,
          0.0006546655572339079,
          0.0007642847052328851,
          0.0009539903867534123,
          0.0012044803984716341,
          0.0013429834892845281,
          0.0016423542223152217,
          0.0019258999928671058,
          0.001929905271167702,
          0.0022303307025457455,
          0.002358423719979297,
          0.002614233818711447,
          0.002652352754933044,
          0.002978070393374954,
          0.0030237974420967424,
          0.003083214387971419,
          0.003399361359679728,
          0.0034474962500868323,
          0.00373595757099164,
          0.004170366802106316,
          0.0043775015005089206,
          0.0045284243592165685,
          0.004545619981820755,
          0.005219397775922193,
          0.005294255819381953,
          0.005474746139102224,
          0.005503318399765856,
          0.005510680540152121,
          0.006094795594316765,
          0.006161330774897911,
          0.006357773656592746,
          0.00651517612039021,
          0.006582125482506625,
          0.006654182014963421,
          0.006959894748259145,
          0.007145653015621613,
          0.00765161529441038,
          0.007657841365879801,
          0.008114857755326515,
          0.008147321151987574,
          0.0084202194089088,
          0.00927307908763908,
          0.009503900248990182,
          0.009625964763289889,
          0.009941574095947092,
          0.012437492706004154
         ],
         "xaxis": "x8",
         "y": [
          0.08,
          0.1,
          0.15000000000000002,
          0.2,
          0.25,
          0.30000000000000004,
          0.35,
          0.4,
          0.45000000000000007,
          0.5,
          0.52
         ],
         "yaxis": "y8",
         "z": [
          [
           null,
           null,
           null,
           null,
           null,
           null,
           null,
           null,
           null,
           null,
           null,
           null,
           null,
           null,
           null,
           null,
           null,
           null,
           null,
           null,
           null,
           null,
           null,
           null,
           null,
           null,
           null,
           null,
           null,
           null,
           null,
           null,
           null,
           null,
           null,
           null,
           null,
           null,
           null,
           null,
           null,
           null,
           null,
           null,
           null,
           null,
           null,
           null,
           null,
           null,
           null,
           null
          ],
          [
           null,
           0.005460949150205369,
           null,
           null,
           null,
           null,
           null,
           null,
           null,
           null,
           null,
           null,
           null,
           null,
           null,
           0.14896547663851362,
           null,
           null,
           null,
           null,
           null,
           null,
           null,
           null,
           null,
           null,
           null,
           null,
           null,
           null,
           null,
           null,
           null,
           null,
           null,
           null,
           null,
           null,
           null,
           null,
           null,
           null,
           null,
           null,
           null,
           null,
           null,
           null,
           null,
           null,
           null,
           null
          ],
          [
           null,
           null,
           null,
           0.15989988976305156,
           null,
           null,
           null,
           null,
           null,
           null,
           null,
           null,
           null,
           null,
           null,
           null,
           null,
           null,
           null,
           null,
           null,
           null,
           null,
           null,
           null,
           null,
           null,
           null,
           null,
           null,
           null,
           null,
           null,
           null,
           null,
           null,
           null,
           null,
           null,
           null,
           null,
           null,
           null,
           null,
           null,
           null,
           null,
           null,
           null,
           null,
           null,
           null
          ],
          [
           null,
           null,
           null,
           null,
           null,
           null,
           null,
           null,
           null,
           0.1614859923840892,
           null,
           null,
           null,
           null,
           null,
           null,
           null,
           null,
           null,
           null,
           null,
           null,
           null,
           null,
           null,
           null,
           null,
           null,
           null,
           null,
           null,
           null,
           null,
           null,
           null,
           null,
           null,
           null,
           null,
           null,
           null,
           null,
           null,
           null,
           null,
           0.12710887787010336,
           null,
           null,
           null,
           null,
           null,
           null
          ],
          [
           null,
           null,
           null,
           null,
           0.10103309665326823,
           null,
           null,
           0.15335737493230792,
           null,
           null,
           null,
           null,
           null,
           null,
           null,
           null,
           null,
           null,
           null,
           null,
           null,
           null,
           null,
           null,
           null,
           null,
           null,
           null,
           null,
           null,
           null,
           0.1102060591372857,
           null,
           null,
           null,
           null,
           null,
           null,
           null,
           null,
           null,
           null,
           0.1762982557456941,
           null,
           null,
           null,
           null,
           null,
           null,
           null,
           null,
           null
          ],
          [
           null,
           null,
           null,
           null,
           null,
           0.13475212641437762,
           null,
           null,
           null,
           null,
           null,
           null,
           null,
           null,
           null,
           null,
           null,
           null,
           null,
           0.22989319072300088,
           null,
           null,
           null,
           null,
           null,
           0.342085813930558,
           null,
           null,
           null,
           null,
           null,
           null,
           null,
           null,
           null,
           null,
           null,
           null,
           null,
           null,
           0.3688197120233017,
           null,
           null,
           null,
           null,
           null,
           null,
           null,
           null,
           null,
           null,
           null
          ],
          [
           null,
           null,
           0.22061444099588937,
           null,
           null,
           null,
           null,
           null,
           null,
           null,
           0.19722337112698343,
           null,
           null,
           0.3704268350134989,
           null,
           null,
           null,
           null,
           null,
           null,
           null,
           null,
           null,
           null,
           null,
           null,
           null,
           null,
           null,
           null,
           null,
           null,
           0.29202228832069493,
           null,
           null,
           null,
           null,
           null,
           null,
           null,
           null,
           null,
           null,
           null,
           null,
           null,
           null,
           null,
           0.3688197120233017,
           null,
           0.3688197120233017,
           null
          ],
          [
           null,
           null,
           null,
           null,
           null,
           null,
           null,
           null,
           null,
           null,
           null,
           null,
           0.3704268350134989,
           null,
           null,
           null,
           null,
           0.19188193151003075,
           null,
           null,
           null,
           null,
           null,
           null,
           0.3688197120233017,
           null,
           null,
           null,
           0.19340742930463165,
           null,
           null,
           null,
           null,
           null,
           null,
           0.3736816022455939,
           null,
           0.3720473959055548,
           0.372049542864495,
           0.36722582381423685,
           null,
           0.11807610207678262,
           null,
           null,
           0.3720473959055548,
           null,
           0.33929308935155034,
           null,
           null,
           null,
           null,
           null
          ],
          [
           null,
           null,
           null,
           null,
           null,
           null,
           null,
           null,
           0.2792549350737711,
           null,
           null,
           null,
           null,
           null,
           null,
           null,
           0.16194562165197943,
           null,
           null,
           null,
           0.3720473959055548,
           0.3720473959055548,
           0.3704268350134989,
           0.36722582381423685,
           null,
           null,
           0.14836526403683745,
           0.3704268350134989,
           null,
           0.3720473959055548,
           null,
           null,
           null,
           0.23670216486079068,
           0.3736816022455939,
           null,
           0.3720473959055548,
           null,
           null,
           null,
           null,
           null,
           null,
           null,
           null,
           null,
           null,
           0.3736816022455939,
           null,
           null,
           null,
           null
          ],
          [
           null,
           null,
           null,
           null,
           null,
           null,
           0.17268618376002245,
           null,
           null,
           null,
           null,
           0.18401260882182974,
           null,
           null,
           0.1603917944635501,
           null,
           null,
           null,
           0.3291253293165295,
           null,
           null,
           null,
           null,
           null,
           null,
           null,
           null,
           null,
           null,
           null,
           0.2640917453857312,
           null,
           null,
           null,
           null,
           null,
           null,
           null,
           null,
           null,
           null,
           null,
           null,
           0.3688197120233017,
           null,
           null,
           null,
           null,
           null,
           0.19940193913555607,
           null,
           null
          ],
          [
           null,
           null,
           null,
           null,
           null,
           null,
           null,
           null,
           null,
           null,
           null,
           null,
           null,
           null,
           null,
           null,
           null,
           null,
           null,
           null,
           null,
           null,
           null,
           null,
           null,
           null,
           null,
           null,
           null,
           null,
           null,
           null,
           null,
           null,
           null,
           null,
           null,
           null,
           null,
           null,
           null,
           null,
           null,
           null,
           null,
           null,
           null,
           null,
           null,
           null,
           null,
           null
          ]
         ]
        },
        {
         "marker": {
          "color": "black",
          "line": {
           "color": "Gray",
           "width": 2
          }
         },
         "mode": "markers",
         "name": "Feasible Trial",
         "showlegend": false,
         "type": "scatter",
         "x": [
          0.000303702813697569,
          0.0002938689826497611,
          0.00765161529441038,
          0.002978070393374954,
          0.0006546655572339079,
          0.006959894748259145,
          0.0005430155601726046,
          0.001929905271167702,
          0.003083214387971419,
          0.00011269416937412507,
          0.002614233818711447,
          0.006161330774897911,
          0.004545619981820755,
          0.0016423542223152217,
          0.00927307908763908,
          0.009941574095947092,
          0.005219397775922193,
          0.0012044803984716341,
          0.0043775015005089206,
          0.009503900248990182,
          0.005294255819381953,
          0.0030237974420967424,
          0.0034474962500868323,
          0.006582125482506625,
          0.00651517612039021,
          0.0019258999928671058,
          0.007145653015621613,
          0.009625964763289889,
          0.004170366802106316,
          0.0009539903867534123,
          0.00020614725381120283,
          0.006094795594316765,
          0.005510680540152121,
          0.006654182014963421,
          0.007657841365879801,
          0.002358423719979297,
          0.00373595757099164,
          0.008147321151987574,
          0.005474746139102224,
          0.00042950085771375796,
          0.0013429834892845281,
          0.003399361359679728,
          0.006357773656592746,
          0.008114857755326515,
          0.002652352754933044,
          0.0045284243592165685,
          0.005503318399765856,
          0.0022303307025457455,
          0.0084202194089088,
          0.0007642847052328851
         ],
         "xaxis": "x8",
         "y": [
          0.25,
          0.15000000000000002,
          0.25,
          0.30000000000000004,
          0.25,
          0.30000000000000004,
          0.5,
          0.5,
          0.45000000000000007,
          0.1,
          0.4,
          0.4,
          0.4,
          0.4,
          0.45000000000000007,
          0.35,
          0.45000000000000007,
          0.35,
          0.45000000000000007,
          0.35,
          0.5,
          0.45000000000000007,
          0.45000000000000007,
          0.4,
          0.4,
          0.35,
          0.4,
          0.5,
          0.30000000000000004,
          0.2,
          0.35,
          0.45000000000000007,
          0.45000000000000007,
          0.4,
          0.5,
          0.45000000000000007,
          0.4,
          0.2,
          0.25,
          0.30000000000000004,
          0.5,
          0.45000000000000007,
          0.45000000000000007,
          0.4,
          0.5,
          0.45000000000000007,
          0.35,
          0.1,
          0.4,
          0.45000000000000007
         ],
         "yaxis": "y8"
        },
        {
         "colorbar": {
          "title": {
           "text": "Objective Value"
          }
         },
         "colorscale": [
          [
           0,
           "rgb(247,251,255)"
          ],
          [
           0.125,
           "rgb(222,235,247)"
          ],
          [
           0.25,
           "rgb(198,219,239)"
          ],
          [
           0.375,
           "rgb(158,202,225)"
          ],
          [
           0.5,
           "rgb(107,174,214)"
          ],
          [
           0.625,
           "rgb(66,146,198)"
          ],
          [
           0.75,
           "rgb(33,113,181)"
          ],
          [
           0.875,
           "rgb(8,81,156)"
          ],
          [
           1,
           "rgb(8,48,107)"
          ]
         ],
         "connectgaps": true,
         "contours": {
          "coloring": "heatmap"
         },
         "hoverinfo": "none",
         "line": {
          "smoothing": 1.3
         },
         "reversescale": false,
         "showscale": false,
         "type": "contour",
         "x": [
          0.00009007904257690357,
          0.00011269416937412507,
          0.00020614725381120283,
          0.0002938689826497611,
          0.000303702813697569,
          0.00042950085771375796,
          0.0005430155601726046,
          0.0006546655572339079,
          0.0007642847052328851,
          0.0009539903867534123,
          0.0012044803984716341,
          0.0013429834892845281,
          0.0016423542223152217,
          0.0019258999928671058,
          0.001929905271167702,
          0.0022303307025457455,
          0.002358423719979297,
          0.002614233818711447,
          0.002652352754933044,
          0.002978070393374954,
          0.0030237974420967424,
          0.003083214387971419,
          0.003399361359679728,
          0.0034474962500868323,
          0.00373595757099164,
          0.004170366802106316,
          0.0043775015005089206,
          0.0045284243592165685,
          0.004545619981820755,
          0.005219397775922193,
          0.005294255819381953,
          0.005474746139102224,
          0.005503318399765856,
          0.005510680540152121,
          0.006094795594316765,
          0.006161330774897911,
          0.006357773656592746,
          0.00651517612039021,
          0.006582125482506625,
          0.006654182014963421,
          0.006959894748259145,
          0.007145653015621613,
          0.00765161529441038,
          0.007657841365879801,
          0.008114857755326515,
          0.008147321151987574,
          0.0084202194089088,
          0.00927307908763908,
          0.009503900248990182,
          0.009625964763289889,
          0.009941574095947092,
          0.012437492706004154
         ],
         "xaxis": "x12",
         "y": [
          1.7,
          2,
          3,
          4,
          5,
          6,
          7,
          8,
          8.3
         ],
         "yaxis": "y12",
         "z": [
          [
           null,
           null,
           null,
           null,
           null,
           null,
           null,
           null,
           null,
           null,
           null,
           null,
           null,
           null,
           null,
           null,
           null,
           null,
           null,
           null,
           null,
           null,
           null,
           null,
           null,
           null,
           null,
           null,
           null,
           null,
           null,
           null,
           null,
           null,
           null,
           null,
           null,
           null,
           null,
           null,
           null,
           null,
           null,
           null,
           null,
           null,
           null,
           null,
           null,
           null,
           null,
           null
          ],
          [
           null,
           null,
           0.22061444099588937,
           null,
           null,
           null,
           null,
           null,
           null,
           null,
           null,
           null,
           0.3704268350134989,
           null,
           null,
           null,
           null,
           null,
           null,
           null,
           null,
           null,
           null,
           null,
           null,
           null,
           null,
           null,
           null,
           null,
           null,
           null,
           null,
           null,
           null,
           0.3736816022455939,
           null,
           null,
           null,
           null,
           0.3688197120233017,
           null,
           null,
           null,
           null,
           null,
           null,
           null,
           null,
           null,
           null,
           null
          ],
          [
           null,
           0.005460949150205369,
           null,
           null,
           null,
           null,
           null,
           null,
           null,
           null,
           null,
           null,
           null,
           null,
           0.1603917944635501,
           null,
           null,
           null,
           null,
           null,
           null,
           null,
           null,
           null,
           null,
           null,
           null,
           null,
           null,
           null,
           0.2640917453857312,
           null,
           0.29202228832069493,
           null,
           null,
           null,
           null,
           null,
           null,
           null,
           null,
           null,
           null,
           null,
           null,
           null,
           null,
           null,
           null,
           null,
           null,
           null
          ],
          [
           null,
           null,
           null,
           null,
           0.10103309665326823,
           null,
           null,
           null,
           null,
           null,
           0.19722337112698343,
           0.18401260882182974,
           null,
           null,
           null,
           null,
           null,
           null,
           null,
           0.22989319072300088,
           null,
           null,
           null,
           null,
           null,
           0.342085813930558,
           null,
           null,
           null,
           null,
           null,
           null,
           null,
           null,
           null,
           null,
           null,
           null,
           null,
           null,
           null,
           null,
           null,
           null,
           null,
           null,
           null,
           null,
           null,
           null,
           null,
           null
          ],
          [
           null,
           null,
           null,
           null,
           null,
           0.13475212641437762,
           0.17268618376002245,
           null,
           null,
           0.1614859923840892,
           null,
           null,
           null,
           0.3704268350134989,
           null,
           null,
           null,
           null,
           null,
           null,
           null,
           null,
           null,
           null,
           null,
           null,
           null,
           null,
           null,
           0.3720473959055548,
           null,
           null,
           null,
           null,
           null,
           null,
           null,
           null,
           null,
           null,
           null,
           null,
           null,
           null,
           null,
           null,
           null,
           null,
           0.3688197120233017,
           null,
           null,
           null
          ],
          [
           null,
           null,
           null,
           0.15989988976305156,
           null,
           null,
           null,
           null,
           null,
           null,
           null,
           null,
           null,
           null,
           null,
           0.14896547663851362,
           null,
           null,
           null,
           null,
           null,
           null,
           null,
           null,
           0.3688197120233017,
           null,
           null,
           null,
           null,
           null,
           null,
           0.1102060591372857,
           null,
           0.23670216486079068,
           null,
           null,
           null,
           0.3720473959055548,
           0.372049542864495,
           null,
           null,
           null,
           0.1762982557456941,
           0.3688197120233017,
           null,
           null,
           null,
           0.3736816022455939,
           null,
           0.19940193913555607,
           0.3688197120233017,
           null
          ],
          [
           null,
           null,
           null,
           null,
           null,
           null,
           null,
           0.15335737493230792,
           0.2792549350737711,
           null,
           null,
           null,
           null,
           null,
           null,
           null,
           0.16194562165197943,
           null,
           null,
           null,
           0.3720473959055548,
           null,
           null,
           null,
           null,
           null,
           0.14836526403683745,
           0.3704268350134989,
           null,
           null,
           null,
           null,
           null,
           null,
           0.3736816022455939,
           null,
           null,
           null,
           null,
           0.36722582381423685,
           null,
           0.11807610207678262,
           null,
           null,
           0.3720473959055548,
           0.12710887787010336,
           null,
           null,
           null,
           null,
           null,
           null
          ],
          [
           null,
           null,
           null,
           null,
           null,
           null,
           null,
           null,
           null,
           null,
           null,
           null,
           null,
           null,
           null,
           null,
           null,
           0.19188193151003075,
           0.3291253293165295,
           null,
           null,
           0.3720473959055548,
           0.3704268350134989,
           0.36722582381423685,
           null,
           null,
           null,
           null,
           0.19340742930463165,
           null,
           null,
           null,
           null,
           null,
           null,
           null,
           0.3720473959055548,
           null,
           null,
           null,
           null,
           null,
           null,
           null,
           null,
           null,
           0.33929308935155034,
           null,
           null,
           null,
           null,
           null
          ],
          [
           null,
           null,
           null,
           null,
           null,
           null,
           null,
           null,
           null,
           null,
           null,
           null,
           null,
           null,
           null,
           null,
           null,
           null,
           null,
           null,
           null,
           null,
           null,
           null,
           null,
           null,
           null,
           null,
           null,
           null,
           null,
           null,
           null,
           null,
           null,
           null,
           null,
           null,
           null,
           null,
           null,
           null,
           null,
           null,
           null,
           null,
           null,
           null,
           null,
           null,
           null,
           null
          ]
         ]
        },
        {
         "marker": {
          "color": "black",
          "line": {
           "color": "Gray",
           "width": 2
          }
         },
         "mode": "markers",
         "name": "Feasible Trial",
         "showlegend": false,
         "type": "scatter",
         "x": [
          0.000303702813697569,
          0.0002938689826497611,
          0.00765161529441038,
          0.002978070393374954,
          0.0006546655572339079,
          0.006959894748259145,
          0.0005430155601726046,
          0.001929905271167702,
          0.003083214387971419,
          0.00011269416937412507,
          0.002614233818711447,
          0.006161330774897911,
          0.004545619981820755,
          0.0016423542223152217,
          0.00927307908763908,
          0.009941574095947092,
          0.005219397775922193,
          0.0012044803984716341,
          0.0043775015005089206,
          0.009503900248990182,
          0.005294255819381953,
          0.0030237974420967424,
          0.0034474962500868323,
          0.006582125482506625,
          0.00651517612039021,
          0.0019258999928671058,
          0.007145653015621613,
          0.009625964763289889,
          0.004170366802106316,
          0.0009539903867534123,
          0.00020614725381120283,
          0.006094795594316765,
          0.005510680540152121,
          0.006654182014963421,
          0.007657841365879801,
          0.002358423719979297,
          0.00373595757099164,
          0.008147321151987574,
          0.005474746139102224,
          0.00042950085771375796,
          0.0013429834892845281,
          0.003399361359679728,
          0.006357773656592746,
          0.008114857755326515,
          0.002652352754933044,
          0.0045284243592165685,
          0.005503318399765856,
          0.0022303307025457455,
          0.0084202194089088,
          0.0007642847052328851
         ],
         "xaxis": "x12",
         "y": [
          4,
          6,
          6,
          4,
          7,
          2,
          5,
          3,
          8,
          3,
          8,
          2,
          8,
          2,
          6,
          6,
          5,
          4,
          7,
          5,
          3,
          7,
          8,
          6,
          6,
          5,
          7,
          6,
          4,
          5,
          2,
          7,
          6,
          7,
          6,
          7,
          6,
          7,
          6,
          5,
          4,
          8,
          8,
          7,
          8,
          7,
          3,
          6,
          8,
          7
         ],
         "yaxis": "y12"
        },
        {
         "type": "scatter",
         "xaxis": "x16",
         "yaxis": "y16"
        }
       ],
       "layout": {
        "template": {
         "data": {
          "bar": [
           {
            "error_x": {
             "color": "#2a3f5f"
            },
            "error_y": {
             "color": "#2a3f5f"
            },
            "marker": {
             "line": {
              "color": "#E5ECF6",
              "width": 0.5
             },
             "pattern": {
              "fillmode": "overlay",
              "size": 10,
              "solidity": 0.2
             }
            },
            "type": "bar"
           }
          ],
          "barpolar": [
           {
            "marker": {
             "line": {
              "color": "#E5ECF6",
              "width": 0.5
             },
             "pattern": {
              "fillmode": "overlay",
              "size": 10,
              "solidity": 0.2
             }
            },
            "type": "barpolar"
           }
          ],
          "carpet": [
           {
            "aaxis": {
             "endlinecolor": "#2a3f5f",
             "gridcolor": "white",
             "linecolor": "white",
             "minorgridcolor": "white",
             "startlinecolor": "#2a3f5f"
            },
            "baxis": {
             "endlinecolor": "#2a3f5f",
             "gridcolor": "white",
             "linecolor": "white",
             "minorgridcolor": "white",
             "startlinecolor": "#2a3f5f"
            },
            "type": "carpet"
           }
          ],
          "choropleth": [
           {
            "colorbar": {
             "outlinewidth": 0,
             "ticks": ""
            },
            "type": "choropleth"
           }
          ],
          "contour": [
           {
            "colorbar": {
             "outlinewidth": 0,
             "ticks": ""
            },
            "colorscale": [
             [
              0,
              "#0d0887"
             ],
             [
              0.1111111111111111,
              "#46039f"
             ],
             [
              0.2222222222222222,
              "#7201a8"
             ],
             [
              0.3333333333333333,
              "#9c179e"
             ],
             [
              0.4444444444444444,
              "#bd3786"
             ],
             [
              0.5555555555555556,
              "#d8576b"
             ],
             [
              0.6666666666666666,
              "#ed7953"
             ],
             [
              0.7777777777777778,
              "#fb9f3a"
             ],
             [
              0.8888888888888888,
              "#fdca26"
             ],
             [
              1,
              "#f0f921"
             ]
            ],
            "type": "contour"
           }
          ],
          "contourcarpet": [
           {
            "colorbar": {
             "outlinewidth": 0,
             "ticks": ""
            },
            "type": "contourcarpet"
           }
          ],
          "heatmap": [
           {
            "colorbar": {
             "outlinewidth": 0,
             "ticks": ""
            },
            "colorscale": [
             [
              0,
              "#0d0887"
             ],
             [
              0.1111111111111111,
              "#46039f"
             ],
             [
              0.2222222222222222,
              "#7201a8"
             ],
             [
              0.3333333333333333,
              "#9c179e"
             ],
             [
              0.4444444444444444,
              "#bd3786"
             ],
             [
              0.5555555555555556,
              "#d8576b"
             ],
             [
              0.6666666666666666,
              "#ed7953"
             ],
             [
              0.7777777777777778,
              "#fb9f3a"
             ],
             [
              0.8888888888888888,
              "#fdca26"
             ],
             [
              1,
              "#f0f921"
             ]
            ],
            "type": "heatmap"
           }
          ],
          "heatmapgl": [
           {
            "colorbar": {
             "outlinewidth": 0,
             "ticks": ""
            },
            "colorscale": [
             [
              0,
              "#0d0887"
             ],
             [
              0.1111111111111111,
              "#46039f"
             ],
             [
              0.2222222222222222,
              "#7201a8"
             ],
             [
              0.3333333333333333,
              "#9c179e"
             ],
             [
              0.4444444444444444,
              "#bd3786"
             ],
             [
              0.5555555555555556,
              "#d8576b"
             ],
             [
              0.6666666666666666,
              "#ed7953"
             ],
             [
              0.7777777777777778,
              "#fb9f3a"
             ],
             [
              0.8888888888888888,
              "#fdca26"
             ],
             [
              1,
              "#f0f921"
             ]
            ],
            "type": "heatmapgl"
           }
          ],
          "histogram": [
           {
            "marker": {
             "pattern": {
              "fillmode": "overlay",
              "size": 10,
              "solidity": 0.2
             }
            },
            "type": "histogram"
           }
          ],
          "histogram2d": [
           {
            "colorbar": {
             "outlinewidth": 0,
             "ticks": ""
            },
            "colorscale": [
             [
              0,
              "#0d0887"
             ],
             [
              0.1111111111111111,
              "#46039f"
             ],
             [
              0.2222222222222222,
              "#7201a8"
             ],
             [
              0.3333333333333333,
              "#9c179e"
             ],
             [
              0.4444444444444444,
              "#bd3786"
             ],
             [
              0.5555555555555556,
              "#d8576b"
             ],
             [
              0.6666666666666666,
              "#ed7953"
             ],
             [
              0.7777777777777778,
              "#fb9f3a"
             ],
             [
              0.8888888888888888,
              "#fdca26"
             ],
             [
              1,
              "#f0f921"
             ]
            ],
            "type": "histogram2d"
           }
          ],
          "histogram2dcontour": [
           {
            "colorbar": {
             "outlinewidth": 0,
             "ticks": ""
            },
            "colorscale": [
             [
              0,
              "#0d0887"
             ],
             [
              0.1111111111111111,
              "#46039f"
             ],
             [
              0.2222222222222222,
              "#7201a8"
             ],
             [
              0.3333333333333333,
              "#9c179e"
             ],
             [
              0.4444444444444444,
              "#bd3786"
             ],
             [
              0.5555555555555556,
              "#d8576b"
             ],
             [
              0.6666666666666666,
              "#ed7953"
             ],
             [
              0.7777777777777778,
              "#fb9f3a"
             ],
             [
              0.8888888888888888,
              "#fdca26"
             ],
             [
              1,
              "#f0f921"
             ]
            ],
            "type": "histogram2dcontour"
           }
          ],
          "mesh3d": [
           {
            "colorbar": {
             "outlinewidth": 0,
             "ticks": ""
            },
            "type": "mesh3d"
           }
          ],
          "parcoords": [
           {
            "line": {
             "colorbar": {
              "outlinewidth": 0,
              "ticks": ""
             }
            },
            "type": "parcoords"
           }
          ],
          "pie": [
           {
            "automargin": true,
            "type": "pie"
           }
          ],
          "scatter": [
           {
            "fillpattern": {
             "fillmode": "overlay",
             "size": 10,
             "solidity": 0.2
            },
            "type": "scatter"
           }
          ],
          "scatter3d": [
           {
            "line": {
             "colorbar": {
              "outlinewidth": 0,
              "ticks": ""
             }
            },
            "marker": {
             "colorbar": {
              "outlinewidth": 0,
              "ticks": ""
             }
            },
            "type": "scatter3d"
           }
          ],
          "scattercarpet": [
           {
            "marker": {
             "colorbar": {
              "outlinewidth": 0,
              "ticks": ""
             }
            },
            "type": "scattercarpet"
           }
          ],
          "scattergeo": [
           {
            "marker": {
             "colorbar": {
              "outlinewidth": 0,
              "ticks": ""
             }
            },
            "type": "scattergeo"
           }
          ],
          "scattergl": [
           {
            "marker": {
             "colorbar": {
              "outlinewidth": 0,
              "ticks": ""
             }
            },
            "type": "scattergl"
           }
          ],
          "scattermapbox": [
           {
            "marker": {
             "colorbar": {
              "outlinewidth": 0,
              "ticks": ""
             }
            },
            "type": "scattermapbox"
           }
          ],
          "scatterpolar": [
           {
            "marker": {
             "colorbar": {
              "outlinewidth": 0,
              "ticks": ""
             }
            },
            "type": "scatterpolar"
           }
          ],
          "scatterpolargl": [
           {
            "marker": {
             "colorbar": {
              "outlinewidth": 0,
              "ticks": ""
             }
            },
            "type": "scatterpolargl"
           }
          ],
          "scatterternary": [
           {
            "marker": {
             "colorbar": {
              "outlinewidth": 0,
              "ticks": ""
             }
            },
            "type": "scatterternary"
           }
          ],
          "surface": [
           {
            "colorbar": {
             "outlinewidth": 0,
             "ticks": ""
            },
            "colorscale": [
             [
              0,
              "#0d0887"
             ],
             [
              0.1111111111111111,
              "#46039f"
             ],
             [
              0.2222222222222222,
              "#7201a8"
             ],
             [
              0.3333333333333333,
              "#9c179e"
             ],
             [
              0.4444444444444444,
              "#bd3786"
             ],
             [
              0.5555555555555556,
              "#d8576b"
             ],
             [
              0.6666666666666666,
              "#ed7953"
             ],
             [
              0.7777777777777778,
              "#fb9f3a"
             ],
             [
              0.8888888888888888,
              "#fdca26"
             ],
             [
              1,
              "#f0f921"
             ]
            ],
            "type": "surface"
           }
          ],
          "table": [
           {
            "cells": {
             "fill": {
              "color": "#EBF0F8"
             },
             "line": {
              "color": "white"
             }
            },
            "header": {
             "fill": {
              "color": "#C8D4E3"
             },
             "line": {
              "color": "white"
             }
            },
            "type": "table"
           }
          ]
         },
         "layout": {
          "annotationdefaults": {
           "arrowcolor": "#2a3f5f",
           "arrowhead": 0,
           "arrowwidth": 1
          },
          "autotypenumbers": "strict",
          "coloraxis": {
           "colorbar": {
            "outlinewidth": 0,
            "ticks": ""
           }
          },
          "colorscale": {
           "diverging": [
            [
             0,
             "#8e0152"
            ],
            [
             0.1,
             "#c51b7d"
            ],
            [
             0.2,
             "#de77ae"
            ],
            [
             0.3,
             "#f1b6da"
            ],
            [
             0.4,
             "#fde0ef"
            ],
            [
             0.5,
             "#f7f7f7"
            ],
            [
             0.6,
             "#e6f5d0"
            ],
            [
             0.7,
             "#b8e186"
            ],
            [
             0.8,
             "#7fbc41"
            ],
            [
             0.9,
             "#4d9221"
            ],
            [
             1,
             "#276419"
            ]
           ],
           "sequential": [
            [
             0,
             "#0d0887"
            ],
            [
             0.1111111111111111,
             "#46039f"
            ],
            [
             0.2222222222222222,
             "#7201a8"
            ],
            [
             0.3333333333333333,
             "#9c179e"
            ],
            [
             0.4444444444444444,
             "#bd3786"
            ],
            [
             0.5555555555555556,
             "#d8576b"
            ],
            [
             0.6666666666666666,
             "#ed7953"
            ],
            [
             0.7777777777777778,
             "#fb9f3a"
            ],
            [
             0.8888888888888888,
             "#fdca26"
            ],
            [
             1,
             "#f0f921"
            ]
           ],
           "sequentialminus": [
            [
             0,
             "#0d0887"
            ],
            [
             0.1111111111111111,
             "#46039f"
            ],
            [
             0.2222222222222222,
             "#7201a8"
            ],
            [
             0.3333333333333333,
             "#9c179e"
            ],
            [
             0.4444444444444444,
             "#bd3786"
            ],
            [
             0.5555555555555556,
             "#d8576b"
            ],
            [
             0.6666666666666666,
             "#ed7953"
            ],
            [
             0.7777777777777778,
             "#fb9f3a"
            ],
            [
             0.8888888888888888,
             "#fdca26"
            ],
            [
             1,
             "#f0f921"
            ]
           ]
          },
          "colorway": [
           "#636efa",
           "#EF553B",
           "#00cc96",
           "#ab63fa",
           "#FFA15A",
           "#19d3f3",
           "#FF6692",
           "#B6E880",
           "#FF97FF",
           "#FECB52"
          ],
          "font": {
           "color": "#2a3f5f"
          },
          "geo": {
           "bgcolor": "white",
           "lakecolor": "white",
           "landcolor": "#E5ECF6",
           "showlakes": true,
           "showland": true,
           "subunitcolor": "white"
          },
          "hoverlabel": {
           "align": "left"
          },
          "hovermode": "closest",
          "mapbox": {
           "style": "light"
          },
          "paper_bgcolor": "white",
          "plot_bgcolor": "#E5ECF6",
          "polar": {
           "angularaxis": {
            "gridcolor": "white",
            "linecolor": "white",
            "ticks": ""
           },
           "bgcolor": "#E5ECF6",
           "radialaxis": {
            "gridcolor": "white",
            "linecolor": "white",
            "ticks": ""
           }
          },
          "scene": {
           "xaxis": {
            "backgroundcolor": "#E5ECF6",
            "gridcolor": "white",
            "gridwidth": 2,
            "linecolor": "white",
            "showbackground": true,
            "ticks": "",
            "zerolinecolor": "white"
           },
           "yaxis": {
            "backgroundcolor": "#E5ECF6",
            "gridcolor": "white",
            "gridwidth": 2,
            "linecolor": "white",
            "showbackground": true,
            "ticks": "",
            "zerolinecolor": "white"
           },
           "zaxis": {
            "backgroundcolor": "#E5ECF6",
            "gridcolor": "white",
            "gridwidth": 2,
            "linecolor": "white",
            "showbackground": true,
            "ticks": "",
            "zerolinecolor": "white"
           }
          },
          "shapedefaults": {
           "line": {
            "color": "#2a3f5f"
           }
          },
          "ternary": {
           "aaxis": {
            "gridcolor": "white",
            "linecolor": "white",
            "ticks": ""
           },
           "baxis": {
            "gridcolor": "white",
            "linecolor": "white",
            "ticks": ""
           },
           "bgcolor": "#E5ECF6",
           "caxis": {
            "gridcolor": "white",
            "linecolor": "white",
            "ticks": ""
           }
          },
          "title": {
           "x": 0.05
          },
          "xaxis": {
           "automargin": true,
           "gridcolor": "white",
           "linecolor": "white",
           "ticks": "",
           "title": {
            "standoff": 15
           },
           "zerolinecolor": "white",
           "zerolinewidth": 2
          },
          "yaxis": {
           "automargin": true,
           "gridcolor": "white",
           "linecolor": "white",
           "ticks": "",
           "title": {
            "standoff": 15
           },
           "zerolinecolor": "white",
           "zerolinewidth": 2
          }
         }
        },
        "title": {
         "text": "Contour Plot"
        },
        "xaxis": {
         "anchor": "y",
         "domain": [
          0,
          0.2125
         ],
         "matches": "x13",
         "range": [
          -0.15000000000000002,
          3.15
         ],
         "showticklabels": false,
         "type": "category"
        },
        "xaxis10": {
         "anchor": "y10",
         "domain": [
          0.2625,
          0.475
         ],
         "matches": "x14",
         "range": [
          0.08,
          0.52
         ],
         "showticklabels": false
        },
        "xaxis11": {
         "anchor": "y11",
         "domain": [
          0.525,
          0.7375
         ],
         "matches": "x15",
         "range": [
          1.7,
          8.3
         ],
         "showticklabels": false
        },
        "xaxis12": {
         "anchor": "y12",
         "domain": [
          0.7875,
          1
         ],
         "matches": "x16",
         "range": [
          -4.045376238453845,
          -1.9052671609391287
         ],
         "showticklabels": false,
         "type": "log"
        },
        "xaxis13": {
         "anchor": "y13",
         "domain": [
          0,
          0.2125
         ],
         "range": [
          -0.15000000000000002,
          3.15
         ],
         "title": {
          "text": "architecture"
         },
         "type": "category"
        },
        "xaxis14": {
         "anchor": "y14",
         "domain": [
          0.2625,
          0.475
         ],
         "range": [
          0.08,
          0.52
         ],
         "title": {
          "text": "dropout"
         }
        },
        "xaxis15": {
         "anchor": "y15",
         "domain": [
          0.525,
          0.7375
         ],
         "range": [
          1.7,
          8.3
         ],
         "title": {
          "text": "embedding_dim"
         }
        },
        "xaxis16": {
         "anchor": "y16",
         "domain": [
          0.7875,
          1
         ],
         "range": [
          -4.045376238453845,
          -1.9052671609391287
         ],
         "title": {
          "text": "lr"
         },
         "type": "log"
        },
        "xaxis2": {
         "anchor": "y2",
         "domain": [
          0.2625,
          0.475
         ],
         "matches": "x14",
         "range": [
          0.08,
          0.52
         ],
         "showticklabels": false
        },
        "xaxis3": {
         "anchor": "y3",
         "domain": [
          0.525,
          0.7375
         ],
         "matches": "x15",
         "range": [
          1.7,
          8.3
         ],
         "showticklabels": false
        },
        "xaxis4": {
         "anchor": "y4",
         "domain": [
          0.7875,
          1
         ],
         "matches": "x16",
         "range": [
          -4.045376238453845,
          -1.9052671609391287
         ],
         "showticklabels": false,
         "type": "log"
        },
        "xaxis5": {
         "anchor": "y5",
         "domain": [
          0,
          0.2125
         ],
         "matches": "x13",
         "range": [
          -0.15000000000000002,
          3.15
         ],
         "showticklabels": false,
         "type": "category"
        },
        "xaxis6": {
         "anchor": "y6",
         "domain": [
          0.2625,
          0.475
         ],
         "matches": "x14",
         "range": [
          0.08,
          0.52
         ],
         "showticklabels": false
        },
        "xaxis7": {
         "anchor": "y7",
         "domain": [
          0.525,
          0.7375
         ],
         "matches": "x15",
         "range": [
          1.7,
          8.3
         ],
         "showticklabels": false
        },
        "xaxis8": {
         "anchor": "y8",
         "domain": [
          0.7875,
          1
         ],
         "matches": "x16",
         "range": [
          -4.045376238453845,
          -1.9052671609391287
         ],
         "showticklabels": false,
         "type": "log"
        },
        "xaxis9": {
         "anchor": "y9",
         "domain": [
          0,
          0.2125
         ],
         "matches": "x13",
         "range": [
          -0.15000000000000002,
          3.15
         ],
         "showticklabels": false,
         "type": "category"
        },
        "yaxis": {
         "anchor": "x",
         "domain": [
          0.80625,
          1
         ],
         "range": [
          -0.15000000000000002,
          3.15
         ],
         "title": {
          "text": "architecture"
         },
         "type": "category"
        },
        "yaxis10": {
         "anchor": "x10",
         "domain": [
          0.26875,
          0.4625
         ],
         "matches": "y9",
         "range": [
          1.7,
          8.3
         ],
         "showticklabels": false
        },
        "yaxis11": {
         "anchor": "x11",
         "domain": [
          0.26875,
          0.4625
         ],
         "matches": "y9",
         "range": [
          1.7,
          8.3
         ],
         "showticklabels": false
        },
        "yaxis12": {
         "anchor": "x12",
         "domain": [
          0.26875,
          0.4625
         ],
         "matches": "y9",
         "range": [
          1.7,
          8.3
         ],
         "showticklabels": false
        },
        "yaxis13": {
         "anchor": "x13",
         "domain": [
          0,
          0.19375
         ],
         "range": [
          -4.045376238453845,
          -1.9052671609391287
         ],
         "title": {
          "text": "lr"
         },
         "type": "log"
        },
        "yaxis14": {
         "anchor": "x14",
         "domain": [
          0,
          0.19375
         ],
         "matches": "y13",
         "range": [
          -4.045376238453845,
          -1.9052671609391287
         ],
         "showticklabels": false,
         "type": "log"
        },
        "yaxis15": {
         "anchor": "x15",
         "domain": [
          0,
          0.19375
         ],
         "matches": "y13",
         "range": [
          -4.045376238453845,
          -1.9052671609391287
         ],
         "showticklabels": false,
         "type": "log"
        },
        "yaxis16": {
         "anchor": "x16",
         "domain": [
          0,
          0.19375
         ],
         "matches": "y13",
         "range": [
          -4.045376238453845,
          -1.9052671609391287
         ],
         "showticklabels": false,
         "type": "log"
        },
        "yaxis2": {
         "anchor": "x2",
         "domain": [
          0.80625,
          1
         ],
         "matches": "y",
         "range": [
          -0.15000000000000002,
          3.15
         ],
         "showticklabels": false,
         "type": "category"
        },
        "yaxis3": {
         "anchor": "x3",
         "domain": [
          0.80625,
          1
         ],
         "matches": "y",
         "range": [
          -0.15000000000000002,
          3.15
         ],
         "showticklabels": false,
         "type": "category"
        },
        "yaxis4": {
         "anchor": "x4",
         "domain": [
          0.80625,
          1
         ],
         "matches": "y",
         "range": [
          -0.15000000000000002,
          3.15
         ],
         "showticklabels": false,
         "type": "category"
        },
        "yaxis5": {
         "anchor": "x5",
         "domain": [
          0.5375,
          0.73125
         ],
         "range": [
          0.08,
          0.52
         ],
         "title": {
          "text": "dropout"
         }
        },
        "yaxis6": {
         "anchor": "x6",
         "domain": [
          0.5375,
          0.73125
         ],
         "matches": "y5",
         "range": [
          0.08,
          0.52
         ],
         "showticklabels": false
        },
        "yaxis7": {
         "anchor": "x7",
         "domain": [
          0.5375,
          0.73125
         ],
         "matches": "y5",
         "range": [
          0.08,
          0.52
         ],
         "showticklabels": false
        },
        "yaxis8": {
         "anchor": "x8",
         "domain": [
          0.5375,
          0.73125
         ],
         "matches": "y5",
         "range": [
          0.08,
          0.52
         ],
         "showticklabels": false
        },
        "yaxis9": {
         "anchor": "x9",
         "domain": [
          0.26875,
          0.4625
         ],
         "range": [
          1.7,
          8.3
         ],
         "title": {
          "text": "embedding_dim"
         }
        }
       }
      }
     },
     "metadata": {},
     "output_type": "display_data"
    }
   ],
   "source": [
    "# Optuna objective function\n",
    "def objective(trial):\n",
    "    is_bilstm = True\n",
    "    sequence_length = 14\n",
    "\n",
    "    architecture_choice = trial.suggest_categorical(\"architecture\", list(POSSIBLE_LAYER_SIZES.keys()))\n",
    "    layer_sizes = POSSIBLE_LAYER_SIZES[architecture_choice]\n",
    "    \n",
    "    dropout = trial.suggest_float(\"dropout\", 0.1, 0.5, step=0.05)\n",
    "    embedding_dim = trial.suggest_int(\"embedding_dim\", 2, 8)\n",
    "    learning_rate = trial.suggest_float(\"lr\", 1e-4, 1e-2, log=True)\n",
    "\n",
    "    train_ds = WildfireDataset(s1_train, sequence_length, only_no_fire=True)\n",
    "    val_ds = WildfireDataset(s1_val, sequence_length, only_no_fire=False)\n",
    "    train_loader = DataLoader(train_ds, batch_size=64, shuffle=True, generator=g)\n",
    "    val_loader = DataLoader(val_ds, batch_size=64, shuffle=False)\n",
    "\n",
    "    model = LSTMAutoencoder(input_dim=len(NUMERIC_FEATURES),\n",
    "                             embedding_dim=embedding_dim,\n",
    "                             layer_sizes=layer_sizes,\n",
    "                             num_states=s1_train[CAT_FEATURE].nunique(),\n",
    "                             bidirectional=is_bilstm,\n",
    "                             dropout=dropout)\n",
    "    optimizer = torch.optim.Adam(model.parameters(), lr=learning_rate)\n",
    "    criterion = nn.MSELoss()\n",
    "\n",
    "    for epoch in range(1, 21):\n",
    "        loss = train_one_epoch(model, train_loader, optimizer, criterion)\n",
    "\n",
    "    val_scores, val_labels = evaluate_model(model, val_loader)\n",
    "    threshold, _ = find_best_f1_threshold(val_labels, val_scores)\n",
    "    metrics, _ = compute_metrics(val_labels, val_scores, threshold)\n",
    "\n",
    "    trial_msg = (f\"Trial {trial.number}: \"\n",
    "                 f\"MCC={metrics['MCC']:.4f}, REC={metrics['REC']:.4f}, AUC={metrics['AUC']:.4f}, \"\n",
    "                 f\"Params={trial.params}\")\n",
    "    \n",
    "    log_path = os.path.join(log_dir, \"Bi-LSTM-AE_optuna_search_log.txt\")\n",
    "    with open(log_path, \"a\") as f:\n",
    "        log_and_print(trial_msg, f)\n",
    "    \n",
    "    return metrics[\"MCC\"]\n",
    "\n",
    "# Optuna study\n",
    "study = optuna.create_study(direction=\"maximize\")\n",
    "study.optimize(objective, n_trials=50)\n",
    "\n",
    "# Save best trial\n",
    "best_params_path = os.path.join(log_dir, \"Bi-LSTM-AE_best_trial_params.txt\")\n",
    "with open(best_params_path, \"w\") as f:\n",
    "    f.write(str(study.best_trial.params))\n",
    "\n",
    "print(\"Best trial parameters saved to:\", best_params_path)\n",
    "\n",
    "fig1 = vis.plot_optimization_history(study)\n",
    "fig1.show()\n",
    "fig2 = vis.plot_param_importances(study)\n",
    "fig2.show()\n",
    "fig3 = vis.plot_parallel_coordinate(study)\n",
    "fig3.show()\n",
    "fig4 = vis.plot_contour(study)\n",
    "fig4.show()\n",
    "\n",
    "fig1.write_html(os.path.join(log_dir, \"Bi-LSTM-AE_optuna_optimization_history.html\"))\n",
    "fig2.write_html(os.path.join(log_dir, \"Bi-LSTM-AE_optuna_param_importances.html\"))\n",
    "fig3.write_html(os.path.join(log_dir, \"Bi-LSTM-AE_optuna_parallel_coordinate.html\"))\n",
    "fig4.write_html(os.path.join(log_dir, \"Bi-LSTM-AE_optuna_contour.html\"))\n"
   ]
  },
  {
   "cell_type": "markdown",
   "metadata": {},
   "source": [
    "### **2. VALIDATION AND TESTING**"
   ]
  },
  {
   "cell_type": "markdown",
   "metadata": {},
   "source": [
    "#### **Models A: Validate and Test**"
   ]
  },
  {
   "cell_type": "code",
   "execution_count": null,
   "metadata": {},
   "outputs": [
    {
     "name": "stdout",
     "output_type": "stream",
     "text": [
      "\n",
      "========== Run 1 / 6 ==========\n",
      "Early stopping at epoch 24 (no improvement after 10 epochs)\n",
      "\n",
      "========== Run 2 / 6 ==========\n",
      "Early stopping at epoch 34 (no improvement after 10 epochs)\n",
      "\n",
      "========== Run 3 / 6 ==========\n",
      "Early stopping at epoch 61 (no improvement after 10 epochs)\n",
      "\n",
      "========== Run 4 / 6 ==========\n",
      "Early stopping at epoch 55 (no improvement after 10 epochs)\n",
      "\n",
      "========== Run 5 / 6 ==========\n",
      "Early stopping at epoch 24 (no improvement after 10 epochs)\n",
      "\n",
      "========== Run 6 / 6 ==========\n",
      "Early stopping at epoch 48 (no improvement after 10 epochs)\n",
      "\n",
      "========== Final Averaged Validation Metrics ==========\n",
      "ACC_mean: 0.860\n",
      "ACC_std: 0.021\n",
      "PRE_mean: 0.416\n",
      "PRE_std: 0.061\n",
      "REC_mean: 0.614\n",
      "REC_std: 0.062\n",
      "MCC_mean: 0.428\n",
      "MCC_std: 0.036\n",
      "AUC_mean: 0.844\n",
      "AUC_std: 0.017\n",
      "\n",
      "========== Final Averaged test Metrics ==========\n",
      "ACC_mean: 0.792\n",
      "ACC_std: 0.034\n",
      "PRE_mean: 0.326\n",
      "PRE_std: 0.045\n",
      "REC_mean: 0.831\n",
      "REC_std: 0.035\n",
      "MCC_mean: 0.431\n",
      "MCC_std: 0.034\n",
      "AUC_mean: 0.878\n",
      "AUC_std: 0.011\n",
      "\n",
      "========== Final Averaged test Metrics ==========\n",
      "ACC_mean: 0.628\n",
      "ACC_std: 0.033\n",
      "PRE_mean: 0.272\n",
      "PRE_std: 0.011\n",
      "REC_mean: 0.788\n",
      "REC_std: 0.107\n",
      "MCC_mean: 0.285\n",
      "MCC_std: 0.041\n",
      "AUC_mean: 0.755\n",
      "AUC_std: 0.012\n"
     ]
    }
   ],
   "source": [
    "s1_test = pd.read_csv(os.path.join(target_dir, \"S1_scaled_test.csv\"))\n",
    "s2_test = pd.read_csv(os.path.join(target_dir, \"S2_scaled_test.csv\"))\n",
    "test_log_dir = os.path.join(target_dir, \"00_3_testing\")\n",
    "val_log_dir  = os.path.join(target_dir, \"00_2_validation\", \"Validation_results\")\n",
    "\n",
    "NUM_RUNS = 6 # number of repetitions to create a distribution\n",
    "def set_random_seeds(seed):\n",
    "    random.seed(seed)\n",
    "    np.random.seed(seed)\n",
    "    torch.manual_seed(seed)\n",
    "    torch.cuda.manual_seed_all(seed)\n",
    "    g = torch.Generator().manual_seed(seed)\n",
    "    return g\n",
    "\n",
    "smoothing_alpha = 0.1\n",
    "patience, min_epoch = 10, 15\n",
    "\n",
    "modelAB         = \"A\"\n",
    "# Reload best parameters\n",
    "is_bilstm       = False\n",
    "sequence_length = 30\n",
    "dropout         = 0.1\n",
    "embedding_dim   = 8\n",
    "layer_sizes     = [256, 128, 64, 32, 16]\n",
    "learning_rate   = 0.0008188148579607131\n",
    "\n",
    "# Perform multiple training + evaluation runs\n",
    "all_val_metrics   = []\n",
    "all_test_metrics  = []\n",
    "all_test2_metrics = []\n",
    "\n",
    "for run_idx in range(NUM_RUNS):\n",
    "    print(f\"\\n========== Run {run_idx + 1} / {NUM_RUNS} ==========\")\n",
    "    seed = 36 + (run_idx * 10)\n",
    "    g = set_random_seeds(seed)\n",
    "\n",
    "    train_ds = WildfireDataset(s1_train, sequence_length, only_no_fire=True)\n",
    "    val_ds = WildfireDataset(s1_val, sequence_length, only_no_fire=False)\n",
    "    train_loader = DataLoader(train_ds, batch_size=64, shuffle=True, generator=g)\n",
    "    val_loader = DataLoader(val_ds, batch_size=64, shuffle=False)\n",
    "    test_ds = WildfireDataset(s1_test, sequence_length, only_no_fire=False)\n",
    "    test_loader = DataLoader(test_ds, batch_size=64, shuffle=False)\n",
    "    test2_ds = WildfireDataset(s2_test, sequence_length, only_no_fire=False)\n",
    "    test2_loader = DataLoader(test2_ds, batch_size=64, shuffle=False)\n",
    "\n",
    "    # Create a fresh model for each run\n",
    "    model = LSTMAutoencoder(\n",
    "        input_dim=len(NUMERIC_FEATURES),\n",
    "        embedding_dim=embedding_dim,\n",
    "        layer_sizes=layer_sizes,\n",
    "        num_states=s1_train[CAT_FEATURE].nunique(),\n",
    "        bidirectional=is_bilstm,\n",
    "        dropout=dropout\n",
    "    )\n",
    "    optimizer = torch.optim.Adam(model.parameters(), lr=learning_rate)\n",
    "    criterion = nn.MSELoss()\n",
    "\n",
    "    best_score, smoothed_score, smoothed_best_score = -float('inf'), None, -float('inf')\n",
    "    counter = 0\n",
    "\n",
    "    # TRAINING AND VALIDATION\n",
    "    for epoch in range(1, 201):\n",
    "        loss = train_one_epoch(model, train_loader, optimizer, criterion)\n",
    "        val_scores, val_labels = evaluate_model(model, val_loader)\n",
    "        threshold, _ = find_best_f1_threshold(val_labels, val_scores)\n",
    "        val_metrics, _ = compute_metrics(val_labels, val_scores, threshold)\n",
    "\n",
    "        val_loss = np.mean(val_scores)\n",
    "        mcc = val_metrics[\"MCC\"]\n",
    "        rec = val_metrics[\"REC\"]\n",
    "        pre = val_metrics[\"PRE\"]\n",
    "        auc_score = val_metrics[\"AUC\"]\n",
    "\n",
    "        scaled_mcc = (mcc + 1) / 2\n",
    "        scaled_auc = (auc_score - 0.5) * 2\n",
    "        combo_score = 0.6 * scaled_mcc + 0.05 * rec + 0.05 * pre + 0.05 * scaled_auc\n",
    "\n",
    "        if smoothed_score is None:\n",
    "            smoothed_score = combo_score\n",
    "        else:\n",
    "            smoothed_score = (smoothing_alpha * combo_score + (1 - smoothing_alpha) * smoothed_score)\n",
    "\n",
    "        if combo_score > best_score or smoothed_score > smoothed_best_score:\n",
    "            smoothed_best_score = smoothed_score\n",
    "            counter = 0\n",
    "            if combo_score > best_score:\n",
    "                best_score = combo_score\n",
    "                best_val_scores = val_scores\n",
    "                best_val_labels = val_labels\n",
    "                best_threshold = threshold\n",
    "                best_val_metrics = val_metrics\n",
    "                model_path = os.path.join(val_log_dir, f\"{modelAB}_{'Bi-' if is_bilstm else ''}LSTM-AE_run_{run_idx+1}_model.pth\")\n",
    "                torch.save(model.state_dict(), model_path)\n",
    "                np.save(os.path.join(val_log_dir, f\"{modelAB}_{'Bi-' if is_bilstm else ''}LSTM-AE_run_{run_idx+1}_val_labels.npy\"), best_val_labels)\n",
    "                np.save(os.path.join(val_log_dir, f\"{modelAB}_{'Bi-' if is_bilstm else ''}LSTM-AE_run_{run_idx+1}_val_scores.npy\"), best_val_scores)\n",
    "                np.save(os.path.join(val_log_dir, f\"{modelAB}_{'Bi-' if is_bilstm else ''}LSTM-AE_run_{run_idx+1}_val_preds.npy\"), (np.array(best_val_scores) > best_threshold).astype(int))\n",
    "        elif epoch >= min_epoch:\n",
    "            counter += 1\n",
    "            if counter >= patience:\n",
    "                print(f\"Early stopping at epoch {epoch} (no improvement after {patience} epochs)\")\n",
    "                break\n",
    "\n",
    "    # Save metrics for this run\n",
    "    all_val_metrics.append(best_val_metrics)\n",
    "\n",
    "    run_metrics_path = os.path.join(val_log_dir, f\"{modelAB}_{'Bi-' if is_bilstm else ''}LSTM-AE_run_{run_idx+1}_metrics.txt\")\n",
    "    with open(run_metrics_path, 'w') as f:\n",
    "        for k, v in best_val_metrics.items():\n",
    "            if k in [\"ACC\", \"PRE\", \"REC\"]:\n",
    "                f.write(f\"{k}: {v * 100:.2f}%\\n\")\n",
    "            else:\n",
    "                f.write(f\"{k}: {v:.3f}\\n\")\n",
    "        f.write(f\"Best Threshold: {best_threshold:.5f}\\n\")\n",
    "\n",
    "    # Reload the best saved model before testing\n",
    "    model.load_state_dict(torch.load(model_path, weights_only=True))\n",
    "\n",
    "    # TESTING\n",
    "    model.eval()\n",
    "    test_scores, test_labels = evaluate_model(model, test_loader)\n",
    "    test_threshold = best_threshold # reuse the one selected on validation\n",
    "    test_metrics, _ = compute_metrics(test_labels, test_scores, test_threshold)\n",
    "\n",
    "    all_test_metrics.append(test_metrics)\n",
    "\n",
    "    test_metrics_path = os.path.join(test_log_dir, f\"{modelAB}_{'Bi-' if is_bilstm else ''}LSTM-AE_run_{run_idx+1}_test_metrics.txt\")\n",
    "    with open(test_metrics_path, 'w') as f:\n",
    "        for k, v in test_metrics.items():\n",
    "            if k in [\"ACC\", \"PRE\", \"REC\"]:\n",
    "                f.write(f\"{k}: {v * 100:.2f}%\\n\")\n",
    "            else:\n",
    "                f.write(f\"{k}: {v:.3f}\\n\")\n",
    "\n",
    "    test_preds = (np.array(test_scores) > test_threshold).astype(int)\n",
    "    np.save(os.path.join(test_log_dir, f\"{modelAB}_{'Bi-' if is_bilstm else ''}LSTM-AE_run_{run_idx+1}_test_labels.npy\"), test_labels)\n",
    "    np.save(os.path.join(test_log_dir, f\"{modelAB}_{'Bi-' if is_bilstm else ''}LSTM-AE_run_{run_idx+1}_test_scores.npy\"), test_scores)\n",
    "    np.save(os.path.join(test_log_dir, f\"{modelAB}_{'Bi-' if is_bilstm else ''}LSTM-AE_run_{run_idx+1}_test_preds.npy\"), test_preds)\n",
    "\n",
    "    # TESTING MODEL A ON SET 2\n",
    "    if modelAB == \"A\":\n",
    "        model.eval()\n",
    "        test_scores, test_labels = evaluate_model(model, test2_loader)\n",
    "        test_threshold = best_threshold  # reuse the one selected on validation\n",
    "        test_metrics, _ = compute_metrics(test_labels, test_scores, test_threshold)\n",
    "\n",
    "        all_test2_metrics.append(test_metrics)\n",
    "\n",
    "        test_metrics_path = os.path.join(test_log_dir, f\"{modelAB}_on_S2_{'Bi-' if is_bilstm else ''}LSTM-AE_run_{run_idx+1}_test_metrics.txt\")\n",
    "        with open(test_metrics_path, 'w') as f:\n",
    "            for k, v in test_metrics.items():\n",
    "                if k in [\"ACC\", \"PRE\", \"REC\"]:\n",
    "                    f.write(f\"{k}: {v * 100:.2f}%\\n\")\n",
    "                else:\n",
    "                    f.write(f\"{k}: {v:.3f}\\n\")\n",
    "\n",
    "        test_preds = (np.array(test_scores) > test_threshold).astype(int)\n",
    "        np.save(os.path.join(test_log_dir, f\"{modelAB}_on_S2_{'Bi-' if is_bilstm else ''}LSTM-AE_run_{run_idx+1}_test_labels.npy\"), test_labels)\n",
    "        np.save(os.path.join(test_log_dir, f\"{modelAB}_on_S2_{'Bi-' if is_bilstm else ''}LSTM-AE_run_{run_idx+1}_test_scores.npy\"), test_scores)\n",
    "        np.save(os.path.join(test_log_dir, f\"{modelAB}_on_S2_{'Bi-' if is_bilstm else ''}LSTM-AE_run_{run_idx+1}_test_preds.npy\"), test_preds)\n",
    "\n",
    "# AFTER ALL RUNS\n",
    "# Compute mean and std for each metric\n",
    "metrics_summary = {}\n",
    "for key in all_val_metrics[0].keys():\n",
    "    values = [metrics[key] for metrics in all_val_metrics]\n",
    "    metrics_summary[key + '_mean'] = np.mean(values)\n",
    "    metrics_summary[key + '_std'] = np.std(values)\n",
    "\n",
    "metrics_summary_path = os.path.join(val_log_dir, f\"{modelAB}_{'Bi-' if is_bilstm else ''}LSTM-AE_final_validation_summary.txt\")\n",
    "with open(metrics_summary_path, 'w') as f:\n",
    "    for k, v in metrics_summary.items():\n",
    "        f.write(f\"{k}: {v:.3f}\\n\")\n",
    "\n",
    "print(\"\\n========== Final Averaged Validation Metrics ==========\")\n",
    "for k, v in metrics_summary.items():\n",
    "    print(f\"{k}: {v:.3f}\")\n",
    "\n",
    "metrics_summary = {}\n",
    "for key in all_test_metrics[0].keys():\n",
    "    values = [metrics[key] for metrics in all_test_metrics]\n",
    "    metrics_summary[key + '_mean'] = np.mean(values)\n",
    "    metrics_summary[key + '_std'] = np.std(values)\n",
    "\n",
    "metrics_summary_path = os.path.join(test_log_dir, f\"{modelAB}_{'Bi-' if is_bilstm else ''}LSTM-AE_final_test_summary.txt\")\n",
    "with open(metrics_summary_path, 'w') as f:\n",
    "    for k, v in metrics_summary.items():\n",
    "        f.write(f\"{k}: {v:.3f}\\n\")\n",
    "\n",
    "print(\"\\n========== Final Averaged test Metrics ==========\")\n",
    "for k, v in metrics_summary.items():\n",
    "    print(f\"{k}: {v:.3f}\")\n",
    "\n",
    "if modelAB == \"A\":\n",
    "    metrics_summary = {}\n",
    "    for key in all_test2_metrics[0].keys():\n",
    "        values = [metrics[key] for metrics in all_test2_metrics]\n",
    "        metrics_summary[key + '_mean'] = np.mean(values)\n",
    "        metrics_summary[key + '_std'] = np.std(values)\n",
    "\n",
    "    metrics_summary_path = os.path.join(test_log_dir, f\"{modelAB}_on_S2_{'Bi-' if is_bilstm else ''}LSTM-AE_final_test_summary.txt\")\n",
    "    with open(metrics_summary_path, 'w') as f:\n",
    "        for k, v in metrics_summary.items():\n",
    "            f.write(f\"{k}: {v:.3f}\\n\")\n",
    "\n",
    "    print(\"\\n========== Final Averaged test Metrics ==========\")\n",
    "    for k, v in metrics_summary.items():\n",
    "        print(f\"{k}: {v:.3f}\")"
   ]
  },
  {
   "cell_type": "code",
   "execution_count": null,
   "metadata": {},
   "outputs": [
    {
     "name": "stdout",
     "output_type": "stream",
     "text": [
      "\n",
      "========== Final Averaged Validation Metrics ==========\n",
      "ACC_mean: 0.660\n",
      "ACC_std: 0.038\n",
      "PRE_mean: 0.289\n",
      "PRE_std: 0.014\n",
      "REC_mean: 0.689\n",
      "REC_std: 0.140\n",
      "MCC_mean: 0.265\n",
      "MCC_std: 0.051\n",
      "AUC_mean: 0.723\n",
      "AUC_std: 0.027\n"
     ]
    }
   ],
   "source": [
    "# VALIDATING MODEL A ON SET 2\n",
    "\n",
    "s2_val = pd.read_csv(os.path.join(target_dir, \"S2_scaled_val.csv\"))\n",
    "\n",
    "all_val2_metrics = []\n",
    "\n",
    "modelAB         = \"A\"\n",
    "num_states      = 4 # as used during training\n",
    "# Reload best parameters\n",
    "is_bilstm       = False\n",
    "sequence_length = 30\n",
    "dropout         = 0.1\n",
    "embedding_dim   = 8\n",
    "layer_sizes     = [256, 128, 64, 32, 16]\n",
    "learning_rate   = 0.0008188148579607131\n",
    "\n",
    "for run_idx in range(NUM_RUNS):\n",
    "    seed = 36 + (run_idx * 10)\n",
    "    g = set_random_seeds(seed)\n",
    "\n",
    "    val2_ds = WildfireDataset(s2_val, sequence_length, only_no_fire=False)\n",
    "    val2_loader = DataLoader(val2_ds, batch_size=64, shuffle=False)\n",
    "\n",
    "    # Reload the best saved model before validation\n",
    "    model_path = os.path.join(val_log_dir, f\"{modelAB}_{'Bi-' if is_bilstm else ''}LSTM-AE_run_{run_idx+1}_model.pth\")\n",
    "    \n",
    "    model = LSTMAutoencoder(\n",
    "        input_dim=len(NUMERIC_FEATURES), \n",
    "        embedding_dim=embedding_dim,\n",
    "        layer_sizes=layer_sizes,\n",
    "        num_states=num_states,\n",
    "        bidirectional=is_bilstm,\n",
    "        dropout=dropout\n",
    "    )\n",
    "\n",
    "    model.load_state_dict(torch.load(model_path, weights_only=True))\n",
    "    model.eval()\n",
    "\n",
    "    # Load best threshold from metrics file\n",
    "    threshold_path = os.path.join(val_log_dir, f\"{modelAB}_{'Bi-' if is_bilstm else ''}LSTM-AE_run_{run_idx+1}_metrics.txt\")\n",
    "    with open(threshold_path, 'r') as f:\n",
    "        lines = f.readlines()\n",
    "        for line in lines:\n",
    "            if \"Best Threshold\" in line:\n",
    "                val_threshold = float(line.strip().split(\":\")[1])\n",
    "                break\n",
    "\n",
    "    val_scores, val_labels = evaluate_model(model, val2_loader)\n",
    "    val_metrics, _ = compute_metrics(val_labels, val_scores, val_threshold)\n",
    "\n",
    "    all_val2_metrics.append(val_metrics)\n",
    "\n",
    "    val_metrics_path = os.path.join(val_log_dir, f\"{modelAB}_on_S2_{'Bi-' if is_bilstm else ''}LSTM-AE_run_{run_idx+1}_val_metrics.txt\")\n",
    "    with open(val_metrics_path, 'w') as f:\n",
    "        for k, v in val_metrics.items():\n",
    "            if k in [\"ACC\", \"PRE\", \"REC\"]:\n",
    "                f.write(f\"{k}: {v * 100:.2f}%\\n\")\n",
    "            else:\n",
    "                f.write(f\"{k}: {v:.3f}\\n\")\n",
    "\n",
    "    val_preds = (np.array(val_scores) > val_threshold).astype(int)\n",
    "    np.save(os.path.join(val_log_dir, f\"{modelAB}_on_S2_{'Bi-' if is_bilstm else ''}LSTM-AE_run_{run_idx+1}_val_labels.npy\"), val_labels)\n",
    "    np.save(os.path.join(val_log_dir, f\"{modelAB}_on_S2_{'Bi-' if is_bilstm else ''}LSTM-AE_run_{run_idx+1}_val_scores.npy\"), val_scores)\n",
    "    np.save(os.path.join(val_log_dir, f\"{modelAB}_on_S2_{'Bi-' if is_bilstm else ''}LSTM-AE_run_{run_idx+1}_val_preds.npy\"), val_preds)\n",
    "\n",
    "# AFTER ALL RUNS\n",
    "# Compute mean and std for each metric\n",
    "metrics_summary = {}\n",
    "for key in all_val2_metrics[0].keys():\n",
    "    values = [metrics[key] for metrics in all_val2_metrics]\n",
    "    metrics_summary[key + '_mean'] = np.mean(values)\n",
    "    metrics_summary[key + '_std'] = np.std(values)\n",
    "\n",
    "metrics_summary_path = os.path.join(val_log_dir, f\"{modelAB}_on_S2_{'Bi-' if is_bilstm else ''}LSTM-AE_final_validation_summary.txt\")\n",
    "with open(metrics_summary_path, 'w') as f:\n",
    "    for k, v in metrics_summary.items():\n",
    "        f.write(f\"{k}: {v:.3f}\\n\")\n",
    "\n",
    "print(\"\\n========== Final Averaged Validation Metrics ==========\")\n",
    "for k, v in metrics_summary.items():\n",
    "    print(f\"{k}: {v:.3f}\")"
   ]
  },
  {
   "cell_type": "code",
   "execution_count": null,
   "metadata": {},
   "outputs": [
    {
     "name": "stdout",
     "output_type": "stream",
     "text": [
      "\n",
      "========== Run 1 / 6 ==========\n",
      "Early stopping at epoch 27 (no improvement after 10 epochs)\n",
      "\n",
      "========== Run 2 / 6 ==========\n",
      "Early stopping at epoch 48 (no improvement after 10 epochs)\n",
      "\n",
      "========== Run 3 / 6 ==========\n",
      "Early stopping at epoch 30 (no improvement after 10 epochs)\n",
      "\n",
      "========== Run 4 / 6 ==========\n",
      "Early stopping at epoch 67 (no improvement after 10 epochs)\n",
      "\n",
      "========== Run 5 / 6 ==========\n",
      "Early stopping at epoch 56 (no improvement after 10 epochs)\n",
      "\n",
      "========== Run 6 / 6 ==========\n",
      "Early stopping at epoch 24 (no improvement after 10 epochs)\n",
      "\n",
      "========== Final Averaged Validation Metrics ==========\n",
      "ACC_mean: 0.880\n",
      "ACC_std: 0.029\n",
      "PRE_mean: 0.515\n",
      "PRE_std: 0.107\n",
      "REC_mean: 0.404\n",
      "REC_std: 0.150\n",
      "MCC_mean: 0.378\n",
      "MCC_std: 0.007\n",
      "AUC_mean: 0.810\n",
      "AUC_std: 0.016\n",
      "\n",
      "========== Final Averaged test Metrics ==========\n",
      "ACC_mean: 0.797\n",
      "ACC_std: 0.012\n",
      "PRE_mean: 0.290\n",
      "PRE_std: 0.031\n",
      "REC_mean: 0.566\n",
      "REC_std: 0.176\n",
      "MCC_mean: 0.298\n",
      "MCC_std: 0.090\n",
      "AUC_mean: 0.829\n",
      "AUC_std: 0.043\n",
      "\n",
      "========== Final Averaged test Metrics ==========\n",
      "ACC_mean: 0.761\n",
      "ACC_std: 0.080\n",
      "PRE_mean: 0.371\n",
      "PRE_std: 0.061\n",
      "REC_mean: 0.399\n",
      "REC_std: 0.237\n",
      "MCC_mean: 0.234\n",
      "MCC_std: 0.029\n",
      "AUC_mean: 0.711\n",
      "AUC_std: 0.040\n"
     ]
    }
   ],
   "source": [
    "s1_test = pd.read_csv(os.path.join(target_dir, \"S1_scaled_test.csv\"))\n",
    "s2_test = pd.read_csv(os.path.join(target_dir, \"S2_scaled_test.csv\"))\n",
    "test_log_dir = os.path.join(target_dir, \"00_3_testing\")\n",
    "val_log_dir = os.path.join(target_dir, \"00_2_validation\", \"Validation_results\")\n",
    "\n",
    "NUM_RUNS = 6 # number of repetitions to create a distribution\n",
    "def set_random_seeds(seed):\n",
    "    random.seed(seed)\n",
    "    np.random.seed(seed)\n",
    "    torch.manual_seed(seed)\n",
    "    torch.cuda.manual_seed_all(seed)\n",
    "    g = torch.Generator().manual_seed(seed)\n",
    "    return g\n",
    "\n",
    "smoothing_alpha = 0.1\n",
    "patience, min_epoch = 10, 15\n",
    "\n",
    "modelAB         = \"A\"\n",
    "# 1. Reload best parameters\n",
    "is_bilstm       = True\n",
    "sequence_length = 14\n",
    "dropout         = 0.4\n",
    "embedding_dim   = 2\n",
    "layer_sizes     = [256, 128, 64, 32, 16]\n",
    "learning_rate   = 0.006161330774897911\n",
    "\n",
    "# Perform multiple training + evaluation runs\n",
    "all_val_metrics   = []\n",
    "all_test_metrics  = []\n",
    "all_test2_metrics = []\n",
    "\n",
    "for run_idx in range(NUM_RUNS):\n",
    "    print(f\"\\n========== Run {run_idx + 1} / {NUM_RUNS} ==========\")\n",
    "    seed = 36 + (run_idx * 10)\n",
    "    g = set_random_seeds(seed)\n",
    "\n",
    "    # Prepare datasets\n",
    "    train_ds = WildfireDataset(s1_train, sequence_length, only_no_fire=True)\n",
    "    val_ds = WildfireDataset(s1_val, sequence_length, only_no_fire=False)\n",
    "    train_loader = DataLoader(train_ds, batch_size=64, shuffle=True, generator=g)\n",
    "    val_loader = DataLoader(val_ds, batch_size=64, shuffle=False)\n",
    "    test_ds = WildfireDataset(s1_test, sequence_length, only_no_fire=False)\n",
    "    test_loader = DataLoader(test_ds, batch_size=64, shuffle=False)\n",
    "    test2_ds = WildfireDataset(s2_test, sequence_length, only_no_fire=False)\n",
    "    test2_loader = DataLoader(test2_ds, batch_size=64, shuffle=False)\n",
    "\n",
    "    # Create a fresh model for each run\n",
    "    model = LSTMAutoencoder(\n",
    "        input_dim=len(NUMERIC_FEATURES),\n",
    "        embedding_dim=embedding_dim,\n",
    "        layer_sizes=layer_sizes,\n",
    "        num_states=s1_train[CAT_FEATURE].nunique(),\n",
    "        bidirectional=is_bilstm,\n",
    "        dropout=dropout\n",
    "    )\n",
    "    optimizer = torch.optim.Adam(model.parameters(), lr=learning_rate)\n",
    "    criterion = nn.MSELoss()\n",
    "\n",
    "    best_score, smoothed_score, smoothed_best_score = -float('inf'), None, -float('inf')\n",
    "    counter = 0\n",
    "\n",
    "    # TRAINING AND VALIDATION\n",
    "    for epoch in range(1, 201):\n",
    "        loss = train_one_epoch(model, train_loader, optimizer, criterion)\n",
    "        val_scores, val_labels = evaluate_model(model, val_loader)\n",
    "        threshold, _ = find_best_f1_threshold(val_labels, val_scores)\n",
    "        val_metrics, _ = compute_metrics(val_labels, val_scores, threshold)\n",
    "\n",
    "        val_loss = np.mean(val_scores)\n",
    "        mcc = val_metrics[\"MCC\"]\n",
    "        rec = val_metrics[\"REC\"]\n",
    "        pre = val_metrics[\"PRE\"]\n",
    "        auc_score = val_metrics[\"AUC\"]\n",
    "\n",
    "        scaled_mcc = (mcc + 1) / 2\n",
    "        scaled_auc = (auc_score - 0.5) * 2\n",
    "        combo_score = 0.6 * scaled_mcc + 0.05 * rec + 0.05 * pre + 0.05 * scaled_auc\n",
    "\n",
    "        if smoothed_score is None:\n",
    "            smoothed_score = combo_score\n",
    "        else:\n",
    "            smoothed_score = (smoothing_alpha * combo_score + (1 - smoothing_alpha) * smoothed_score)\n",
    "\n",
    "        if combo_score > best_score or smoothed_score > smoothed_best_score:\n",
    "            smoothed_best_score = smoothed_score\n",
    "            counter = 0\n",
    "            if combo_score > best_score:\n",
    "                best_score = combo_score\n",
    "                best_val_scores = val_scores\n",
    "                best_val_labels = val_labels\n",
    "                best_threshold = threshold\n",
    "                best_val_metrics = val_metrics\n",
    "                model_path = os.path.join(val_log_dir, f\"{modelAB}_{'Bi-' if is_bilstm else ''}LSTM-AE_run_{run_idx+1}_model.pth\")\n",
    "                torch.save(model.state_dict(), model_path)\n",
    "                np.save(os.path.join(val_log_dir, f\"{modelAB}_{'Bi-' if is_bilstm else ''}LSTM-AE_run_{run_idx+1}_val_labels.npy\"), best_val_labels)\n",
    "                np.save(os.path.join(val_log_dir, f\"{modelAB}_{'Bi-' if is_bilstm else ''}LSTM-AE_run_{run_idx+1}_val_scores.npy\"), best_val_scores)\n",
    "                np.save(os.path.join(val_log_dir, f\"{modelAB}_{'Bi-' if is_bilstm else ''}LSTM-AE_run_{run_idx+1}_val_preds.npy\"), (np.array(best_val_scores) > best_threshold).astype(int))\n",
    "        elif epoch >= min_epoch:\n",
    "            counter += 1\n",
    "            if counter >= patience:\n",
    "                print(f\"Early stopping at epoch {epoch} (no improvement after {patience} epochs)\")\n",
    "                break\n",
    "\n",
    "    # Save metrics for this run\n",
    "    all_val_metrics.append(best_val_metrics)\n",
    "\n",
    "    run_metrics_path = os.path.join(val_log_dir, f\"{modelAB}_{'Bi-' if is_bilstm else ''}LSTM-AE_run_{run_idx+1}_metrics.txt\")\n",
    "    with open(run_metrics_path, 'w') as f:\n",
    "        for k, v in best_val_metrics.items():\n",
    "            if k in [\"ACC\", \"PRE\", \"REC\"]:\n",
    "                f.write(f\"{k}: {v * 100:.2f}%\\n\")\n",
    "            else:\n",
    "                f.write(f\"{k}: {v:.3f}\\n\")\n",
    "        f.write(f\"Best Threshold: {best_threshold:.5f}\\n\")\n",
    "\n",
    "    # Reload the best saved model before testing\n",
    "    model.load_state_dict(torch.load(model_path, weights_only=True))\n",
    "\n",
    "    # TESTING\n",
    "    model.eval()\n",
    "    test_scores, test_labels = evaluate_model(model, test_loader)\n",
    "    test_threshold = best_threshold # reuse the one selected on validation\n",
    "    test_metrics, _ = compute_metrics(test_labels, test_scores, test_threshold)\n",
    "\n",
    "    all_test_metrics.append(test_metrics)\n",
    "\n",
    "    test_metrics_path = os.path.join(test_log_dir, f\"{modelAB}_{'Bi-' if is_bilstm else ''}LSTM-AE_run_{run_idx+1}_test_metrics.txt\")\n",
    "    with open(test_metrics_path, 'w') as f:\n",
    "        for k, v in test_metrics.items():\n",
    "            if k in [\"ACC\", \"PRE\", \"REC\"]:\n",
    "                f.write(f\"{k}: {v * 100:.2f}%\\n\")\n",
    "            else:\n",
    "                f.write(f\"{k}: {v:.3f}\\n\")\n",
    "\n",
    "    test_preds = (np.array(test_scores) > test_threshold).astype(int)\n",
    "    np.save(os.path.join(test_log_dir, f\"{modelAB}_{'Bi-' if is_bilstm else ''}LSTM-AE_run_{run_idx+1}_test_labels.npy\"), test_labels)\n",
    "    np.save(os.path.join(test_log_dir, f\"{modelAB}_{'Bi-' if is_bilstm else ''}LSTM-AE_run_{run_idx+1}_test_scores.npy\"), test_scores)\n",
    "    np.save(os.path.join(test_log_dir, f\"{modelAB}_{'Bi-' if is_bilstm else ''}LSTM-AE_run_{run_idx+1}_test_preds.npy\"), test_preds)\n",
    "\n",
    "    # TESTING MODEL A ON SET 2\n",
    "    if modelAB == \"A\":\n",
    "        model.eval()\n",
    "        test_scores, test_labels = evaluate_model(model, test2_loader)\n",
    "        test_threshold = best_threshold # reuse the one selected on validation\n",
    "        test_metrics, _ = compute_metrics(test_labels, test_scores, test_threshold)\n",
    "\n",
    "        all_test2_metrics.append(test_metrics)\n",
    "\n",
    "        test_metrics_path = os.path.join(test_log_dir, f\"{modelAB}_on_S2_{'Bi-' if is_bilstm else ''}LSTM-AE_run_{run_idx+1}_test_metrics.txt\")\n",
    "        with open(test_metrics_path, 'w') as f:\n",
    "            for k, v in test_metrics.items():\n",
    "                if k in [\"ACC\", \"PRE\", \"REC\"]:\n",
    "                    f.write(f\"{k}: {v * 100:.2f}%\\n\")\n",
    "                else:\n",
    "                    f.write(f\"{k}: {v:.3f}\\n\")\n",
    "\n",
    "        test_preds = (np.array(test_scores) > test_threshold).astype(int)\n",
    "        np.save(os.path.join(test_log_dir, f\"{modelAB}_on_S2_{'Bi-' if is_bilstm else ''}LSTM-AE_run_{run_idx+1}_test_labels.npy\"), test_labels)\n",
    "        np.save(os.path.join(test_log_dir, f\"{modelAB}_on_S2_{'Bi-' if is_bilstm else ''}LSTM-AE_run_{run_idx+1}_test_scores.npy\"), test_scores)\n",
    "        np.save(os.path.join(test_log_dir, f\"{modelAB}_on_S2_{'Bi-' if is_bilstm else ''}LSTM-AE_run_{run_idx+1}_test_preds.npy\"), test_preds)\n",
    "\n",
    "# AFTER ALL RUNS\n",
    "# Compute mean and std for each metric\n",
    "metrics_summary = {}\n",
    "for key in all_val_metrics[0].keys():\n",
    "    values = [metrics[key] for metrics in all_val_metrics]\n",
    "    metrics_summary[key + '_mean'] = np.mean(values)\n",
    "    metrics_summary[key + '_std'] = np.std(values)\n",
    "\n",
    "metrics_summary_path = os.path.join(val_log_dir, f\"{modelAB}_{'Bi-' if is_bilstm else ''}LSTM-AE_final_validation_summary.txt\")\n",
    "with open(metrics_summary_path, 'w') as f:\n",
    "    for k, v in metrics_summary.items():\n",
    "        f.write(f\"{k}: {v:.3f}\\n\")\n",
    "\n",
    "print(\"\\n========== Final Averaged Validation Metrics ==========\")\n",
    "for k, v in metrics_summary.items():\n",
    "    print(f\"{k}: {v:.3f}\")\n",
    "\n",
    "# Compute mean and std for each metric\n",
    "metrics_summary = {}\n",
    "for key in all_test_metrics[0].keys():\n",
    "    values = [metrics[key] for metrics in all_test_metrics]\n",
    "    metrics_summary[key + '_mean'] = np.mean(values)\n",
    "    metrics_summary[key + '_std'] = np.std(values)\n",
    "\n",
    "metrics_summary_path = os.path.join(test_log_dir, f\"{modelAB}_{'Bi-' if is_bilstm else ''}LSTM-AE_final_test_summary.txt\")\n",
    "with open(metrics_summary_path, 'w') as f:\n",
    "    for k, v in metrics_summary.items():\n",
    "        f.write(f\"{k}: {v:.3f}\\n\")\n",
    "\n",
    "print(\"\\n========== Final Averaged test Metrics ==========\")\n",
    "for k, v in metrics_summary.items():\n",
    "    print(f\"{k}: {v:.3f}\")\n",
    "\n",
    "if modelAB == \"A\":\n",
    "    # Compute mean and std for each metric\n",
    "    metrics_summary = {}\n",
    "    for key in all_test2_metrics[0].keys():\n",
    "        values = [metrics[key] for metrics in all_test2_metrics]\n",
    "        metrics_summary[key + '_mean'] = np.mean(values)\n",
    "        metrics_summary[key + '_std'] = np.std(values)\n",
    "\n",
    "    metrics_summary_path = os.path.join(test_log_dir, f\"{modelAB}_on_S2_{'Bi-' if is_bilstm else ''}LSTM-AE_final_test_summary.txt\")\n",
    "    with open(metrics_summary_path, 'w') as f:\n",
    "        for k, v in metrics_summary.items():\n",
    "            f.write(f\"{k}: {v:.3f}\\n\")\n",
    "\n",
    "    print(\"\\n========== Final Averaged test Metrics ==========\")\n",
    "    for k, v in metrics_summary.items():\n",
    "        print(f\"{k}: {v:.3f}\")"
   ]
  },
  {
   "cell_type": "code",
   "execution_count": null,
   "metadata": {},
   "outputs": [
    {
     "name": "stdout",
     "output_type": "stream",
     "text": [
      "\n",
      "========== Final Averaged Validation Metrics ==========\n",
      "ACC_mean: 0.778\n",
      "ACC_std: 0.073\n",
      "PRE_mean: 0.439\n",
      "PRE_std: 0.108\n",
      "REC_mean: 0.239\n",
      "REC_std: 0.263\n",
      "MCC_mean: 0.159\n",
      "MCC_std: 0.052\n",
      "AUC_mean: 0.698\n",
      "AUC_std: 0.020\n"
     ]
    }
   ],
   "source": [
    "s2_val = pd.read_csv(os.path.join(target_dir, \"S2_scaled_val.csv\"))\n",
    "\n",
    "# Perform multiple training + evaluation runs\n",
    "all_val2_metrics = []\n",
    "\n",
    "modelAB         = \"A\"\n",
    "num_states      = 4\n",
    "# 1. Reload best parameters\n",
    "is_bilstm       = True\n",
    "sequence_length = 14\n",
    "dropout         = 0.4\n",
    "embedding_dim   = 2\n",
    "layer_sizes     = [256, 128, 64, 32, 16]\n",
    "learning_rate   = 0.006161330774897911\n",
    "\n",
    "for run_idx in range(NUM_RUNS):\n",
    "    seed = 36 + (run_idx * 10)\n",
    "    g = set_random_seeds(seed)\n",
    "\n",
    "    val2_ds = WildfireDataset(s2_val, sequence_length, only_no_fire=False)\n",
    "    val2_loader = DataLoader(val2_ds, batch_size=64, shuffle=False)\n",
    "\n",
    "    model_path = os.path.join(val_log_dir, f\"{modelAB}_{'Bi-' if is_bilstm else ''}LSTM-AE_run_{run_idx+1}_model.pth\")\n",
    "    \n",
    "    model = LSTMAutoencoder(\n",
    "        input_dim=len(NUMERIC_FEATURES),\n",
    "        embedding_dim=embedding_dim,\n",
    "        layer_sizes=layer_sizes,\n",
    "        num_states=num_states,\n",
    "        bidirectional=is_bilstm,\n",
    "        dropout=dropout\n",
    "    )\n",
    "\n",
    "    model.load_state_dict(torch.load(model_path, weights_only=True))\n",
    "    model.eval()\n",
    "\n",
    "    # Load best threshold from metrics file\n",
    "    threshold_path = os.path.join(val_log_dir, f\"{modelAB}_{'Bi-' if is_bilstm else ''}LSTM-AE_run_{run_idx+1}_metrics.txt\")\n",
    "    with open(threshold_path, 'r') as f:\n",
    "        lines = f.readlines()\n",
    "        for line in lines:\n",
    "            if \"Best Threshold\" in line:\n",
    "                val_threshold = float(line.strip().split(\":\")[1])\n",
    "                break\n",
    "\n",
    "    val_scores, val_labels = evaluate_model(model, val2_loader)\n",
    "    val_metrics, _ = compute_metrics(val_labels, val_scores, val_threshold)\n",
    "\n",
    "    all_val2_metrics.append(val_metrics)\n",
    "\n",
    "    val_metrics_path = os.path.join(val_log_dir, f\"{modelAB}_on_S2_{'Bi-' if is_bilstm else ''}LSTM-AE_run_{run_idx+1}_val_metrics.txt\")\n",
    "    with open(val_metrics_path, 'w') as f:\n",
    "        for k, v in val_metrics.items():\n",
    "            if k in [\"ACC\", \"PRE\", \"REC\"]:\n",
    "                f.write(f\"{k}: {v * 100:.2f}%\\n\")\n",
    "            else:\n",
    "                f.write(f\"{k}: {v:.3f}\\n\")\n",
    "\n",
    "    val_preds = (np.array(val_scores) > val_threshold).astype(int)\n",
    "    np.save(os.path.join(val_log_dir, f\"{modelAB}_on_S2_{'Bi-' if is_bilstm else ''}LSTM-AE_run_{run_idx+1}_val_labels.npy\"), val_labels)\n",
    "    np.save(os.path.join(val_log_dir, f\"{modelAB}_on_S2_{'Bi-' if is_bilstm else ''}LSTM-AE_run_{run_idx+1}_val_scores.npy\"), val_scores)\n",
    "    np.save(os.path.join(val_log_dir, f\"{modelAB}_on_S2_{'Bi-' if is_bilstm else ''}LSTM-AE_run_{run_idx+1}_val_preds.npy\"), val_preds)\n",
    "\n",
    "# AFTER ALL RUNS\n",
    "# Compute mean and std for each metric\n",
    "metrics_summary = {}\n",
    "for key in all_val2_metrics[0].keys():\n",
    "    values = [metrics[key] for metrics in all_val2_metrics]\n",
    "    metrics_summary[key + '_mean'] = np.mean(values)\n",
    "    metrics_summary[key + '_std'] = np.std(values)\n",
    "\n",
    "metrics_summary_path = os.path.join(val_log_dir, f\"{modelAB}_on_S2_{'Bi-' if is_bilstm else ''}LSTM-AE_final_validation_summary.txt\")\n",
    "with open(metrics_summary_path, 'w') as f:\n",
    "    for k, v in metrics_summary.items():\n",
    "        f.write(f\"{k}: {v:.3f}\\n\")\n",
    "\n",
    "print(\"\\n========== Final Averaged Validation Metrics ==========\")\n",
    "for k, v in metrics_summary.items():\n",
    "    print(f\"{k}: {v:.3f}\")"
   ]
  },
  {
   "cell_type": "markdown",
   "metadata": {},
   "source": [
    "#### **Models B: Validate and Test**"
   ]
  },
  {
   "cell_type": "code",
   "execution_count": null,
   "metadata": {},
   "outputs": [
    {
     "name": "stdout",
     "output_type": "stream",
     "text": [
      "\n",
      "========== Run 1 / 6 ==========\n",
      "Early stopping at epoch 24 (no improvement after 10 epochs)\n",
      "\n",
      "========== Run 2 / 6 ==========\n",
      "Early stopping at epoch 30 (no improvement after 10 epochs)\n",
      "\n",
      "========== Run 3 / 6 ==========\n",
      "Early stopping at epoch 24 (no improvement after 10 epochs)\n",
      "\n",
      "========== Run 4 / 6 ==========\n",
      "Early stopping at epoch 44 (no improvement after 10 epochs)\n",
      "\n",
      "========== Run 5 / 6 ==========\n",
      "Early stopping at epoch 24 (no improvement after 10 epochs)\n",
      "\n",
      "========== Run 6 / 6 ==========\n",
      "Early stopping at epoch 24 (no improvement after 10 epochs)\n",
      "\n",
      "========== Final Averaged Validation Metrics ==========\n",
      "ACC_mean: 0.686\n",
      "ACC_std: 0.068\n",
      "PRE_mean: 0.333\n",
      "PRE_std: 0.037\n",
      "REC_mean: 0.793\n",
      "REC_std: 0.073\n",
      "MCC_mean: 0.355\n",
      "MCC_std: 0.029\n",
      "AUC_mean: 0.778\n",
      "AUC_std: 0.020\n",
      "\n",
      "========== Final Averaged test Metrics ==========\n",
      "ACC_mean: 0.659\n",
      "ACC_std: 0.060\n",
      "PRE_mean: 0.310\n",
      "PRE_std: 0.032\n",
      "REC_mean: 0.883\n",
      "REC_std: 0.041\n",
      "MCC_mean: 0.371\n",
      "MCC_std: 0.035\n",
      "AUC_mean: 0.817\n",
      "AUC_std: 0.017\n"
     ]
    }
   ],
   "source": [
    "s2_train = pd.read_csv(os.path.join(target_dir, \"S2_scaled_train.csv\"))\n",
    "s2_val = pd.read_csv(os.path.join(target_dir, \"S2_scaled_val.csv\"))\n",
    "s2_test = pd.read_csv(os.path.join(target_dir, \"S2_scaled_test.csv\"))\n",
    "test_log_dir = os.path.join(target_dir, \"00_3_testing\")\n",
    "val_log_dir = os.path.join(target_dir, \"00_2_validation\", \"Validation_results\")\n",
    "\n",
    "NUM_RUNS = 6 # number of repetitions to create a distribution\n",
    "def set_random_seeds(seed):\n",
    "    random.seed(seed)\n",
    "    np.random.seed(seed)\n",
    "    torch.manual_seed(seed)\n",
    "    torch.cuda.manual_seed_all(seed)\n",
    "    g = torch.Generator().manual_seed(seed)\n",
    "    return g\n",
    "\n",
    "smoothing_alpha = 0.1\n",
    "patience, min_epoch = 10, 15\n",
    "\n",
    "modelAB         = \"B\"\n",
    "# 1. Reload best parameters\n",
    "is_bilstm       = False\n",
    "sequence_length = 30\n",
    "dropout         = 0.1\n",
    "embedding_dim   = 8\n",
    "layer_sizes     = [256, 128, 64, 32, 16]\n",
    "learning_rate   = 0.0008188148579607131\n",
    "\n",
    "# Perform multiple training + evaluation runs\n",
    "all_val_metrics   = []\n",
    "all_test_metrics  = []\n",
    "all_test2_metrics = []\n",
    "\n",
    "for run_idx in range(NUM_RUNS):\n",
    "    print(f\"\\n========== Run {run_idx + 1} / {NUM_RUNS} ==========\")\n",
    "    seed = 36 + (run_idx * 10)\n",
    "    g = set_random_seeds(seed)\n",
    "\n",
    "    # Prepare datasets\n",
    "    train_ds = WildfireDataset(s2_train, sequence_length, only_no_fire=True)\n",
    "    val_ds = WildfireDataset(s2_val, sequence_length, only_no_fire=False)\n",
    "    train_loader = DataLoader(train_ds, batch_size=64, shuffle=True, generator=g)\n",
    "    val_loader = DataLoader(val_ds, batch_size=64, shuffle=False)\n",
    "    test_ds = WildfireDataset(s2_test, sequence_length, only_no_fire=False)\n",
    "    test_loader = DataLoader(test_ds, batch_size=64, shuffle=False)\n",
    "\n",
    "    # Create a fresh model for each run\n",
    "    model = LSTMAutoencoder(\n",
    "        input_dim=len(NUMERIC_FEATURES),\n",
    "        embedding_dim=embedding_dim,\n",
    "        layer_sizes=layer_sizes,\n",
    "        num_states=s1_train[CAT_FEATURE].nunique(),\n",
    "        bidirectional=is_bilstm,\n",
    "        dropout=dropout\n",
    "    )\n",
    "    optimizer = torch.optim.Adam(model.parameters(), lr=learning_rate)\n",
    "    criterion = nn.MSELoss()\n",
    "\n",
    "    best_score, smoothed_score, smoothed_best_score = -float('inf'), None, -float('inf')\n",
    "    counter = 0\n",
    "\n",
    "    # TRAINING AND VALIDATION\n",
    "    for epoch in range(1, 201):\n",
    "        loss = train_one_epoch(model, train_loader, optimizer, criterion)\n",
    "        val_scores, val_labels = evaluate_model(model, val_loader)\n",
    "        threshold, _ = find_best_f1_threshold(val_labels, val_scores)\n",
    "        val_metrics, _ = compute_metrics(val_labels, val_scores, threshold)\n",
    "\n",
    "        val_loss = np.mean(val_scores)\n",
    "        mcc = val_metrics[\"MCC\"]\n",
    "        rec = val_metrics[\"REC\"]\n",
    "        pre = val_metrics[\"PRE\"]\n",
    "        auc_score = val_metrics[\"AUC\"]\n",
    "\n",
    "        scaled_mcc = (mcc + 1) / 2\n",
    "        scaled_auc = (auc_score - 0.5) * 2\n",
    "        combo_score = 0.6 * scaled_mcc + 0.05 * rec + 0.05 * pre + 0.05 * scaled_auc\n",
    "\n",
    "        if smoothed_score is None:\n",
    "            smoothed_score = combo_score\n",
    "        else:\n",
    "            smoothed_score = (smoothing_alpha * combo_score + (1 - smoothing_alpha) * smoothed_score)\n",
    "\n",
    "        if combo_score > best_score or smoothed_score > smoothed_best_score:\n",
    "            smoothed_best_score = smoothed_score\n",
    "            counter = 0\n",
    "            if combo_score > best_score:\n",
    "                best_score = combo_score\n",
    "                best_val_scores = val_scores\n",
    "                best_val_labels = val_labels\n",
    "                best_threshold = threshold\n",
    "                best_val_metrics = val_metrics\n",
    "                model_path = os.path.join(val_log_dir, f\"{modelAB}_{'Bi-' if is_bilstm else ''}LSTM-AE_run_{run_idx+1}_model.pth\")\n",
    "                torch.save(model.state_dict(), model_path)\n",
    "                np.save(os.path.join(val_log_dir, f\"{modelAB}_{'Bi-' if is_bilstm else ''}LSTM-AE_run_{run_idx+1}_val_labels.npy\"), best_val_labels)\n",
    "                np.save(os.path.join(val_log_dir, f\"{modelAB}_{'Bi-' if is_bilstm else ''}LSTM-AE_run_{run_idx+1}_val_scores.npy\"), best_val_scores)\n",
    "                np.save(os.path.join(val_log_dir, f\"{modelAB}_{'Bi-' if is_bilstm else ''}LSTM-AE_run_{run_idx+1}_val_preds.npy\"), (np.array(best_val_scores) > best_threshold).astype(int))\n",
    "        elif epoch >= min_epoch:\n",
    "            counter += 1\n",
    "            if counter >= patience:\n",
    "                print(f\"Early stopping at epoch {epoch} (no improvement after {patience} epochs)\")\n",
    "                break\n",
    "\n",
    "    # Save metrics for this run\n",
    "    all_val_metrics.append(best_val_metrics)\n",
    "\n",
    "    run_metrics_path = os.path.join(val_log_dir, f\"{modelAB}_{'Bi-' if is_bilstm else ''}LSTM-AE_run_{run_idx+1}_metrics.txt\")\n",
    "    with open(run_metrics_path, 'w') as f:\n",
    "        for k, v in best_val_metrics.items():\n",
    "            if k in [\"ACC\", \"PRE\", \"REC\"]:\n",
    "                f.write(f\"{k}: {v * 100:.2f}%\\n\")\n",
    "            else:\n",
    "                f.write(f\"{k}: {v:.3f}\\n\")\n",
    "        f.write(f\"Best Threshold: {best_threshold:.5f}\\n\")\n",
    "\n",
    "    # Reload the best saved model before testing\n",
    "    model.load_state_dict(torch.load(model_path, weights_only=True))\n",
    "\n",
    "    # TESTING\n",
    "    model.eval()\n",
    "    test_scores, test_labels = evaluate_model(model, test_loader)\n",
    "    test_threshold = best_threshold # reuse the one selected on validation\n",
    "    test_metrics, _ = compute_metrics(test_labels, test_scores, test_threshold)\n",
    "\n",
    "    all_test_metrics.append(test_metrics)\n",
    "\n",
    "    test_metrics_path = os.path.join(test_log_dir, f\"{modelAB}_{'Bi-' if is_bilstm else ''}LSTM-AE_run_{run_idx+1}_test_metrics.txt\")\n",
    "    with open(test_metrics_path, 'w') as f:\n",
    "        for k, v in test_metrics.items():\n",
    "            if k in [\"ACC\", \"PRE\", \"REC\"]:\n",
    "                f.write(f\"{k}: {v * 100:.2f}%\\n\")\n",
    "            else:\n",
    "                f.write(f\"{k}: {v:.3f}\\n\")\n",
    "\n",
    "    test_preds = (np.array(test_scores) > test_threshold).astype(int)\n",
    "    np.save(os.path.join(test_log_dir, f\"{modelAB}_{'Bi-' if is_bilstm else ''}LSTM-AE_run_{run_idx+1}_test_labels.npy\"), test_labels)\n",
    "    np.save(os.path.join(test_log_dir, f\"{modelAB}_{'Bi-' if is_bilstm else ''}LSTM-AE_run_{run_idx+1}_test_scores.npy\"), test_scores)\n",
    "    np.save(os.path.join(test_log_dir, f\"{modelAB}_{'Bi-' if is_bilstm else ''}LSTM-AE_run_{run_idx+1}_test_preds.npy\"), test_preds)\n",
    "\n",
    "    # TESTING MODEL A ON SET 2\n",
    "    if modelAB == \"A\":\n",
    "        model.eval()\n",
    "        test_scores, test_labels = evaluate_model(model, test2_loader)\n",
    "        test_threshold = best_threshold # reuse the one selected on validation\n",
    "        test_metrics, _ = compute_metrics(test_labels, test_scores, test_threshold)\n",
    "\n",
    "        all_test2_metrics.append(test_metrics)\n",
    "\n",
    "        test_metrics_path = os.path.join(test_log_dir, f\"{modelAB}_on_S2_{'Bi-' if is_bilstm else ''}LSTM-AE_run_{run_idx+1}_test_metrics.txt\")\n",
    "        with open(test_metrics_path, 'w') as f:\n",
    "            for k, v in test_metrics.items():\n",
    "                if k in [\"ACC\", \"PRE\", \"REC\"]:\n",
    "                    f.write(f\"{k}: {v * 100:.2f}%\\n\")\n",
    "                else:\n",
    "                    f.write(f\"{k}: {v:.3f}\\n\")\n",
    "\n",
    "        test_preds = (np.array(test_scores) > test_threshold).astype(int)\n",
    "        np.save(os.path.join(test_log_dir, f\"{modelAB}_on_S2_{'Bi-' if is_bilstm else ''}LSTM-AE_run_{run_idx+1}_test_labels.npy\"), test_labels)\n",
    "        np.save(os.path.join(test_log_dir, f\"{modelAB}_on_S2_{'Bi-' if is_bilstm else ''}LSTM-AE_run_{run_idx+1}_test_scores.npy\"), test_scores)\n",
    "        np.save(os.path.join(test_log_dir, f\"{modelAB}_on_S2_{'Bi-' if is_bilstm else ''}LSTM-AE_run_{run_idx+1}_test_preds.npy\"), test_preds)\n",
    "\n",
    "# AFTER ALL RUNS\n",
    "# Compute mean and std for each metric\n",
    "metrics_summary = {}\n",
    "for key in all_val_metrics[0].keys():\n",
    "    values = [metrics[key] for metrics in all_val_metrics]\n",
    "    metrics_summary[key + '_mean'] = np.mean(values)\n",
    "    metrics_summary[key + '_std'] = np.std(values)\n",
    "\n",
    "metrics_summary_path = os.path.join(val_log_dir, f\"{modelAB}_{'Bi-' if is_bilstm else ''}LSTM-AE_final_validation_summary.txt\")\n",
    "with open(metrics_summary_path, 'w') as f:\n",
    "    for k, v in metrics_summary.items():\n",
    "        f.write(f\"{k}: {v:.3f}\\n\")\n",
    "\n",
    "print(\"\\n========== Final Averaged Validation Metrics ==========\")\n",
    "for k, v in metrics_summary.items():\n",
    "    print(f\"{k}: {v:.3f}\")\n",
    "\n",
    "# Compute mean and std for each metric\n",
    "metrics_summary = {}\n",
    "for key in all_test_metrics[0].keys():\n",
    "    values = [metrics[key] for metrics in all_test_metrics]\n",
    "    metrics_summary[key + '_mean'] = np.mean(values)\n",
    "    metrics_summary[key + '_std'] = np.std(values)\n",
    "\n",
    "metrics_summary_path = os.path.join(test_log_dir, f\"{modelAB}_{'Bi-' if is_bilstm else ''}LSTM-AE_final_test_summary.txt\")\n",
    "with open(metrics_summary_path, 'w') as f:\n",
    "    for k, v in metrics_summary.items():\n",
    "        f.write(f\"{k}: {v:.3f}\\n\")\n",
    "\n",
    "print(\"\\n========== Final Averaged test Metrics ==========\")\n",
    "for k, v in metrics_summary.items():\n",
    "    print(f\"{k}: {v:.3f}\")\n",
    "\n",
    "if modelAB == \"A\":\n",
    "    # Compute mean and std for each metric\n",
    "    metrics_summary = {}\n",
    "    for key in all_test2_metrics[0].keys():\n",
    "        values = [metrics[key] for metrics in all_test2_metrics]\n",
    "        metrics_summary[key + '_mean'] = np.mean(values)\n",
    "        metrics_summary[key + '_std'] = np.std(values)\n",
    "\n",
    "    metrics_summary_path = os.path.join(test_log_dir, f\"{modelAB}_on_S2_{'Bi-' if is_bilstm else ''}LSTM-AE_final_test_summary.txt\")\n",
    "    with open(metrics_summary_path, 'w') as f:\n",
    "        for k, v in metrics_summary.items():\n",
    "            f.write(f\"{k}: {v:.3f}\\n\")\n",
    "\n",
    "    print(\"\\n========== Final Averaged test Metrics ==========\")\n",
    "    for k, v in metrics_summary.items():\n",
    "        print(f\"{k}: {v:.3f}\")"
   ]
  },
  {
   "cell_type": "code",
   "execution_count": null,
   "metadata": {},
   "outputs": [
    {
     "name": "stdout",
     "output_type": "stream",
     "text": [
      "\n",
      "========== Run 1 / 6 ==========\n",
      "Early stopping at epoch 24 (no improvement after 10 epochs)\n",
      "\n",
      "========== Run 2 / 6 ==========\n",
      "Early stopping at epoch 24 (no improvement after 10 epochs)\n",
      "\n",
      "========== Run 3 / 6 ==========\n",
      "Early stopping at epoch 29 (no improvement after 10 epochs)\n",
      "\n",
      "========== Run 4 / 6 ==========\n",
      "Early stopping at epoch 52 (no improvement after 10 epochs)\n",
      "\n",
      "========== Run 5 / 6 ==========\n",
      "Early stopping at epoch 43 (no improvement after 10 epochs)\n",
      "\n",
      "========== Run 6 / 6 ==========\n",
      "Early stopping at epoch 81 (no improvement after 10 epochs)\n",
      "\n",
      "========== Final Averaged Validation Metrics ==========\n",
      "ACC_mean: 0.725\n",
      "ACC_std: 0.055\n",
      "PRE_mean: 0.335\n",
      "PRE_std: 0.042\n",
      "REC_mean: 0.568\n",
      "REC_std: 0.102\n",
      "MCC_mean: 0.274\n",
      "MCC_std: 0.039\n",
      "AUC_mean: 0.702\n",
      "AUC_std: 0.035\n",
      "\n",
      "========== Final Averaged test Metrics ==========\n",
      "ACC_mean: 0.685\n",
      "ACC_std: 0.067\n",
      "PRE_mean: 0.296\n",
      "PRE_std: 0.055\n",
      "REC_mean: 0.625\n",
      "REC_std: 0.162\n",
      "MCC_mean: 0.255\n",
      "MCC_std: 0.097\n",
      "AUC_mean: 0.726\n",
      "AUC_std: 0.055\n"
     ]
    }
   ],
   "source": [
    "s2_train = pd.read_csv(os.path.join(target_dir, \"S2_scaled_train.csv\"))\n",
    "s2_val = pd.read_csv(os.path.join(target_dir, \"S2_scaled_val.csv\"))\n",
    "s2_test = pd.read_csv(os.path.join(target_dir, \"S2_scaled_test.csv\"))\n",
    "test_log_dir = os.path.join(target_dir, \"00_3_testing\")\n",
    "val_log_dir = os.path.join(target_dir, \"00_2_validation\", \"Validation_results\")\n",
    "\n",
    "NUM_RUNS = 6 # number of repetitions to create a distribution\n",
    "def set_random_seeds(seed):\n",
    "    random.seed(seed)\n",
    "    np.random.seed(seed)\n",
    "    torch.manual_seed(seed)\n",
    "    torch.cuda.manual_seed_all(seed)\n",
    "    g = torch.Generator().manual_seed(seed)\n",
    "    return g\n",
    "\n",
    "smoothing_alpha = 0.1\n",
    "patience, min_epoch = 10, 15\n",
    "\n",
    "modelAB         = \"B\"\n",
    "# 1. Reload best parameters\n",
    "is_bilstm       = True\n",
    "sequence_length = 14\n",
    "dropout         = 0.4\n",
    "embedding_dim   = 2\n",
    "layer_sizes     = [256, 128, 64, 32, 16]\n",
    "learning_rate   = 0.006161330774897911\n",
    "\n",
    "# Perform multiple training + evaluation runs\n",
    "all_val_metrics   = []\n",
    "all_test_metrics  = []\n",
    "all_test2_metrics = []\n",
    "\n",
    "for run_idx in range(NUM_RUNS):\n",
    "    print(f\"\\n========== Run {run_idx + 1} / {NUM_RUNS} ==========\")\n",
    "    seed = 36 + (run_idx * 10)\n",
    "    g = set_random_seeds(seed)\n",
    "\n",
    "    # Prepare datasets\n",
    "    train_ds = WildfireDataset(s2_train, sequence_length, only_no_fire=True)\n",
    "    val_ds = WildfireDataset(s2_val, sequence_length, only_no_fire=False)\n",
    "    train_loader = DataLoader(train_ds, batch_size=64, shuffle=True, generator=g)\n",
    "    val_loader = DataLoader(val_ds, batch_size=64, shuffle=False)\n",
    "    test_ds = WildfireDataset(s2_test, sequence_length, only_no_fire=False)\n",
    "    test_loader = DataLoader(test_ds, batch_size=64, shuffle=False)\n",
    "\n",
    "    # Create a fresh model for each run\n",
    "    model = LSTMAutoencoder(\n",
    "        input_dim=len(NUMERIC_FEATURES),\n",
    "        embedding_dim=embedding_dim,\n",
    "        layer_sizes=layer_sizes,\n",
    "        num_states=s1_train[CAT_FEATURE].nunique(),\n",
    "        bidirectional=is_bilstm,\n",
    "        dropout=dropout\n",
    "    )\n",
    "    optimizer = torch.optim.Adam(model.parameters(), lr=learning_rate)\n",
    "    criterion = nn.MSELoss()\n",
    "\n",
    "    best_score, smoothed_score, smoothed_best_score = -float('inf'), None, -float('inf')\n",
    "    counter = 0\n",
    "\n",
    "    # TRAINING AND VALIDATION\n",
    "    for epoch in range(1, 201):\n",
    "        loss = train_one_epoch(model, train_loader, optimizer, criterion)\n",
    "        val_scores, val_labels = evaluate_model(model, val_loader)\n",
    "        threshold, _ = find_best_f1_threshold(val_labels, val_scores)\n",
    "        val_metrics, _ = compute_metrics(val_labels, val_scores, threshold)\n",
    "\n",
    "        val_loss = np.mean(val_scores)\n",
    "        mcc = val_metrics[\"MCC\"]\n",
    "        rec = val_metrics[\"REC\"]\n",
    "        pre = val_metrics[\"PRE\"]\n",
    "        auc_score = val_metrics[\"AUC\"]\n",
    "\n",
    "        scaled_mcc = (mcc + 1) / 2\n",
    "        scaled_auc = (auc_score - 0.5) * 2\n",
    "        combo_score = 0.6 * scaled_mcc + 0.05 * rec + 0.05 * pre + 0.05 * scaled_auc\n",
    "\n",
    "        if smoothed_score is None:\n",
    "            smoothed_score = combo_score\n",
    "        else:\n",
    "            smoothed_score = (smoothing_alpha * combo_score + (1 - smoothing_alpha) * smoothed_score)\n",
    "\n",
    "        if combo_score > best_score or smoothed_score > smoothed_best_score:\n",
    "            smoothed_best_score = smoothed_score\n",
    "            counter = 0\n",
    "            if combo_score > best_score:\n",
    "                best_score = combo_score\n",
    "                best_val_scores = val_scores\n",
    "                best_val_labels = val_labels\n",
    "                best_threshold = threshold\n",
    "                best_val_metrics = val_metrics\n",
    "                model_path = os.path.join(val_log_dir, f\"{modelAB}_{'Bi-' if is_bilstm else ''}LSTM-AE_run_{run_idx+1}_model.pth\")\n",
    "                torch.save(model.state_dict(), model_path)\n",
    "                np.save(os.path.join(val_log_dir, f\"{modelAB}_{'Bi-' if is_bilstm else ''}LSTM-AE_run_{run_idx+1}_val_labels.npy\"), best_val_labels)\n",
    "                np.save(os.path.join(val_log_dir, f\"{modelAB}_{'Bi-' if is_bilstm else ''}LSTM-AE_run_{run_idx+1}_val_scores.npy\"), best_val_scores)\n",
    "                np.save(os.path.join(val_log_dir, f\"{modelAB}_{'Bi-' if is_bilstm else ''}LSTM-AE_run_{run_idx+1}_val_preds.npy\"), (np.array(best_val_scores) > best_threshold).astype(int))\n",
    "        elif epoch >= min_epoch:\n",
    "            counter += 1\n",
    "            if counter >= patience:\n",
    "                print(f\"Early stopping at epoch {epoch} (no improvement after {patience} epochs)\")\n",
    "                break\n",
    "\n",
    "    # Save metrics for this run\n",
    "    all_val_metrics.append(best_val_metrics)\n",
    "\n",
    "    run_metrics_path = os.path.join(val_log_dir, f\"{modelAB}_{'Bi-' if is_bilstm else ''}LSTM-AE_run_{run_idx+1}_metrics.txt\")\n",
    "    with open(run_metrics_path, 'w') as f:\n",
    "        for k, v in best_val_metrics.items():\n",
    "            if k in [\"ACC\", \"PRE\", \"REC\"]:\n",
    "                f.write(f\"{k}: {v * 100:.2f}%\\n\")\n",
    "            else:\n",
    "                f.write(f\"{k}: {v:.3f}\\n\")\n",
    "        f.write(f\"Best Threshold: {best_threshold:.5f}\\n\")\n",
    "\n",
    "    # Reload the best saved model before testing\n",
    "    model.load_state_dict(torch.load(model_path, weights_only=True))\n",
    "\n",
    "    # TESTING\n",
    "    model.eval()\n",
    "    test_scores, test_labels = evaluate_model(model, test_loader)\n",
    "    test_threshold = best_threshold # reuse the one selected on validation\n",
    "    test_metrics, _ = compute_metrics(test_labels, test_scores, test_threshold)\n",
    "\n",
    "    all_test_metrics.append(test_metrics)\n",
    "\n",
    "    test_metrics_path = os.path.join(test_log_dir, f\"{modelAB}_{'Bi-' if is_bilstm else ''}LSTM-AE_run_{run_idx+1}_test_metrics.txt\")\n",
    "    with open(test_metrics_path, 'w') as f:\n",
    "        for k, v in test_metrics.items():\n",
    "            if k in [\"ACC\", \"PRE\", \"REC\"]:\n",
    "                f.write(f\"{k}: {v * 100:.2f}%\\n\")\n",
    "            else:\n",
    "                f.write(f\"{k}: {v:.3f}\\n\")\n",
    "\n",
    "    test_preds = (np.array(test_scores) > test_threshold).astype(int)\n",
    "    np.save(os.path.join(test_log_dir, f\"{modelAB}_{'Bi-' if is_bilstm else ''}LSTM-AE_run_{run_idx+1}_test_labels.npy\"), test_labels)\n",
    "    np.save(os.path.join(test_log_dir, f\"{modelAB}_{'Bi-' if is_bilstm else ''}LSTM-AE_run_{run_idx+1}_test_scores.npy\"), test_scores)\n",
    "    np.save(os.path.join(test_log_dir, f\"{modelAB}_{'Bi-' if is_bilstm else ''}LSTM-AE_run_{run_idx+1}_test_preds.npy\"), test_preds)\n",
    "\n",
    "    # TESTING MODEL A ON SET 2\n",
    "    if modelAB == \"A\":\n",
    "        model.eval()\n",
    "        test_scores, test_labels = evaluate_model(model, test2_loader)\n",
    "        test_threshold = best_threshold # reuse the one selected on validation\n",
    "        test_metrics, _ = compute_metrics(test_labels, test_scores, test_threshold)\n",
    "\n",
    "        all_test2_metrics.append(test_metrics)\n",
    "\n",
    "        test_metrics_path = os.path.join(test_log_dir, f\"{modelAB}_on_S2_{'Bi-' if is_bilstm else ''}LSTM-AE_run_{run_idx+1}_test_metrics.txt\")\n",
    "        with open(test_metrics_path, 'w') as f:\n",
    "            for k, v in test_metrics.items():\n",
    "                if k in [\"ACC\", \"PRE\", \"REC\"]:\n",
    "                    f.write(f\"{k}: {v * 100:.2f}%\\n\")\n",
    "                else:\n",
    "                    f.write(f\"{k}: {v:.3f}\\n\")\n",
    "\n",
    "        test_preds = (np.array(test_scores) > test_threshold).astype(int)\n",
    "        np.save(os.path.join(test_log_dir, f\"{modelAB}_on_S2_{'Bi-' if is_bilstm else ''}LSTM-AE_run_{run_idx+1}_test_labels.npy\"), test_labels)\n",
    "        np.save(os.path.join(test_log_dir, f\"{modelAB}_on_S2_{'Bi-' if is_bilstm else ''}LSTM-AE_run_{run_idx+1}_test_scores.npy\"), test_scores)\n",
    "        np.save(os.path.join(test_log_dir, f\"{modelAB}_on_S2_{'Bi-' if is_bilstm else ''}LSTM-AE_run_{run_idx+1}_test_preds.npy\"), test_preds)\n",
    "\n",
    "# AFTER ALL RUNS\n",
    "# Compute mean and std for each metric\n",
    "metrics_summary = {}\n",
    "for key in all_val_metrics[0].keys():\n",
    "    values = [metrics[key] for metrics in all_val_metrics]\n",
    "    metrics_summary[key + '_mean'] = np.mean(values)\n",
    "    metrics_summary[key + '_std'] = np.std(values)\n",
    "\n",
    "metrics_summary_path = os.path.join(val_log_dir, f\"{modelAB}_{'Bi-' if is_bilstm else ''}LSTM-AE_final_validation_summary.txt\")\n",
    "with open(metrics_summary_path, 'w') as f:\n",
    "    for k, v in metrics_summary.items():\n",
    "        f.write(f\"{k}: {v:.3f}\\n\")\n",
    "\n",
    "print(\"\\n========== Final Averaged Validation Metrics ==========\")\n",
    "for k, v in metrics_summary.items():\n",
    "    print(f\"{k}: {v:.3f}\")\n",
    "\n",
    "# Compute mean and std for each metric\n",
    "metrics_summary = {}\n",
    "for key in all_test_metrics[0].keys():\n",
    "    values = [metrics[key] for metrics in all_test_metrics]\n",
    "    metrics_summary[key + '_mean'] = np.mean(values)\n",
    "    metrics_summary[key + '_std'] = np.std(values)\n",
    "\n",
    "metrics_summary_path = os.path.join(test_log_dir, f\"{modelAB}_{'Bi-' if is_bilstm else ''}LSTM-AE_final_test_summary.txt\")\n",
    "with open(metrics_summary_path, 'w') as f:\n",
    "    for k, v in metrics_summary.items():\n",
    "        f.write(f\"{k}: {v:.3f}\\n\")\n",
    "\n",
    "print(\"\\n========== Final Averaged test Metrics ==========\")\n",
    "for k, v in metrics_summary.items():\n",
    "    print(f\"{k}: {v:.3f}\")\n",
    "\n",
    "if modelAB == \"A\":\n",
    "    # Compute mean and std for each metric\n",
    "    metrics_summary = {}\n",
    "    for key in all_test2_metrics[0].keys():\n",
    "        values = [metrics[key] for metrics in all_test2_metrics]\n",
    "        metrics_summary[key + '_mean'] = np.mean(values)\n",
    "        metrics_summary[key + '_std'] = np.std(values)\n",
    "\n",
    "    metrics_summary_path = os.path.join(test_log_dir, f\"{modelAB}_on_S2_{'Bi-' if is_bilstm else ''}LSTM-AE_final_test_summary.txt\")\n",
    "    with open(metrics_summary_path, 'w') as f:\n",
    "        for k, v in metrics_summary.items():\n",
    "            f.write(f\"{k}: {v:.3f}\\n\")\n",
    "\n",
    "    print(\"\\n========== Final Averaged test Metrics ==========\")\n",
    "    for k, v in metrics_summary.items():\n",
    "        print(f\"{k}: {v:.3f}\")"
   ]
  }
 ],
 "metadata": {
  "kernelspec": {
   "display_name": "base",
   "language": "python",
   "name": "python3"
  },
  "language_info": {
   "codemirror_mode": {
    "name": "ipython",
    "version": 3
   },
   "file_extension": ".py",
   "mimetype": "text/x-python",
   "name": "python",
   "nbconvert_exporter": "python",
   "pygments_lexer": "ipython3",
   "version": "3.11.4"
  }
 },
 "nbformat": 4,
 "nbformat_minor": 2
}
